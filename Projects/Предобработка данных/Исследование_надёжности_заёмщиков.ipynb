{
  "cells": [
    {
      "cell_type": "markdown",
      "id": "404f16f0",
      "metadata": {
        "deletable": false,
        "editable": false,
        "id": "404f16f0"
      },
      "source": [
        "# Проект по Предобработке данных:<br>**«Исследование надежности заемщиков»**\n"
      ]
    },
    {
      "cell_type": "markdown",
      "id": "32d35b21",
      "metadata": {
        "id": "32d35b21"
      },
      "source": [
        "**Задание:**<br>\n",
        "Заказчик — кредитный отдел банка. Нужно разобраться, влияет ли семейное положение и количество детей клиента на факт погашения кредита в срок. Входные данные от банка — статистика о платёжеспособности клиентов.<br>\n",
        "Результаты исследования будут учтены при построении модели кредитного скоринга — специальной системы, которая оценивает способность потенциального заёмщика вернуть кредит банку."
      ]
    },
    {
      "cell_type": "markdown",
      "id": "VsmjdhbWmOAM",
      "metadata": {
        "id": "VsmjdhbWmOAM"
      },
      "source": [
        "**Описание данных:**<br>\n",
        "`children` — количество детей в семье<br>\n",
        "`days_employed` — общий трудовой стаж в днях<br>\n",
        "`dob_years` — возраст клиента в годах<br>\n",
        "`education` — уровень образования клиента<br>\n",
        "`education_id` — идентификатор уровня образования<br>\n",
        "`family_status` — семейное положение<br>\n",
        "`family_status_id` — идентификатор семейного положения<br>\n",
        "`gender` — пол клиента<br>\n",
        "`income_type` — тип занятости<br>\n",
        "`debt` — имел ли задолженность по возврату кредитов<br>\n",
        "`total_income` — ежемесячный доход<br>\n",
        "`purpose` — цель получения кредита"
      ]
    },
    {
      "cell_type": "markdown",
      "id": "71db4657",
      "metadata": {
        "deletable": false,
        "editable": false,
        "id": "71db4657"
      },
      "source": [
        "## Подготовка"
      ]
    },
    {
      "cell_type": "markdown",
      "id": "ba1c3e12",
      "metadata": {
        "deletable": false,
        "editable": false,
        "id": "ba1c3e12"
      },
      "source": [
        "**Импорт библиотек**"
      ]
    },
    {
      "cell_type": "code",
      "execution_count": 1,
      "id": "b42a271c",
      "metadata": {
        "deletable": false,
        "id": "b42a271c"
      },
      "outputs": [],
      "source": [
        "import matplotlib.pyplot as plt\n",
        "import pandas as pd\n",
        "import seaborn as sns"
      ]
    },
    {
      "cell_type": "markdown",
      "id": "9YDoB7hmoP8Z",
      "metadata": {
        "id": "9YDoB7hmoP8Z"
      },
      "source": [
        "**Импорт и анализ датафрейма**"
      ]
    },
    {
      "cell_type": "code",
      "execution_count": 2,
      "id": "UZ9TX2bunPdH",
      "metadata": {
        "id": "UZ9TX2bunPdH"
      },
      "outputs": [],
      "source": [
        "data = pd.read_csv('/datasets/data.csv')"
      ]
    },
    {
      "cell_type": "markdown",
      "id": "b1c0e0e2",
      "metadata": {
        "deletable": false,
        "editable": false,
        "id": "b1c0e0e2"
      },
      "source": [
        "Первые 20 строчек датафрейма:"
      ]
    },
    {
      "cell_type": "code",
      "execution_count": 3,
      "id": "5e4cadea",
      "metadata": {
        "colab": {
          "base_uri": "https://localhost:8080/",
          "height": 1000
        },
        "deletable": false,
        "id": "5e4cadea",
        "outputId": "091d07d4-1e20-4582-bb0b-00ceb17ba4c4"
      },
      "outputs": [
        {
          "data": {
            "application/vnd.google.colaboratory.intrinsic+json": {
              "summary": "{\n  \"name\": \"data\",\n  \"rows\": 21525,\n  \"fields\": [\n    {\n      \"column\": \"children\",\n      \"properties\": {\n        \"dtype\": \"number\",\n        \"std\": 1,\n        \"min\": -1,\n        \"max\": 20,\n        \"num_unique_values\": 8,\n        \"samples\": [\n          0,\n          4,\n          1\n        ],\n        \"semantic_type\": \"\",\n        \"description\": \"\"\n      }\n    },\n    {\n      \"column\": \"days_employed\",\n      \"properties\": {\n        \"dtype\": \"number\",\n        \"std\": 140827.3119743168,\n        \"min\": -18388.949900568383,\n        \"max\": 401755.40047533,\n        \"num_unique_values\": 19351,\n        \"samples\": [\n          -4144.711271868319,\n          -1963.4835351775944,\n          -106.69195506879056\n        ],\n        \"semantic_type\": \"\",\n        \"description\": \"\"\n      }\n    },\n    {\n      \"column\": \"dob_years\",\n      \"properties\": {\n        \"dtype\": \"number\",\n        \"std\": 12,\n        \"min\": 0,\n        \"max\": 75,\n        \"num_unique_values\": 58,\n        \"samples\": [\n          42,\n          27,\n          64\n        ],\n        \"semantic_type\": \"\",\n        \"description\": \"\"\n      }\n    },\n    {\n      \"column\": \"education\",\n      \"properties\": {\n        \"dtype\": \"category\",\n        \"num_unique_values\": 15,\n        \"samples\": [\n          \"\\u041d\\u0435\\u043e\\u043a\\u043e\\u043d\\u0447\\u0435\\u043d\\u043d\\u043e\\u0435 \\u0432\\u044b\\u0441\\u0448\\u0435\\u0435\",\n          \"\\u041d\\u0430\\u0447\\u0430\\u043b\\u044c\\u043d\\u043e\\u0435\",\n          \"\\u0432\\u044b\\u0441\\u0448\\u0435\\u0435\"\n        ],\n        \"semantic_type\": \"\",\n        \"description\": \"\"\n      }\n    },\n    {\n      \"column\": \"education_id\",\n      \"properties\": {\n        \"dtype\": \"number\",\n        \"std\": 0,\n        \"min\": 0,\n        \"max\": 4,\n        \"num_unique_values\": 5,\n        \"samples\": [\n          1,\n          4,\n          2\n        ],\n        \"semantic_type\": \"\",\n        \"description\": \"\"\n      }\n    },\n    {\n      \"column\": \"family_status\",\n      \"properties\": {\n        \"dtype\": \"category\",\n        \"num_unique_values\": 5,\n        \"samples\": [\n          \"\\u0433\\u0440\\u0430\\u0436\\u0434\\u0430\\u043d\\u0441\\u043a\\u0438\\u0439 \\u0431\\u0440\\u0430\\u043a\",\n          \"\\u041d\\u0435 \\u0436\\u0435\\u043d\\u0430\\u0442 / \\u043d\\u0435 \\u0437\\u0430\\u043c\\u0443\\u0436\\u0435\\u043c\",\n          \"\\u0432\\u0434\\u043e\\u0432\\u0435\\u0446 / \\u0432\\u0434\\u043e\\u0432\\u0430\"\n        ],\n        \"semantic_type\": \"\",\n        \"description\": \"\"\n      }\n    },\n    {\n      \"column\": \"family_status_id\",\n      \"properties\": {\n        \"dtype\": \"number\",\n        \"std\": 1,\n        \"min\": 0,\n        \"max\": 4,\n        \"num_unique_values\": 5,\n        \"samples\": [\n          1,\n          4,\n          2\n        ],\n        \"semantic_type\": \"\",\n        \"description\": \"\"\n      }\n    },\n    {\n      \"column\": \"gender\",\n      \"properties\": {\n        \"dtype\": \"category\",\n        \"num_unique_values\": 3,\n        \"samples\": [\n          \"F\",\n          \"M\",\n          \"XNA\"\n        ],\n        \"semantic_type\": \"\",\n        \"description\": \"\"\n      }\n    },\n    {\n      \"column\": \"income_type\",\n      \"properties\": {\n        \"dtype\": \"category\",\n        \"num_unique_values\": 8,\n        \"samples\": [\n          \"\\u043f\\u0435\\u043d\\u0441\\u0438\\u043e\\u043d\\u0435\\u0440\",\n          \"\\u043f\\u0440\\u0435\\u0434\\u043f\\u0440\\u0438\\u043d\\u0438\\u043c\\u0430\\u0442\\u0435\\u043b\\u044c\",\n          \"\\u0441\\u043e\\u0442\\u0440\\u0443\\u0434\\u043d\\u0438\\u043a\"\n        ],\n        \"semantic_type\": \"\",\n        \"description\": \"\"\n      }\n    },\n    {\n      \"column\": \"debt\",\n      \"properties\": {\n        \"dtype\": \"number\",\n        \"std\": 0,\n        \"min\": 0,\n        \"max\": 1,\n        \"num_unique_values\": 2,\n        \"samples\": [\n          1,\n          0\n        ],\n        \"semantic_type\": \"\",\n        \"description\": \"\"\n      }\n    },\n    {\n      \"column\": \"total_income\",\n      \"properties\": {\n        \"dtype\": \"number\",\n        \"std\": 102971.56644797762,\n        \"min\": 20667.26379327158,\n        \"max\": 2265604.028722744,\n        \"num_unique_values\": 19351,\n        \"samples\": [\n          264985.90849759005,\n          145521.97728763806\n        ],\n        \"semantic_type\": \"\",\n        \"description\": \"\"\n      }\n    },\n    {\n      \"column\": \"purpose\",\n      \"properties\": {\n        \"dtype\": \"category\",\n        \"num_unique_values\": 38,\n        \"samples\": [\n          \"\\u0432\\u044b\\u0441\\u0448\\u0435\\u0435 \\u043e\\u0431\\u0440\\u0430\\u0437\\u043e\\u0432\\u0430\\u043d\\u0438\\u0435\",\n          \"\\u0440\\u0435\\u043c\\u043e\\u043d\\u0442 \\u0436\\u0438\\u043b\\u044c\\u044e\"\n        ],\n        \"semantic_type\": \"\",\n        \"description\": \"\"\n      }\n    }\n  ]\n}",
              "type": "dataframe",
              "variable_name": "data"
            },
            "text/html": [
              "\n",
              "  <div id=\"df-25fde499-ddfa-4620-aeb8-d07cc21ca718\" class=\"colab-df-container\">\n",
              "    <div>\n",
              "<style scoped>\n",
              "    .dataframe tbody tr th:only-of-type {\n",
              "        vertical-align: middle;\n",
              "    }\n",
              "\n",
              "    .dataframe tbody tr th {\n",
              "        vertical-align: top;\n",
              "    }\n",
              "\n",
              "    .dataframe thead th {\n",
              "        text-align: right;\n",
              "    }\n",
              "</style>\n",
              "<table border=\"1\" class=\"dataframe\">\n",
              "  <thead>\n",
              "    <tr style=\"text-align: right;\">\n",
              "      <th></th>\n",
              "      <th>children</th>\n",
              "      <th>days_employed</th>\n",
              "      <th>dob_years</th>\n",
              "      <th>education</th>\n",
              "      <th>education_id</th>\n",
              "      <th>family_status</th>\n",
              "      <th>family_status_id</th>\n",
              "      <th>gender</th>\n",
              "      <th>income_type</th>\n",
              "      <th>debt</th>\n",
              "      <th>total_income</th>\n",
              "      <th>purpose</th>\n",
              "    </tr>\n",
              "  </thead>\n",
              "  <tbody>\n",
              "    <tr>\n",
              "      <th>0</th>\n",
              "      <td>1</td>\n",
              "      <td>-8437.673028</td>\n",
              "      <td>42</td>\n",
              "      <td>высшее</td>\n",
              "      <td>0</td>\n",
              "      <td>женат / замужем</td>\n",
              "      <td>0</td>\n",
              "      <td>F</td>\n",
              "      <td>сотрудник</td>\n",
              "      <td>0</td>\n",
              "      <td>253875.639453</td>\n",
              "      <td>покупка жилья</td>\n",
              "    </tr>\n",
              "    <tr>\n",
              "      <th>1</th>\n",
              "      <td>1</td>\n",
              "      <td>-4024.803754</td>\n",
              "      <td>36</td>\n",
              "      <td>среднее</td>\n",
              "      <td>1</td>\n",
              "      <td>женат / замужем</td>\n",
              "      <td>0</td>\n",
              "      <td>F</td>\n",
              "      <td>сотрудник</td>\n",
              "      <td>0</td>\n",
              "      <td>112080.014102</td>\n",
              "      <td>приобретение автомобиля</td>\n",
              "    </tr>\n",
              "    <tr>\n",
              "      <th>2</th>\n",
              "      <td>0</td>\n",
              "      <td>-5623.422610</td>\n",
              "      <td>33</td>\n",
              "      <td>Среднее</td>\n",
              "      <td>1</td>\n",
              "      <td>женат / замужем</td>\n",
              "      <td>0</td>\n",
              "      <td>M</td>\n",
              "      <td>сотрудник</td>\n",
              "      <td>0</td>\n",
              "      <td>145885.952297</td>\n",
              "      <td>покупка жилья</td>\n",
              "    </tr>\n",
              "    <tr>\n",
              "      <th>3</th>\n",
              "      <td>3</td>\n",
              "      <td>-4124.747207</td>\n",
              "      <td>32</td>\n",
              "      <td>среднее</td>\n",
              "      <td>1</td>\n",
              "      <td>женат / замужем</td>\n",
              "      <td>0</td>\n",
              "      <td>M</td>\n",
              "      <td>сотрудник</td>\n",
              "      <td>0</td>\n",
              "      <td>267628.550329</td>\n",
              "      <td>дополнительное образование</td>\n",
              "    </tr>\n",
              "    <tr>\n",
              "      <th>4</th>\n",
              "      <td>0</td>\n",
              "      <td>340266.072047</td>\n",
              "      <td>53</td>\n",
              "      <td>среднее</td>\n",
              "      <td>1</td>\n",
              "      <td>гражданский брак</td>\n",
              "      <td>1</td>\n",
              "      <td>F</td>\n",
              "      <td>пенсионер</td>\n",
              "      <td>0</td>\n",
              "      <td>158616.077870</td>\n",
              "      <td>сыграть свадьбу</td>\n",
              "    </tr>\n",
              "    <tr>\n",
              "      <th>5</th>\n",
              "      <td>0</td>\n",
              "      <td>-926.185831</td>\n",
              "      <td>27</td>\n",
              "      <td>высшее</td>\n",
              "      <td>0</td>\n",
              "      <td>гражданский брак</td>\n",
              "      <td>1</td>\n",
              "      <td>M</td>\n",
              "      <td>компаньон</td>\n",
              "      <td>0</td>\n",
              "      <td>255763.565419</td>\n",
              "      <td>покупка жилья</td>\n",
              "    </tr>\n",
              "    <tr>\n",
              "      <th>6</th>\n",
              "      <td>0</td>\n",
              "      <td>-2879.202052</td>\n",
              "      <td>43</td>\n",
              "      <td>высшее</td>\n",
              "      <td>0</td>\n",
              "      <td>женат / замужем</td>\n",
              "      <td>0</td>\n",
              "      <td>F</td>\n",
              "      <td>компаньон</td>\n",
              "      <td>0</td>\n",
              "      <td>240525.971920</td>\n",
              "      <td>операции с жильем</td>\n",
              "    </tr>\n",
              "    <tr>\n",
              "      <th>7</th>\n",
              "      <td>0</td>\n",
              "      <td>-152.779569</td>\n",
              "      <td>50</td>\n",
              "      <td>СРЕДНЕЕ</td>\n",
              "      <td>1</td>\n",
              "      <td>женат / замужем</td>\n",
              "      <td>0</td>\n",
              "      <td>M</td>\n",
              "      <td>сотрудник</td>\n",
              "      <td>0</td>\n",
              "      <td>135823.934197</td>\n",
              "      <td>образование</td>\n",
              "    </tr>\n",
              "    <tr>\n",
              "      <th>8</th>\n",
              "      <td>2</td>\n",
              "      <td>-6929.865299</td>\n",
              "      <td>35</td>\n",
              "      <td>ВЫСШЕЕ</td>\n",
              "      <td>0</td>\n",
              "      <td>гражданский брак</td>\n",
              "      <td>1</td>\n",
              "      <td>F</td>\n",
              "      <td>сотрудник</td>\n",
              "      <td>0</td>\n",
              "      <td>95856.832424</td>\n",
              "      <td>на проведение свадьбы</td>\n",
              "    </tr>\n",
              "    <tr>\n",
              "      <th>9</th>\n",
              "      <td>0</td>\n",
              "      <td>-2188.756445</td>\n",
              "      <td>41</td>\n",
              "      <td>среднее</td>\n",
              "      <td>1</td>\n",
              "      <td>женат / замужем</td>\n",
              "      <td>0</td>\n",
              "      <td>M</td>\n",
              "      <td>сотрудник</td>\n",
              "      <td>0</td>\n",
              "      <td>144425.938277</td>\n",
              "      <td>покупка жилья для семьи</td>\n",
              "    </tr>\n",
              "    <tr>\n",
              "      <th>10</th>\n",
              "      <td>2</td>\n",
              "      <td>-4171.483647</td>\n",
              "      <td>36</td>\n",
              "      <td>высшее</td>\n",
              "      <td>0</td>\n",
              "      <td>женат / замужем</td>\n",
              "      <td>0</td>\n",
              "      <td>M</td>\n",
              "      <td>компаньон</td>\n",
              "      <td>0</td>\n",
              "      <td>113943.491460</td>\n",
              "      <td>покупка недвижимости</td>\n",
              "    </tr>\n",
              "    <tr>\n",
              "      <th>11</th>\n",
              "      <td>0</td>\n",
              "      <td>-792.701887</td>\n",
              "      <td>40</td>\n",
              "      <td>среднее</td>\n",
              "      <td>1</td>\n",
              "      <td>женат / замужем</td>\n",
              "      <td>0</td>\n",
              "      <td>F</td>\n",
              "      <td>сотрудник</td>\n",
              "      <td>0</td>\n",
              "      <td>77069.234271</td>\n",
              "      <td>покупка коммерческой недвижимости</td>\n",
              "    </tr>\n",
              "    <tr>\n",
              "      <th>12</th>\n",
              "      <td>0</td>\n",
              "      <td>NaN</td>\n",
              "      <td>65</td>\n",
              "      <td>среднее</td>\n",
              "      <td>1</td>\n",
              "      <td>гражданский брак</td>\n",
              "      <td>1</td>\n",
              "      <td>M</td>\n",
              "      <td>пенсионер</td>\n",
              "      <td>0</td>\n",
              "      <td>NaN</td>\n",
              "      <td>сыграть свадьбу</td>\n",
              "    </tr>\n",
              "    <tr>\n",
              "      <th>13</th>\n",
              "      <td>0</td>\n",
              "      <td>-1846.641941</td>\n",
              "      <td>54</td>\n",
              "      <td>неоконченное высшее</td>\n",
              "      <td>2</td>\n",
              "      <td>женат / замужем</td>\n",
              "      <td>0</td>\n",
              "      <td>F</td>\n",
              "      <td>сотрудник</td>\n",
              "      <td>0</td>\n",
              "      <td>130458.228857</td>\n",
              "      <td>приобретение автомобиля</td>\n",
              "    </tr>\n",
              "    <tr>\n",
              "      <th>14</th>\n",
              "      <td>0</td>\n",
              "      <td>-1844.956182</td>\n",
              "      <td>56</td>\n",
              "      <td>высшее</td>\n",
              "      <td>0</td>\n",
              "      <td>гражданский брак</td>\n",
              "      <td>1</td>\n",
              "      <td>F</td>\n",
              "      <td>компаньон</td>\n",
              "      <td>1</td>\n",
              "      <td>165127.911772</td>\n",
              "      <td>покупка жилой недвижимости</td>\n",
              "    </tr>\n",
              "    <tr>\n",
              "      <th>15</th>\n",
              "      <td>1</td>\n",
              "      <td>-972.364419</td>\n",
              "      <td>26</td>\n",
              "      <td>среднее</td>\n",
              "      <td>1</td>\n",
              "      <td>женат / замужем</td>\n",
              "      <td>0</td>\n",
              "      <td>F</td>\n",
              "      <td>сотрудник</td>\n",
              "      <td>0</td>\n",
              "      <td>116820.904450</td>\n",
              "      <td>строительство собственной недвижимости</td>\n",
              "    </tr>\n",
              "    <tr>\n",
              "      <th>16</th>\n",
              "      <td>0</td>\n",
              "      <td>-1719.934226</td>\n",
              "      <td>35</td>\n",
              "      <td>среднее</td>\n",
              "      <td>1</td>\n",
              "      <td>женат / замужем</td>\n",
              "      <td>0</td>\n",
              "      <td>F</td>\n",
              "      <td>сотрудник</td>\n",
              "      <td>0</td>\n",
              "      <td>289202.704229</td>\n",
              "      <td>недвижимость</td>\n",
              "    </tr>\n",
              "    <tr>\n",
              "      <th>17</th>\n",
              "      <td>0</td>\n",
              "      <td>-2369.999720</td>\n",
              "      <td>33</td>\n",
              "      <td>высшее</td>\n",
              "      <td>0</td>\n",
              "      <td>гражданский брак</td>\n",
              "      <td>1</td>\n",
              "      <td>M</td>\n",
              "      <td>сотрудник</td>\n",
              "      <td>0</td>\n",
              "      <td>90410.586745</td>\n",
              "      <td>строительство недвижимости</td>\n",
              "    </tr>\n",
              "    <tr>\n",
              "      <th>18</th>\n",
              "      <td>0</td>\n",
              "      <td>400281.136913</td>\n",
              "      <td>53</td>\n",
              "      <td>среднее</td>\n",
              "      <td>1</td>\n",
              "      <td>вдовец / вдова</td>\n",
              "      <td>2</td>\n",
              "      <td>F</td>\n",
              "      <td>пенсионер</td>\n",
              "      <td>0</td>\n",
              "      <td>56823.777243</td>\n",
              "      <td>на покупку подержанного автомобиля</td>\n",
              "    </tr>\n",
              "    <tr>\n",
              "      <th>19</th>\n",
              "      <td>0</td>\n",
              "      <td>-10038.818549</td>\n",
              "      <td>48</td>\n",
              "      <td>СРЕДНЕЕ</td>\n",
              "      <td>1</td>\n",
              "      <td>в разводе</td>\n",
              "      <td>3</td>\n",
              "      <td>F</td>\n",
              "      <td>сотрудник</td>\n",
              "      <td>0</td>\n",
              "      <td>242831.107982</td>\n",
              "      <td>на покупку своего автомобиля</td>\n",
              "    </tr>\n",
              "  </tbody>\n",
              "</table>\n",
              "</div>\n",
              "    <div class=\"colab-df-buttons\">\n",
              "\n",
              "  <div class=\"colab-df-container\">\n",
              "    <button class=\"colab-df-convert\" onclick=\"convertToInteractive('df-25fde499-ddfa-4620-aeb8-d07cc21ca718')\"\n",
              "            title=\"Convert this dataframe to an interactive table.\"\n",
              "            style=\"display:none;\">\n",
              "\n",
              "  <svg xmlns=\"http://www.w3.org/2000/svg\" height=\"24px\" viewBox=\"0 -960 960 960\">\n",
              "    <path d=\"M120-120v-720h720v720H120Zm60-500h600v-160H180v160Zm220 220h160v-160H400v160Zm0 220h160v-160H400v160ZM180-400h160v-160H180v160Zm440 0h160v-160H620v160ZM180-180h160v-160H180v160Zm440 0h160v-160H620v160Z\"/>\n",
              "  </svg>\n",
              "    </button>\n",
              "\n",
              "  <style>\n",
              "    .colab-df-container {\n",
              "      display:flex;\n",
              "      gap: 12px;\n",
              "    }\n",
              "\n",
              "    .colab-df-convert {\n",
              "      background-color: #E8F0FE;\n",
              "      border: none;\n",
              "      border-radius: 50%;\n",
              "      cursor: pointer;\n",
              "      display: none;\n",
              "      fill: #1967D2;\n",
              "      height: 32px;\n",
              "      padding: 0 0 0 0;\n",
              "      width: 32px;\n",
              "    }\n",
              "\n",
              "    .colab-df-convert:hover {\n",
              "      background-color: #E2EBFA;\n",
              "      box-shadow: 0px 1px 2px rgba(60, 64, 67, 0.3), 0px 1px 3px 1px rgba(60, 64, 67, 0.15);\n",
              "      fill: #174EA6;\n",
              "    }\n",
              "\n",
              "    .colab-df-buttons div {\n",
              "      margin-bottom: 4px;\n",
              "    }\n",
              "\n",
              "    [theme=dark] .colab-df-convert {\n",
              "      background-color: #3B4455;\n",
              "      fill: #D2E3FC;\n",
              "    }\n",
              "\n",
              "    [theme=dark] .colab-df-convert:hover {\n",
              "      background-color: #434B5C;\n",
              "      box-shadow: 0px 1px 3px 1px rgba(0, 0, 0, 0.15);\n",
              "      filter: drop-shadow(0px 1px 2px rgba(0, 0, 0, 0.3));\n",
              "      fill: #FFFFFF;\n",
              "    }\n",
              "  </style>\n",
              "\n",
              "    <script>\n",
              "      const buttonEl =\n",
              "        document.querySelector('#df-25fde499-ddfa-4620-aeb8-d07cc21ca718 button.colab-df-convert');\n",
              "      buttonEl.style.display =\n",
              "        google.colab.kernel.accessAllowed ? 'block' : 'none';\n",
              "\n",
              "      async function convertToInteractive(key) {\n",
              "        const element = document.querySelector('#df-25fde499-ddfa-4620-aeb8-d07cc21ca718');\n",
              "        const dataTable =\n",
              "          await google.colab.kernel.invokeFunction('convertToInteractive',\n",
              "                                                    [key], {});\n",
              "        if (!dataTable) return;\n",
              "\n",
              "        const docLinkHtml = 'Like what you see? Visit the ' +\n",
              "          '<a target=\"_blank\" href=https://colab.research.google.com/notebooks/data_table.ipynb>data table notebook</a>'\n",
              "          + ' to learn more about interactive tables.';\n",
              "        element.innerHTML = '';\n",
              "        dataTable['output_type'] = 'display_data';\n",
              "        await google.colab.output.renderOutput(dataTable, element);\n",
              "        const docLink = document.createElement('div');\n",
              "        docLink.innerHTML = docLinkHtml;\n",
              "        element.appendChild(docLink);\n",
              "      }\n",
              "    </script>\n",
              "  </div>\n",
              "\n",
              "\n",
              "<div id=\"df-51392131-f3d4-453a-b07a-0145be07bfc0\">\n",
              "  <button class=\"colab-df-quickchart\" onclick=\"quickchart('df-51392131-f3d4-453a-b07a-0145be07bfc0')\"\n",
              "            title=\"Suggest charts\"\n",
              "            style=\"display:none;\">\n",
              "\n",
              "<svg xmlns=\"http://www.w3.org/2000/svg\" height=\"24px\"viewBox=\"0 0 24 24\"\n",
              "     width=\"24px\">\n",
              "    <g>\n",
              "        <path d=\"M19 3H5c-1.1 0-2 .9-2 2v14c0 1.1.9 2 2 2h14c1.1 0 2-.9 2-2V5c0-1.1-.9-2-2-2zM9 17H7v-7h2v7zm4 0h-2V7h2v10zm4 0h-2v-4h2v4z\"/>\n",
              "    </g>\n",
              "</svg>\n",
              "  </button>\n",
              "\n",
              "<style>\n",
              "  .colab-df-quickchart {\n",
              "      --bg-color: #E8F0FE;\n",
              "      --fill-color: #1967D2;\n",
              "      --hover-bg-color: #E2EBFA;\n",
              "      --hover-fill-color: #174EA6;\n",
              "      --disabled-fill-color: #AAA;\n",
              "      --disabled-bg-color: #DDD;\n",
              "  }\n",
              "\n",
              "  [theme=dark] .colab-df-quickchart {\n",
              "      --bg-color: #3B4455;\n",
              "      --fill-color: #D2E3FC;\n",
              "      --hover-bg-color: #434B5C;\n",
              "      --hover-fill-color: #FFFFFF;\n",
              "      --disabled-bg-color: #3B4455;\n",
              "      --disabled-fill-color: #666;\n",
              "  }\n",
              "\n",
              "  .colab-df-quickchart {\n",
              "    background-color: var(--bg-color);\n",
              "    border: none;\n",
              "    border-radius: 50%;\n",
              "    cursor: pointer;\n",
              "    display: none;\n",
              "    fill: var(--fill-color);\n",
              "    height: 32px;\n",
              "    padding: 0;\n",
              "    width: 32px;\n",
              "  }\n",
              "\n",
              "  .colab-df-quickchart:hover {\n",
              "    background-color: var(--hover-bg-color);\n",
              "    box-shadow: 0 1px 2px rgba(60, 64, 67, 0.3), 0 1px 3px 1px rgba(60, 64, 67, 0.15);\n",
              "    fill: var(--button-hover-fill-color);\n",
              "  }\n",
              "\n",
              "  .colab-df-quickchart-complete:disabled,\n",
              "  .colab-df-quickchart-complete:disabled:hover {\n",
              "    background-color: var(--disabled-bg-color);\n",
              "    fill: var(--disabled-fill-color);\n",
              "    box-shadow: none;\n",
              "  }\n",
              "\n",
              "  .colab-df-spinner {\n",
              "    border: 2px solid var(--fill-color);\n",
              "    border-color: transparent;\n",
              "    border-bottom-color: var(--fill-color);\n",
              "    animation:\n",
              "      spin 1s steps(1) infinite;\n",
              "  }\n",
              "\n",
              "  @keyframes spin {\n",
              "    0% {\n",
              "      border-color: transparent;\n",
              "      border-bottom-color: var(--fill-color);\n",
              "      border-left-color: var(--fill-color);\n",
              "    }\n",
              "    20% {\n",
              "      border-color: transparent;\n",
              "      border-left-color: var(--fill-color);\n",
              "      border-top-color: var(--fill-color);\n",
              "    }\n",
              "    30% {\n",
              "      border-color: transparent;\n",
              "      border-left-color: var(--fill-color);\n",
              "      border-top-color: var(--fill-color);\n",
              "      border-right-color: var(--fill-color);\n",
              "    }\n",
              "    40% {\n",
              "      border-color: transparent;\n",
              "      border-right-color: var(--fill-color);\n",
              "      border-top-color: var(--fill-color);\n",
              "    }\n",
              "    60% {\n",
              "      border-color: transparent;\n",
              "      border-right-color: var(--fill-color);\n",
              "    }\n",
              "    80% {\n",
              "      border-color: transparent;\n",
              "      border-right-color: var(--fill-color);\n",
              "      border-bottom-color: var(--fill-color);\n",
              "    }\n",
              "    90% {\n",
              "      border-color: transparent;\n",
              "      border-bottom-color: var(--fill-color);\n",
              "    }\n",
              "  }\n",
              "</style>\n",
              "\n",
              "  <script>\n",
              "    async function quickchart(key) {\n",
              "      const quickchartButtonEl =\n",
              "        document.querySelector('#' + key + ' button');\n",
              "      quickchartButtonEl.disabled = true;  // To prevent multiple clicks.\n",
              "      quickchartButtonEl.classList.add('colab-df-spinner');\n",
              "      try {\n",
              "        const charts = await google.colab.kernel.invokeFunction(\n",
              "            'suggestCharts', [key], {});\n",
              "      } catch (error) {\n",
              "        console.error('Error during call to suggestCharts:', error);\n",
              "      }\n",
              "      quickchartButtonEl.classList.remove('colab-df-spinner');\n",
              "      quickchartButtonEl.classList.add('colab-df-quickchart-complete');\n",
              "    }\n",
              "    (() => {\n",
              "      let quickchartButtonEl =\n",
              "        document.querySelector('#df-51392131-f3d4-453a-b07a-0145be07bfc0 button');\n",
              "      quickchartButtonEl.style.display =\n",
              "        google.colab.kernel.accessAllowed ? 'block' : 'none';\n",
              "    })();\n",
              "  </script>\n",
              "</div>\n",
              "    </div>\n",
              "  </div>\n"
            ],
            "text/plain": [
              "    children  days_employed  dob_years            education  education_id  \\\n",
              "0          1   -8437.673028         42               высшее             0   \n",
              "1          1   -4024.803754         36              среднее             1   \n",
              "2          0   -5623.422610         33              Среднее             1   \n",
              "3          3   -4124.747207         32              среднее             1   \n",
              "4          0  340266.072047         53              среднее             1   \n",
              "5          0    -926.185831         27               высшее             0   \n",
              "6          0   -2879.202052         43               высшее             0   \n",
              "7          0    -152.779569         50              СРЕДНЕЕ             1   \n",
              "8          2   -6929.865299         35               ВЫСШЕЕ             0   \n",
              "9          0   -2188.756445         41              среднее             1   \n",
              "10         2   -4171.483647         36               высшее             0   \n",
              "11         0    -792.701887         40              среднее             1   \n",
              "12         0            NaN         65              среднее             1   \n",
              "13         0   -1846.641941         54  неоконченное высшее             2   \n",
              "14         0   -1844.956182         56               высшее             0   \n",
              "15         1    -972.364419         26              среднее             1   \n",
              "16         0   -1719.934226         35              среднее             1   \n",
              "17         0   -2369.999720         33               высшее             0   \n",
              "18         0  400281.136913         53              среднее             1   \n",
              "19         0  -10038.818549         48              СРЕДНЕЕ             1   \n",
              "\n",
              "       family_status  family_status_id gender income_type  debt  \\\n",
              "0    женат / замужем                 0      F   сотрудник     0   \n",
              "1    женат / замужем                 0      F   сотрудник     0   \n",
              "2    женат / замужем                 0      M   сотрудник     0   \n",
              "3    женат / замужем                 0      M   сотрудник     0   \n",
              "4   гражданский брак                 1      F   пенсионер     0   \n",
              "5   гражданский брак                 1      M   компаньон     0   \n",
              "6    женат / замужем                 0      F   компаньон     0   \n",
              "7    женат / замужем                 0      M   сотрудник     0   \n",
              "8   гражданский брак                 1      F   сотрудник     0   \n",
              "9    женат / замужем                 0      M   сотрудник     0   \n",
              "10   женат / замужем                 0      M   компаньон     0   \n",
              "11   женат / замужем                 0      F   сотрудник     0   \n",
              "12  гражданский брак                 1      M   пенсионер     0   \n",
              "13   женат / замужем                 0      F   сотрудник     0   \n",
              "14  гражданский брак                 1      F   компаньон     1   \n",
              "15   женат / замужем                 0      F   сотрудник     0   \n",
              "16   женат / замужем                 0      F   сотрудник     0   \n",
              "17  гражданский брак                 1      M   сотрудник     0   \n",
              "18    вдовец / вдова                 2      F   пенсионер     0   \n",
              "19         в разводе                 3      F   сотрудник     0   \n",
              "\n",
              "     total_income                                 purpose  \n",
              "0   253875.639453                           покупка жилья  \n",
              "1   112080.014102                 приобретение автомобиля  \n",
              "2   145885.952297                           покупка жилья  \n",
              "3   267628.550329              дополнительное образование  \n",
              "4   158616.077870                         сыграть свадьбу  \n",
              "5   255763.565419                           покупка жилья  \n",
              "6   240525.971920                       операции с жильем  \n",
              "7   135823.934197                             образование  \n",
              "8    95856.832424                   на проведение свадьбы  \n",
              "9   144425.938277                 покупка жилья для семьи  \n",
              "10  113943.491460                    покупка недвижимости  \n",
              "11   77069.234271       покупка коммерческой недвижимости  \n",
              "12            NaN                         сыграть свадьбу  \n",
              "13  130458.228857                 приобретение автомобиля  \n",
              "14  165127.911772              покупка жилой недвижимости  \n",
              "15  116820.904450  строительство собственной недвижимости  \n",
              "16  289202.704229                            недвижимость  \n",
              "17   90410.586745              строительство недвижимости  \n",
              "18   56823.777243      на покупку подержанного автомобиля  \n",
              "19  242831.107982            на покупку своего автомобиля  "
            ]
          },
          "execution_count": 3,
          "metadata": {},
          "output_type": "execute_result"
        }
      ],
      "source": [
        "data.head(20)"
      ]
    },
    {
      "cell_type": "markdown",
      "id": "b14f9f9f",
      "metadata": {
        "deletable": false,
        "editable": false,
        "id": "b14f9f9f"
      },
      "source": [
        "Основная информация о датафрейме:"
      ]
    },
    {
      "cell_type": "code",
      "execution_count": 4,
      "id": "c335bd8a",
      "metadata": {
        "colab": {
          "base_uri": "https://localhost:8080/"
        },
        "deletable": false,
        "id": "c335bd8a",
        "outputId": "4954ad1e-028c-416d-ceb8-a39f3fcacce6"
      },
      "outputs": [
        {
          "name": "stdout",
          "output_type": "stream",
          "text": [
            "<class 'pandas.core.frame.DataFrame'>\n",
            "RangeIndex: 21525 entries, 0 to 21524\n",
            "Data columns (total 12 columns):\n",
            " #   Column            Non-Null Count  Dtype  \n",
            "---  ------            --------------  -----  \n",
            " 0   children          21525 non-null  int64  \n",
            " 1   days_employed     19351 non-null  float64\n",
            " 2   dob_years         21525 non-null  int64  \n",
            " 3   education         21525 non-null  object \n",
            " 4   education_id      21525 non-null  int64  \n",
            " 5   family_status     21525 non-null  object \n",
            " 6   family_status_id  21525 non-null  int64  \n",
            " 7   gender            21525 non-null  object \n",
            " 8   income_type       21525 non-null  object \n",
            " 9   debt              21525 non-null  int64  \n",
            " 10  total_income      19351 non-null  float64\n",
            " 11  purpose           21525 non-null  object \n",
            "dtypes: float64(2), int64(5), object(5)\n",
            "memory usage: 2.0+ MB\n"
          ]
        }
      ],
      "source": [
        "data.info()"
      ]
    },
    {
      "cell_type": "markdown",
      "id": "aac49768",
      "metadata": {
        "deletable": false,
        "editable": false,
        "id": "aac49768"
      },
      "source": [
        "## Предобработка данных"
      ]
    },
    {
      "cell_type": "markdown",
      "id": "9a9b42d8",
      "metadata": {
        "deletable": false,
        "editable": false,
        "id": "9a9b42d8"
      },
      "source": [
        "**Обработка пропусков**"
      ]
    },
    {
      "cell_type": "code",
      "execution_count": 5,
      "id": "02d016a5",
      "metadata": {
        "colab": {
          "base_uri": "https://localhost:8080/",
          "height": 460
        },
        "deletable": false,
        "id": "02d016a5",
        "outputId": "8564f23e-485d-4ff2-cd39-6e562d1f2bf5"
      },
      "outputs": [
        {
          "data": {
            "text/html": [
              "<div>\n",
              "<style scoped>\n",
              "    .dataframe tbody tr th:only-of-type {\n",
              "        vertical-align: middle;\n",
              "    }\n",
              "\n",
              "    .dataframe tbody tr th {\n",
              "        vertical-align: top;\n",
              "    }\n",
              "\n",
              "    .dataframe thead th {\n",
              "        text-align: right;\n",
              "    }\n",
              "</style>\n",
              "<table border=\"1\" class=\"dataframe\">\n",
              "  <thead>\n",
              "    <tr style=\"text-align: right;\">\n",
              "      <th></th>\n",
              "      <th>0</th>\n",
              "    </tr>\n",
              "  </thead>\n",
              "  <tbody>\n",
              "    <tr>\n",
              "      <th>children</th>\n",
              "      <td>0</td>\n",
              "    </tr>\n",
              "    <tr>\n",
              "      <th>days_employed</th>\n",
              "      <td>2174</td>\n",
              "    </tr>\n",
              "    <tr>\n",
              "      <th>dob_years</th>\n",
              "      <td>0</td>\n",
              "    </tr>\n",
              "    <tr>\n",
              "      <th>education</th>\n",
              "      <td>0</td>\n",
              "    </tr>\n",
              "    <tr>\n",
              "      <th>education_id</th>\n",
              "      <td>0</td>\n",
              "    </tr>\n",
              "    <tr>\n",
              "      <th>family_status</th>\n",
              "      <td>0</td>\n",
              "    </tr>\n",
              "    <tr>\n",
              "      <th>family_status_id</th>\n",
              "      <td>0</td>\n",
              "    </tr>\n",
              "    <tr>\n",
              "      <th>gender</th>\n",
              "      <td>0</td>\n",
              "    </tr>\n",
              "    <tr>\n",
              "      <th>income_type</th>\n",
              "      <td>0</td>\n",
              "    </tr>\n",
              "    <tr>\n",
              "      <th>debt</th>\n",
              "      <td>0</td>\n",
              "    </tr>\n",
              "    <tr>\n",
              "      <th>total_income</th>\n",
              "      <td>2174</td>\n",
              "    </tr>\n",
              "    <tr>\n",
              "      <th>purpose</th>\n",
              "      <td>0</td>\n",
              "    </tr>\n",
              "  </tbody>\n",
              "</table>\n",
              "</div><br><label><b>dtype:</b> int64</label>"
            ],
            "text/plain": [
              "children               0\n",
              "days_employed       2174\n",
              "dob_years              0\n",
              "education              0\n",
              "education_id           0\n",
              "family_status          0\n",
              "family_status_id       0\n",
              "gender                 0\n",
              "income_type            0\n",
              "debt                   0\n",
              "total_income        2174\n",
              "purpose                0\n",
              "dtype: int64"
            ]
          },
          "execution_count": 5,
          "metadata": {},
          "output_type": "execute_result"
        }
      ],
      "source": [
        "data.isna().sum()"
      ]
    },
    {
      "cell_type": "markdown",
      "id": "9bd62222",
      "metadata": {
        "deletable": false,
        "editable": false,
        "id": "9bd62222"
      },
      "source": [
        "В двух столбцах есть пропущенные значения, в `days_employed` и в `total_income`. `total_income` — хранит данные о доходах. На сумму дохода сильнее всего влияет тип занятости, поэтому заполнить пропуски в этом столбце нужно медианным значением по каждому типу из столбца `income_type`."
      ]
    },
    {
      "cell_type": "code",
      "execution_count": 6,
      "id": "d76ad366",
      "metadata": {
        "deletable": false,
        "id": "d76ad366"
      },
      "outputs": [],
      "source": [
        "for t in data['income_type'].unique():\n",
        "    data.loc[(data['income_type'] == t) & (data['total_income'].isna()), 'total_income'] = \\\n",
        "    data.loc[(data['income_type'] == t), 'total_income'].median()"
      ]
    },
    {
      "cell_type": "markdown",
      "id": "6dc63372",
      "metadata": {
        "deletable": false,
        "editable": false,
        "id": "6dc63372"
      },
      "source": [
        "**Обработка аномальных значений**"
      ]
    },
    {
      "cell_type": "markdown",
      "id": "88d7aac7",
      "metadata": {
        "deletable": false,
        "editable": false,
        "id": "88d7aac7"
      },
      "source": [
        "В данных могут встречаться артефакты (аномалии) — значения, которые не отражают действительность и появились по какой-то ошибке. Таким артефактом будет отрицательное количество дней трудового стажа в столбце `days_employed`. Заменим все отрицательные значения положительными с помощью метода `abs()`:"
      ]
    },
    {
      "cell_type": "code",
      "execution_count": 7,
      "id": "4c8b71c8",
      "metadata": {
        "deletable": false,
        "id": "4c8b71c8"
      },
      "outputs": [],
      "source": [
        "data['days_employed'] = data['days_employed'].abs()"
      ]
    },
    {
      "cell_type": "markdown",
      "id": "ee318204",
      "metadata": {
        "deletable": false,
        "editable": false,
        "id": "ee318204"
      },
      "source": [
        "Медианное значение трудового стажа `days_employed` в днях для каждого типа занятости:"
      ]
    },
    {
      "cell_type": "code",
      "execution_count": 8,
      "id": "dcb4c0e8",
      "metadata": {
        "colab": {
          "base_uri": "https://localhost:8080/",
          "height": 366
        },
        "deletable": false,
        "id": "dcb4c0e8",
        "outputId": "18fb8187-1563-4229-822f-3ed5e2af0804"
      },
      "outputs": [
        {
          "data": {
            "text/html": [
              "<div>\n",
              "<style scoped>\n",
              "    .dataframe tbody tr th:only-of-type {\n",
              "        vertical-align: middle;\n",
              "    }\n",
              "\n",
              "    .dataframe tbody tr th {\n",
              "        vertical-align: top;\n",
              "    }\n",
              "\n",
              "    .dataframe thead th {\n",
              "        text-align: right;\n",
              "    }\n",
              "</style>\n",
              "<table border=\"1\" class=\"dataframe\">\n",
              "  <thead>\n",
              "    <tr style=\"text-align: right;\">\n",
              "      <th></th>\n",
              "      <th>days_employed</th>\n",
              "    </tr>\n",
              "    <tr>\n",
              "      <th>income_type</th>\n",
              "      <th></th>\n",
              "    </tr>\n",
              "  </thead>\n",
              "  <tbody>\n",
              "    <tr>\n",
              "      <th>безработный</th>\n",
              "      <td>366413.652744</td>\n",
              "    </tr>\n",
              "    <tr>\n",
              "      <th>в декрете</th>\n",
              "      <td>3296.759962</td>\n",
              "    </tr>\n",
              "    <tr>\n",
              "      <th>госслужащий</th>\n",
              "      <td>2689.368353</td>\n",
              "    </tr>\n",
              "    <tr>\n",
              "      <th>компаньон</th>\n",
              "      <td>1547.382223</td>\n",
              "    </tr>\n",
              "    <tr>\n",
              "      <th>пенсионер</th>\n",
              "      <td>365213.306266</td>\n",
              "    </tr>\n",
              "    <tr>\n",
              "      <th>предприниматель</th>\n",
              "      <td>520.848083</td>\n",
              "    </tr>\n",
              "    <tr>\n",
              "      <th>сотрудник</th>\n",
              "      <td>1574.202821</td>\n",
              "    </tr>\n",
              "    <tr>\n",
              "      <th>студент</th>\n",
              "      <td>578.751554</td>\n",
              "    </tr>\n",
              "  </tbody>\n",
              "</table>\n",
              "</div><br><label><b>dtype:</b> float64</label>"
            ],
            "text/plain": [
              "income_type\n",
              "безработный        366413.652744\n",
              "в декрете            3296.759962\n",
              "госслужащий          2689.368353\n",
              "компаньон            1547.382223\n",
              "пенсионер          365213.306266\n",
              "предприниматель       520.848083\n",
              "сотрудник            1574.202821\n",
              "студент               578.751554\n",
              "Name: days_employed, dtype: float64"
            ]
          },
          "execution_count": 8,
          "metadata": {},
          "output_type": "execute_result"
        }
      ],
      "source": [
        "data.groupby('income_type')['days_employed'].agg('median')"
      ]
    },
    {
      "cell_type": "markdown",
      "id": "f72eea44",
      "metadata": {
        "deletable": false,
        "editable": false,
        "id": "f72eea44"
      },
      "source": [
        "У двух типов (безработные и пенсионеры) получатся аномально большие значения. Этот столбец не понадобится нам для исследования, поэтому оставим всё как есть."
      ]
    },
    {
      "cell_type": "markdown",
      "id": "4085cfae",
      "metadata": {
        "deletable": false,
        "editable": false,
        "id": "4085cfae"
      },
      "source": [
        "Перечень уникальных значений столбца `children`:"
      ]
    },
    {
      "cell_type": "code",
      "execution_count": 9,
      "id": "af46e4f7",
      "metadata": {
        "colab": {
          "base_uri": "https://localhost:8080/"
        },
        "deletable": false,
        "id": "af46e4f7",
        "outputId": "f5632b85-6add-489e-d621-a03231e60cb9"
      },
      "outputs": [
        {
          "data": {
            "text/plain": [
              "array([ 1,  0,  3,  2, -1,  4, 20,  5])"
            ]
          },
          "execution_count": 9,
          "metadata": {},
          "output_type": "execute_result"
        }
      ],
      "source": [
        "data['children'].unique()"
      ]
    },
    {
      "cell_type": "markdown",
      "id": "8878a6e6",
      "metadata": {
        "deletable": false,
        "editable": false,
        "id": "8878a6e6"
      },
      "source": [
        "В столбце `children` есть два аномальных значения. Удалим строки, в которых встречаются такие аномальные значения из датафрейма:"
      ]
    },
    {
      "cell_type": "code",
      "execution_count": 10,
      "id": "0b7a8f40",
      "metadata": {
        "deletable": false,
        "id": "0b7a8f40"
      },
      "outputs": [],
      "source": [
        "data = data[(data['children'] != -1) & (data['children'] != 20)]"
      ]
    },
    {
      "cell_type": "markdown",
      "id": "b71bbf33",
      "metadata": {
        "deletable": false,
        "editable": false,
        "id": "b71bbf33"
      },
      "source": [
        "Перечень уникальных значений столбца `children`:"
      ]
    },
    {
      "cell_type": "code",
      "execution_count": 11,
      "id": "f6d7b3fe",
      "metadata": {
        "colab": {
          "base_uri": "https://localhost:8080/"
        },
        "deletable": false,
        "id": "f6d7b3fe",
        "outputId": "f140092d-5c15-4c89-c89b-de53ccf61b21"
      },
      "outputs": [
        {
          "data": {
            "text/plain": [
              "array([1, 0, 3, 2, 4, 5])"
            ]
          },
          "execution_count": 11,
          "metadata": {},
          "output_type": "execute_result"
        }
      ],
      "source": [
        "data['children'].unique()"
      ]
    },
    {
      "cell_type": "markdown",
      "id": "041c714d",
      "metadata": {
        "deletable": false,
        "editable": false,
        "id": "041c714d"
      },
      "source": [
        "**Обработка пропусков (продолжение)**"
      ]
    },
    {
      "cell_type": "markdown",
      "id": "81cab849",
      "metadata": {
        "deletable": false,
        "editable": false,
        "id": "81cab849"
      },
      "source": [
        "Заполним пропуски в столбце `days_employed` медианными значениями по каждому типу занятости `income_type`:"
      ]
    },
    {
      "cell_type": "code",
      "execution_count": 12,
      "id": "5474c9fd",
      "metadata": {
        "deletable": false,
        "id": "5474c9fd"
      },
      "outputs": [],
      "source": [
        "for t in data['income_type'].unique():\n",
        "    data.loc[(data['income_type'] == t) & (data['days_employed'].isna()), 'days_employed'] = \\\n",
        "    data.loc[(data['income_type'] == t), 'days_employed'].median()"
      ]
    },
    {
      "cell_type": "markdown",
      "id": "4ea628c2",
      "metadata": {
        "deletable": false,
        "editable": false,
        "id": "4ea628c2"
      },
      "source": [
        "Убедимся, что все пропуски заполнены:"
      ]
    },
    {
      "cell_type": "code",
      "execution_count": 13,
      "id": "76c4e848",
      "metadata": {
        "colab": {
          "base_uri": "https://localhost:8080/",
          "height": 460
        },
        "deletable": false,
        "id": "76c4e848",
        "outputId": "9d6f071f-8e57-4749-8157-be71bd3f4a70"
      },
      "outputs": [
        {
          "data": {
            "text/html": [
              "<div>\n",
              "<style scoped>\n",
              "    .dataframe tbody tr th:only-of-type {\n",
              "        vertical-align: middle;\n",
              "    }\n",
              "\n",
              "    .dataframe tbody tr th {\n",
              "        vertical-align: top;\n",
              "    }\n",
              "\n",
              "    .dataframe thead th {\n",
              "        text-align: right;\n",
              "    }\n",
              "</style>\n",
              "<table border=\"1\" class=\"dataframe\">\n",
              "  <thead>\n",
              "    <tr style=\"text-align: right;\">\n",
              "      <th></th>\n",
              "      <th>0</th>\n",
              "    </tr>\n",
              "  </thead>\n",
              "  <tbody>\n",
              "    <tr>\n",
              "      <th>children</th>\n",
              "      <td>0</td>\n",
              "    </tr>\n",
              "    <tr>\n",
              "      <th>days_employed</th>\n",
              "      <td>0</td>\n",
              "    </tr>\n",
              "    <tr>\n",
              "      <th>dob_years</th>\n",
              "      <td>0</td>\n",
              "    </tr>\n",
              "    <tr>\n",
              "      <th>education</th>\n",
              "      <td>0</td>\n",
              "    </tr>\n",
              "    <tr>\n",
              "      <th>education_id</th>\n",
              "      <td>0</td>\n",
              "    </tr>\n",
              "    <tr>\n",
              "      <th>family_status</th>\n",
              "      <td>0</td>\n",
              "    </tr>\n",
              "    <tr>\n",
              "      <th>family_status_id</th>\n",
              "      <td>0</td>\n",
              "    </tr>\n",
              "    <tr>\n",
              "      <th>gender</th>\n",
              "      <td>0</td>\n",
              "    </tr>\n",
              "    <tr>\n",
              "      <th>income_type</th>\n",
              "      <td>0</td>\n",
              "    </tr>\n",
              "    <tr>\n",
              "      <th>debt</th>\n",
              "      <td>0</td>\n",
              "    </tr>\n",
              "    <tr>\n",
              "      <th>total_income</th>\n",
              "      <td>0</td>\n",
              "    </tr>\n",
              "    <tr>\n",
              "      <th>purpose</th>\n",
              "      <td>0</td>\n",
              "    </tr>\n",
              "  </tbody>\n",
              "</table>\n",
              "</div><br><label><b>dtype:</b> int64</label>"
            ],
            "text/plain": [
              "children            0\n",
              "days_employed       0\n",
              "dob_years           0\n",
              "education           0\n",
              "education_id        0\n",
              "family_status       0\n",
              "family_status_id    0\n",
              "gender              0\n",
              "income_type         0\n",
              "debt                0\n",
              "total_income        0\n",
              "purpose             0\n",
              "dtype: int64"
            ]
          },
          "execution_count": 13,
          "metadata": {},
          "output_type": "execute_result"
        }
      ],
      "source": [
        "data.isna().sum()"
      ]
    },
    {
      "cell_type": "markdown",
      "id": "9dea027e",
      "metadata": {
        "deletable": false,
        "editable": false,
        "id": "9dea027e"
      },
      "source": [
        "**Изменение типов данных**"
      ]
    },
    {
      "cell_type": "markdown",
      "id": "b0c4c5d2",
      "metadata": {
        "deletable": false,
        "editable": false,
        "id": "b0c4c5d2"
      },
      "source": [
        "Заменим вещественный тип данных в столбце `total_income` на целочисленный с помощью метода `astype()`:"
      ]
    },
    {
      "cell_type": "code",
      "execution_count": 14,
      "id": "09e2128f",
      "metadata": {
        "colab": {
          "base_uri": "https://localhost:8080/"
        },
        "deletable": false,
        "id": "09e2128f",
        "outputId": "2d111129-4b3d-456b-e78a-8137db25201c"
      },
      "outputs": [
        {
          "name": "stderr",
          "output_type": "stream",
          "text": [
            "<ipython-input-14-990472087ee4>:1: SettingWithCopyWarning: \n",
            "A value is trying to be set on a copy of a slice from a DataFrame.\n",
            "Try using .loc[row_indexer,col_indexer] = value instead\n",
            "\n",
            "See the caveats in the documentation: https://pandas.pydata.org/pandas-docs/stable/user_guide/indexing.html#returning-a-view-versus-a-copy\n",
            "  data['total_income'] = data['total_income'].astype(int)\n"
          ]
        }
      ],
      "source": [
        "data['total_income'] = data['total_income'].astype(int)"
      ]
    },
    {
      "cell_type": "markdown",
      "id": "84b80ca0",
      "metadata": {
        "deletable": false,
        "editable": false,
        "id": "84b80ca0"
      },
      "source": [
        "**Обработка дубликатов**"
      ]
    },
    {
      "cell_type": "markdown",
      "id": "b6b8b328",
      "metadata": {
        "deletable": false,
        "editable": false,
        "id": "b6b8b328"
      },
      "source": [
        "Обработаем неявные дубликаты в столбце `education`. В этом столбце есть одни и те же значения, но записанные по-разному, с использованием заглавных и строчных букв. Приведем их к нижнему регистру:"
      ]
    },
    {
      "cell_type": "code",
      "execution_count": 15,
      "id": "08aaa99b",
      "metadata": {
        "colab": {
          "base_uri": "https://localhost:8080/"
        },
        "deletable": false,
        "id": "08aaa99b",
        "outputId": "2a489e03-82d0-4fbb-fc96-7c9c00386c8a"
      },
      "outputs": [
        {
          "name": "stderr",
          "output_type": "stream",
          "text": [
            "<ipython-input-15-d4b849f854d7>:1: SettingWithCopyWarning: \n",
            "A value is trying to be set on a copy of a slice from a DataFrame.\n",
            "Try using .loc[row_indexer,col_indexer] = value instead\n",
            "\n",
            "See the caveats in the documentation: https://pandas.pydata.org/pandas-docs/stable/user_guide/indexing.html#returning-a-view-versus-a-copy\n",
            "  data['education'] = data['education'].str.lower()\n"
          ]
        }
      ],
      "source": [
        "data['education'] = data['education'].str.lower()"
      ]
    },
    {
      "cell_type": "markdown",
      "id": "baf5b298",
      "metadata": {
        "deletable": false,
        "editable": false,
        "id": "baf5b298"
      },
      "source": [
        "Выведите на экран количество строк-дубликатов в данных. При наличии, удалим их:"
      ]
    },
    {
      "cell_type": "code",
      "execution_count": 16,
      "id": "bd20b835",
      "metadata": {
        "colab": {
          "base_uri": "https://localhost:8080/"
        },
        "deletable": false,
        "id": "bd20b835",
        "outputId": "014cf181-4f0c-411e-b4bf-4cbe912da693"
      },
      "outputs": [
        {
          "data": {
            "text/plain": [
              "71"
            ]
          },
          "execution_count": 16,
          "metadata": {},
          "output_type": "execute_result"
        }
      ],
      "source": [
        "data.duplicated().sum()"
      ]
    },
    {
      "cell_type": "code",
      "execution_count": 17,
      "id": "2d201b62",
      "metadata": {
        "deletable": false,
        "id": "2d201b62"
      },
      "outputs": [],
      "source": [
        "data = data.drop_duplicates()"
      ]
    },
    {
      "cell_type": "markdown",
      "id": "6ff14d6a",
      "metadata": {
        "deletable": false,
        "editable": false,
        "id": "6ff14d6a"
      },
      "source": [
        "**Категоризация данных**"
      ]
    },
    {
      "cell_type": "markdown",
      "id": "b0fccceb",
      "metadata": {
        "deletable": false,
        "editable": false,
        "id": "b0fccceb"
      },
      "source": [
        "На основании диапазонов, указанных ниже, создадим в датафрейме `data` столбец `total_income_category` с категориями:\n",
        "\n",
        "- 0–30000 — `'E'`\n",
        "- 30001–50000 — `'D'`\n",
        "- 50001–200000 — `'C'`\n",
        "- 200001–1000000 — `'B'`\n",
        "- 1000001 и выше — `'A'`"
      ]
    },
    {
      "cell_type": "code",
      "execution_count": 18,
      "id": "492901c6",
      "metadata": {
        "deletable": false,
        "id": "492901c6"
      },
      "outputs": [],
      "source": [
        "def categorize_income(income):\n",
        "    try:\n",
        "        if 0 <= income <= 30000:\n",
        "            return 'E'\n",
        "        elif 30001 <= income <= 50000:\n",
        "            return 'D'\n",
        "        elif 50001 <= income <= 200000:\n",
        "            return 'C'\n",
        "        elif 200001 <= income <= 1000000:\n",
        "            return 'B'\n",
        "        elif income >= 1000001:\n",
        "            return 'A'\n",
        "    except:\n",
        "        pass"
      ]
    },
    {
      "cell_type": "code",
      "execution_count": 19,
      "id": "20d42ac3",
      "metadata": {
        "colab": {
          "base_uri": "https://localhost:8080/"
        },
        "deletable": false,
        "id": "20d42ac3",
        "outputId": "5e885609-e61b-4985-8249-1f3e2343d788"
      },
      "outputs": [
        {
          "name": "stderr",
          "output_type": "stream",
          "text": [
            "<ipython-input-19-0bc713f3049f>:1: SettingWithCopyWarning: \n",
            "A value is trying to be set on a copy of a slice from a DataFrame.\n",
            "Try using .loc[row_indexer,col_indexer] = value instead\n",
            "\n",
            "See the caveats in the documentation: https://pandas.pydata.org/pandas-docs/stable/user_guide/indexing.html#returning-a-view-versus-a-copy\n",
            "  data['total_income_category'] = data['total_income'].apply(categorize_income)\n"
          ]
        }
      ],
      "source": [
        "data['total_income_category'] = data['total_income'].apply(categorize_income)"
      ]
    },
    {
      "cell_type": "markdown",
      "id": "668b8172",
      "metadata": {
        "deletable": false,
        "editable": false,
        "id": "668b8172"
      },
      "source": [
        "Перечень уникальных целей взятия кредита из столбца `purpose`:"
      ]
    },
    {
      "cell_type": "code",
      "execution_count": 20,
      "id": "00ef0f3b",
      "metadata": {
        "colab": {
          "base_uri": "https://localhost:8080/"
        },
        "deletable": false,
        "id": "00ef0f3b",
        "outputId": "c7452007-7beb-48d3-ebe8-3331ac3650e7"
      },
      "outputs": [
        {
          "data": {
            "text/plain": [
              "array(['покупка жилья', 'приобретение автомобиля',\n",
              "       'дополнительное образование', 'сыграть свадьбу',\n",
              "       'операции с жильем', 'образование', 'на проведение свадьбы',\n",
              "       'покупка жилья для семьи', 'покупка недвижимости',\n",
              "       'покупка коммерческой недвижимости', 'покупка жилой недвижимости',\n",
              "       'строительство собственной недвижимости', 'недвижимость',\n",
              "       'строительство недвижимости', 'на покупку подержанного автомобиля',\n",
              "       'на покупку своего автомобиля',\n",
              "       'операции с коммерческой недвижимостью',\n",
              "       'строительство жилой недвижимости', 'жилье',\n",
              "       'операции со своей недвижимостью', 'автомобили',\n",
              "       'заняться образованием', 'сделка с подержанным автомобилем',\n",
              "       'получение образования', 'автомобиль', 'свадьба',\n",
              "       'получение дополнительного образования', 'покупка своего жилья',\n",
              "       'операции с недвижимостью', 'получение высшего образования',\n",
              "       'свой автомобиль', 'сделка с автомобилем',\n",
              "       'профильное образование', 'высшее образование',\n",
              "       'покупка жилья для сдачи', 'на покупку автомобиля', 'ремонт жилью',\n",
              "       'заняться высшим образованием'], dtype=object)"
            ]
          },
          "execution_count": 20,
          "metadata": {},
          "output_type": "execute_result"
        }
      ],
      "source": [
        "data['purpose'].unique()"
      ]
    },
    {
      "cell_type": "markdown",
      "id": "e8c4f4a1",
      "metadata": {
        "deletable": false,
        "editable": false,
        "id": "e8c4f4a1"
      },
      "source": [
        "На основании данных из столбца `purpose` сформируем новый столбец `purpose_category`, в который войдут следующие категории:\n",
        "\n",
        "- `'операции с автомобилем'`\n",
        "- `'операции с недвижимостью'`\n",
        "- `'проведение свадьбы'`\n",
        "- `'получение образования'`"
      ]
    },
    {
      "cell_type": "code",
      "execution_count": 21,
      "id": "dcdb0a48",
      "metadata": {
        "deletable": false,
        "id": "dcdb0a48"
      },
      "outputs": [],
      "source": [
        "def categorize_purpose(row):\n",
        "    try:\n",
        "        if 'автом' in row:\n",
        "            return 'операции с автомобилем'\n",
        "        elif 'жил' in row or 'недвиж' in row:\n",
        "            return 'операции с недвижимостью'\n",
        "        elif 'свад' in row:\n",
        "            return 'проведение свадьбы'\n",
        "        elif 'образов' in row:\n",
        "            return 'получение образования'\n",
        "    except:\n",
        "        return 'нет категории'"
      ]
    },
    {
      "cell_type": "code",
      "execution_count": 22,
      "id": "2faa03f3",
      "metadata": {
        "colab": {
          "base_uri": "https://localhost:8080/"
        },
        "deletable": false,
        "id": "2faa03f3",
        "outputId": "eed0116a-477d-4fe3-d018-bac2db59c8f6"
      },
      "outputs": [
        {
          "name": "stderr",
          "output_type": "stream",
          "text": [
            "<ipython-input-22-ecf9d79505dd>:1: SettingWithCopyWarning: \n",
            "A value is trying to be set on a copy of a slice from a DataFrame.\n",
            "Try using .loc[row_indexer,col_indexer] = value instead\n",
            "\n",
            "See the caveats in the documentation: https://pandas.pydata.org/pandas-docs/stable/user_guide/indexing.html#returning-a-view-versus-a-copy\n",
            "  data['purpose_category'] = data['purpose'].apply(categorize_purpose)\n"
          ]
        }
      ],
      "source": [
        "data['purpose_category'] = data['purpose'].apply(categorize_purpose)"
      ]
    },
    {
      "cell_type": "markdown",
      "id": "d9e18e61",
      "metadata": {
        "deletable": false,
        "editable": false,
        "id": "d9e18e61"
      },
      "source": [
        "## Исследование данных и ответьты на вопросы"
      ]
    },
    {
      "cell_type": "code",
      "execution_count": 23,
      "id": "5e9adbfd",
      "metadata": {
        "id": "5e9adbfd"
      },
      "outputs": [],
      "source": [
        "# Функция для построения сводных таблиц, под конкретную задачу\n",
        "\n",
        "def my_pivot_table(category: str, category_name: str, sort: bool = False) -> pd.DataFrame:\n",
        "    try:\n",
        "        dframe = [data.groupby(category)['debt'].agg(['count', 'sum', 'mean']),\n",
        "                  data.groupby(category)['debt'].agg(['count', 'sum', 'mean']).sort_values(by='mean', ascending=False)][sort]\n",
        "\n",
        "        dframe.index.rename(category_name, inplace=True)\n",
        "        dframe.columns = ['Всего кредитополучателей', 'Всего должников', 'Доля должников (%)']\n",
        "        dframe ['Доля должников (%)'] = (dframe ['Доля должников (%)'] * 100).map('{:.2f}'.format).astype(float)\n",
        "        return dframe\n",
        "\n",
        "    except:\n",
        "        return 'Ошибка'"
      ]
    },
    {
      "cell_type": "code",
      "execution_count": 24,
      "id": "-Q1xcWZQJmgx",
      "metadata": {
        "id": "-Q1xcWZQJmgx"
      },
      "outputs": [],
      "source": [
        "# Функция для построения графиков, под конкретную задачу\n",
        "def my_barplot(data: pd.DataFrame, title: str, barh: bool = False) -> None:\n",
        "    try:\n",
        "        x = data.index\n",
        "        y = \"Доля должников (%)\"\n",
        "\n",
        "        if barh == True:\n",
        "            x, y = y, x\n",
        "\n",
        "        plt.figure(figsize=(10, 4))\n",
        "        sns_plot = sns.barplot(data=data,\n",
        "                               x=x,\n",
        "                               y=y,\n",
        "                               hue=y,\n",
        "                               legend=False,\n",
        "                               palette=\"deep\",\n",
        "                               width=0.95\n",
        "                               )\n",
        "\n",
        "        sns_plot.set_title(title, fontsize=14)\n",
        "        plt.show()\n",
        "\n",
        "    except:\n",
        "        return 'Ошибка'"
      ]
    },
    {
      "cell_type": "markdown",
      "id": "2dc412c9",
      "metadata": {
        "deletable": false,
        "editable": false,
        "id": "2dc412c9"
      },
      "source": [
        "**Есть ли зависимость между количеством детей и возвратом кредита в срок?**"
      ]
    },
    {
      "cell_type": "code",
      "execution_count": 25,
      "id": "fe6092db",
      "metadata": {
        "colab": {
          "base_uri": "https://localhost:8080/",
          "height": 269
        },
        "deletable": false,
        "id": "fe6092db",
        "outputId": "a5cdd346-09f0-48dc-e6ff-399b06841861"
      },
      "outputs": [
        {
          "data": {
            "application/vnd.google.colaboratory.intrinsic+json": {
              "summary": "{\n  \"name\": \"children_debt\",\n  \"rows\": 6,\n  \"fields\": [\n    {\n      \"column\": \"\\u041a\\u043e\\u043b\\u0438\\u0447\\u0435\\u0441\\u0442\\u0432\\u043e \\u0434\\u0435\\u0442\\u0435\\u0439\",\n      \"properties\": {\n        \"dtype\": \"number\",\n        \"std\": 1,\n        \"min\": 0,\n        \"max\": 5,\n        \"num_unique_values\": 6,\n        \"samples\": [\n          0,\n          1,\n          5\n        ],\n        \"semantic_type\": \"\",\n        \"description\": \"\"\n      }\n    },\n    {\n      \"column\": \"\\u0412\\u0441\\u0435\\u0433\\u043e \\u043a\\u0440\\u0435\\u0434\\u0438\\u0442\\u043e\\u043f\\u043e\\u043b\\u0443\\u0447\\u0430\\u0442\\u0435\\u043b\\u0435\\u0439\",\n      \"properties\": {\n        \"dtype\": \"number\",\n        \"std\": 5480,\n        \"min\": 9,\n        \"max\": 14091,\n        \"num_unique_values\": 6,\n        \"samples\": [\n          14091,\n          4808,\n          9\n        ],\n        \"semantic_type\": \"\",\n        \"description\": \"\"\n      }\n    },\n    {\n      \"column\": \"\\u0412\\u0441\\u0435\\u0433\\u043e \\u0434\\u043e\\u043b\\u0436\\u043d\\u0438\\u043a\\u043e\\u0432\",\n      \"properties\": {\n        \"dtype\": \"number\",\n        \"std\": 416,\n        \"min\": 0,\n        \"max\": 1063,\n        \"num_unique_values\": 6,\n        \"samples\": [\n          1063,\n          444,\n          0\n        ],\n        \"semantic_type\": \"\",\n        \"description\": \"\"\n      }\n    },\n    {\n      \"column\": \"\\u0414\\u043e\\u043b\\u044f \\u0434\\u043e\\u043b\\u0436\\u043d\\u0438\\u043a\\u043e\\u0432 (%)\",\n      \"properties\": {\n        \"dtype\": \"number\",\n        \"std\": 3.701334894332043,\n        \"min\": 0.0,\n        \"max\": 9.76,\n        \"num_unique_values\": 6,\n        \"samples\": [\n          7.54,\n          9.23,\n          0.0\n        ],\n        \"semantic_type\": \"\",\n        \"description\": \"\"\n      }\n    }\n  ]\n}",
              "type": "dataframe",
              "variable_name": "children_debt"
            },
            "text/html": [
              "\n",
              "  <div id=\"df-9d8c5498-f838-414e-b531-c113b492c011\" class=\"colab-df-container\">\n",
              "    <div>\n",
              "<style scoped>\n",
              "    .dataframe tbody tr th:only-of-type {\n",
              "        vertical-align: middle;\n",
              "    }\n",
              "\n",
              "    .dataframe tbody tr th {\n",
              "        vertical-align: top;\n",
              "    }\n",
              "\n",
              "    .dataframe thead th {\n",
              "        text-align: right;\n",
              "    }\n",
              "</style>\n",
              "<table border=\"1\" class=\"dataframe\">\n",
              "  <thead>\n",
              "    <tr style=\"text-align: right;\">\n",
              "      <th></th>\n",
              "      <th>Всего кредитополучателей</th>\n",
              "      <th>Всего должников</th>\n",
              "      <th>Доля должников (%)</th>\n",
              "    </tr>\n",
              "    <tr>\n",
              "      <th>Количество детей</th>\n",
              "      <th></th>\n",
              "      <th></th>\n",
              "      <th></th>\n",
              "    </tr>\n",
              "  </thead>\n",
              "  <tbody>\n",
              "    <tr>\n",
              "      <th>0</th>\n",
              "      <td>14091</td>\n",
              "      <td>1063</td>\n",
              "      <td>7.54</td>\n",
              "    </tr>\n",
              "    <tr>\n",
              "      <th>1</th>\n",
              "      <td>4808</td>\n",
              "      <td>444</td>\n",
              "      <td>9.23</td>\n",
              "    </tr>\n",
              "    <tr>\n",
              "      <th>2</th>\n",
              "      <td>2052</td>\n",
              "      <td>194</td>\n",
              "      <td>9.45</td>\n",
              "    </tr>\n",
              "    <tr>\n",
              "      <th>3</th>\n",
              "      <td>330</td>\n",
              "      <td>27</td>\n",
              "      <td>8.18</td>\n",
              "    </tr>\n",
              "    <tr>\n",
              "      <th>4</th>\n",
              "      <td>41</td>\n",
              "      <td>4</td>\n",
              "      <td>9.76</td>\n",
              "    </tr>\n",
              "    <tr>\n",
              "      <th>5</th>\n",
              "      <td>9</td>\n",
              "      <td>0</td>\n",
              "      <td>0.00</td>\n",
              "    </tr>\n",
              "  </tbody>\n",
              "</table>\n",
              "</div>\n",
              "    <div class=\"colab-df-buttons\">\n",
              "\n",
              "  <div class=\"colab-df-container\">\n",
              "    <button class=\"colab-df-convert\" onclick=\"convertToInteractive('df-9d8c5498-f838-414e-b531-c113b492c011')\"\n",
              "            title=\"Convert this dataframe to an interactive table.\"\n",
              "            style=\"display:none;\">\n",
              "\n",
              "  <svg xmlns=\"http://www.w3.org/2000/svg\" height=\"24px\" viewBox=\"0 -960 960 960\">\n",
              "    <path d=\"M120-120v-720h720v720H120Zm60-500h600v-160H180v160Zm220 220h160v-160H400v160Zm0 220h160v-160H400v160ZM180-400h160v-160H180v160Zm440 0h160v-160H620v160ZM180-180h160v-160H180v160Zm440 0h160v-160H620v160Z\"/>\n",
              "  </svg>\n",
              "    </button>\n",
              "\n",
              "  <style>\n",
              "    .colab-df-container {\n",
              "      display:flex;\n",
              "      gap: 12px;\n",
              "    }\n",
              "\n",
              "    .colab-df-convert {\n",
              "      background-color: #E8F0FE;\n",
              "      border: none;\n",
              "      border-radius: 50%;\n",
              "      cursor: pointer;\n",
              "      display: none;\n",
              "      fill: #1967D2;\n",
              "      height: 32px;\n",
              "      padding: 0 0 0 0;\n",
              "      width: 32px;\n",
              "    }\n",
              "\n",
              "    .colab-df-convert:hover {\n",
              "      background-color: #E2EBFA;\n",
              "      box-shadow: 0px 1px 2px rgba(60, 64, 67, 0.3), 0px 1px 3px 1px rgba(60, 64, 67, 0.15);\n",
              "      fill: #174EA6;\n",
              "    }\n",
              "\n",
              "    .colab-df-buttons div {\n",
              "      margin-bottom: 4px;\n",
              "    }\n",
              "\n",
              "    [theme=dark] .colab-df-convert {\n",
              "      background-color: #3B4455;\n",
              "      fill: #D2E3FC;\n",
              "    }\n",
              "\n",
              "    [theme=dark] .colab-df-convert:hover {\n",
              "      background-color: #434B5C;\n",
              "      box-shadow: 0px 1px 3px 1px rgba(0, 0, 0, 0.15);\n",
              "      filter: drop-shadow(0px 1px 2px rgba(0, 0, 0, 0.3));\n",
              "      fill: #FFFFFF;\n",
              "    }\n",
              "  </style>\n",
              "\n",
              "    <script>\n",
              "      const buttonEl =\n",
              "        document.querySelector('#df-9d8c5498-f838-414e-b531-c113b492c011 button.colab-df-convert');\n",
              "      buttonEl.style.display =\n",
              "        google.colab.kernel.accessAllowed ? 'block' : 'none';\n",
              "\n",
              "      async function convertToInteractive(key) {\n",
              "        const element = document.querySelector('#df-9d8c5498-f838-414e-b531-c113b492c011');\n",
              "        const dataTable =\n",
              "          await google.colab.kernel.invokeFunction('convertToInteractive',\n",
              "                                                    [key], {});\n",
              "        if (!dataTable) return;\n",
              "\n",
              "        const docLinkHtml = 'Like what you see? Visit the ' +\n",
              "          '<a target=\"_blank\" href=https://colab.research.google.com/notebooks/data_table.ipynb>data table notebook</a>'\n",
              "          + ' to learn more about interactive tables.';\n",
              "        element.innerHTML = '';\n",
              "        dataTable['output_type'] = 'display_data';\n",
              "        await google.colab.output.renderOutput(dataTable, element);\n",
              "        const docLink = document.createElement('div');\n",
              "        docLink.innerHTML = docLinkHtml;\n",
              "        element.appendChild(docLink);\n",
              "      }\n",
              "    </script>\n",
              "  </div>\n",
              "\n",
              "\n",
              "<div id=\"df-b1914ee7-d9fc-45ed-9e1a-e5f1996187f0\">\n",
              "  <button class=\"colab-df-quickchart\" onclick=\"quickchart('df-b1914ee7-d9fc-45ed-9e1a-e5f1996187f0')\"\n",
              "            title=\"Suggest charts\"\n",
              "            style=\"display:none;\">\n",
              "\n",
              "<svg xmlns=\"http://www.w3.org/2000/svg\" height=\"24px\"viewBox=\"0 0 24 24\"\n",
              "     width=\"24px\">\n",
              "    <g>\n",
              "        <path d=\"M19 3H5c-1.1 0-2 .9-2 2v14c0 1.1.9 2 2 2h14c1.1 0 2-.9 2-2V5c0-1.1-.9-2-2-2zM9 17H7v-7h2v7zm4 0h-2V7h2v10zm4 0h-2v-4h2v4z\"/>\n",
              "    </g>\n",
              "</svg>\n",
              "  </button>\n",
              "\n",
              "<style>\n",
              "  .colab-df-quickchart {\n",
              "      --bg-color: #E8F0FE;\n",
              "      --fill-color: #1967D2;\n",
              "      --hover-bg-color: #E2EBFA;\n",
              "      --hover-fill-color: #174EA6;\n",
              "      --disabled-fill-color: #AAA;\n",
              "      --disabled-bg-color: #DDD;\n",
              "  }\n",
              "\n",
              "  [theme=dark] .colab-df-quickchart {\n",
              "      --bg-color: #3B4455;\n",
              "      --fill-color: #D2E3FC;\n",
              "      --hover-bg-color: #434B5C;\n",
              "      --hover-fill-color: #FFFFFF;\n",
              "      --disabled-bg-color: #3B4455;\n",
              "      --disabled-fill-color: #666;\n",
              "  }\n",
              "\n",
              "  .colab-df-quickchart {\n",
              "    background-color: var(--bg-color);\n",
              "    border: none;\n",
              "    border-radius: 50%;\n",
              "    cursor: pointer;\n",
              "    display: none;\n",
              "    fill: var(--fill-color);\n",
              "    height: 32px;\n",
              "    padding: 0;\n",
              "    width: 32px;\n",
              "  }\n",
              "\n",
              "  .colab-df-quickchart:hover {\n",
              "    background-color: var(--hover-bg-color);\n",
              "    box-shadow: 0 1px 2px rgba(60, 64, 67, 0.3), 0 1px 3px 1px rgba(60, 64, 67, 0.15);\n",
              "    fill: var(--button-hover-fill-color);\n",
              "  }\n",
              "\n",
              "  .colab-df-quickchart-complete:disabled,\n",
              "  .colab-df-quickchart-complete:disabled:hover {\n",
              "    background-color: var(--disabled-bg-color);\n",
              "    fill: var(--disabled-fill-color);\n",
              "    box-shadow: none;\n",
              "  }\n",
              "\n",
              "  .colab-df-spinner {\n",
              "    border: 2px solid var(--fill-color);\n",
              "    border-color: transparent;\n",
              "    border-bottom-color: var(--fill-color);\n",
              "    animation:\n",
              "      spin 1s steps(1) infinite;\n",
              "  }\n",
              "\n",
              "  @keyframes spin {\n",
              "    0% {\n",
              "      border-color: transparent;\n",
              "      border-bottom-color: var(--fill-color);\n",
              "      border-left-color: var(--fill-color);\n",
              "    }\n",
              "    20% {\n",
              "      border-color: transparent;\n",
              "      border-left-color: var(--fill-color);\n",
              "      border-top-color: var(--fill-color);\n",
              "    }\n",
              "    30% {\n",
              "      border-color: transparent;\n",
              "      border-left-color: var(--fill-color);\n",
              "      border-top-color: var(--fill-color);\n",
              "      border-right-color: var(--fill-color);\n",
              "    }\n",
              "    40% {\n",
              "      border-color: transparent;\n",
              "      border-right-color: var(--fill-color);\n",
              "      border-top-color: var(--fill-color);\n",
              "    }\n",
              "    60% {\n",
              "      border-color: transparent;\n",
              "      border-right-color: var(--fill-color);\n",
              "    }\n",
              "    80% {\n",
              "      border-color: transparent;\n",
              "      border-right-color: var(--fill-color);\n",
              "      border-bottom-color: var(--fill-color);\n",
              "    }\n",
              "    90% {\n",
              "      border-color: transparent;\n",
              "      border-bottom-color: var(--fill-color);\n",
              "    }\n",
              "  }\n",
              "</style>\n",
              "\n",
              "  <script>\n",
              "    async function quickchart(key) {\n",
              "      const quickchartButtonEl =\n",
              "        document.querySelector('#' + key + ' button');\n",
              "      quickchartButtonEl.disabled = true;  // To prevent multiple clicks.\n",
              "      quickchartButtonEl.classList.add('colab-df-spinner');\n",
              "      try {\n",
              "        const charts = await google.colab.kernel.invokeFunction(\n",
              "            'suggestCharts', [key], {});\n",
              "      } catch (error) {\n",
              "        console.error('Error during call to suggestCharts:', error);\n",
              "      }\n",
              "      quickchartButtonEl.classList.remove('colab-df-spinner');\n",
              "      quickchartButtonEl.classList.add('colab-df-quickchart-complete');\n",
              "    }\n",
              "    (() => {\n",
              "      let quickchartButtonEl =\n",
              "        document.querySelector('#df-b1914ee7-d9fc-45ed-9e1a-e5f1996187f0 button');\n",
              "      quickchartButtonEl.style.display =\n",
              "        google.colab.kernel.accessAllowed ? 'block' : 'none';\n",
              "    })();\n",
              "  </script>\n",
              "</div>\n",
              "    </div>\n",
              "  </div>\n"
            ],
            "text/plain": [
              "                  Всего кредитополучателей  Всего должников  \\\n",
              "Количество детей                                              \n",
              "0                                    14091             1063   \n",
              "1                                     4808              444   \n",
              "2                                     2052              194   \n",
              "3                                      330               27   \n",
              "4                                       41                4   \n",
              "5                                        9                0   \n",
              "\n",
              "                  Доля должников (%)  \n",
              "Количество детей                      \n",
              "0                               7.54  \n",
              "1                               9.23  \n",
              "2                               9.45  \n",
              "3                               8.18  \n",
              "4                               9.76  \n",
              "5                               0.00  "
            ]
          },
          "execution_count": 25,
          "metadata": {},
          "output_type": "execute_result"
        }
      ],
      "source": [
        "children_debt = my_pivot_table('children', 'Количество детей')\n",
        "children_debt"
      ]
    },
    {
      "cell_type": "code",
      "execution_count": 26,
      "id": "4Nj1Qg8qR2j8",
      "metadata": {
        "colab": {
          "base_uri": "https://localhost:8080/",
          "height": 411
        },
        "id": "4Nj1Qg8qR2j8",
        "outputId": "09adfa15-9c45-43e7-c49b-7edfd9325688"
      },
      "outputs": [
        {
          "data": {
            "image/png": "[encoded data removed]",
            "text/plain": [
              "<Figure size 1000x400 with 1 Axes>"
            ]
          },
          "metadata": {},
          "output_type": "display_data"
        }
      ],
      "source": [
        "my_barplot(children_debt, \"Зависимость между количеством детей и задолжностью\")"
      ]
    },
    {
      "cell_type": "markdown",
      "id": "728a9483",
      "metadata": {
        "deletable": false,
        "id": "728a9483"
      },
      "source": [
        "**Вывод:** Можно выделить следующие зависимости между количеством детей и возвратом кредита в срок:\n",
        "1. Клиенты не имеющие детей являются самыми надежными, задолжность по кредиту на 1-2% меньше чем у клиентов с детьми.\n",
        "2. Среди всех клиентов имеющих детей, клиенты с 3 детьми являются самыми платежеспособными (на 1-1,5% среди всех клиентов с детьми).\n",
        "3. Количество детей не сильно влияет на возможность возврата кредита в срок, среди клиентов с одним, думя и четыремя детьми -  разница не существенна, в районе 0,5%.\n",
        "4. Клиенты с 5 детьми имеют 0% задолжности, однако выборка слишком маленькая (9 человек), чтобы делать надежные выводы по данной категории."
      ]
    },
    {
      "cell_type": "markdown",
      "id": "3765c2da",
      "metadata": {
        "deletable": false,
        "editable": false,
        "id": "3765c2da"
      },
      "source": [
        "**Есть ли зависимость между семейным положением и возвратом кредита в срок?**"
      ]
    },
    {
      "cell_type": "code",
      "execution_count": 27,
      "id": "d70295d2",
      "metadata": {
        "colab": {
          "base_uri": "https://localhost:8080/",
          "height": 237
        },
        "deletable": false,
        "id": "d70295d2",
        "outputId": "a2088106-850b-4fd4-ec2c-a4c9a0ef70da",
        "scrolled": false
      },
      "outputs": [
        {
          "data": {
            "application/vnd.google.colaboratory.intrinsic+json": {
              "summary": "{\n  \"name\": \"family_debt\",\n  \"rows\": 5,\n  \"fields\": [\n    {\n      \"column\": \"\\u0421\\u0435\\u043c\\u0435\\u0439\\u043d\\u044b\\u0439 \\u0441\\u0442\\u0430\\u0442\\u0443\\u0441\",\n      \"properties\": {\n        \"dtype\": \"string\",\n        \"num_unique_values\": 5,\n        \"samples\": [\n          \"\\u0433\\u0440\\u0430\\u0436\\u0434\\u0430\\u043d\\u0441\\u043a\\u0438\\u0439 \\u0431\\u0440\\u0430\\u043a\",\n          \"\\u0432\\u0434\\u043e\\u0432\\u0435\\u0446 / \\u0432\\u0434\\u043e\\u0432\\u0430\",\n          \"\\u0436\\u0435\\u043d\\u0430\\u0442 / \\u0437\\u0430\\u043c\\u0443\\u0436\\u0435\\u043c\"\n        ],\n        \"semantic_type\": \"\",\n        \"description\": \"\"\n      }\n    },\n    {\n      \"column\": \"\\u0412\\u0441\\u0435\\u0433\\u043e \\u043a\\u0440\\u0435\\u0434\\u0438\\u0442\\u043e\\u043f\\u043e\\u043b\\u0443\\u0447\\u0430\\u0442\\u0435\\u043b\\u0435\\u0439\",\n      \"properties\": {\n        \"dtype\": \"number\",\n        \"std\": 4651,\n        \"min\": 951,\n        \"max\": 12261,\n        \"num_unique_values\": 5,\n        \"samples\": [\n          4134,\n          951,\n          12261\n        ],\n        \"semantic_type\": \"\",\n        \"description\": \"\"\n      }\n    },\n    {\n      \"column\": \"\\u0412\\u0441\\u0435\\u0433\\u043e \\u0434\\u043e\\u043b\\u0436\\u043d\\u0438\\u043a\\u043e\\u0432\",\n      \"properties\": {\n        \"dtype\": \"number\",\n        \"std\": 351,\n        \"min\": 63,\n        \"max\": 927,\n        \"num_unique_values\": 5,\n        \"samples\": [\n          385,\n          63,\n          927\n        ],\n        \"semantic_type\": \"\",\n        \"description\": \"\"\n      }\n    },\n    {\n      \"column\": \"\\u0414\\u043e\\u043b\\u044f \\u0434\\u043e\\u043b\\u0436\\u043d\\u0438\\u043a\\u043e\\u0432 (%)\",\n      \"properties\": {\n        \"dtype\": \"number\",\n        \"std\": 1.394281176807605,\n        \"min\": 6.62,\n        \"max\": 9.76,\n        \"num_unique_values\": 5,\n        \"samples\": [\n          9.31,\n          6.62,\n          7.56\n        ],\n        \"semantic_type\": \"\",\n        \"description\": \"\"\n      }\n    }\n  ]\n}",
              "type": "dataframe",
              "variable_name": "family_debt"
            },
            "text/html": [
              "\n",
              "  <div id=\"df-f07d848e-1562-4425-ae12-08a18ae92f01\" class=\"colab-df-container\">\n",
              "    <div>\n",
              "<style scoped>\n",
              "    .dataframe tbody tr th:only-of-type {\n",
              "        vertical-align: middle;\n",
              "    }\n",
              "\n",
              "    .dataframe tbody tr th {\n",
              "        vertical-align: top;\n",
              "    }\n",
              "\n",
              "    .dataframe thead th {\n",
              "        text-align: right;\n",
              "    }\n",
              "</style>\n",
              "<table border=\"1\" class=\"dataframe\">\n",
              "  <thead>\n",
              "    <tr style=\"text-align: right;\">\n",
              "      <th></th>\n",
              "      <th>Всего кредитополучателей</th>\n",
              "      <th>Всего должников</th>\n",
              "      <th>Доля должников (%)</th>\n",
              "    </tr>\n",
              "    <tr>\n",
              "      <th>Семейный статус</th>\n",
              "      <th></th>\n",
              "      <th></th>\n",
              "      <th></th>\n",
              "    </tr>\n",
              "  </thead>\n",
              "  <tbody>\n",
              "    <tr>\n",
              "      <th>Не женат / не замужем</th>\n",
              "      <td>2796</td>\n",
              "      <td>273</td>\n",
              "      <td>9.76</td>\n",
              "    </tr>\n",
              "    <tr>\n",
              "      <th>гражданский брак</th>\n",
              "      <td>4134</td>\n",
              "      <td>385</td>\n",
              "      <td>9.31</td>\n",
              "    </tr>\n",
              "    <tr>\n",
              "      <th>женат / замужем</th>\n",
              "      <td>12261</td>\n",
              "      <td>927</td>\n",
              "      <td>7.56</td>\n",
              "    </tr>\n",
              "    <tr>\n",
              "      <th>в разводе</th>\n",
              "      <td>1189</td>\n",
              "      <td>84</td>\n",
              "      <td>7.06</td>\n",
              "    </tr>\n",
              "    <tr>\n",
              "      <th>вдовец / вдова</th>\n",
              "      <td>951</td>\n",
              "      <td>63</td>\n",
              "      <td>6.62</td>\n",
              "    </tr>\n",
              "  </tbody>\n",
              "</table>\n",
              "</div>\n",
              "    <div class=\"colab-df-buttons\">\n",
              "\n",
              "  <div class=\"colab-df-container\">\n",
              "    <button class=\"colab-df-convert\" onclick=\"convertToInteractive('df-f07d848e-1562-4425-ae12-08a18ae92f01')\"\n",
              "            title=\"Convert this dataframe to an interactive table.\"\n",
              "            style=\"display:none;\">\n",
              "\n",
              "  <svg xmlns=\"http://www.w3.org/2000/svg\" height=\"24px\" viewBox=\"0 -960 960 960\">\n",
              "    <path d=\"M120-120v-720h720v720H120Zm60-500h600v-160H180v160Zm220 220h160v-160H400v160Zm0 220h160v-160H400v160ZM180-400h160v-160H180v160Zm440 0h160v-160H620v160ZM180-180h160v-160H180v160Zm440 0h160v-160H620v160Z\"/>\n",
              "  </svg>\n",
              "    </button>\n",
              "\n",
              "  <style>\n",
              "    .colab-df-container {\n",
              "      display:flex;\n",
              "      gap: 12px;\n",
              "    }\n",
              "\n",
              "    .colab-df-convert {\n",
              "      background-color: #E8F0FE;\n",
              "      border: none;\n",
              "      border-radius: 50%;\n",
              "      cursor: pointer;\n",
              "      display: none;\n",
              "      fill: #1967D2;\n",
              "      height: 32px;\n",
              "      padding: 0 0 0 0;\n",
              "      width: 32px;\n",
              "    }\n",
              "\n",
              "    .colab-df-convert:hover {\n",
              "      background-color: #E2EBFA;\n",
              "      box-shadow: 0px 1px 2px rgba(60, 64, 67, 0.3), 0px 1px 3px 1px rgba(60, 64, 67, 0.15);\n",
              "      fill: #174EA6;\n",
              "    }\n",
              "\n",
              "    .colab-df-buttons div {\n",
              "      margin-bottom: 4px;\n",
              "    }\n",
              "\n",
              "    [theme=dark] .colab-df-convert {\n",
              "      background-color: #3B4455;\n",
              "      fill: #D2E3FC;\n",
              "    }\n",
              "\n",
              "    [theme=dark] .colab-df-convert:hover {\n",
              "      background-color: #434B5C;\n",
              "      box-shadow: 0px 1px 3px 1px rgba(0, 0, 0, 0.15);\n",
              "      filter: drop-shadow(0px 1px 2px rgba(0, 0, 0, 0.3));\n",
              "      fill: #FFFFFF;\n",
              "    }\n",
              "  </style>\n",
              "\n",
              "    <script>\n",
              "      const buttonEl =\n",
              "        document.querySelector('#df-f07d848e-1562-4425-ae12-08a18ae92f01 button.colab-df-convert');\n",
              "      buttonEl.style.display =\n",
              "        google.colab.kernel.accessAllowed ? 'block' : 'none';\n",
              "\n",
              "      async function convertToInteractive(key) {\n",
              "        const element = document.querySelector('#df-f07d848e-1562-4425-ae12-08a18ae92f01');\n",
              "        const dataTable =\n",
              "          await google.colab.kernel.invokeFunction('convertToInteractive',\n",
              "                                                    [key], {});\n",
              "        if (!dataTable) return;\n",
              "\n",
              "        const docLinkHtml = 'Like what you see? Visit the ' +\n",
              "          '<a target=\"_blank\" href=https://colab.research.google.com/notebooks/data_table.ipynb>data table notebook</a>'\n",
              "          + ' to learn more about interactive tables.';\n",
              "        element.innerHTML = '';\n",
              "        dataTable['output_type'] = 'display_data';\n",
              "        await google.colab.output.renderOutput(dataTable, element);\n",
              "        const docLink = document.createElement('div');\n",
              "        docLink.innerHTML = docLinkHtml;\n",
              "        element.appendChild(docLink);\n",
              "      }\n",
              "    </script>\n",
              "  </div>\n",
              "\n",
              "\n",
              "<div id=\"df-2739e8b9-c081-4305-8312-cc72b55a60fe\">\n",
              "  <button class=\"colab-df-quickchart\" onclick=\"quickchart('df-2739e8b9-c081-4305-8312-cc72b55a60fe')\"\n",
              "            title=\"Suggest charts\"\n",
              "            style=\"display:none;\">\n",
              "\n",
              "<svg xmlns=\"http://www.w3.org/2000/svg\" height=\"24px\"viewBox=\"0 0 24 24\"\n",
              "     width=\"24px\">\n",
              "    <g>\n",
              "        <path d=\"M19 3H5c-1.1 0-2 .9-2 2v14c0 1.1.9 2 2 2h14c1.1 0 2-.9 2-2V5c0-1.1-.9-2-2-2zM9 17H7v-7h2v7zm4 0h-2V7h2v10zm4 0h-2v-4h2v4z\"/>\n",
              "    </g>\n",
              "</svg>\n",
              "  </button>\n",
              "\n",
              "<style>\n",
              "  .colab-df-quickchart {\n",
              "      --bg-color: #E8F0FE;\n",
              "      --fill-color: #1967D2;\n",
              "      --hover-bg-color: #E2EBFA;\n",
              "      --hover-fill-color: #174EA6;\n",
              "      --disabled-fill-color: #AAA;\n",
              "      --disabled-bg-color: #DDD;\n",
              "  }\n",
              "\n",
              "  [theme=dark] .colab-df-quickchart {\n",
              "      --bg-color: #3B4455;\n",
              "      --fill-color: #D2E3FC;\n",
              "      --hover-bg-color: #434B5C;\n",
              "      --hover-fill-color: #FFFFFF;\n",
              "      --disabled-bg-color: #3B4455;\n",
              "      --disabled-fill-color: #666;\n",
              "  }\n",
              "\n",
              "  .colab-df-quickchart {\n",
              "    background-color: var(--bg-color);\n",
              "    border: none;\n",
              "    border-radius: 50%;\n",
              "    cursor: pointer;\n",
              "    display: none;\n",
              "    fill: var(--fill-color);\n",
              "    height: 32px;\n",
              "    padding: 0;\n",
              "    width: 32px;\n",
              "  }\n",
              "\n",
              "  .colab-df-quickchart:hover {\n",
              "    background-color: var(--hover-bg-color);\n",
              "    box-shadow: 0 1px 2px rgba(60, 64, 67, 0.3), 0 1px 3px 1px rgba(60, 64, 67, 0.15);\n",
              "    fill: var(--button-hover-fill-color);\n",
              "  }\n",
              "\n",
              "  .colab-df-quickchart-complete:disabled,\n",
              "  .colab-df-quickchart-complete:disabled:hover {\n",
              "    background-color: var(--disabled-bg-color);\n",
              "    fill: var(--disabled-fill-color);\n",
              "    box-shadow: none;\n",
              "  }\n",
              "\n",
              "  .colab-df-spinner {\n",
              "    border: 2px solid var(--fill-color);\n",
              "    border-color: transparent;\n",
              "    border-bottom-color: var(--fill-color);\n",
              "    animation:\n",
              "      spin 1s steps(1) infinite;\n",
              "  }\n",
              "\n",
              "  @keyframes spin {\n",
              "    0% {\n",
              "      border-color: transparent;\n",
              "      border-bottom-color: var(--fill-color);\n",
              "      border-left-color: var(--fill-color);\n",
              "    }\n",
              "    20% {\n",
              "      border-color: transparent;\n",
              "      border-left-color: var(--fill-color);\n",
              "      border-top-color: var(--fill-color);\n",
              "    }\n",
              "    30% {\n",
              "      border-color: transparent;\n",
              "      border-left-color: var(--fill-color);\n",
              "      border-top-color: var(--fill-color);\n",
              "      border-right-color: var(--fill-color);\n",
              "    }\n",
              "    40% {\n",
              "      border-color: transparent;\n",
              "      border-right-color: var(--fill-color);\n",
              "      border-top-color: var(--fill-color);\n",
              "    }\n",
              "    60% {\n",
              "      border-color: transparent;\n",
              "      border-right-color: var(--fill-color);\n",
              "    }\n",
              "    80% {\n",
              "      border-color: transparent;\n",
              "      border-right-color: var(--fill-color);\n",
              "      border-bottom-color: var(--fill-color);\n",
              "    }\n",
              "    90% {\n",
              "      border-color: transparent;\n",
              "      border-bottom-color: var(--fill-color);\n",
              "    }\n",
              "  }\n",
              "</style>\n",
              "\n",
              "  <script>\n",
              "    async function quickchart(key) {\n",
              "      const quickchartButtonEl =\n",
              "        document.querySelector('#' + key + ' button');\n",
              "      quickchartButtonEl.disabled = true;  // To prevent multiple clicks.\n",
              "      quickchartButtonEl.classList.add('colab-df-spinner');\n",
              "      try {\n",
              "        const charts = await google.colab.kernel.invokeFunction(\n",
              "            'suggestCharts', [key], {});\n",
              "      } catch (error) {\n",
              "        console.error('Error during call to suggestCharts:', error);\n",
              "      }\n",
              "      quickchartButtonEl.classList.remove('colab-df-spinner');\n",
              "      quickchartButtonEl.classList.add('colab-df-quickchart-complete');\n",
              "    }\n",
              "    (() => {\n",
              "      let quickchartButtonEl =\n",
              "        document.querySelector('#df-2739e8b9-c081-4305-8312-cc72b55a60fe button');\n",
              "      quickchartButtonEl.style.display =\n",
              "        google.colab.kernel.accessAllowed ? 'block' : 'none';\n",
              "    })();\n",
              "  </script>\n",
              "</div>\n",
              "    </div>\n",
              "  </div>\n"
            ],
            "text/plain": [
              "                       Всего кредитополучателей  Всего должников  \\\n",
              "Семейный статус                                                    \n",
              "Не женат / не замужем                      2796              273   \n",
              "гражданский брак                           4134              385   \n",
              "женат / замужем                           12261              927   \n",
              "в разводе                                  1189               84   \n",
              "вдовец / вдова                              951               63   \n",
              "\n",
              "                       Доля должников (%)  \n",
              "Семейный статус                            \n",
              "Не женат / не замужем                9.76  \n",
              "гражданский брак                     9.31  \n",
              "женат / замужем                      7.56  \n",
              "в разводе                            7.06  \n",
              "вдовец / вдова                       6.62  "
            ]
          },
          "execution_count": 27,
          "metadata": {},
          "output_type": "execute_result"
        }
      ],
      "source": [
        "family_debt = my_pivot_table('family_status', 'Семейный статус', sort=True)\n",
        "family_debt"
      ]
    },
    {
      "cell_type": "code",
      "execution_count": 28,
      "id": "tzLOvJPGSG1n",
      "metadata": {
        "colab": {
          "base_uri": "https://localhost:8080/",
          "height": 373
        },
        "id": "tzLOvJPGSG1n",
        "outputId": "35ca4a22-da05-4f72-b964-261bf5413542"
      },
      "outputs": [
        {
          "data": {
            "image/png": "[encoded data removed]",
            "text/plain": [
              "<Figure size 1000x400 with 1 Axes>"
            ]
          },
          "metadata": {},
          "output_type": "display_data"
        }
      ],
      "source": [
        "my_barplot(family_debt,\n",
        "           \"Зависимость между семейным положением и задолжностью\",\n",
        "           barh=True)"
      ]
    },
    {
      "cell_type": "markdown",
      "id": "30c0fc6a",
      "metadata": {
        "deletable": false,
        "id": "30c0fc6a"
      },
      "source": [
        "**Вывод:** Семейное положение значитиельно влияет на возврат кредита в срок:\n",
        "1. Самая низкая платежеспособность наблюдается у клиентов в категориях \"Не женат / не замужем\" и \"гражданский брак\", процент задоложности 9,79% и 9,31%, соответственно, что существенно (приблизительно на 2%) больше чем у остальных категорий.\n",
        "2. Самыми платежеспособными являются клиенты в категории \"вдовец / вдова\" с задолжностью в 6,62%, за ним, с небольшим отрывом идут клиенты в разводе - 7,06% и клиенты состоящие в браке - 7,56%. Разница между данными категориями меньше 1%.\n",
        "3. Две (см. пункт №1) из пяти категории особенно сильно выделяются по платежеспособности и имеют общий признак, так что можно попробовать выделить две более общие категории:\n",
        "    - Клиенты состоящие, либо состоявшие в официальном браке (средний уровень задолжности в 7.08%)\n",
        "    - Клиенты не состоявшие в официальном браке (средний уровень задолжности в 9.53%)"
      ]
    },
    {
      "cell_type": "markdown",
      "id": "24152b37",
      "metadata": {
        "deletable": false,
        "editable": false,
        "id": "24152b37"
      },
      "source": [
        "**Есть ли зависимость между уровнем дохода и возвратом кредита в срок?**"
      ]
    },
    {
      "cell_type": "code",
      "execution_count": 29,
      "id": "5bed18f4",
      "metadata": {
        "colab": {
          "base_uri": "https://localhost:8080/",
          "height": 237
        },
        "deletable": false,
        "id": "5bed18f4",
        "outputId": "e6226d14-e9d0-40c7-96f0-c0513d3a2cfc",
        "scrolled": true
      },
      "outputs": [
        {
          "data": {
            "application/vnd.google.colaboratory.intrinsic+json": {
              "summary": "{\n  \"name\": \"income_debt\",\n  \"rows\": 5,\n  \"fields\": [\n    {\n      \"column\": \"\\u041a\\u0430\\u0442\\u0435\\u0433\\u043e\\u0440\\u0438\\u044f \\u0434\\u043e\\u0445\\u043e\\u0434\\u0430\",\n      \"properties\": {\n        \"dtype\": \"string\",\n        \"num_unique_values\": 5,\n        \"samples\": [\n          \"B\",\n          \"E\",\n          \"C\"\n        ],\n        \"semantic_type\": \"\",\n        \"description\": \"\"\n      }\n    },\n    {\n      \"column\": \"\\u0412\\u0441\\u0435\\u0433\\u043e \\u043a\\u0440\\u0435\\u0434\\u0438\\u0442\\u043e\\u043f\\u043e\\u043b\\u0443\\u0447\\u0430\\u0442\\u0435\\u043b\\u0435\\u0439\",\n      \"properties\": {\n        \"dtype\": \"number\",\n        \"std\": 6850,\n        \"min\": 22,\n        \"max\": 15921,\n        \"num_unique_values\": 5,\n        \"samples\": [\n          5014,\n          22,\n          15921\n        ],\n        \"semantic_type\": \"\",\n        \"description\": \"\"\n      }\n    },\n    {\n      \"column\": \"\\u0412\\u0441\\u0435\\u0433\\u043e \\u0434\\u043e\\u043b\\u0436\\u043d\\u0438\\u043a\\u043e\\u0432\",\n      \"properties\": {\n        \"dtype\": \"number\",\n        \"std\": 582,\n        \"min\": 2,\n        \"max\": 1353,\n        \"num_unique_values\": 4,\n        \"samples\": [\n          354,\n          21,\n          2\n        ],\n        \"semantic_type\": \"\",\n        \"description\": \"\"\n      }\n    },\n    {\n      \"column\": \"\\u0414\\u043e\\u043b\\u044f \\u0434\\u043e\\u043b\\u0436\\u043d\\u0438\\u043a\\u043e\\u0432 (%)\",\n      \"properties\": {\n        \"dtype\": \"number\",\n        \"std\": 1.2132930396239816,\n        \"min\": 6.02,\n        \"max\": 9.09,\n        \"num_unique_values\": 5,\n        \"samples\": [\n          7.06,\n          9.09,\n          8.5\n        ],\n        \"semantic_type\": \"\",\n        \"description\": \"\"\n      }\n    }\n  ]\n}",
              "type": "dataframe",
              "variable_name": "income_debt"
            },
            "text/html": [
              "\n",
              "  <div id=\"df-4456bf10-f76c-4df7-8a67-f4e684c1e101\" class=\"colab-df-container\">\n",
              "    <div>\n",
              "<style scoped>\n",
              "    .dataframe tbody tr th:only-of-type {\n",
              "        vertical-align: middle;\n",
              "    }\n",
              "\n",
              "    .dataframe tbody tr th {\n",
              "        vertical-align: top;\n",
              "    }\n",
              "\n",
              "    .dataframe thead th {\n",
              "        text-align: right;\n",
              "    }\n",
              "</style>\n",
              "<table border=\"1\" class=\"dataframe\">\n",
              "  <thead>\n",
              "    <tr style=\"text-align: right;\">\n",
              "      <th></th>\n",
              "      <th>Всего кредитополучателей</th>\n",
              "      <th>Всего должников</th>\n",
              "      <th>Доля должников (%)</th>\n",
              "    </tr>\n",
              "    <tr>\n",
              "      <th>Категория дохода</th>\n",
              "      <th></th>\n",
              "      <th></th>\n",
              "      <th></th>\n",
              "    </tr>\n",
              "  </thead>\n",
              "  <tbody>\n",
              "    <tr>\n",
              "      <th>A</th>\n",
              "      <td>25</td>\n",
              "      <td>2</td>\n",
              "      <td>8.00</td>\n",
              "    </tr>\n",
              "    <tr>\n",
              "      <th>B</th>\n",
              "      <td>5014</td>\n",
              "      <td>354</td>\n",
              "      <td>7.06</td>\n",
              "    </tr>\n",
              "    <tr>\n",
              "      <th>C</th>\n",
              "      <td>15921</td>\n",
              "      <td>1353</td>\n",
              "      <td>8.50</td>\n",
              "    </tr>\n",
              "    <tr>\n",
              "      <th>D</th>\n",
              "      <td>349</td>\n",
              "      <td>21</td>\n",
              "      <td>6.02</td>\n",
              "    </tr>\n",
              "    <tr>\n",
              "      <th>E</th>\n",
              "      <td>22</td>\n",
              "      <td>2</td>\n",
              "      <td>9.09</td>\n",
              "    </tr>\n",
              "  </tbody>\n",
              "</table>\n",
              "</div>\n",
              "    <div class=\"colab-df-buttons\">\n",
              "\n",
              "  <div class=\"colab-df-container\">\n",
              "    <button class=\"colab-df-convert\" onclick=\"convertToInteractive('df-4456bf10-f76c-4df7-8a67-f4e684c1e101')\"\n",
              "            title=\"Convert this dataframe to an interactive table.\"\n",
              "            style=\"display:none;\">\n",
              "\n",
              "  <svg xmlns=\"http://www.w3.org/2000/svg\" height=\"24px\" viewBox=\"0 -960 960 960\">\n",
              "    <path d=\"M120-120v-720h720v720H120Zm60-500h600v-160H180v160Zm220 220h160v-160H400v160Zm0 220h160v-160H400v160ZM180-400h160v-160H180v160Zm440 0h160v-160H620v160ZM180-180h160v-160H180v160Zm440 0h160v-160H620v160Z\"/>\n",
              "  </svg>\n",
              "    </button>\n",
              "\n",
              "  <style>\n",
              "    .colab-df-container {\n",
              "      display:flex;\n",
              "      gap: 12px;\n",
              "    }\n",
              "\n",
              "    .colab-df-convert {\n",
              "      background-color: #E8F0FE;\n",
              "      border: none;\n",
              "      border-radius: 50%;\n",
              "      cursor: pointer;\n",
              "      display: none;\n",
              "      fill: #1967D2;\n",
              "      height: 32px;\n",
              "      padding: 0 0 0 0;\n",
              "      width: 32px;\n",
              "    }\n",
              "\n",
              "    .colab-df-convert:hover {\n",
              "      background-color: #E2EBFA;\n",
              "      box-shadow: 0px 1px 2px rgba(60, 64, 67, 0.3), 0px 1px 3px 1px rgba(60, 64, 67, 0.15);\n",
              "      fill: #174EA6;\n",
              "    }\n",
              "\n",
              "    .colab-df-buttons div {\n",
              "      margin-bottom: 4px;\n",
              "    }\n",
              "\n",
              "    [theme=dark] .colab-df-convert {\n",
              "      background-color: #3B4455;\n",
              "      fill: #D2E3FC;\n",
              "    }\n",
              "\n",
              "    [theme=dark] .colab-df-convert:hover {\n",
              "      background-color: #434B5C;\n",
              "      box-shadow: 0px 1px 3px 1px rgba(0, 0, 0, 0.15);\n",
              "      filter: drop-shadow(0px 1px 2px rgba(0, 0, 0, 0.3));\n",
              "      fill: #FFFFFF;\n",
              "    }\n",
              "  </style>\n",
              "\n",
              "    <script>\n",
              "      const buttonEl =\n",
              "        document.querySelector('#df-4456bf10-f76c-4df7-8a67-f4e684c1e101 button.colab-df-convert');\n",
              "      buttonEl.style.display =\n",
              "        google.colab.kernel.accessAllowed ? 'block' : 'none';\n",
              "\n",
              "      async function convertToInteractive(key) {\n",
              "        const element = document.querySelector('#df-4456bf10-f76c-4df7-8a67-f4e684c1e101');\n",
              "        const dataTable =\n",
              "          await google.colab.kernel.invokeFunction('convertToInteractive',\n",
              "                                                    [key], {});\n",
              "        if (!dataTable) return;\n",
              "\n",
              "        const docLinkHtml = 'Like what you see? Visit the ' +\n",
              "          '<a target=\"_blank\" href=https://colab.research.google.com/notebooks/data_table.ipynb>data table notebook</a>'\n",
              "          + ' to learn more about interactive tables.';\n",
              "        element.innerHTML = '';\n",
              "        dataTable['output_type'] = 'display_data';\n",
              "        await google.colab.output.renderOutput(dataTable, element);\n",
              "        const docLink = document.createElement('div');\n",
              "        docLink.innerHTML = docLinkHtml;\n",
              "        element.appendChild(docLink);\n",
              "      }\n",
              "    </script>\n",
              "  </div>\n",
              "\n",
              "\n",
              "<div id=\"df-96f214ab-9ba8-4736-a728-a0da57fa1c94\">\n",
              "  <button class=\"colab-df-quickchart\" onclick=\"quickchart('df-96f214ab-9ba8-4736-a728-a0da57fa1c94')\"\n",
              "            title=\"Suggest charts\"\n",
              "            style=\"display:none;\">\n",
              "\n",
              "<svg xmlns=\"http://www.w3.org/2000/svg\" height=\"24px\"viewBox=\"0 0 24 24\"\n",
              "     width=\"24px\">\n",
              "    <g>\n",
              "        <path d=\"M19 3H5c-1.1 0-2 .9-2 2v14c0 1.1.9 2 2 2h14c1.1 0 2-.9 2-2V5c0-1.1-.9-2-2-2zM9 17H7v-7h2v7zm4 0h-2V7h2v10zm4 0h-2v-4h2v4z\"/>\n",
              "    </g>\n",
              "</svg>\n",
              "  </button>\n",
              "\n",
              "<style>\n",
              "  .colab-df-quickchart {\n",
              "      --bg-color: #E8F0FE;\n",
              "      --fill-color: #1967D2;\n",
              "      --hover-bg-color: #E2EBFA;\n",
              "      --hover-fill-color: #174EA6;\n",
              "      --disabled-fill-color: #AAA;\n",
              "      --disabled-bg-color: #DDD;\n",
              "  }\n",
              "\n",
              "  [theme=dark] .colab-df-quickchart {\n",
              "      --bg-color: #3B4455;\n",
              "      --fill-color: #D2E3FC;\n",
              "      --hover-bg-color: #434B5C;\n",
              "      --hover-fill-color: #FFFFFF;\n",
              "      --disabled-bg-color: #3B4455;\n",
              "      --disabled-fill-color: #666;\n",
              "  }\n",
              "\n",
              "  .colab-df-quickchart {\n",
              "    background-color: var(--bg-color);\n",
              "    border: none;\n",
              "    border-radius: 50%;\n",
              "    cursor: pointer;\n",
              "    display: none;\n",
              "    fill: var(--fill-color);\n",
              "    height: 32px;\n",
              "    padding: 0;\n",
              "    width: 32px;\n",
              "  }\n",
              "\n",
              "  .colab-df-quickchart:hover {\n",
              "    background-color: var(--hover-bg-color);\n",
              "    box-shadow: 0 1px 2px rgba(60, 64, 67, 0.3), 0 1px 3px 1px rgba(60, 64, 67, 0.15);\n",
              "    fill: var(--button-hover-fill-color);\n",
              "  }\n",
              "\n",
              "  .colab-df-quickchart-complete:disabled,\n",
              "  .colab-df-quickchart-complete:disabled:hover {\n",
              "    background-color: var(--disabled-bg-color);\n",
              "    fill: var(--disabled-fill-color);\n",
              "    box-shadow: none;\n",
              "  }\n",
              "\n",
              "  .colab-df-spinner {\n",
              "    border: 2px solid var(--fill-color);\n",
              "    border-color: transparent;\n",
              "    border-bottom-color: var(--fill-color);\n",
              "    animation:\n",
              "      spin 1s steps(1) infinite;\n",
              "  }\n",
              "\n",
              "  @keyframes spin {\n",
              "    0% {\n",
              "      border-color: transparent;\n",
              "      border-bottom-color: var(--fill-color);\n",
              "      border-left-color: var(--fill-color);\n",
              "    }\n",
              "    20% {\n",
              "      border-color: transparent;\n",
              "      border-left-color: var(--fill-color);\n",
              "      border-top-color: var(--fill-color);\n",
              "    }\n",
              "    30% {\n",
              "      border-color: transparent;\n",
              "      border-left-color: var(--fill-color);\n",
              "      border-top-color: var(--fill-color);\n",
              "      border-right-color: var(--fill-color);\n",
              "    }\n",
              "    40% {\n",
              "      border-color: transparent;\n",
              "      border-right-color: var(--fill-color);\n",
              "      border-top-color: var(--fill-color);\n",
              "    }\n",
              "    60% {\n",
              "      border-color: transparent;\n",
              "      border-right-color: var(--fill-color);\n",
              "    }\n",
              "    80% {\n",
              "      border-color: transparent;\n",
              "      border-right-color: var(--fill-color);\n",
              "      border-bottom-color: var(--fill-color);\n",
              "    }\n",
              "    90% {\n",
              "      border-color: transparent;\n",
              "      border-bottom-color: var(--fill-color);\n",
              "    }\n",
              "  }\n",
              "</style>\n",
              "\n",
              "  <script>\n",
              "    async function quickchart(key) {\n",
              "      const quickchartButtonEl =\n",
              "        document.querySelector('#' + key + ' button');\n",
              "      quickchartButtonEl.disabled = true;  // To prevent multiple clicks.\n",
              "      quickchartButtonEl.classList.add('colab-df-spinner');\n",
              "      try {\n",
              "        const charts = await google.colab.kernel.invokeFunction(\n",
              "            'suggestCharts', [key], {});\n",
              "      } catch (error) {\n",
              "        console.error('Error during call to suggestCharts:', error);\n",
              "      }\n",
              "      quickchartButtonEl.classList.remove('colab-df-spinner');\n",
              "      quickchartButtonEl.classList.add('colab-df-quickchart-complete');\n",
              "    }\n",
              "    (() => {\n",
              "      let quickchartButtonEl =\n",
              "        document.querySelector('#df-96f214ab-9ba8-4736-a728-a0da57fa1c94 button');\n",
              "      quickchartButtonEl.style.display =\n",
              "        google.colab.kernel.accessAllowed ? 'block' : 'none';\n",
              "    })();\n",
              "  </script>\n",
              "</div>\n",
              "    </div>\n",
              "  </div>\n"
            ],
            "text/plain": [
              "                  Всего кредитополучателей  Всего должников  \\\n",
              "Категория дохода                                              \n",
              "A                                       25                2   \n",
              "B                                     5014              354   \n",
              "C                                    15921             1353   \n",
              "D                                      349               21   \n",
              "E                                       22                2   \n",
              "\n",
              "                  Доля должников (%)  \n",
              "Категория дохода                      \n",
              "A                               8.00  \n",
              "B                               7.06  \n",
              "C                               8.50  \n",
              "D                               6.02  \n",
              "E                               9.09  "
            ]
          },
          "execution_count": 29,
          "metadata": {},
          "output_type": "execute_result"
        }
      ],
      "source": [
        "income_debt = my_pivot_table('total_income_category', 'Категория дохода')\n",
        "income_debt"
      ]
    },
    {
      "cell_type": "code",
      "execution_count": 30,
      "id": "hJzngVvkUuhj",
      "metadata": {
        "colab": {
          "base_uri": "https://localhost:8080/",
          "height": 411
        },
        "id": "hJzngVvkUuhj",
        "outputId": "32b7a139-599b-4c03-b155-a6412ccf90a5"
      },
      "outputs": [
        {
          "data": {
            "image/png": "[encoded data removed]",
            "text/plain": [
              "<Figure size 1000x400 with 1 Axes>"
            ]
          },
          "metadata": {},
          "output_type": "display_data"
        }
      ],
      "source": [
        "my_barplot(income_debt, \"Зависимость между уровнем дохода и задолжностью\")"
      ]
    },
    {
      "cell_type": "markdown",
      "id": "f2b09792",
      "metadata": {
        "id": "f2b09792"
      },
      "source": [
        "**Категории доходов клиентов:**\n",
        "- `'A'` — 1000001 и выше\n",
        "- `'B'` — 200001–1000000\n",
        "- `'C'` — 50001–200000\n",
        "- `'D'` — 30001–50000\n",
        "- `'E'` — 0–30000"
      ]
    },
    {
      "cell_type": "markdown",
      "id": "85777af7",
      "metadata": {
        "deletable": false,
        "id": "85777af7"
      },
      "source": [
        "**Вывод:**\n",
        "В категориях `'A'` и `'E'` слишком маленькая выборка, чтобы делать надежные выводы, данные категории не будут учтены в результатах иследования.\n",
        "1. Отличие уровня платежеспособности по кредиту от уровня дохода значительно, до 2,5% в зависимости от категории, однако нет четкой зависимости платежеспособности клиентов с **ростом** их дохода.\n",
        "2. Самый маленький процент просрочки наблюдается у самой \"бедной\" категории клиентов - `'D'` (6,02%).\n",
        "3. Процент просрочки по платежам у \"средней\" категории `'C'`, самый большой (8,5%)."
      ]
    },
    {
      "cell_type": "markdown",
      "id": "4ca19716",
      "metadata": {
        "deletable": false,
        "editable": false,
        "id": "4ca19716"
      },
      "source": [
        "**Как разные цели кредита влияют на его возврат в срок?**"
      ]
    },
    {
      "cell_type": "code",
      "execution_count": 31,
      "id": "8bdda6ea",
      "metadata": {
        "colab": {
          "base_uri": "https://localhost:8080/",
          "height": 206
        },
        "deletable": false,
        "id": "8bdda6ea",
        "outputId": "8f2d1aef-8189-43b2-b171-58a9aaf94758"
      },
      "outputs": [
        {
          "data": {
            "application/vnd.google.colaboratory.intrinsic+json": {
              "summary": "{\n  \"name\": \"purpose_debt\",\n  \"rows\": 4,\n  \"fields\": [\n    {\n      \"column\": \"\\u0426\\u0435\\u043b\\u044c \\u043a\\u0440\\u0435\\u0434\\u0438\\u0442\\u0430\",\n      \"properties\": {\n        \"dtype\": \"string\",\n        \"num_unique_values\": 4,\n        \"samples\": [\n          \"\\u043f\\u043e\\u043b\\u0443\\u0447\\u0435\\u043d\\u0438\\u0435 \\u043e\\u0431\\u0440\\u0430\\u0437\\u043e\\u0432\\u0430\\u043d\\u0438\\u044f\",\n          \"\\u043e\\u043f\\u0435\\u0440\\u0430\\u0446\\u0438\\u0438 \\u0441 \\u043d\\u0435\\u0434\\u0432\\u0438\\u0436\\u0438\\u043c\\u043e\\u0441\\u0442\\u044c\\u044e\",\n          \"\\u043e\\u043f\\u0435\\u0440\\u0430\\u0446\\u0438\\u0438 \\u0441 \\u0430\\u0432\\u0442\\u043e\\u043c\\u043e\\u0431\\u0438\\u043b\\u0435\\u043c\"\n        ],\n        \"semantic_type\": \"\",\n        \"description\": \"\"\n      }\n    },\n    {\n      \"column\": \"\\u0412\\u0441\\u0435\\u0433\\u043e \\u043a\\u0440\\u0435\\u0434\\u0438\\u0442\\u043e\\u043f\\u043e\\u043b\\u0443\\u0447\\u0430\\u0442\\u0435\\u043b\\u0435\\u0439\",\n      \"properties\": {\n        \"dtype\": \"number\",\n        \"std\": 3714,\n        \"min\": 2313,\n        \"max\": 10751,\n        \"num_unique_values\": 4,\n        \"samples\": [\n          3988,\n          10751,\n          4279\n        ],\n        \"semantic_type\": \"\",\n        \"description\": \"\"\n      }\n    },\n    {\n      \"column\": \"\\u0412\\u0441\\u0435\\u0433\\u043e \\u0434\\u043e\\u043b\\u0436\\u043d\\u0438\\u043a\\u043e\\u0432\",\n      \"properties\": {\n        \"dtype\": \"number\",\n        \"std\": 250,\n        \"min\": 183,\n        \"max\": 780,\n        \"num_unique_values\": 4,\n        \"samples\": [\n          369,\n          780,\n          400\n        ],\n        \"semantic_type\": \"\",\n        \"description\": \"\"\n      }\n    },\n    {\n      \"column\": \"\\u0414\\u043e\\u043b\\u044f \\u0434\\u043e\\u043b\\u0436\\u043d\\u0438\\u043a\\u043e\\u0432 (%)\",\n      \"properties\": {\n        \"dtype\": \"number\",\n        \"std\": 1.0259101650079634,\n        \"min\": 7.26,\n        \"max\": 9.35,\n        \"num_unique_values\": 4,\n        \"samples\": [\n          9.25,\n          7.26,\n          9.35\n        ],\n        \"semantic_type\": \"\",\n        \"description\": \"\"\n      }\n    }\n  ]\n}",
              "type": "dataframe",
              "variable_name": "purpose_debt"
            },
            "text/html": [
              "\n",
              "  <div id=\"df-01663e8c-c57a-48b6-b34f-7e53e60a6075\" class=\"colab-df-container\">\n",
              "    <div>\n",
              "<style scoped>\n",
              "    .dataframe tbody tr th:only-of-type {\n",
              "        vertical-align: middle;\n",
              "    }\n",
              "\n",
              "    .dataframe tbody tr th {\n",
              "        vertical-align: top;\n",
              "    }\n",
              "\n",
              "    .dataframe thead th {\n",
              "        text-align: right;\n",
              "    }\n",
              "</style>\n",
              "<table border=\"1\" class=\"dataframe\">\n",
              "  <thead>\n",
              "    <tr style=\"text-align: right;\">\n",
              "      <th></th>\n",
              "      <th>Всего кредитополучателей</th>\n",
              "      <th>Всего должников</th>\n",
              "      <th>Доля должников (%)</th>\n",
              "    </tr>\n",
              "    <tr>\n",
              "      <th>Цель кредита</th>\n",
              "      <th></th>\n",
              "      <th></th>\n",
              "      <th></th>\n",
              "    </tr>\n",
              "  </thead>\n",
              "  <tbody>\n",
              "    <tr>\n",
              "      <th>операции с автомобилем</th>\n",
              "      <td>4279</td>\n",
              "      <td>400</td>\n",
              "      <td>9.35</td>\n",
              "    </tr>\n",
              "    <tr>\n",
              "      <th>получение образования</th>\n",
              "      <td>3988</td>\n",
              "      <td>369</td>\n",
              "      <td>9.25</td>\n",
              "    </tr>\n",
              "    <tr>\n",
              "      <th>проведение свадьбы</th>\n",
              "      <td>2313</td>\n",
              "      <td>183</td>\n",
              "      <td>7.91</td>\n",
              "    </tr>\n",
              "    <tr>\n",
              "      <th>операции с недвижимостью</th>\n",
              "      <td>10751</td>\n",
              "      <td>780</td>\n",
              "      <td>7.26</td>\n",
              "    </tr>\n",
              "  </tbody>\n",
              "</table>\n",
              "</div>\n",
              "    <div class=\"colab-df-buttons\">\n",
              "\n",
              "  <div class=\"colab-df-container\">\n",
              "    <button class=\"colab-df-convert\" onclick=\"convertToInteractive('df-01663e8c-c57a-48b6-b34f-7e53e60a6075')\"\n",
              "            title=\"Convert this dataframe to an interactive table.\"\n",
              "            style=\"display:none;\">\n",
              "\n",
              "  <svg xmlns=\"http://www.w3.org/2000/svg\" height=\"24px\" viewBox=\"0 -960 960 960\">\n",
              "    <path d=\"M120-120v-720h720v720H120Zm60-500h600v-160H180v160Zm220 220h160v-160H400v160Zm0 220h160v-160H400v160ZM180-400h160v-160H180v160Zm440 0h160v-160H620v160ZM180-180h160v-160H180v160Zm440 0h160v-160H620v160Z\"/>\n",
              "  </svg>\n",
              "    </button>\n",
              "\n",
              "  <style>\n",
              "    .colab-df-container {\n",
              "      display:flex;\n",
              "      gap: 12px;\n",
              "    }\n",
              "\n",
              "    .colab-df-convert {\n",
              "      background-color: #E8F0FE;\n",
              "      border: none;\n",
              "      border-radius: 50%;\n",
              "      cursor: pointer;\n",
              "      display: none;\n",
              "      fill: #1967D2;\n",
              "      height: 32px;\n",
              "      padding: 0 0 0 0;\n",
              "      width: 32px;\n",
              "    }\n",
              "\n",
              "    .colab-df-convert:hover {\n",
              "      background-color: #E2EBFA;\n",
              "      box-shadow: 0px 1px 2px rgba(60, 64, 67, 0.3), 0px 1px 3px 1px rgba(60, 64, 67, 0.15);\n",
              "      fill: #174EA6;\n",
              "    }\n",
              "\n",
              "    .colab-df-buttons div {\n",
              "      margin-bottom: 4px;\n",
              "    }\n",
              "\n",
              "    [theme=dark] .colab-df-convert {\n",
              "      background-color: #3B4455;\n",
              "      fill: #D2E3FC;\n",
              "    }\n",
              "\n",
              "    [theme=dark] .colab-df-convert:hover {\n",
              "      background-color: #434B5C;\n",
              "      box-shadow: 0px 1px 3px 1px rgba(0, 0, 0, 0.15);\n",
              "      filter: drop-shadow(0px 1px 2px rgba(0, 0, 0, 0.3));\n",
              "      fill: #FFFFFF;\n",
              "    }\n",
              "  </style>\n",
              "\n",
              "    <script>\n",
              "      const buttonEl =\n",
              "        document.querySelector('#df-01663e8c-c57a-48b6-b34f-7e53e60a6075 button.colab-df-convert');\n",
              "      buttonEl.style.display =\n",
              "        google.colab.kernel.accessAllowed ? 'block' : 'none';\n",
              "\n",
              "      async function convertToInteractive(key) {\n",
              "        const element = document.querySelector('#df-01663e8c-c57a-48b6-b34f-7e53e60a6075');\n",
              "        const dataTable =\n",
              "          await google.colab.kernel.invokeFunction('convertToInteractive',\n",
              "                                                    [key], {});\n",
              "        if (!dataTable) return;\n",
              "\n",
              "        const docLinkHtml = 'Like what you see? Visit the ' +\n",
              "          '<a target=\"_blank\" href=https://colab.research.google.com/notebooks/data_table.ipynb>data table notebook</a>'\n",
              "          + ' to learn more about interactive tables.';\n",
              "        element.innerHTML = '';\n",
              "        dataTable['output_type'] = 'display_data';\n",
              "        await google.colab.output.renderOutput(dataTable, element);\n",
              "        const docLink = document.createElement('div');\n",
              "        docLink.innerHTML = docLinkHtml;\n",
              "        element.appendChild(docLink);\n",
              "      }\n",
              "    </script>\n",
              "  </div>\n",
              "\n",
              "\n",
              "<div id=\"df-a24577f3-66df-487f-9f23-2f08ea4c2c01\">\n",
              "  <button class=\"colab-df-quickchart\" onclick=\"quickchart('df-a24577f3-66df-487f-9f23-2f08ea4c2c01')\"\n",
              "            title=\"Suggest charts\"\n",
              "            style=\"display:none;\">\n",
              "\n",
              "<svg xmlns=\"http://www.w3.org/2000/svg\" height=\"24px\"viewBox=\"0 0 24 24\"\n",
              "     width=\"24px\">\n",
              "    <g>\n",
              "        <path d=\"M19 3H5c-1.1 0-2 .9-2 2v14c0 1.1.9 2 2 2h14c1.1 0 2-.9 2-2V5c0-1.1-.9-2-2-2zM9 17H7v-7h2v7zm4 0h-2V7h2v10zm4 0h-2v-4h2v4z\"/>\n",
              "    </g>\n",
              "</svg>\n",
              "  </button>\n",
              "\n",
              "<style>\n",
              "  .colab-df-quickchart {\n",
              "      --bg-color: #E8F0FE;\n",
              "      --fill-color: #1967D2;\n",
              "      --hover-bg-color: #E2EBFA;\n",
              "      --hover-fill-color: #174EA6;\n",
              "      --disabled-fill-color: #AAA;\n",
              "      --disabled-bg-color: #DDD;\n",
              "  }\n",
              "\n",
              "  [theme=dark] .colab-df-quickchart {\n",
              "      --bg-color: #3B4455;\n",
              "      --fill-color: #D2E3FC;\n",
              "      --hover-bg-color: #434B5C;\n",
              "      --hover-fill-color: #FFFFFF;\n",
              "      --disabled-bg-color: #3B4455;\n",
              "      --disabled-fill-color: #666;\n",
              "  }\n",
              "\n",
              "  .colab-df-quickchart {\n",
              "    background-color: var(--bg-color);\n",
              "    border: none;\n",
              "    border-radius: 50%;\n",
              "    cursor: pointer;\n",
              "    display: none;\n",
              "    fill: var(--fill-color);\n",
              "    height: 32px;\n",
              "    padding: 0;\n",
              "    width: 32px;\n",
              "  }\n",
              "\n",
              "  .colab-df-quickchart:hover {\n",
              "    background-color: var(--hover-bg-color);\n",
              "    box-shadow: 0 1px 2px rgba(60, 64, 67, 0.3), 0 1px 3px 1px rgba(60, 64, 67, 0.15);\n",
              "    fill: var(--button-hover-fill-color);\n",
              "  }\n",
              "\n",
              "  .colab-df-quickchart-complete:disabled,\n",
              "  .colab-df-quickchart-complete:disabled:hover {\n",
              "    background-color: var(--disabled-bg-color);\n",
              "    fill: var(--disabled-fill-color);\n",
              "    box-shadow: none;\n",
              "  }\n",
              "\n",
              "  .colab-df-spinner {\n",
              "    border: 2px solid var(--fill-color);\n",
              "    border-color: transparent;\n",
              "    border-bottom-color: var(--fill-color);\n",
              "    animation:\n",
              "      spin 1s steps(1) infinite;\n",
              "  }\n",
              "\n",
              "  @keyframes spin {\n",
              "    0% {\n",
              "      border-color: transparent;\n",
              "      border-bottom-color: var(--fill-color);\n",
              "      border-left-color: var(--fill-color);\n",
              "    }\n",
              "    20% {\n",
              "      border-color: transparent;\n",
              "      border-left-color: var(--fill-color);\n",
              "      border-top-color: var(--fill-color);\n",
              "    }\n",
              "    30% {\n",
              "      border-color: transparent;\n",
              "      border-left-color: var(--fill-color);\n",
              "      border-top-color: var(--fill-color);\n",
              "      border-right-color: var(--fill-color);\n",
              "    }\n",
              "    40% {\n",
              "      border-color: transparent;\n",
              "      border-right-color: var(--fill-color);\n",
              "      border-top-color: var(--fill-color);\n",
              "    }\n",
              "    60% {\n",
              "      border-color: transparent;\n",
              "      border-right-color: var(--fill-color);\n",
              "    }\n",
              "    80% {\n",
              "      border-color: transparent;\n",
              "      border-right-color: var(--fill-color);\n",
              "      border-bottom-color: var(--fill-color);\n",
              "    }\n",
              "    90% {\n",
              "      border-color: transparent;\n",
              "      border-bottom-color: var(--fill-color);\n",
              "    }\n",
              "  }\n",
              "</style>\n",
              "\n",
              "  <script>\n",
              "    async function quickchart(key) {\n",
              "      const quickchartButtonEl =\n",
              "        document.querySelector('#' + key + ' button');\n",
              "      quickchartButtonEl.disabled = true;  // To prevent multiple clicks.\n",
              "      quickchartButtonEl.classList.add('colab-df-spinner');\n",
              "      try {\n",
              "        const charts = await google.colab.kernel.invokeFunction(\n",
              "            'suggestCharts', [key], {});\n",
              "      } catch (error) {\n",
              "        console.error('Error during call to suggestCharts:', error);\n",
              "      }\n",
              "      quickchartButtonEl.classList.remove('colab-df-spinner');\n",
              "      quickchartButtonEl.classList.add('colab-df-quickchart-complete');\n",
              "    }\n",
              "    (() => {\n",
              "      let quickchartButtonEl =\n",
              "        document.querySelector('#df-a24577f3-66df-487f-9f23-2f08ea4c2c01 button');\n",
              "      quickchartButtonEl.style.display =\n",
              "        google.colab.kernel.accessAllowed ? 'block' : 'none';\n",
              "    })();\n",
              "  </script>\n",
              "</div>\n",
              "    </div>\n",
              "  </div>\n"
            ],
            "text/plain": [
              "                          Всего кредитополучателей  Всего должников  \\\n",
              "Цель кредита                                                          \n",
              "операции с автомобилем                        4279              400   \n",
              "получение образования                         3988              369   \n",
              "проведение свадьбы                            2313              183   \n",
              "операции с недвижимостью                     10751              780   \n",
              "\n",
              "                          Доля должников (%)  \n",
              "Цель кредита                                  \n",
              "операции с автомобилем                  9.35  \n",
              "получение образования                   9.25  \n",
              "проведение свадьбы                      7.91  \n",
              "операции с недвижимостью                7.26  "
            ]
          },
          "execution_count": 31,
          "metadata": {},
          "output_type": "execute_result"
        }
      ],
      "source": [
        "purpose_debt = my_pivot_table('purpose_category', 'Цель кредита', sort=True)\n",
        "purpose_debt"
      ]
    },
    {
      "cell_type": "code",
      "execution_count": 33,
      "id": "skpduZL9VZo8",
      "metadata": {
        "colab": {
          "base_uri": "https://localhost:8080/",
          "height": 360
        },
        "id": "skpduZL9VZo8",
        "outputId": "68adeed2-cc40-47c6-fd47-3066bb514235"
      },
      "outputs": [
        {
          "data": {
            "image/png": "[encoded data removed]",
            "text/plain": [
              "<Figure size 1000x400 with 1 Axes>"
            ]
          },
          "metadata": {},
          "output_type": "display_data"
        }
      ],
      "source": [
        "my_barplot(purpose_debt,\n",
        "           \"Зависимость между целью кредита и задолжностью\",\n",
        "           barh=True)"
      ]
    },
    {
      "cell_type": "markdown",
      "id": "d8ba1096",
      "metadata": {
        "deletable": false,
        "id": "d8ba1096"
      },
      "source": [
        "**Вывод:**\n",
        "1. Кредиты на получение образования и операции с автомобилем сопостовимы по уровню просрочки (9,34% и 9,25% соостветственно) и сильно выбиваються по сравнерию с остальными категориями (на 1-1,5%).\n",
        "2. Чаще всего в срок возвращают кредит категории \"операции с недвижимостью\" - 7,25% просрочки и \"проведение свадьбы\" - 7,91% просрочки."
      ]
    },
    {
      "cell_type": "markdown",
      "id": "34f7404c",
      "metadata": {
        "deletable": false,
        "editable": false,
        "id": "34f7404c"
      },
      "source": [
        "**Какие возможные причины появления пропусков в исходных данных?**"
      ]
    },
    {
      "cell_type": "markdown",
      "id": "1cd6fe16",
      "metadata": {
        "deletable": false,
        "id": "1cd6fe16"
      },
      "source": [
        "**Ответ:**\n",
        "1. Необязательные к заполнению поля\n",
        "2. Человеческий фактор\n",
        "3. Ошибки при записи данных\n",
        "4. Баги в коде"
      ]
    },
    {
      "cell_type": "markdown",
      "id": "35d7297a",
      "metadata": {
        "deletable": false,
        "editable": false,
        "id": "35d7297a"
      },
      "source": [
        "**Почему заполнить пропуски медианным значением — лучшее решение для количественных переменных?**Ъ"
      ]
    },
    {
      "cell_type": "markdown",
      "id": "3aaf8794",
      "metadata": {
        "deletable": false,
        "id": "3aaf8794"
      },
      "source": [
        "**Ответ:**\n",
        "\n",
        "Количественным переменным свойственны \"выбросы\" — данные, которые имеют слишком высокое или низкое значение по сравнению с другими данными и сильно могут влиять на объективность иследования. Например, зарплата одного сотрудника маленькой компании, которая на порядок выше чем у остальных сотрудников, может очень сильно исказить средний показатель, что скажется на объективности данных по зарплате в данной компании.   "
      ]
    },
    {
      "cell_type": "markdown",
      "id": "c1b7eaa8",
      "metadata": {
        "deletable": false,
        "editable": false,
        "id": "c1b7eaa8"
      },
      "source": [
        "## Общий вывод"
      ]
    },
    {
      "cell_type": "markdown",
      "id": "8c359c0e",
      "metadata": {
        "deletable": false,
        "id": "8c359c0e"
      },
      "source": [
        "Сильнее всего на возможность возврата кредита в срок влияют (по убыванию, по разнице между категориями):\n",
        "1. Семейное положение (3,14%)\n",
        "2. Уровень дохода (2,48%)\n",
        "3. Количество детей (2,21%)\n",
        "4. Цель кредита (2,09%)\n",
        "\n",
        "\"Идеальным\" клиентом для банка, исходя из вышеперечисленных вопросов мог бы стать:\n",
        "Вдовец / вдова, без детей, с уровнем дохода \"D\" (30001 - 50000), с кредитом на операции с недвижимостью.\n",
        "\n",
        "\"Не идеальным\" клиентом для банка, мог бы стать:\n",
        "Не женатый / не замужняя, с 4 детьми, с уровнем дохода \"C\" (50001 – 200000), с кредитом на операции с автомобилем."
      ]
    }
  ],
  "metadata": {
    "ExecuteTimeLog": [
      {
        "duration": 8,
        "start_time": "2024-01-05T16:56:20.172Z"
      },
      {
        "duration": 4,
        "start_time": "2024-01-05T16:56:25.241Z"
      },
      {
        "duration": 38,
        "start_time": "2024-01-05T16:58:03.740Z"
      },
      {
        "duration": 6,
        "start_time": "2024-01-05T16:58:10.947Z"
      },
      {
        "duration": 487,
        "start_time": "2024-01-05T16:58:19.782Z"
      },
      {
        "duration": 67,
        "start_time": "2024-01-05T16:58:22.652Z"
      },
      {
        "duration": 9,
        "start_time": "2024-01-05T16:58:32.308Z"
      },
      {
        "duration": 5,
        "start_time": "2024-01-05T16:58:40.708Z"
      },
      {
        "duration": 4,
        "start_time": "2024-01-05T16:59:17.445Z"
      },
      {
        "duration": 18,
        "start_time": "2024-01-05T16:59:23.625Z"
      },
      {
        "duration": 6,
        "start_time": "2024-01-05T16:59:40.456Z"
      },
      {
        "duration": 4,
        "start_time": "2024-01-05T17:00:01.516Z"
      },
      {
        "duration": 6,
        "start_time": "2024-01-05T17:00:43.397Z"
      },
      {
        "duration": 471,
        "start_time": "2024-01-05T17:01:03.763Z"
      },
      {
        "duration": 20,
        "start_time": "2024-01-05T17:01:04.236Z"
      },
      {
        "duration": 14,
        "start_time": "2024-01-05T17:01:04.257Z"
      },
      {
        "duration": 21,
        "start_time": "2024-01-05T17:01:04.274Z"
      },
      {
        "duration": 33,
        "start_time": "2024-01-05T17:01:04.297Z"
      },
      {
        "duration": 3,
        "start_time": "2024-01-05T17:01:04.332Z"
      },
      {
        "duration": 8,
        "start_time": "2024-01-05T17:01:04.337Z"
      },
      {
        "duration": 5,
        "start_time": "2024-01-05T17:01:04.346Z"
      },
      {
        "duration": 8,
        "start_time": "2024-01-05T17:01:04.352Z"
      },
      {
        "duration": 33,
        "start_time": "2024-01-05T17:01:04.362Z"
      },
      {
        "duration": 34,
        "start_time": "2024-01-05T17:01:04.397Z"
      },
      {
        "duration": 9,
        "start_time": "2024-01-05T17:01:04.433Z"
      },
      {
        "duration": 29,
        "start_time": "2024-01-05T17:01:04.443Z"
      },
      {
        "duration": 25,
        "start_time": "2024-01-05T17:01:04.473Z"
      },
      {
        "duration": 27,
        "start_time": "2024-01-05T17:01:04.500Z"
      },
      {
        "duration": 16,
        "start_time": "2024-01-05T17:01:04.528Z"
      },
      {
        "duration": 3,
        "start_time": "2024-01-05T17:01:04.545Z"
      },
      {
        "duration": 14,
        "start_time": "2024-01-05T17:01:04.550Z"
      },
      {
        "duration": 5,
        "start_time": "2024-01-05T17:01:04.566Z"
      },
      {
        "duration": 3,
        "start_time": "2024-01-05T17:01:04.592Z"
      },
      {
        "duration": 10,
        "start_time": "2024-01-05T17:01:04.596Z"
      },
      {
        "duration": 11,
        "start_time": "2024-01-05T17:01:04.607Z"
      },
      {
        "duration": 17,
        "start_time": "2024-01-05T17:01:04.619Z"
      },
      {
        "duration": 14,
        "start_time": "2024-01-05T17:01:04.637Z"
      },
      {
        "duration": 8,
        "start_time": "2024-01-05T17:01:04.653Z"
      },
      {
        "duration": 66,
        "start_time": "2024-01-05T17:01:53.315Z"
      },
      {
        "duration": 14,
        "start_time": "2024-01-05T17:01:59.481Z"
      },
      {
        "duration": 7,
        "start_time": "2024-01-05T17:02:04.415Z"
      },
      {
        "duration": 5,
        "start_time": "2024-01-05T17:04:37.930Z"
      },
      {
        "duration": 7,
        "start_time": "2024-01-05T17:06:33.344Z"
      },
      {
        "duration": 4,
        "start_time": "2024-01-05T17:07:14.326Z"
      },
      {
        "duration": 5,
        "start_time": "2024-01-05T17:07:21.676Z"
      },
      {
        "duration": 20,
        "start_time": "2024-01-05T17:08:04.922Z"
      },
      {
        "duration": 4,
        "start_time": "2024-01-05T17:08:11.636Z"
      },
      {
        "duration": 6,
        "start_time": "2024-01-05T17:08:18.782Z"
      },
      {
        "duration": 6,
        "start_time": "2024-01-05T17:08:30.003Z"
      },
      {
        "duration": 6,
        "start_time": "2024-01-05T17:09:13.444Z"
      },
      {
        "duration": 10,
        "start_time": "2024-01-05T17:10:41.857Z"
      },
      {
        "duration": 8,
        "start_time": "2024-01-05T17:10:48.682Z"
      },
      {
        "duration": 8,
        "start_time": "2024-01-05T17:14:20.145Z"
      },
      {
        "duration": 7,
        "start_time": "2024-01-05T17:14:26.490Z"
      },
      {
        "duration": 8,
        "start_time": "2024-01-05T17:14:44.656Z"
      },
      {
        "duration": 7,
        "start_time": "2024-01-05T17:15:03.286Z"
      },
      {
        "duration": 751,
        "start_time": "2024-01-05T17:18:01.837Z"
      },
      {
        "duration": 9,
        "start_time": "2024-01-05T17:18:13.433Z"
      },
      {
        "duration": 5,
        "start_time": "2024-01-05T17:18:47.176Z"
      },
      {
        "duration": 7,
        "start_time": "2024-01-05T17:18:55.329Z"
      },
      {
        "duration": 9,
        "start_time": "2024-01-05T17:19:52.902Z"
      },
      {
        "duration": 8,
        "start_time": "2024-01-05T17:20:10.947Z"
      },
      {
        "duration": 12,
        "start_time": "2024-01-05T17:20:29.442Z"
      },
      {
        "duration": 9,
        "start_time": "2024-01-05T17:20:45.462Z"
      },
      {
        "duration": 12,
        "start_time": "2024-01-05T17:20:59.368Z"
      },
      {
        "duration": 8,
        "start_time": "2024-01-05T17:21:05.052Z"
      },
      {
        "duration": 11,
        "start_time": "2024-01-05T17:21:11.218Z"
      },
      {
        "duration": 11,
        "start_time": "2024-01-05T17:22:59.312Z"
      },
      {
        "duration": 11,
        "start_time": "2024-01-05T17:23:09.992Z"
      },
      {
        "duration": 30,
        "start_time": "2024-01-05T17:23:42.708Z"
      },
      {
        "duration": 26,
        "start_time": "2024-01-05T17:24:00.694Z"
      },
      {
        "duration": 8,
        "start_time": "2024-01-05T17:24:15.754Z"
      },
      {
        "duration": 11,
        "start_time": "2024-01-05T17:24:30.964Z"
      },
      {
        "duration": 12,
        "start_time": "2024-01-05T17:25:46.778Z"
      },
      {
        "duration": 9,
        "start_time": "2024-01-05T17:25:56.362Z"
      },
      {
        "duration": 13,
        "start_time": "2024-01-05T17:26:16.958Z"
      },
      {
        "duration": 9,
        "start_time": "2024-01-05T17:26:23.648Z"
      },
      {
        "duration": 6,
        "start_time": "2024-01-05T17:26:47.949Z"
      },
      {
        "duration": 8,
        "start_time": "2024-01-05T17:28:29.428Z"
      },
      {
        "duration": 13,
        "start_time": "2024-01-05T17:28:47.158Z"
      },
      {
        "duration": 10,
        "start_time": "2024-01-05T17:37:12.675Z"
      },
      {
        "duration": 7,
        "start_time": "2024-01-05T17:37:31.185Z"
      },
      {
        "duration": 8,
        "start_time": "2024-01-05T17:37:39.075Z"
      },
      {
        "duration": 6,
        "start_time": "2024-01-05T17:37:48.856Z"
      },
      {
        "duration": 6,
        "start_time": "2024-01-05T17:38:02.828Z"
      },
      {
        "duration": 6,
        "start_time": "2024-01-05T17:38:06.443Z"
      },
      {
        "duration": 18,
        "start_time": "2024-01-05T17:38:11.791Z"
      },
      {
        "duration": 8,
        "start_time": "2024-01-05T17:38:15.256Z"
      },
      {
        "duration": 8,
        "start_time": "2024-01-05T17:38:28.967Z"
      },
      {
        "duration": 11,
        "start_time": "2024-01-05T17:40:45.202Z"
      },
      {
        "duration": 10,
        "start_time": "2024-01-05T17:40:51.036Z"
      },
      {
        "duration": 12,
        "start_time": "2024-01-05T17:41:26.408Z"
      },
      {
        "duration": 5,
        "start_time": "2024-01-05T17:42:24.220Z"
      },
      {
        "duration": 8,
        "start_time": "2024-01-05T17:42:27.924Z"
      },
      {
        "duration": 8,
        "start_time": "2024-01-05T17:42:38.515Z"
      },
      {
        "duration": 11,
        "start_time": "2024-01-05T17:42:54.971Z"
      },
      {
        "duration": 10,
        "start_time": "2024-01-05T17:43:01.705Z"
      },
      {
        "duration": 8,
        "start_time": "2024-01-05T17:44:31.679Z"
      },
      {
        "duration": 11,
        "start_time": "2024-01-05T17:45:28.682Z"
      },
      {
        "duration": 14,
        "start_time": "2024-01-05T17:49:24.909Z"
      },
      {
        "duration": 22,
        "start_time": "2024-01-05T17:50:11.141Z"
      },
      {
        "duration": 17,
        "start_time": "2024-01-05T17:50:18.926Z"
      },
      {
        "duration": 10,
        "start_time": "2024-01-05T17:50:22.856Z"
      },
      {
        "duration": 11,
        "start_time": "2024-01-05T17:50:36.625Z"
      },
      {
        "duration": 11,
        "start_time": "2024-01-05T17:52:04.830Z"
      },
      {
        "duration": 13,
        "start_time": "2024-01-05T17:53:26.357Z"
      },
      {
        "duration": 15,
        "start_time": "2024-01-05T17:57:38.426Z"
      },
      {
        "duration": 13,
        "start_time": "2024-01-05T17:57:41.845Z"
      },
      {
        "duration": 7,
        "start_time": "2024-01-05T17:57:49.646Z"
      },
      {
        "duration": 8,
        "start_time": "2024-01-05T17:58:01.452Z"
      },
      {
        "duration": 12,
        "start_time": "2024-01-05T17:58:26.038Z"
      },
      {
        "duration": 7,
        "start_time": "2024-01-05T17:58:48.223Z"
      },
      {
        "duration": 6,
        "start_time": "2024-01-05T18:03:19.582Z"
      },
      {
        "duration": 7,
        "start_time": "2024-01-05T18:03:21.637Z"
      },
      {
        "duration": 10,
        "start_time": "2024-01-05T18:03:24.457Z"
      },
      {
        "duration": 5,
        "start_time": "2024-01-05T18:03:47.034Z"
      },
      {
        "duration": 6,
        "start_time": "2024-01-05T18:03:58.779Z"
      },
      {
        "duration": 10,
        "start_time": "2024-01-05T18:04:01.149Z"
      },
      {
        "duration": 11,
        "start_time": "2024-01-05T18:04:52.735Z"
      },
      {
        "duration": 11,
        "start_time": "2024-01-05T18:05:12.072Z"
      },
      {
        "duration": 8,
        "start_time": "2024-01-05T18:05:18.446Z"
      },
      {
        "duration": 8,
        "start_time": "2024-01-05T18:05:31.077Z"
      },
      {
        "duration": 10,
        "start_time": "2024-01-05T18:05:57.688Z"
      },
      {
        "duration": 12,
        "start_time": "2024-01-05T18:07:29.417Z"
      },
      {
        "duration": 14,
        "start_time": "2024-01-05T18:08:39.559Z"
      },
      {
        "duration": 14,
        "start_time": "2024-01-05T18:08:56.014Z"
      },
      {
        "duration": 9,
        "start_time": "2024-01-05T18:10:13.492Z"
      },
      {
        "duration": 11,
        "start_time": "2024-01-05T18:10:21.967Z"
      },
      {
        "duration": 11,
        "start_time": "2024-01-05T18:10:45.908Z"
      },
      {
        "duration": 13,
        "start_time": "2024-01-05T18:11:04.224Z"
      },
      {
        "duration": 14,
        "start_time": "2024-01-05T18:11:17.754Z"
      },
      {
        "duration": 20,
        "start_time": "2024-01-05T18:12:19.332Z"
      },
      {
        "duration": 7,
        "start_time": "2024-01-06T10:27:21.608Z"
      },
      {
        "duration": 7,
        "start_time": "2024-01-06T10:27:33.414Z"
      },
      {
        "duration": 723,
        "start_time": "2024-01-06T10:27:41.316Z"
      },
      {
        "duration": 31,
        "start_time": "2024-01-06T10:27:42.041Z"
      },
      {
        "duration": 15,
        "start_time": "2024-01-06T10:27:42.074Z"
      },
      {
        "duration": 10,
        "start_time": "2024-01-06T10:27:42.092Z"
      },
      {
        "duration": 64,
        "start_time": "2024-01-06T10:27:42.104Z"
      },
      {
        "duration": 3,
        "start_time": "2024-01-06T10:27:42.169Z"
      },
      {
        "duration": 16,
        "start_time": "2024-01-06T10:27:42.174Z"
      },
      {
        "duration": 3,
        "start_time": "2024-01-06T10:27:42.192Z"
      },
      {
        "duration": 10,
        "start_time": "2024-01-06T10:27:42.197Z"
      },
      {
        "duration": 5,
        "start_time": "2024-01-06T10:27:42.209Z"
      },
      {
        "duration": 50,
        "start_time": "2024-01-06T10:27:42.215Z"
      },
      {
        "duration": 10,
        "start_time": "2024-01-06T10:27:42.267Z"
      },
      {
        "duration": 4,
        "start_time": "2024-01-06T10:27:42.278Z"
      },
      {
        "duration": 12,
        "start_time": "2024-01-06T10:27:42.283Z"
      },
      {
        "duration": 33,
        "start_time": "2024-01-06T10:27:42.296Z"
      },
      {
        "duration": 28,
        "start_time": "2024-01-06T10:27:42.330Z"
      },
      {
        "duration": 4,
        "start_time": "2024-01-06T10:27:42.360Z"
      },
      {
        "duration": 12,
        "start_time": "2024-01-06T10:27:42.366Z"
      },
      {
        "duration": 5,
        "start_time": "2024-01-06T10:27:42.379Z"
      },
      {
        "duration": 3,
        "start_time": "2024-01-06T10:27:42.386Z"
      },
      {
        "duration": 9,
        "start_time": "2024-01-06T10:27:42.391Z"
      },
      {
        "duration": 45,
        "start_time": "2024-01-06T10:27:42.402Z"
      },
      {
        "duration": 18,
        "start_time": "2024-01-06T10:27:42.449Z"
      },
      {
        "duration": 15,
        "start_time": "2024-01-06T10:27:42.468Z"
      },
      {
        "duration": 14,
        "start_time": "2024-01-06T10:27:42.485Z"
      },
      {
        "duration": 12,
        "start_time": "2024-01-06T10:27:50.477Z"
      },
      {
        "duration": 13,
        "start_time": "2024-01-06T10:27:56.515Z"
      },
      {
        "duration": 15,
        "start_time": "2024-01-06T10:28:13.076Z"
      },
      {
        "duration": 16,
        "start_time": "2024-01-06T10:28:30.596Z"
      },
      {
        "duration": 17,
        "start_time": "2024-01-06T10:28:33.992Z"
      },
      {
        "duration": 80,
        "start_time": "2024-01-06T10:45:21.873Z"
      },
      {
        "duration": 69,
        "start_time": "2024-01-06T10:45:41.238Z"
      },
      {
        "duration": 15,
        "start_time": "2024-01-06T10:46:08.959Z"
      },
      {
        "duration": 75,
        "start_time": "2024-01-06T10:47:57.384Z"
      },
      {
        "duration": 23,
        "start_time": "2024-01-06T10:48:12.729Z"
      },
      {
        "duration": 28,
        "start_time": "2024-01-06T10:48:19.839Z"
      },
      {
        "duration": 27,
        "start_time": "2024-01-06T10:50:55.005Z"
      },
      {
        "duration": 31,
        "start_time": "2024-01-06T10:51:26.986Z"
      },
      {
        "duration": 21,
        "start_time": "2024-01-06T10:55:23.649Z"
      },
      {
        "duration": 11,
        "start_time": "2024-01-06T10:55:40.134Z"
      },
      {
        "duration": 16,
        "start_time": "2024-01-06T10:55:47.724Z"
      },
      {
        "duration": 70,
        "start_time": "2024-01-06T10:55:55.629Z"
      },
      {
        "duration": 29,
        "start_time": "2024-01-06T10:56:04.390Z"
      },
      {
        "duration": 28,
        "start_time": "2024-01-06T10:56:08.200Z"
      },
      {
        "duration": 27,
        "start_time": "2024-01-06T10:56:30.296Z"
      },
      {
        "duration": 1188,
        "start_time": "2024-01-06T10:57:13.512Z"
      },
      {
        "duration": 20,
        "start_time": "2024-01-06T10:57:20.174Z"
      },
      {
        "duration": 16,
        "start_time": "2024-01-06T10:57:31.717Z"
      },
      {
        "duration": 1135,
        "start_time": "2024-01-06T10:59:43.083Z"
      },
      {
        "duration": 686,
        "start_time": "2024-01-06T10:59:53.433Z"
      },
      {
        "duration": 8,
        "start_time": "2024-01-06T11:00:05.089Z"
      },
      {
        "duration": 7,
        "start_time": "2024-01-06T11:00:11.388Z"
      },
      {
        "duration": 11,
        "start_time": "2024-01-06T11:00:44.795Z"
      },
      {
        "duration": 8,
        "start_time": "2024-01-06T11:00:48.124Z"
      },
      {
        "duration": 6,
        "start_time": "2024-01-06T11:01:10.311Z"
      },
      {
        "duration": 10,
        "start_time": "2024-01-06T11:01:23.872Z"
      },
      {
        "duration": 23,
        "start_time": "2024-01-06T11:08:06.351Z"
      },
      {
        "duration": 82,
        "start_time": "2024-01-06T11:08:25.670Z"
      },
      {
        "duration": 28,
        "start_time": "2024-01-06T11:08:35.721Z"
      },
      {
        "duration": 17,
        "start_time": "2024-01-06T11:09:56.485Z"
      },
      {
        "duration": 18,
        "start_time": "2024-01-06T11:11:36.763Z"
      },
      {
        "duration": 27,
        "start_time": "2024-01-06T11:12:17.730Z"
      },
      {
        "duration": 28,
        "start_time": "2024-01-06T11:12:58.066Z"
      },
      {
        "duration": 29,
        "start_time": "2024-01-06T11:13:25.247Z"
      },
      {
        "duration": 26,
        "start_time": "2024-01-06T11:13:52.533Z"
      },
      {
        "duration": 18,
        "start_time": "2024-01-06T11:13:57.677Z"
      },
      {
        "duration": 81,
        "start_time": "2024-01-06T11:21:09.108Z"
      },
      {
        "duration": 25,
        "start_time": "2024-01-06T11:21:17.657Z"
      },
      {
        "duration": 41,
        "start_time": "2024-01-06T11:21:35.898Z"
      },
      {
        "duration": 21,
        "start_time": "2024-01-06T11:22:03.559Z"
      },
      {
        "duration": 21,
        "start_time": "2024-01-06T11:24:24.189Z"
      },
      {
        "duration": 16,
        "start_time": "2024-01-06T11:24:47.094Z"
      },
      {
        "duration": 34,
        "start_time": "2024-01-06T11:27:04.095Z"
      },
      {
        "duration": 31,
        "start_time": "2024-01-06T11:56:32.131Z"
      },
      {
        "duration": 1117,
        "start_time": "2024-01-06T11:56:37.454Z"
      },
      {
        "duration": 206,
        "start_time": "2024-01-06T11:57:00.616Z"
      },
      {
        "duration": 130,
        "start_time": "2024-01-06T11:59:22.191Z"
      },
      {
        "duration": 135,
        "start_time": "2024-01-06T11:59:43.641Z"
      },
      {
        "duration": 164,
        "start_time": "2024-01-06T12:00:14.423Z"
      },
      {
        "duration": 185,
        "start_time": "2024-01-06T12:01:11.214Z"
      },
      {
        "duration": 75,
        "start_time": "2024-01-06T12:01:33.880Z"
      },
      {
        "duration": 46,
        "start_time": "2024-01-06T12:03:05.233Z"
      },
      {
        "duration": 1208,
        "start_time": "2024-01-06T12:03:41.490Z"
      },
      {
        "duration": 1244,
        "start_time": "2024-01-06T12:03:56.010Z"
      },
      {
        "duration": 1255,
        "start_time": "2024-01-06T12:04:21.413Z"
      },
      {
        "duration": 33,
        "start_time": "2024-01-06T12:04:46.682Z"
      },
      {
        "duration": 35,
        "start_time": "2024-01-06T12:04:57.616Z"
      },
      {
        "duration": 6,
        "start_time": "2024-01-06T12:05:00.617Z"
      },
      {
        "duration": 40,
        "start_time": "2024-01-06T12:05:04.261Z"
      },
      {
        "duration": 33,
        "start_time": "2024-01-06T12:05:48.544Z"
      },
      {
        "duration": 36,
        "start_time": "2024-01-06T12:06:02.030Z"
      },
      {
        "duration": 32,
        "start_time": "2024-01-06T12:06:16.159Z"
      },
      {
        "duration": 27,
        "start_time": "2024-01-06T12:06:56.721Z"
      },
      {
        "duration": 27,
        "start_time": "2024-01-06T12:07:05.376Z"
      },
      {
        "duration": 32,
        "start_time": "2024-01-06T12:07:31.927Z"
      },
      {
        "duration": 140,
        "start_time": "2024-01-06T12:07:48.159Z"
      },
      {
        "duration": 154,
        "start_time": "2024-01-06T12:08:09.774Z"
      },
      {
        "duration": 161,
        "start_time": "2024-01-06T12:09:34.511Z"
      },
      {
        "duration": 144,
        "start_time": "2024-01-06T12:09:50.637Z"
      },
      {
        "duration": 33,
        "start_time": "2024-01-06T12:10:13.483Z"
      },
      {
        "duration": 158,
        "start_time": "2024-01-06T12:10:55.590Z"
      },
      {
        "duration": 27,
        "start_time": "2024-01-06T12:11:46.110Z"
      },
      {
        "duration": 31,
        "start_time": "2024-01-06T12:12:15.496Z"
      },
      {
        "duration": 33,
        "start_time": "2024-01-06T12:12:19.696Z"
      },
      {
        "duration": 144,
        "start_time": "2024-01-06T12:13:10.999Z"
      },
      {
        "duration": 148,
        "start_time": "2024-01-06T12:13:16.938Z"
      },
      {
        "duration": 162,
        "start_time": "2024-01-06T12:13:31.683Z"
      },
      {
        "duration": 28,
        "start_time": "2024-01-06T12:14:50.364Z"
      },
      {
        "duration": 168,
        "start_time": "2024-01-06T12:15:31.944Z"
      },
      {
        "duration": 46,
        "start_time": "2024-01-06T12:15:59.979Z"
      },
      {
        "duration": 33,
        "start_time": "2024-01-06T12:16:04.959Z"
      },
      {
        "duration": 325,
        "start_time": "2024-01-06T12:16:22.794Z"
      },
      {
        "duration": 30,
        "start_time": "2024-01-06T12:16:32.605Z"
      },
      {
        "duration": 141,
        "start_time": "2024-01-06T12:17:06.763Z"
      },
      {
        "duration": 158,
        "start_time": "2024-01-06T12:17:19.047Z"
      },
      {
        "duration": 142,
        "start_time": "2024-01-06T12:17:50.399Z"
      },
      {
        "duration": 143,
        "start_time": "2024-01-06T12:18:03.028Z"
      },
      {
        "duration": 150,
        "start_time": "2024-01-06T12:18:37.410Z"
      },
      {
        "duration": 133,
        "start_time": "2024-01-06T12:20:56.810Z"
      },
      {
        "duration": 119,
        "start_time": "2024-01-06T12:21:10.624Z"
      },
      {
        "duration": 301,
        "start_time": "2024-01-06T12:21:18.425Z"
      },
      {
        "duration": 62,
        "start_time": "2024-01-06T12:21:35.181Z"
      },
      {
        "duration": 289,
        "start_time": "2024-01-06T12:21:40.071Z"
      },
      {
        "duration": 16,
        "start_time": "2024-01-06T12:32:45.193Z"
      },
      {
        "duration": 23,
        "start_time": "2024-01-06T12:33:17.999Z"
      },
      {
        "duration": 20,
        "start_time": "2024-01-06T12:33:26.190Z"
      },
      {
        "duration": 164,
        "start_time": "2024-01-06T12:33:33.240Z"
      },
      {
        "duration": 22,
        "start_time": "2024-01-06T12:33:38.370Z"
      },
      {
        "duration": 25,
        "start_time": "2024-01-06T12:33:53.791Z"
      },
      {
        "duration": 144,
        "start_time": "2024-01-06T12:34:34.577Z"
      },
      {
        "duration": 194,
        "start_time": "2024-01-06T12:36:26.526Z"
      },
      {
        "duration": 163,
        "start_time": "2024-01-06T12:36:38.871Z"
      },
      {
        "duration": 144,
        "start_time": "2024-01-06T12:36:46.447Z"
      },
      {
        "duration": 157,
        "start_time": "2024-01-06T12:37:01.657Z"
      },
      {
        "duration": 167,
        "start_time": "2024-01-06T12:37:05.078Z"
      },
      {
        "duration": 148,
        "start_time": "2024-01-06T12:37:17.678Z"
      },
      {
        "duration": 36,
        "start_time": "2024-01-06T12:40:46.111Z"
      },
      {
        "duration": 154,
        "start_time": "2024-01-06T12:41:20.431Z"
      },
      {
        "duration": 124,
        "start_time": "2024-01-06T12:50:02.794Z"
      },
      {
        "duration": 28,
        "start_time": "2024-01-06T12:52:12.909Z"
      },
      {
        "duration": 144,
        "start_time": "2024-01-06T12:52:15.638Z"
      },
      {
        "duration": 4,
        "start_time": "2024-01-06T12:53:05.814Z"
      },
      {
        "duration": 118,
        "start_time": "2024-01-06T12:53:13.615Z"
      },
      {
        "duration": 132,
        "start_time": "2024-01-06T12:56:35.890Z"
      },
      {
        "duration": 9,
        "start_time": "2024-01-06T13:16:17.069Z"
      },
      {
        "duration": 8,
        "start_time": "2024-01-06T13:16:31.935Z"
      },
      {
        "duration": 4,
        "start_time": "2024-01-06T13:16:53.458Z"
      },
      {
        "duration": 4,
        "start_time": "2024-01-06T13:17:55.875Z"
      },
      {
        "duration": 33,
        "start_time": "2024-01-06T13:26:28.558Z"
      },
      {
        "duration": 131,
        "start_time": "2024-01-06T13:26:30.753Z"
      },
      {
        "duration": 78,
        "start_time": "2024-01-06T13:27:08.285Z"
      },
      {
        "duration": 39,
        "start_time": "2024-01-06T13:27:20.241Z"
      },
      {
        "duration": 110,
        "start_time": "2024-01-06T13:27:48.037Z"
      },
      {
        "duration": 125,
        "start_time": "2024-01-06T13:27:57.351Z"
      },
      {
        "duration": 30,
        "start_time": "2024-01-06T13:28:52.253Z"
      },
      {
        "duration": 124,
        "start_time": "2024-01-06T13:29:15.594Z"
      },
      {
        "duration": 27,
        "start_time": "2024-01-06T14:11:06.092Z"
      },
      {
        "duration": 134,
        "start_time": "2024-01-06T14:16:29.082Z"
      },
      {
        "duration": 47,
        "start_time": "2024-01-08T13:44:54.024Z"
      },
      {
        "duration": 668,
        "start_time": "2024-01-08T13:44:58.443Z"
      },
      {
        "duration": 23,
        "start_time": "2024-01-08T13:44:59.113Z"
      },
      {
        "duration": 16,
        "start_time": "2024-01-08T13:44:59.137Z"
      },
      {
        "duration": 11,
        "start_time": "2024-01-08T13:44:59.156Z"
      },
      {
        "duration": 44,
        "start_time": "2024-01-08T13:44:59.168Z"
      },
      {
        "duration": 3,
        "start_time": "2024-01-08T13:44:59.214Z"
      },
      {
        "duration": 12,
        "start_time": "2024-01-08T13:44:59.218Z"
      },
      {
        "duration": 4,
        "start_time": "2024-01-08T13:44:59.232Z"
      },
      {
        "duration": 7,
        "start_time": "2024-01-08T13:44:59.238Z"
      },
      {
        "duration": 4,
        "start_time": "2024-01-08T13:44:59.249Z"
      },
      {
        "duration": 37,
        "start_time": "2024-01-08T13:44:59.282Z"
      },
      {
        "duration": 10,
        "start_time": "2024-01-08T13:44:59.321Z"
      },
      {
        "duration": 28,
        "start_time": "2024-01-08T13:44:59.332Z"
      },
      {
        "duration": 18,
        "start_time": "2024-01-08T13:44:59.362Z"
      },
      {
        "duration": 44,
        "start_time": "2024-01-08T13:44:59.381Z"
      },
      {
        "duration": 19,
        "start_time": "2024-01-08T13:44:59.427Z"
      },
      {
        "duration": 18,
        "start_time": "2024-01-08T13:44:59.448Z"
      },
      {
        "duration": 30,
        "start_time": "2024-01-08T13:44:59.468Z"
      },
      {
        "duration": 19,
        "start_time": "2024-01-08T13:44:59.499Z"
      },
      {
        "duration": 5,
        "start_time": "2024-01-08T13:44:59.520Z"
      },
      {
        "duration": 40,
        "start_time": "2024-01-08T13:44:59.527Z"
      },
      {
        "duration": 947,
        "start_time": "2024-01-08T13:44:59.569Z"
      },
      {
        "duration": 32,
        "start_time": "2024-01-08T13:45:00.517Z"
      },
      {
        "duration": 213,
        "start_time": "2024-01-08T13:45:00.551Z"
      },
      {
        "duration": 43,
        "start_time": "2024-01-08T13:45:00.766Z"
      },
      {
        "duration": 164,
        "start_time": "2024-01-08T13:45:00.810Z"
      },
      {
        "duration": 32,
        "start_time": "2024-01-08T13:45:00.976Z"
      },
      {
        "duration": 132,
        "start_time": "2024-01-08T13:45:01.011Z"
      },
      {
        "duration": 38,
        "start_time": "2024-01-08T13:45:01.145Z"
      },
      {
        "duration": 131,
        "start_time": "2024-01-08T13:45:01.184Z"
      },
      {
        "duration": 140,
        "start_time": "2024-01-09T07:52:23.350Z"
      },
      {
        "duration": 77,
        "start_time": "2024-01-09T07:52:51.945Z"
      },
      {
        "duration": 42,
        "start_time": "2024-01-09T07:57:44.185Z"
      },
      {
        "duration": 1523,
        "start_time": "2024-01-09T07:57:51.427Z"
      },
      {
        "duration": 18,
        "start_time": "2024-01-09T07:57:52.952Z"
      },
      {
        "duration": 15,
        "start_time": "2024-01-09T07:57:52.971Z"
      },
      {
        "duration": 9,
        "start_time": "2024-01-09T07:57:52.988Z"
      },
      {
        "duration": 36,
        "start_time": "2024-01-09T07:57:52.999Z"
      },
      {
        "duration": 3,
        "start_time": "2024-01-09T07:57:53.037Z"
      },
      {
        "duration": 28,
        "start_time": "2024-01-09T07:57:53.041Z"
      },
      {
        "duration": 4,
        "start_time": "2024-01-09T07:57:53.071Z"
      },
      {
        "duration": 8,
        "start_time": "2024-01-09T07:57:53.076Z"
      },
      {
        "duration": 23,
        "start_time": "2024-01-09T07:57:53.085Z"
      },
      {
        "duration": 35,
        "start_time": "2024-01-09T07:57:53.109Z"
      },
      {
        "duration": 10,
        "start_time": "2024-01-09T07:57:53.145Z"
      },
      {
        "duration": 4,
        "start_time": "2024-01-09T07:57:53.164Z"
      },
      {
        "duration": 11,
        "start_time": "2024-01-09T07:57:53.170Z"
      },
      {
        "duration": 17,
        "start_time": "2024-01-09T07:57:53.183Z"
      },
      {
        "duration": 14,
        "start_time": "2024-01-09T07:57:53.202Z"
      },
      {
        "duration": 3,
        "start_time": "2024-01-09T07:57:53.218Z"
      },
      {
        "duration": 13,
        "start_time": "2024-01-09T07:57:53.222Z"
      },
      {
        "duration": 30,
        "start_time": "2024-01-09T07:57:53.236Z"
      },
      {
        "duration": 4,
        "start_time": "2024-01-09T07:57:53.268Z"
      },
      {
        "duration": 14,
        "start_time": "2024-01-09T07:57:53.273Z"
      },
      {
        "duration": 33,
        "start_time": "2024-01-09T07:57:53.289Z"
      },
      {
        "duration": 145,
        "start_time": "2024-01-09T07:57:53.323Z"
      },
      {
        "duration": 26,
        "start_time": "2024-01-09T07:57:53.469Z"
      },
      {
        "duration": 129,
        "start_time": "2024-01-09T07:57:53.497Z"
      },
      {
        "duration": 39,
        "start_time": "2024-01-09T07:57:53.627Z"
      },
      {
        "duration": 119,
        "start_time": "2024-01-09T07:57:53.667Z"
      },
      {
        "duration": 31,
        "start_time": "2024-01-09T07:57:53.788Z"
      },
      {
        "duration": 131,
        "start_time": "2024-01-09T07:57:53.821Z"
      },
      {
        "duration": 5,
        "start_time": "2024-01-09T08:01:03.562Z"
      },
      {
        "duration": 6,
        "start_time": "2024-01-09T08:01:16.409Z"
      },
      {
        "duration": 7,
        "start_time": "2024-01-09T08:02:32.600Z"
      },
      {
        "duration": 76,
        "start_time": "2024-01-09T08:02:52.607Z"
      },
      {
        "duration": 12,
        "start_time": "2024-01-09T08:03:10.157Z"
      },
      {
        "duration": 13,
        "start_time": "2024-01-09T08:03:18.301Z"
      },
      {
        "duration": 10,
        "start_time": "2024-01-09T08:03:29.341Z"
      },
      {
        "duration": 114,
        "start_time": "2024-01-09T08:05:49.823Z"
      },
      {
        "duration": 388,
        "start_time": "2024-01-09T08:06:16.968Z"
      },
      {
        "duration": 381,
        "start_time": "2024-01-09T08:06:30.655Z"
      },
      {
        "duration": 341,
        "start_time": "2024-01-09T08:06:34.214Z"
      },
      {
        "duration": 7,
        "start_time": "2024-01-09T08:06:45.750Z"
      },
      {
        "duration": 11,
        "start_time": "2024-01-09T08:06:51.133Z"
      },
      {
        "duration": 16,
        "start_time": "2024-01-09T08:09:09.065Z"
      },
      {
        "duration": 566,
        "start_time": "2024-01-09T08:09:38.367Z"
      },
      {
        "duration": 11,
        "start_time": "2024-01-09T08:09:51.695Z"
      },
      {
        "duration": 328,
        "start_time": "2024-01-09T08:10:01.335Z"
      },
      {
        "duration": 10,
        "start_time": "2024-01-09T08:10:06.479Z"
      },
      {
        "duration": 114,
        "start_time": "2024-01-09T08:10:28.630Z"
      },
      {
        "duration": 11,
        "start_time": "2024-01-09T08:11:37.020Z"
      },
      {
        "duration": 12,
        "start_time": "2024-01-09T08:11:43.859Z"
      },
      {
        "duration": 11,
        "start_time": "2024-01-09T08:12:01.451Z"
      },
      {
        "duration": 11,
        "start_time": "2024-01-09T08:12:14.466Z"
      },
      {
        "duration": 127,
        "start_time": "2024-01-09T08:12:32.593Z"
      },
      {
        "duration": 13,
        "start_time": "2024-01-09T08:18:39.452Z"
      },
      {
        "duration": 337,
        "start_time": "2024-01-09T08:22:14.092Z"
      },
      {
        "duration": 12,
        "start_time": "2024-01-09T08:22:22.148Z"
      },
      {
        "duration": 14,
        "start_time": "2024-01-09T08:22:26.811Z"
      },
      {
        "duration": 13,
        "start_time": "2024-01-09T08:23:03.538Z"
      },
      {
        "duration": 12,
        "start_time": "2024-01-09T08:23:08.673Z"
      },
      {
        "duration": 377,
        "start_time": "2024-01-09T08:23:17.297Z"
      },
      {
        "duration": 384,
        "start_time": "2024-01-09T08:24:02.072Z"
      },
      {
        "duration": 12,
        "start_time": "2024-01-09T08:24:11.631Z"
      },
      {
        "duration": 11,
        "start_time": "2024-01-09T08:24:50.934Z"
      },
      {
        "duration": 119,
        "start_time": "2024-01-09T08:24:55.310Z"
      },
      {
        "duration": 116,
        "start_time": "2024-01-09T08:25:02.725Z"
      },
      {
        "duration": 9,
        "start_time": "2024-01-09T08:25:50.348Z"
      },
      {
        "duration": 12,
        "start_time": "2024-01-09T08:26:40.234Z"
      },
      {
        "duration": 8,
        "start_time": "2024-01-09T08:26:44.418Z"
      },
      {
        "duration": 9,
        "start_time": "2024-01-09T08:26:46.441Z"
      },
      {
        "duration": 13,
        "start_time": "2024-01-09T08:27:01.737Z"
      },
      {
        "duration": 9,
        "start_time": "2024-01-09T08:27:05.042Z"
      },
      {
        "duration": 9,
        "start_time": "2024-01-09T08:27:06.777Z"
      },
      {
        "duration": 125,
        "start_time": "2024-01-09T08:27:11.320Z"
      },
      {
        "duration": 128,
        "start_time": "2024-01-09T08:27:23.681Z"
      },
      {
        "duration": 11,
        "start_time": "2024-01-09T08:27:51.871Z"
      },
      {
        "duration": 15,
        "start_time": "2024-01-09T08:28:00.752Z"
      },
      {
        "duration": 124,
        "start_time": "2024-01-09T08:28:52.693Z"
      },
      {
        "duration": 12,
        "start_time": "2024-01-09T08:29:03.653Z"
      },
      {
        "duration": 311,
        "start_time": "2024-01-09T08:29:08.613Z"
      },
      {
        "duration": 146,
        "start_time": "2024-01-09T08:29:18.836Z"
      },
      {
        "duration": 13,
        "start_time": "2024-01-09T08:29:31.092Z"
      },
      {
        "duration": 12,
        "start_time": "2024-01-09T08:29:33.548Z"
      },
      {
        "duration": 407,
        "start_time": "2024-01-09T08:29:47.523Z"
      },
      {
        "duration": 361,
        "start_time": "2024-01-09T08:29:49.435Z"
      },
      {
        "duration": 374,
        "start_time": "2024-01-09T08:30:23.930Z"
      },
      {
        "duration": 12,
        "start_time": "2024-01-09T08:30:45.857Z"
      },
      {
        "duration": 13,
        "start_time": "2024-01-09T08:30:56.329Z"
      },
      {
        "duration": 158,
        "start_time": "2024-01-09T08:30:58.849Z"
      },
      {
        "duration": 1248,
        "start_time": "2024-01-09T08:31:18.912Z"
      },
      {
        "duration": 1255,
        "start_time": "2024-01-09T08:31:24.512Z"
      },
      {
        "duration": 12,
        "start_time": "2024-01-09T08:31:38.552Z"
      },
      {
        "duration": 2740,
        "start_time": "2024-01-09T08:31:52.022Z"
      },
      {
        "duration": 114,
        "start_time": "2024-01-09T08:31:55.591Z"
      },
      {
        "duration": 8,
        "start_time": "2024-01-09T08:34:00.795Z"
      },
      {
        "duration": 3,
        "start_time": "2024-01-09T08:34:04.651Z"
      },
      {
        "duration": 7,
        "start_time": "2024-01-09T08:34:06.618Z"
      },
      {
        "duration": 7,
        "start_time": "2024-01-09T08:34:11.066Z"
      },
      {
        "duration": 8,
        "start_time": "2024-01-09T08:34:25.833Z"
      },
      {
        "duration": 8,
        "start_time": "2024-01-09T08:34:34.208Z"
      },
      {
        "duration": 7,
        "start_time": "2024-01-09T08:34:40.681Z"
      },
      {
        "duration": 8,
        "start_time": "2024-01-09T08:34:55.616Z"
      },
      {
        "duration": 3,
        "start_time": "2024-01-09T08:34:59.128Z"
      },
      {
        "duration": 10,
        "start_time": "2024-01-09T08:35:01.088Z"
      },
      {
        "duration": 11,
        "start_time": "2024-01-09T08:35:05.504Z"
      },
      {
        "duration": 11,
        "start_time": "2024-01-09T08:35:39.727Z"
      },
      {
        "duration": 3,
        "start_time": "2024-01-09T08:36:31.877Z"
      },
      {
        "duration": 13,
        "start_time": "2024-01-09T08:36:34.181Z"
      },
      {
        "duration": 3,
        "start_time": "2024-01-09T08:36:40.028Z"
      },
      {
        "duration": 3,
        "start_time": "2024-01-09T08:36:43.380Z"
      },
      {
        "duration": 13,
        "start_time": "2024-01-09T08:36:46.732Z"
      },
      {
        "duration": 3,
        "start_time": "2024-01-09T08:37:16.963Z"
      },
      {
        "duration": 8,
        "start_time": "2024-01-09T08:37:18.875Z"
      },
      {
        "duration": 4,
        "start_time": "2024-01-09T08:37:42.586Z"
      },
      {
        "duration": 11,
        "start_time": "2024-01-09T08:37:44.130Z"
      },
      {
        "duration": 11,
        "start_time": "2024-01-09T08:37:47.802Z"
      },
      {
        "duration": 10,
        "start_time": "2024-01-09T08:37:54.738Z"
      },
      {
        "duration": 6,
        "start_time": "2024-01-09T08:38:07.202Z"
      },
      {
        "duration": 10,
        "start_time": "2024-01-09T08:38:11.809Z"
      },
      {
        "duration": 110,
        "start_time": "2024-01-09T08:38:14.601Z"
      },
      {
        "duration": 4,
        "start_time": "2024-01-09T08:39:17.134Z"
      },
      {
        "duration": 13,
        "start_time": "2024-01-09T08:39:18.863Z"
      },
      {
        "duration": 4,
        "start_time": "2024-01-09T08:40:47.427Z"
      },
      {
        "duration": 11,
        "start_time": "2024-01-09T08:40:49.379Z"
      },
      {
        "duration": 11,
        "start_time": "2024-01-09T08:40:53.923Z"
      },
      {
        "duration": 11,
        "start_time": "2024-01-09T08:40:56.971Z"
      },
      {
        "duration": 12,
        "start_time": "2024-01-09T08:41:12.834Z"
      },
      {
        "duration": 1424,
        "start_time": "2024-01-09T08:41:18.402Z"
      },
      {
        "duration": 1375,
        "start_time": "2024-01-09T08:41:20.402Z"
      },
      {
        "duration": 14,
        "start_time": "2024-01-09T08:41:29.106Z"
      },
      {
        "duration": 12,
        "start_time": "2024-01-09T08:41:36.330Z"
      },
      {
        "duration": 116,
        "start_time": "2024-01-09T08:41:57.010Z"
      },
      {
        "duration": 123,
        "start_time": "2024-01-09T08:42:10.145Z"
      },
      {
        "duration": 13,
        "start_time": "2024-01-09T08:45:48.680Z"
      },
      {
        "duration": 114,
        "start_time": "2024-01-09T08:46:21.463Z"
      },
      {
        "duration": 129,
        "start_time": "2024-01-09T08:46:28.775Z"
      },
      {
        "duration": 113,
        "start_time": "2024-01-09T08:46:33.631Z"
      },
      {
        "duration": 28,
        "start_time": "2024-01-09T08:47:29.965Z"
      },
      {
        "duration": 12,
        "start_time": "2024-01-09T08:47:40.724Z"
      },
      {
        "duration": 108,
        "start_time": "2024-01-09T08:47:44.581Z"
      },
      {
        "duration": 3,
        "start_time": "2024-01-09T08:50:43.214Z"
      },
      {
        "duration": 13,
        "start_time": "2024-01-09T08:50:45.734Z"
      },
      {
        "duration": 115,
        "start_time": "2024-01-09T08:50:50.333Z"
      },
      {
        "duration": 13,
        "start_time": "2024-01-09T08:50:59.253Z"
      },
      {
        "duration": 13,
        "start_time": "2024-01-09T08:51:01.381Z"
      },
      {
        "duration": 117,
        "start_time": "2024-01-09T08:51:06.053Z"
      },
      {
        "duration": 12,
        "start_time": "2024-01-09T08:51:16.117Z"
      },
      {
        "duration": 116,
        "start_time": "2024-01-09T08:51:18.444Z"
      },
      {
        "duration": 108,
        "start_time": "2024-01-09T08:51:23.036Z"
      },
      {
        "duration": 13,
        "start_time": "2024-01-09T08:51:31.877Z"
      },
      {
        "duration": 13,
        "start_time": "2024-01-09T08:51:33.492Z"
      },
      {
        "duration": 12,
        "start_time": "2024-01-09T08:51:36.588Z"
      },
      {
        "duration": 111,
        "start_time": "2024-01-09T08:51:40.021Z"
      },
      {
        "duration": 68,
        "start_time": "2024-01-09T09:31:48.427Z"
      },
      {
        "duration": 129,
        "start_time": "2024-01-09T11:10:01.480Z"
      },
      {
        "duration": 121,
        "start_time": "2024-01-09T11:10:43.485Z"
      },
      {
        "duration": 132,
        "start_time": "2024-01-09T11:12:04.459Z"
      },
      {
        "duration": 133,
        "start_time": "2024-01-09T11:12:38.185Z"
      },
      {
        "duration": 109,
        "start_time": "2024-01-09T11:13:00.448Z"
      },
      {
        "duration": 118,
        "start_time": "2024-01-09T11:13:17.287Z"
      },
      {
        "duration": 1550,
        "start_time": "2024-01-10T06:21:50.425Z"
      },
      {
        "duration": 20,
        "start_time": "2024-01-10T06:21:51.979Z"
      },
      {
        "duration": 16,
        "start_time": "2024-01-10T06:21:52.001Z"
      },
      {
        "duration": 11,
        "start_time": "2024-01-10T06:21:52.019Z"
      },
      {
        "duration": 59,
        "start_time": "2024-01-10T06:21:52.033Z"
      },
      {
        "duration": 4,
        "start_time": "2024-01-10T06:21:52.094Z"
      },
      {
        "duration": 12,
        "start_time": "2024-01-10T06:21:52.099Z"
      },
      {
        "duration": 4,
        "start_time": "2024-01-10T06:21:52.113Z"
      },
      {
        "duration": 9,
        "start_time": "2024-01-10T06:21:52.119Z"
      },
      {
        "duration": 5,
        "start_time": "2024-01-10T06:21:52.129Z"
      },
      {
        "duration": 66,
        "start_time": "2024-01-10T06:21:52.135Z"
      },
      {
        "duration": 11,
        "start_time": "2024-01-10T06:21:52.203Z"
      },
      {
        "duration": 4,
        "start_time": "2024-01-10T06:21:52.215Z"
      },
      {
        "duration": 12,
        "start_time": "2024-01-10T06:21:52.222Z"
      },
      {
        "duration": 52,
        "start_time": "2024-01-10T06:21:52.235Z"
      },
      {
        "duration": 16,
        "start_time": "2024-01-10T06:21:52.289Z"
      },
      {
        "duration": 10,
        "start_time": "2024-01-10T06:21:52.307Z"
      },
      {
        "duration": 17,
        "start_time": "2024-01-10T06:21:52.318Z"
      },
      {
        "duration": 10,
        "start_time": "2024-01-10T06:21:52.337Z"
      },
      {
        "duration": 4,
        "start_time": "2024-01-10T06:21:52.348Z"
      },
      {
        "duration": 19,
        "start_time": "2024-01-10T06:21:52.354Z"
      },
      {
        "duration": 5,
        "start_time": "2024-01-10T06:21:52.375Z"
      },
      {
        "duration": 23,
        "start_time": "2024-01-10T06:21:52.381Z"
      },
      {
        "duration": 151,
        "start_time": "2024-01-10T06:21:52.406Z"
      },
      {
        "duration": 24,
        "start_time": "2024-01-10T06:21:52.558Z"
      },
      {
        "duration": 152,
        "start_time": "2024-01-10T06:21:52.584Z"
      },
      {
        "duration": 12,
        "start_time": "2024-01-10T06:21:52.737Z"
      },
      {
        "duration": 137,
        "start_time": "2024-01-10T06:21:52.751Z"
      },
      {
        "duration": 12,
        "start_time": "2024-01-10T06:21:52.889Z"
      },
      {
        "duration": 144,
        "start_time": "2024-01-10T06:21:52.903Z"
      },
      {
        "duration": 4,
        "start_time": "2024-01-10T06:27:02.083Z"
      },
      {
        "duration": 12,
        "start_time": "2024-01-10T06:27:04.771Z"
      },
      {
        "duration": 4,
        "start_time": "2024-01-10T06:27:10.795Z"
      },
      {
        "duration": 11,
        "start_time": "2024-01-10T06:27:11.859Z"
      },
      {
        "duration": 1622,
        "start_time": "2024-01-10T06:34:18.488Z"
      },
      {
        "duration": 5,
        "start_time": "2024-01-10T06:34:38.481Z"
      },
      {
        "duration": 16,
        "start_time": "2024-01-10T06:34:40.384Z"
      },
      {
        "duration": 13,
        "start_time": "2024-01-10T06:34:55.760Z"
      },
      {
        "duration": 95,
        "start_time": "2024-01-10T06:36:00.814Z"
      },
      {
        "duration": 5,
        "start_time": "2024-01-10T06:36:23.589Z"
      },
      {
        "duration": 15,
        "start_time": "2024-01-10T06:36:26.661Z"
      },
      {
        "duration": 15,
        "start_time": "2024-01-10T06:36:31.517Z"
      },
      {
        "duration": 5,
        "start_time": "2024-01-10T06:43:13.318Z"
      },
      {
        "duration": 2,
        "start_time": "2024-01-10T06:43:15.446Z"
      },
      {
        "duration": 2,
        "start_time": "2024-01-10T06:43:19.909Z"
      },
      {
        "duration": 5,
        "start_time": "2024-01-10T06:43:39.292Z"
      },
      {
        "duration": 4,
        "start_time": "2024-01-10T06:43:44.172Z"
      },
      {
        "duration": 15,
        "start_time": "2024-01-10T06:43:48.412Z"
      },
      {
        "duration": 16,
        "start_time": "2024-01-10T06:45:47.511Z"
      },
      {
        "duration": 15,
        "start_time": "2024-01-10T06:45:53.359Z"
      },
      {
        "duration": 17,
        "start_time": "2024-01-10T06:46:05.854Z"
      },
      {
        "duration": 138,
        "start_time": "2024-01-10T06:46:09.998Z"
      },
      {
        "duration": 18,
        "start_time": "2024-01-10T06:46:26.909Z"
      },
      {
        "duration": 120,
        "start_time": "2024-01-10T06:46:29.229Z"
      },
      {
        "duration": 18,
        "start_time": "2024-01-10T06:48:28.529Z"
      },
      {
        "duration": 27,
        "start_time": "2024-01-10T06:48:37.953Z"
      },
      {
        "duration": 129,
        "start_time": "2024-01-10T06:48:44.696Z"
      },
      {
        "duration": 10,
        "start_time": "2024-01-16T08:17:26.977Z"
      },
      {
        "duration": 40,
        "start_time": "2024-01-16T08:17:28.204Z"
      },
      {
        "duration": 4,
        "start_time": "2024-01-16T08:17:39.449Z"
      },
      {
        "duration": 9,
        "start_time": "2024-01-16T08:17:40.235Z"
      },
      {
        "duration": 1401,
        "start_time": "2024-01-16T08:17:55.569Z"
      },
      {
        "duration": 19,
        "start_time": "2024-01-16T08:17:56.972Z"
      },
      {
        "duration": 16,
        "start_time": "2024-01-16T08:17:56.993Z"
      },
      {
        "duration": 12,
        "start_time": "2024-01-16T08:17:57.011Z"
      },
      {
        "duration": 41,
        "start_time": "2024-01-16T08:17:57.025Z"
      },
      {
        "duration": 3,
        "start_time": "2024-01-16T08:17:57.067Z"
      },
      {
        "duration": 10,
        "start_time": "2024-01-16T08:17:57.072Z"
      },
      {
        "duration": 5,
        "start_time": "2024-01-16T08:17:57.084Z"
      },
      {
        "duration": 9,
        "start_time": "2024-01-16T08:17:57.090Z"
      },
      {
        "duration": 5,
        "start_time": "2024-01-16T08:17:57.102Z"
      },
      {
        "duration": 55,
        "start_time": "2024-01-16T08:17:57.109Z"
      },
      {
        "duration": 11,
        "start_time": "2024-01-16T08:17:57.165Z"
      },
      {
        "duration": 4,
        "start_time": "2024-01-16T08:17:57.177Z"
      },
      {
        "duration": 21,
        "start_time": "2024-01-16T08:17:57.182Z"
      },
      {
        "duration": 19,
        "start_time": "2024-01-16T08:17:57.205Z"
      },
      {
        "duration": 37,
        "start_time": "2024-01-16T08:17:57.226Z"
      },
      {
        "duration": 3,
        "start_time": "2024-01-16T08:17:57.265Z"
      },
      {
        "duration": 13,
        "start_time": "2024-01-16T08:17:57.269Z"
      },
      {
        "duration": 6,
        "start_time": "2024-01-16T08:17:57.283Z"
      },
      {
        "duration": 8,
        "start_time": "2024-01-16T08:17:57.290Z"
      },
      {
        "duration": 10,
        "start_time": "2024-01-16T08:17:57.299Z"
      },
      {
        "duration": 5,
        "start_time": "2024-01-16T08:17:57.310Z"
      },
      {
        "duration": 43,
        "start_time": "2024-01-16T08:17:57.316Z"
      },
      {
        "duration": 168,
        "start_time": "2024-01-16T08:17:57.361Z"
      },
      {
        "duration": 25,
        "start_time": "2024-01-16T08:17:57.531Z"
      },
      {
        "duration": 143,
        "start_time": "2024-01-16T08:17:57.557Z"
      },
      {
        "duration": 15,
        "start_time": "2024-01-16T08:17:57.702Z"
      },
      {
        "duration": 126,
        "start_time": "2024-01-16T08:17:57.720Z"
      },
      {
        "duration": 20,
        "start_time": "2024-01-16T08:17:57.847Z"
      },
      {
        "duration": 125,
        "start_time": "2024-01-16T08:17:57.868Z"
      },
      {
        "duration": 3,
        "start_time": "2024-01-16T08:17:57.994Z"
      },
      {
        "duration": 10,
        "start_time": "2024-01-16T08:17:57.998Z"
      },
      {
        "duration": 5,
        "start_time": "2024-01-16T08:18:43.207Z"
      },
      {
        "duration": 8,
        "start_time": "2024-01-16T08:18:44.289Z"
      },
      {
        "duration": 8,
        "start_time": "2024-01-16T08:18:45.839Z"
      },
      {
        "duration": 4,
        "start_time": "2024-01-16T08:18:47.094Z"
      },
      {
        "duration": 8,
        "start_time": "2024-01-16T08:18:48.183Z"
      },
      {
        "duration": 18,
        "start_time": "2024-01-16T08:19:07.277Z"
      },
      {
        "duration": 122,
        "start_time": "2024-01-16T08:19:09.158Z"
      },
      {
        "duration": 122,
        "start_time": "2024-01-16T08:19:17.221Z"
      },
      {
        "duration": 11,
        "start_time": "2024-01-16T08:19:23.341Z"
      },
      {
        "duration": 3,
        "start_time": "2024-01-16T08:19:40.540Z"
      },
      {
        "duration": 104,
        "start_time": "2024-01-16T08:19:41.572Z"
      },
      {
        "duration": 3,
        "start_time": "2024-01-16T08:19:54.205Z"
      },
      {
        "duration": 16,
        "start_time": "2024-01-16T08:19:56.052Z"
      },
      {
        "duration": 4,
        "start_time": "2024-01-16T08:23:18.322Z"
      },
      {
        "duration": 11,
        "start_time": "2024-01-16T08:23:19.427Z"
      },
      {
        "duration": 175,
        "start_time": "2024-01-18T06:23:27.539Z"
      },
      {
        "duration": 21,
        "start_time": "2024-01-18T06:23:42.164Z"
      },
      {
        "duration": 263,
        "start_time": "2024-01-18T06:24:00.267Z"
      },
      {
        "duration": 336,
        "start_time": "2024-01-18T06:24:19.602Z"
      },
      {
        "duration": 233,
        "start_time": "2024-01-18T06:25:03.832Z"
      },
      {
        "duration": 133,
        "start_time": "2024-01-18T06:25:46.070Z"
      },
      {
        "duration": 123,
        "start_time": "2024-01-18T06:25:49.743Z"
      },
      {
        "duration": 21,
        "start_time": "2024-01-18T06:26:17.936Z"
      },
      {
        "duration": 1371,
        "start_time": "2024-01-18T06:27:55.521Z"
      },
      {
        "duration": 129,
        "start_time": "2024-01-18T06:28:09.905Z"
      },
      {
        "duration": 17,
        "start_time": "2024-01-18T06:31:11.642Z"
      },
      {
        "duration": 16,
        "start_time": "2024-01-18T06:31:18.289Z"
      },
      {
        "duration": 283,
        "start_time": "2024-01-18T06:31:25.848Z"
      },
      {
        "duration": 212,
        "start_time": "2024-01-18T06:31:45.320Z"
      },
      {
        "duration": 24,
        "start_time": "2024-01-18T06:32:26.326Z"
      },
      {
        "duration": 34,
        "start_time": "2024-01-18T06:33:33.612Z"
      },
      {
        "duration": 22,
        "start_time": "2024-01-18T06:34:03.642Z"
      },
      {
        "duration": 26,
        "start_time": "2024-01-18T06:34:13.202Z"
      },
      {
        "duration": 134,
        "start_time": "2024-01-18T06:34:51.033Z"
      },
      {
        "duration": 156,
        "start_time": "2024-01-18T06:35:16.119Z"
      },
      {
        "duration": 40,
        "start_time": "2024-01-18T06:35:56.550Z"
      },
      {
        "duration": 31,
        "start_time": "2024-01-18T06:36:07.006Z"
      },
      {
        "duration": 39,
        "start_time": "2024-01-18T06:36:14.174Z"
      },
      {
        "duration": 1432,
        "start_time": "2024-01-18T06:37:18.115Z"
      },
      {
        "duration": 137,
        "start_time": "2024-01-18T06:37:33.386Z"
      },
      {
        "duration": 168,
        "start_time": "2024-01-18T06:38:00.745Z"
      },
      {
        "duration": 140,
        "start_time": "2024-01-18T06:38:07.464Z"
      },
      {
        "duration": 131,
        "start_time": "2024-01-18T06:38:44.791Z"
      },
      {
        "duration": 154,
        "start_time": "2024-01-18T06:39:19.166Z"
      },
      {
        "duration": 237,
        "start_time": "2024-01-18T06:41:20.513Z"
      },
      {
        "duration": 145,
        "start_time": "2024-01-18T06:41:29.248Z"
      },
      {
        "duration": 1725,
        "start_time": "2024-02-04T09:54:43.704Z"
      },
      {
        "duration": 22,
        "start_time": "2024-02-04T09:54:45.431Z"
      },
      {
        "duration": 18,
        "start_time": "2024-02-04T09:54:45.455Z"
      },
      {
        "duration": 11,
        "start_time": "2024-02-04T09:54:45.475Z"
      },
      {
        "duration": 48,
        "start_time": "2024-02-04T09:54:45.488Z"
      },
      {
        "duration": 3,
        "start_time": "2024-02-04T09:54:45.538Z"
      },
      {
        "duration": 22,
        "start_time": "2024-02-04T09:54:45.543Z"
      },
      {
        "duration": 7,
        "start_time": "2024-02-04T09:54:45.567Z"
      },
      {
        "duration": 8,
        "start_time": "2024-02-04T09:54:45.575Z"
      },
      {
        "duration": 4,
        "start_time": "2024-02-04T09:54:45.586Z"
      },
      {
        "duration": 48,
        "start_time": "2024-02-04T09:54:45.592Z"
      },
      {
        "duration": 28,
        "start_time": "2024-02-04T09:54:45.641Z"
      },
      {
        "duration": 4,
        "start_time": "2024-02-04T09:54:45.671Z"
      },
      {
        "duration": 21,
        "start_time": "2024-02-04T09:54:45.677Z"
      },
      {
        "duration": 26,
        "start_time": "2024-02-04T09:54:45.699Z"
      },
      {
        "duration": 47,
        "start_time": "2024-02-04T09:54:45.726Z"
      },
      {
        "duration": 4,
        "start_time": "2024-02-04T09:54:45.775Z"
      },
      {
        "duration": 12,
        "start_time": "2024-02-04T09:54:45.781Z"
      },
      {
        "duration": 6,
        "start_time": "2024-02-04T09:54:45.795Z"
      },
      {
        "duration": 3,
        "start_time": "2024-02-04T09:54:45.803Z"
      },
      {
        "duration": 10,
        "start_time": "2024-02-04T09:54:45.808Z"
      },
      {
        "duration": 5,
        "start_time": "2024-02-04T09:54:45.820Z"
      },
      {
        "duration": 16,
        "start_time": "2024-02-04T09:54:45.858Z"
      },
      {
        "duration": 168,
        "start_time": "2024-02-04T09:54:45.876Z"
      },
      {
        "duration": 22,
        "start_time": "2024-02-04T09:54:46.045Z"
      },
      {
        "duration": 167,
        "start_time": "2024-02-04T09:54:46.069Z"
      },
      {
        "duration": 27,
        "start_time": "2024-02-04T09:54:46.237Z"
      },
      {
        "duration": 143,
        "start_time": "2024-02-04T09:54:46.267Z"
      },
      {
        "duration": 19,
        "start_time": "2024-02-04T09:54:46.411Z"
      },
      {
        "duration": 156,
        "start_time": "2024-02-04T09:54:46.432Z"
      }
    ],
    "colab": {
      "provenance": []
    },
    "kernelspec": {
      "display_name": "Python 3 (ipykernel)",
      "language": "python",
      "name": "python3"
    },
    "language_info": {
      "codemirror_mode": {
        "name": "ipython",
        "version": 3
      },
      "file_extension": ".py",
      "mimetype": "text/x-python",
      "name": "python",
      "nbconvert_exporter": "python",
      "pygments_lexer": "ipython3",
      "version": "3.9.5"
    },
    "toc": {
      "base_numbering": 1,
      "nav_menu": {},
      "number_sections": true,
      "sideBar": true,
      "skip_h1_title": true,
      "title_cell": "Table of Contents",
      "title_sidebar": "Contents",
      "toc_cell": false,
      "toc_position": {},
      "toc_section_display": true,
      "toc_window_display": false
    }
  },
  "nbformat": 4,
  "nbformat_minor": 5
}
