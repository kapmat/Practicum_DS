{
 "cells": [
  {
   "cell_type": "markdown",
   "metadata": {},
   "source": [
    "#  Прогнозирование заказов такси"
   ]
  },
  {
   "cell_type": "markdown",
   "metadata": {},
   "source": [
    "Компания «Чётенькое такси» собрала исторические данные о заказах такси в аэропортах. Чтобы привлекать больше водителей в период пиковой нагрузки, нужно спрогнозировать количество заказов такси на следующий час. Постройте модель для такого предсказания.\n",
    "\n",
    "Значение метрики *RMSE* на тестовой выборке должно быть не больше 48.\n",
    "\n",
    "Вам нужно:\n",
    "\n",
    "1. Загрузить данные и выполнить их ресемплирование по одному часу.\n",
    "2. Проанализировать данные.\n",
    "3. Обучить разные модели с различными гиперпараметрами. Сделать тестовую выборку размером 10% от исходных данных.\n",
    "4. Проверить данные на тестовой выборке и сделать выводы.\n",
    "\n",
    "\n",
    "Данные лежат в файле `taxi.csv`. Количество заказов находится в столбце `num_orders` (от англ. *number of orders*, «число заказов»)."
   ]
  },
  {
   "cell_type": "code",
   "execution_count": 1,
   "metadata": {},
   "outputs": [],
   "source": [
    "import numpy as np\n",
    "import pandas as pd\n",
    "import matplotlib.pyplot as plt\n",
    "import seaborn as sns\n",
    "\n",
    "from lightgbm import LGBMRegressor\n",
    "from sklearn.compose import ColumnTransformer\n",
    "from sklearn.metrics import root_mean_squared_error, make_scorer\n",
    "from sklearn.model_selection import train_test_split, RandomizedSearchCV, TimeSeriesSplit\n",
    "from sklearn.linear_model import LinearRegression\n",
    "from sklearn.pipeline import Pipeline\n",
    "from sklearn.preprocessing import OneHotEncoder, OrdinalEncoder, StandardScaler\n",
    "from sklearn.tree import DecisionTreeRegressor \n",
    "from statsmodels.tsa.seasonal import seasonal_decompose\n",
    "from phik import phik_matrix"
   ]
  },
  {
   "cell_type": "code",
   "execution_count": 2,
   "metadata": {},
   "outputs": [],
   "source": [
    "RANDOM_STATE = 41\n",
    "TEST_SIZE = 0.1"
   ]
  },
  {
   "cell_type": "markdown",
   "metadata": {},
   "source": [
    "## Подготовка"
   ]
  },
  {
   "cell_type": "markdown",
   "metadata": {},
   "source": [
    "### Загрузка данных"
   ]
  },
  {
   "cell_type": "code",
   "execution_count": 3,
   "metadata": {},
   "outputs": [],
   "source": [
    "data = pd.read_csv('datasets/taxi.csv', index_col=[0], parse_dates=[0])"
   ]
  },
  {
   "cell_type": "code",
   "execution_count": 4,
   "metadata": {},
   "outputs": [
    {
     "name": "stdout",
     "output_type": "stream",
     "text": [
      "<class 'pandas.core.frame.DataFrame'>\n",
      "DatetimeIndex: 26496 entries, 2018-03-01 00:00:00 to 2018-08-31 23:50:00\n",
      "Data columns (total 1 columns):\n",
      " #   Column      Non-Null Count  Dtype\n",
      "---  ------      --------------  -----\n",
      " 0   num_orders  26496 non-null  int64\n",
      "dtypes: int64(1)\n",
      "memory usage: 414.0 KB\n"
     ]
    }
   ],
   "source": [
    "data.info()"
   ]
  },
  {
   "cell_type": "code",
   "execution_count": 5,
   "metadata": {},
   "outputs": [
    {
     "data": {
      "text/html": [
       "<div>\n",
       "<style scoped>\n",
       "    .dataframe tbody tr th:only-of-type {\n",
       "        vertical-align: middle;\n",
       "    }\n",
       "\n",
       "    .dataframe tbody tr th {\n",
       "        vertical-align: top;\n",
       "    }\n",
       "\n",
       "    .dataframe thead th {\n",
       "        text-align: right;\n",
       "    }\n",
       "</style>\n",
       "<table border=\"1\" class=\"dataframe\">\n",
       "  <thead>\n",
       "    <tr style=\"text-align: right;\">\n",
       "      <th></th>\n",
       "      <th>num_orders</th>\n",
       "    </tr>\n",
       "    <tr>\n",
       "      <th>datetime</th>\n",
       "      <th></th>\n",
       "    </tr>\n",
       "  </thead>\n",
       "  <tbody>\n",
       "    <tr>\n",
       "      <th>2018-03-01 00:00:00</th>\n",
       "      <td>9</td>\n",
       "    </tr>\n",
       "    <tr>\n",
       "      <th>2018-03-01 00:10:00</th>\n",
       "      <td>14</td>\n",
       "    </tr>\n",
       "    <tr>\n",
       "      <th>2018-03-01 00:20:00</th>\n",
       "      <td>28</td>\n",
       "    </tr>\n",
       "    <tr>\n",
       "      <th>2018-03-01 00:30:00</th>\n",
       "      <td>20</td>\n",
       "    </tr>\n",
       "    <tr>\n",
       "      <th>2018-03-01 00:40:00</th>\n",
       "      <td>32</td>\n",
       "    </tr>\n",
       "  </tbody>\n",
       "</table>\n",
       "</div>"
      ],
      "text/plain": [
       "                     num_orders\n",
       "datetime                       \n",
       "2018-03-01 00:00:00           9\n",
       "2018-03-01 00:10:00          14\n",
       "2018-03-01 00:20:00          28\n",
       "2018-03-01 00:30:00          20\n",
       "2018-03-01 00:40:00          32"
      ]
     },
     "execution_count": 5,
     "metadata": {},
     "output_type": "execute_result"
    }
   ],
   "source": [
    "data.head()"
   ]
  },
  {
   "cell_type": "markdown",
   "metadata": {},
   "source": [
    "### Ресемплирование"
   ]
  },
  {
   "cell_type": "code",
   "execution_count": 6,
   "metadata": {},
   "outputs": [
    {
     "name": "stderr",
     "output_type": "stream",
     "text": [
      "C:\\Users\\kapit\\AppData\\Local\\Temp\\ipykernel_20940\\2814516379.py:1: FutureWarning: 'H' is deprecated and will be removed in a future version, please use 'h' instead.\n",
      "  data = data.resample('1H').sum()\n"
     ]
    }
   ],
   "source": [
    "data = data.resample('1H').sum()"
   ]
  },
  {
   "cell_type": "code",
   "execution_count": 7,
   "metadata": {},
   "outputs": [
    {
     "name": "stdout",
     "output_type": "stream",
     "text": [
      "<class 'pandas.core.frame.DataFrame'>\n",
      "DatetimeIndex: 4416 entries, 2018-03-01 00:00:00 to 2018-08-31 23:00:00\n",
      "Freq: h\n",
      "Data columns (total 1 columns):\n",
      " #   Column      Non-Null Count  Dtype\n",
      "---  ------      --------------  -----\n",
      " 0   num_orders  4416 non-null   int64\n",
      "dtypes: int64(1)\n",
      "memory usage: 69.0 KB\n"
     ]
    }
   ],
   "source": [
    "data.info()"
   ]
  },
  {
   "cell_type": "code",
   "execution_count": 8,
   "metadata": {},
   "outputs": [
    {
     "data": {
      "text/html": [
       "<div>\n",
       "<style scoped>\n",
       "    .dataframe tbody tr th:only-of-type {\n",
       "        vertical-align: middle;\n",
       "    }\n",
       "\n",
       "    .dataframe tbody tr th {\n",
       "        vertical-align: top;\n",
       "    }\n",
       "\n",
       "    .dataframe thead th {\n",
       "        text-align: right;\n",
       "    }\n",
       "</style>\n",
       "<table border=\"1\" class=\"dataframe\">\n",
       "  <thead>\n",
       "    <tr style=\"text-align: right;\">\n",
       "      <th></th>\n",
       "      <th>num_orders</th>\n",
       "    </tr>\n",
       "    <tr>\n",
       "      <th>datetime</th>\n",
       "      <th></th>\n",
       "    </tr>\n",
       "  </thead>\n",
       "  <tbody>\n",
       "    <tr>\n",
       "      <th>2018-03-01 00:00:00</th>\n",
       "      <td>124</td>\n",
       "    </tr>\n",
       "    <tr>\n",
       "      <th>2018-03-01 01:00:00</th>\n",
       "      <td>85</td>\n",
       "    </tr>\n",
       "    <tr>\n",
       "      <th>2018-03-01 02:00:00</th>\n",
       "      <td>71</td>\n",
       "    </tr>\n",
       "    <tr>\n",
       "      <th>2018-03-01 03:00:00</th>\n",
       "      <td>66</td>\n",
       "    </tr>\n",
       "    <tr>\n",
       "      <th>2018-03-01 04:00:00</th>\n",
       "      <td>43</td>\n",
       "    </tr>\n",
       "  </tbody>\n",
       "</table>\n",
       "</div>"
      ],
      "text/plain": [
       "                     num_orders\n",
       "datetime                       \n",
       "2018-03-01 00:00:00         124\n",
       "2018-03-01 01:00:00          85\n",
       "2018-03-01 02:00:00          71\n",
       "2018-03-01 03:00:00          66\n",
       "2018-03-01 04:00:00          43"
      ]
     },
     "execution_count": 8,
     "metadata": {},
     "output_type": "execute_result"
    }
   ],
   "source": [
    "data.head()"
   ]
  },
  {
   "cell_type": "markdown",
   "metadata": {},
   "source": [
    "## Анализ"
   ]
  },
  {
   "cell_type": "code",
   "execution_count": 9,
   "metadata": {},
   "outputs": [],
   "source": [
    "decomposed = seasonal_decompose(data)"
   ]
  },
  {
   "cell_type": "code",
   "execution_count": 10,
   "metadata": {},
   "outputs": [
    {
     "data": {
      "image/png": "[encoded data removed]",
      "text/plain": [
       "<Figure size 1500x600 with 1 Axes>"
      ]
     },
     "metadata": {},
     "output_type": "display_data"
    }
   ],
   "source": [
    "data.plot(figsize=(15, 6), color=sns.color_palette('YlGnBu')[3]);"
   ]
  },
  {
   "cell_type": "markdown",
   "metadata": {},
   "source": [
    "**Тренд:**"
   ]
  },
  {
   "cell_type": "code",
   "execution_count": 11,
   "metadata": {},
   "outputs": [
    {
     "data": {
      "image/png": "[encoded data removed]",
      "text/plain": [
       "<Figure size 1500x600 with 1 Axes>"
      ]
     },
     "metadata": {},
     "output_type": "display_data"
    }
   ],
   "source": [
    "decomposed.trend.plot(figsize=(15, 6), color=sns.color_palette('YlGnBu')[3]);"
   ]
  },
  {
   "cell_type": "markdown",
   "metadata": {},
   "source": [
    "**Сезонность:**"
   ]
  },
  {
   "cell_type": "code",
   "execution_count": 12,
   "metadata": {},
   "outputs": [
    {
     "data": {
      "image/png": "[encoded data removed]",
      "text/plain": [
       "<Figure size 1500x600 with 1 Axes>"
      ]
     },
     "metadata": {},
     "output_type": "display_data"
    }
   ],
   "source": [
    "decomposed.seasonal.plot(figsize=(15, 6), color=sns.color_palette('YlGnBu')[3]);"
   ]
  },
  {
   "cell_type": "code",
   "execution_count": 13,
   "metadata": {},
   "outputs": [
    {
     "data": {
      "image/png": "[encoded data removed]",
      "text/plain": [
       "<Figure size 1500x600 with 1 Axes>"
      ]
     },
     "metadata": {},
     "output_type": "display_data"
    }
   ],
   "source": [
    "decomposed.seasonal['2018-07-31':'2018-08-31'].plot(figsize=(15, 6), color=sns.color_palette('YlGnBu')[3]);"
   ]
  },
  {
   "cell_type": "markdown",
   "metadata": {},
   "source": [
    "**Остаток:**"
   ]
  },
  {
   "cell_type": "code",
   "execution_count": 14,
   "metadata": {},
   "outputs": [
    {
     "data": {
      "image/png": "[encoded data removed]",
      "text/plain": [
       "<Figure size 1500x600 with 1 Axes>"
      ]
     },
     "metadata": {},
     "output_type": "display_data"
    }
   ],
   "source": [
    "decomposed.resid.plot(figsize=(15, 6), color=sns.color_palette('YlGnBu')[3]);"
   ]
  },
  {
   "cell_type": "markdown",
   "metadata": {},
   "source": [
    "### Вывод"
   ]
  },
  {
   "cell_type": "markdown",
   "metadata": {},
   "source": [
    "Наблюдается тренд увеличения заказов такси с течением года в несколько раз. Так же имеется сезонность, рост заказов растет по утрам, достигает пика ближе к вечеру и падает после полуночи. "
   ]
  },
  {
   "cell_type": "markdown",
   "metadata": {},
   "source": [
    "## Обучение"
   ]
  },
  {
   "cell_type": "markdown",
   "metadata": {},
   "source": [
    "### Создание новых признаков"
   ]
  },
  {
   "cell_type": "code",
   "execution_count": 15,
   "metadata": {},
   "outputs": [],
   "source": [
    "def make_df(df):\n",
    "    df = df.copy(deep=True)\n",
    "    \n",
    "    df['hour'] = df.index.hour\n",
    "    df['dayofweek'] = df.index.dayofweek\n",
    "    \n",
    "    df['lag_1'] = df['num_orders'].shift(1)\n",
    "    df['lag_12'] = df['num_orders'].shift(12)\n",
    "    df['lag_24'] = df['num_orders'].shift(24)\n",
    "    \n",
    "    df['rolling_mean'] = df['num_orders'].shift().rolling(24).mean()\n",
    "    \n",
    "    return df"
   ]
  },
  {
   "cell_type": "code",
   "execution_count": 16,
   "metadata": {},
   "outputs": [],
   "source": [
    "test_data = make_df(data)"
   ]
  },
  {
   "cell_type": "code",
   "execution_count": 17,
   "metadata": {},
   "outputs": [],
   "source": [
    "test_data = test_data.dropna()"
   ]
  },
  {
   "cell_type": "code",
   "execution_count": 18,
   "metadata": {},
   "outputs": [
    {
     "name": "stdout",
     "output_type": "stream",
     "text": [
      "<class 'pandas.core.frame.DataFrame'>\n",
      "DatetimeIndex: 4392 entries, 2018-03-02 00:00:00 to 2018-08-31 23:00:00\n",
      "Freq: h\n",
      "Data columns (total 7 columns):\n",
      " #   Column        Non-Null Count  Dtype  \n",
      "---  ------        --------------  -----  \n",
      " 0   num_orders    4392 non-null   int64  \n",
      " 1   hour          4392 non-null   int32  \n",
      " 2   dayofweek     4392 non-null   int32  \n",
      " 3   lag_1         4392 non-null   float64\n",
      " 4   lag_12        4392 non-null   float64\n",
      " 5   lag_24        4392 non-null   float64\n",
      " 6   rolling_mean  4392 non-null   float64\n",
      "dtypes: float64(4), int32(2), int64(1)\n",
      "memory usage: 240.2 KB\n"
     ]
    }
   ],
   "source": [
    "test_data.info()"
   ]
  },
  {
   "cell_type": "code",
   "execution_count": 19,
   "metadata": {},
   "outputs": [
    {
     "data": {
      "text/html": [
       "<div>\n",
       "<style scoped>\n",
       "    .dataframe tbody tr th:only-of-type {\n",
       "        vertical-align: middle;\n",
       "    }\n",
       "\n",
       "    .dataframe tbody tr th {\n",
       "        vertical-align: top;\n",
       "    }\n",
       "\n",
       "    .dataframe thead th {\n",
       "        text-align: right;\n",
       "    }\n",
       "</style>\n",
       "<table border=\"1\" class=\"dataframe\">\n",
       "  <thead>\n",
       "    <tr style=\"text-align: right;\">\n",
       "      <th></th>\n",
       "      <th>num_orders</th>\n",
       "      <th>hour</th>\n",
       "      <th>dayofweek</th>\n",
       "      <th>lag_1</th>\n",
       "      <th>lag_12</th>\n",
       "      <th>lag_24</th>\n",
       "      <th>rolling_mean</th>\n",
       "    </tr>\n",
       "    <tr>\n",
       "      <th>datetime</th>\n",
       "      <th></th>\n",
       "      <th></th>\n",
       "      <th></th>\n",
       "      <th></th>\n",
       "      <th></th>\n",
       "      <th></th>\n",
       "      <th></th>\n",
       "    </tr>\n",
       "  </thead>\n",
       "  <tbody>\n",
       "    <tr>\n",
       "      <th>2018-03-02 00:00:00</th>\n",
       "      <td>90</td>\n",
       "      <td>0</td>\n",
       "      <td>4</td>\n",
       "      <td>58.0</td>\n",
       "      <td>30.0</td>\n",
       "      <td>124.0</td>\n",
       "      <td>56.833333</td>\n",
       "    </tr>\n",
       "    <tr>\n",
       "      <th>2018-03-02 01:00:00</th>\n",
       "      <td>120</td>\n",
       "      <td>1</td>\n",
       "      <td>4</td>\n",
       "      <td>90.0</td>\n",
       "      <td>32.0</td>\n",
       "      <td>85.0</td>\n",
       "      <td>55.416667</td>\n",
       "    </tr>\n",
       "    <tr>\n",
       "      <th>2018-03-02 02:00:00</th>\n",
       "      <td>75</td>\n",
       "      <td>2</td>\n",
       "      <td>4</td>\n",
       "      <td>120.0</td>\n",
       "      <td>48.0</td>\n",
       "      <td>71.0</td>\n",
       "      <td>56.875000</td>\n",
       "    </tr>\n",
       "    <tr>\n",
       "      <th>2018-03-02 03:00:00</th>\n",
       "      <td>64</td>\n",
       "      <td>3</td>\n",
       "      <td>4</td>\n",
       "      <td>75.0</td>\n",
       "      <td>66.0</td>\n",
       "      <td>66.0</td>\n",
       "      <td>57.041667</td>\n",
       "    </tr>\n",
       "    <tr>\n",
       "      <th>2018-03-02 04:00:00</th>\n",
       "      <td>20</td>\n",
       "      <td>4</td>\n",
       "      <td>4</td>\n",
       "      <td>64.0</td>\n",
       "      <td>43.0</td>\n",
       "      <td>43.0</td>\n",
       "      <td>56.958333</td>\n",
       "    </tr>\n",
       "  </tbody>\n",
       "</table>\n",
       "</div>"
      ],
      "text/plain": [
       "                     num_orders  hour  dayofweek  lag_1  lag_12  lag_24  \\\n",
       "datetime                                                                  \n",
       "2018-03-02 00:00:00          90     0          4   58.0    30.0   124.0   \n",
       "2018-03-02 01:00:00         120     1          4   90.0    32.0    85.0   \n",
       "2018-03-02 02:00:00          75     2          4  120.0    48.0    71.0   \n",
       "2018-03-02 03:00:00          64     3          4   75.0    66.0    66.0   \n",
       "2018-03-02 04:00:00          20     4          4   64.0    43.0    43.0   \n",
       "\n",
       "                     rolling_mean  \n",
       "datetime                           \n",
       "2018-03-02 00:00:00     56.833333  \n",
       "2018-03-02 01:00:00     55.416667  \n",
       "2018-03-02 02:00:00     56.875000  \n",
       "2018-03-02 03:00:00     57.041667  \n",
       "2018-03-02 04:00:00     56.958333  "
      ]
     },
     "execution_count": 19,
     "metadata": {},
     "output_type": "execute_result"
    }
   ],
   "source": [
    "test_data.head()"
   ]
  },
  {
   "cell_type": "markdown",
   "metadata": {},
   "source": [
    "### Подготовка к обучению"
   ]
  },
  {
   "cell_type": "markdown",
   "metadata": {},
   "source": [
    "#### Создание метрики"
   ]
  },
  {
   "cell_type": "code",
   "execution_count": 20,
   "metadata": {},
   "outputs": [],
   "source": [
    "def rmse_scorer(pred, true):\n",
    "    return root_mean_squared_error(pred, true)\n",
    "\n",
    "rmse = make_scorer(rmse_scorer, greater_is_better=False)"
   ]
  },
  {
   "cell_type": "markdown",
   "metadata": {},
   "source": [
    "#### Формирование выборок"
   ]
  },
  {
   "cell_type": "code",
   "execution_count": 21,
   "metadata": {},
   "outputs": [],
   "source": [
    "X = test_data.drop('num_orders', axis=1)\n",
    "y = test_data['num_orders']"
   ]
  },
  {
   "cell_type": "code",
   "execution_count": 22,
   "metadata": {},
   "outputs": [],
   "source": [
    "X_train, X_test, y_train, y_test = train_test_split(\n",
    "    X,\n",
    "    y,\n",
    "    shuffle=False,\n",
    "    test_size=TEST_SIZE,\n",
    "    random_state=RANDOM_STATE\n",
    ")"
   ]
  },
  {
   "cell_type": "code",
   "execution_count": 23,
   "metadata": {},
   "outputs": [],
   "source": [
    "tscv = TimeSeriesSplit(n_splits=10)"
   ]
  },
  {
   "cell_type": "markdown",
   "metadata": {},
   "source": [
    "#### Создание пайплайна для подбора моделей и параметров"
   ]
  },
  {
   "cell_type": "code",
   "execution_count": 24,
   "metadata": {},
   "outputs": [],
   "source": [
    "num_cols = ['lag_1', 'lag_12', 'lag_24', 'rolling_mean']\n",
    "cat_cols = ['hour', 'dayofweek']\n",
    "\n",
    "data_preprocessor = ColumnTransformer(\n",
    "    [\n",
    "        ('num', StandardScaler(), num_cols),\n",
    "        ('cat', 'passthrough', cat_cols)\n",
    "    ]\n",
    ")\n",
    "\n",
    "final_pipe = Pipeline(\n",
    "    [\n",
    "        ('preprocessor', data_preprocessor),\n",
    "        ('models', LinearRegression())\n",
    "    ]\n",
    ")\n",
    "\n",
    "param_grid = [\n",
    "    {\n",
    "        'models': [LinearRegression()],\n",
    "        'preprocessor__cat': [OneHotEncoder(drop='first')]\n",
    "    },\n",
    "    {\n",
    "        'models': [LGBMRegressor()],\n",
    "        'models__max_depth': range(1, 10, 2),\n",
    "        'preprocessor__cat': [OrdinalEncoder()]        \n",
    "    },\n",
    "    \n",
    "    {\n",
    "        'models': [DecisionTreeRegressor()],\n",
    "        'models__max_depth': range(1, 10, 2),\n",
    "        'models__max_features': range(1, 6),\n",
    "        'preprocessor__cat': [OrdinalEncoder()] \n",
    "    }\n",
    "]\n",
    "\n",
    "random_search = RandomizedSearchCV(\n",
    "    final_pipe,\n",
    "    param_grid,\n",
    "    scoring=rmse,\n",
    "    cv=tscv,\n",
    "    n_jobs=-1,\n",
    "    random_state=RANDOM_STATE\n",
    ")"
   ]
  },
  {
   "cell_type": "markdown",
   "metadata": {},
   "source": [
    "### Подбор и обучение модели"
   ]
  },
  {
   "cell_type": "markdown",
   "metadata": {},
   "source": [
    "#### Обучение"
   ]
  },
  {
   "cell_type": "code",
   "execution_count": 25,
   "metadata": {},
   "outputs": [
    {
     "name": "stdout",
     "output_type": "stream",
     "text": [
      "[LightGBM] [Info] Auto-choosing col-wise multi-threading, the overhead of testing was 0.000097 seconds.\n",
      "You can set `force_col_wise=true` to remove the overhead.\n",
      "[LightGBM] [Info] Total Bins 855\n",
      "[LightGBM] [Info] Number of data points in the train set: 3952, number of used features: 6\n",
      "[LightGBM] [Info] Start training from score 78.451417\n",
      "[LightGBM] [Warning] No further splits with positive gain, best gain: -inf\n",
      "[LightGBM] [Warning] No further splits with positive gain, best gain: -inf\n",
      "[LightGBM] [Warning] No further splits with positive gain, best gain: -inf\n",
      "[LightGBM] [Warning] No further splits with positive gain, best gain: -inf\n",
      "[LightGBM] [Warning] No further splits with positive gain, best gain: -inf\n",
      "[LightGBM] [Warning] No further splits with positive gain, best gain: -inf\n",
      "[LightGBM] [Warning] No further splits with positive gain, best gain: -inf\n",
      "[LightGBM] [Warning] No further splits with positive gain, best gain: -inf\n",
      "[LightGBM] [Warning] No further splits with positive gain, best gain: -inf\n",
      "[LightGBM] [Warning] No further splits with positive gain, best gain: -inf\n",
      "[LightGBM] [Warning] No further splits with positive gain, best gain: -inf\n",
      "[LightGBM] [Warning] No further splits with positive gain, best gain: -inf\n",
      "[LightGBM] [Warning] No further splits with positive gain, best gain: -inf\n",
      "[LightGBM] [Warning] No further splits with positive gain, best gain: -inf\n",
      "[LightGBM] [Warning] No further splits with positive gain, best gain: -inf\n",
      "[LightGBM] [Warning] No further splits with positive gain, best gain: -inf\n"
     ]
    },
    {
     "data": {
      "text/plain": [
       "np.float64(-24.019600816249955)"
      ]
     },
     "execution_count": 25,
     "metadata": {},
     "output_type": "execute_result"
    }
   ],
   "source": [
    "result = random_search.fit(X_train, y_train)\n",
    "result.best_score_"
   ]
  },
  {
   "cell_type": "markdown",
   "metadata": {},
   "source": [
    "#### Лучшая модель"
   ]
  },
  {
   "cell_type": "code",
   "execution_count": 26,
   "metadata": {},
   "outputs": [
    {
     "data": {
      "text/html": [
       "<div>\n",
       "<style scoped>\n",
       "    .dataframe tbody tr th:only-of-type {\n",
       "        vertical-align: middle;\n",
       "    }\n",
       "\n",
       "    .dataframe tbody tr th {\n",
       "        vertical-align: top;\n",
       "    }\n",
       "\n",
       "    .dataframe thead th {\n",
       "        text-align: right;\n",
       "    }\n",
       "</style>\n",
       "<table border=\"1\" class=\"dataframe\">\n",
       "  <thead>\n",
       "    <tr style=\"text-align: right;\">\n",
       "      <th></th>\n",
       "      <th>mean_fit_time</th>\n",
       "      <th>std_fit_time</th>\n",
       "      <th>mean_score_time</th>\n",
       "      <th>std_score_time</th>\n",
       "      <th>param_preprocessor__cat</th>\n",
       "      <th>param_models__max_features</th>\n",
       "      <th>param_models__max_depth</th>\n",
       "      <th>param_models</th>\n",
       "      <th>params</th>\n",
       "      <th>split0_test_score</th>\n",
       "      <th>...</th>\n",
       "      <th>split3_test_score</th>\n",
       "      <th>split4_test_score</th>\n",
       "      <th>split5_test_score</th>\n",
       "      <th>split6_test_score</th>\n",
       "      <th>split7_test_score</th>\n",
       "      <th>split8_test_score</th>\n",
       "      <th>split9_test_score</th>\n",
       "      <th>mean_test_score</th>\n",
       "      <th>std_test_score</th>\n",
       "      <th>rank_test_score</th>\n",
       "    </tr>\n",
       "  </thead>\n",
       "  <tbody>\n",
       "    <tr>\n",
       "      <th>5</th>\n",
       "      <td>0.270314</td>\n",
       "      <td>0.046500</td>\n",
       "      <td>0.005990</td>\n",
       "      <td>0.001000</td>\n",
       "      <td>OrdinalEncoder()</td>\n",
       "      <td>NaN</td>\n",
       "      <td>9</td>\n",
       "      <td>LGBMRegressor()</td>\n",
       "      <td>{'preprocessor__cat': OrdinalEncoder(), 'model...</td>\n",
       "      <td>-19.761941</td>\n",
       "      <td>...</td>\n",
       "      <td>-22.737856</td>\n",
       "      <td>-24.814409</td>\n",
       "      <td>-23.674400</td>\n",
       "      <td>-22.998082</td>\n",
       "      <td>-24.613699</td>\n",
       "      <td>-27.237083</td>\n",
       "      <td>-31.069081</td>\n",
       "      <td>-24.019601</td>\n",
       "      <td>3.128199</td>\n",
       "      <td>1</td>\n",
       "    </tr>\n",
       "    <tr>\n",
       "      <th>3</th>\n",
       "      <td>0.008280</td>\n",
       "      <td>0.001014</td>\n",
       "      <td>0.003778</td>\n",
       "      <td>0.000557</td>\n",
       "      <td>OrdinalEncoder()</td>\n",
       "      <td>5.0</td>\n",
       "      <td>5</td>\n",
       "      <td>DecisionTreeRegressor()</td>\n",
       "      <td>{'preprocessor__cat': OrdinalEncoder(), 'model...</td>\n",
       "      <td>-21.815106</td>\n",
       "      <td>...</td>\n",
       "      <td>-24.949807</td>\n",
       "      <td>-27.976233</td>\n",
       "      <td>-24.802242</td>\n",
       "      <td>-25.413162</td>\n",
       "      <td>-28.837845</td>\n",
       "      <td>-34.459264</td>\n",
       "      <td>-38.410877</td>\n",
       "      <td>-27.605552</td>\n",
       "      <td>4.943655</td>\n",
       "      <td>2</td>\n",
       "    </tr>\n",
       "    <tr>\n",
       "      <th>6</th>\n",
       "      <td>0.009000</td>\n",
       "      <td>0.002145</td>\n",
       "      <td>0.003700</td>\n",
       "      <td>0.000641</td>\n",
       "      <td>OrdinalEncoder()</td>\n",
       "      <td>5.0</td>\n",
       "      <td>7</td>\n",
       "      <td>DecisionTreeRegressor()</td>\n",
       "      <td>{'preprocessor__cat': OrdinalEncoder(), 'model...</td>\n",
       "      <td>-23.621400</td>\n",
       "      <td>...</td>\n",
       "      <td>-25.027442</td>\n",
       "      <td>-29.473517</td>\n",
       "      <td>-26.673407</td>\n",
       "      <td>-26.671805</td>\n",
       "      <td>-28.495687</td>\n",
       "      <td>-34.329183</td>\n",
       "      <td>-39.041478</td>\n",
       "      <td>-28.424545</td>\n",
       "      <td>4.637442</td>\n",
       "      <td>3</td>\n",
       "    </tr>\n",
       "    <tr>\n",
       "      <th>7</th>\n",
       "      <td>0.007000</td>\n",
       "      <td>0.001000</td>\n",
       "      <td>0.004000</td>\n",
       "      <td>0.000633</td>\n",
       "      <td>OrdinalEncoder()</td>\n",
       "      <td>4.0</td>\n",
       "      <td>3</td>\n",
       "      <td>DecisionTreeRegressor()</td>\n",
       "      <td>{'preprocessor__cat': OrdinalEncoder(), 'model...</td>\n",
       "      <td>-21.366315</td>\n",
       "      <td>...</td>\n",
       "      <td>-25.036542</td>\n",
       "      <td>-30.004494</td>\n",
       "      <td>-27.727555</td>\n",
       "      <td>-26.548135</td>\n",
       "      <td>-31.465937</td>\n",
       "      <td>-36.392491</td>\n",
       "      <td>-42.325861</td>\n",
       "      <td>-29.253716</td>\n",
       "      <td>5.899562</td>\n",
       "      <td>4</td>\n",
       "    </tr>\n",
       "    <tr>\n",
       "      <th>4</th>\n",
       "      <td>0.007888</td>\n",
       "      <td>0.001560</td>\n",
       "      <td>0.003656</td>\n",
       "      <td>0.000437</td>\n",
       "      <td>OrdinalEncoder()</td>\n",
       "      <td>2.0</td>\n",
       "      <td>9</td>\n",
       "      <td>DecisionTreeRegressor()</td>\n",
       "      <td>{'preprocessor__cat': OrdinalEncoder(), 'model...</td>\n",
       "      <td>-26.794141</td>\n",
       "      <td>...</td>\n",
       "      <td>-25.918197</td>\n",
       "      <td>-27.674442</td>\n",
       "      <td>-27.291044</td>\n",
       "      <td>-29.475837</td>\n",
       "      <td>-30.908903</td>\n",
       "      <td>-33.199054</td>\n",
       "      <td>-39.047147</td>\n",
       "      <td>-29.335012</td>\n",
       "      <td>4.048765</td>\n",
       "      <td>5</td>\n",
       "    </tr>\n",
       "  </tbody>\n",
       "</table>\n",
       "<p>5 rows × 22 columns</p>\n",
       "</div>"
      ],
      "text/plain": [
       "   mean_fit_time  std_fit_time  mean_score_time  std_score_time  \\\n",
       "5       0.270314      0.046500         0.005990        0.001000   \n",
       "3       0.008280      0.001014         0.003778        0.000557   \n",
       "6       0.009000      0.002145         0.003700        0.000641   \n",
       "7       0.007000      0.001000         0.004000        0.000633   \n",
       "4       0.007888      0.001560         0.003656        0.000437   \n",
       "\n",
       "  param_preprocessor__cat  param_models__max_features  \\\n",
       "5        OrdinalEncoder()                         NaN   \n",
       "3        OrdinalEncoder()                         5.0   \n",
       "6        OrdinalEncoder()                         5.0   \n",
       "7        OrdinalEncoder()                         4.0   \n",
       "4        OrdinalEncoder()                         2.0   \n",
       "\n",
       "   param_models__max_depth             param_models  \\\n",
       "5                        9          LGBMRegressor()   \n",
       "3                        5  DecisionTreeRegressor()   \n",
       "6                        7  DecisionTreeRegressor()   \n",
       "7                        3  DecisionTreeRegressor()   \n",
       "4                        9  DecisionTreeRegressor()   \n",
       "\n",
       "                                              params  split0_test_score  ...  \\\n",
       "5  {'preprocessor__cat': OrdinalEncoder(), 'model...         -19.761941  ...   \n",
       "3  {'preprocessor__cat': OrdinalEncoder(), 'model...         -21.815106  ...   \n",
       "6  {'preprocessor__cat': OrdinalEncoder(), 'model...         -23.621400  ...   \n",
       "7  {'preprocessor__cat': OrdinalEncoder(), 'model...         -21.366315  ...   \n",
       "4  {'preprocessor__cat': OrdinalEncoder(), 'model...         -26.794141  ...   \n",
       "\n",
       "   split3_test_score  split4_test_score  split5_test_score  split6_test_score  \\\n",
       "5         -22.737856         -24.814409         -23.674400         -22.998082   \n",
       "3         -24.949807         -27.976233         -24.802242         -25.413162   \n",
       "6         -25.027442         -29.473517         -26.673407         -26.671805   \n",
       "7         -25.036542         -30.004494         -27.727555         -26.548135   \n",
       "4         -25.918197         -27.674442         -27.291044         -29.475837   \n",
       "\n",
       "   split7_test_score  split8_test_score  split9_test_score  mean_test_score  \\\n",
       "5         -24.613699         -27.237083         -31.069081       -24.019601   \n",
       "3         -28.837845         -34.459264         -38.410877       -27.605552   \n",
       "6         -28.495687         -34.329183         -39.041478       -28.424545   \n",
       "7         -31.465937         -36.392491         -42.325861       -29.253716   \n",
       "4         -30.908903         -33.199054         -39.047147       -29.335012   \n",
       "\n",
       "   std_test_score  rank_test_score  \n",
       "5        3.128199                1  \n",
       "3        4.943655                2  \n",
       "6        4.637442                3  \n",
       "7        5.899562                4  \n",
       "4        4.048765                5  \n",
       "\n",
       "[5 rows x 22 columns]"
      ]
     },
     "execution_count": 26,
     "metadata": {},
     "output_type": "execute_result"
    }
   ],
   "source": [
    "pd.DataFrame(result.cv_results_).sort_values('rank_test_score').head()"
   ]
  },
  {
   "cell_type": "code",
   "execution_count": 27,
   "metadata": {},
   "outputs": [],
   "source": [
    "model = result.best_estimator_"
   ]
  },
  {
   "cell_type": "code",
   "execution_count": 28,
   "metadata": {},
   "outputs": [
    {
     "data": {
      "text/html": [
       "<style>#sk-container-id-1 {\n",
       "  /* Definition of color scheme common for light and dark mode */\n",
       "  --sklearn-color-text: #000;\n",
       "  --sklearn-color-text-muted: #666;\n",
       "  --sklearn-color-line: gray;\n",
       "  /* Definition of color scheme for unfitted estimators */\n",
       "  --sklearn-color-unfitted-level-0: #fff5e6;\n",
       "  --sklearn-color-unfitted-level-1: #f6e4d2;\n",
       "  --sklearn-color-unfitted-level-2: #ffe0b3;\n",
       "  --sklearn-color-unfitted-level-3: chocolate;\n",
       "  /* Definition of color scheme for fitted estimators */\n",
       "  --sklearn-color-fitted-level-0: #f0f8ff;\n",
       "  --sklearn-color-fitted-level-1: #d4ebff;\n",
       "  --sklearn-color-fitted-level-2: #b3dbfd;\n",
       "  --sklearn-color-fitted-level-3: cornflowerblue;\n",
       "\n",
       "  /* Specific color for light theme */\n",
       "  --sklearn-color-text-on-default-background: var(--sg-text-color, var(--theme-code-foreground, var(--jp-content-font-color1, black)));\n",
       "  --sklearn-color-background: var(--sg-background-color, var(--theme-background, var(--jp-layout-color0, white)));\n",
       "  --sklearn-color-border-box: var(--sg-text-color, var(--theme-code-foreground, var(--jp-content-font-color1, black)));\n",
       "  --sklearn-color-icon: #696969;\n",
       "\n",
       "  @media (prefers-color-scheme: dark) {\n",
       "    /* Redefinition of color scheme for dark theme */\n",
       "    --sklearn-color-text-on-default-background: var(--sg-text-color, var(--theme-code-foreground, var(--jp-content-font-color1, white)));\n",
       "    --sklearn-color-background: var(--sg-background-color, var(--theme-background, var(--jp-layout-color0, #111)));\n",
       "    --sklearn-color-border-box: var(--sg-text-color, var(--theme-code-foreground, var(--jp-content-font-color1, white)));\n",
       "    --sklearn-color-icon: #878787;\n",
       "  }\n",
       "}\n",
       "\n",
       "#sk-container-id-1 {\n",
       "  color: var(--sklearn-color-text);\n",
       "}\n",
       "\n",
       "#sk-container-id-1 pre {\n",
       "  padding: 0;\n",
       "}\n",
       "\n",
       "#sk-container-id-1 input.sk-hidden--visually {\n",
       "  border: 0;\n",
       "  clip: rect(1px 1px 1px 1px);\n",
       "  clip: rect(1px, 1px, 1px, 1px);\n",
       "  height: 1px;\n",
       "  margin: -1px;\n",
       "  overflow: hidden;\n",
       "  padding: 0;\n",
       "  position: absolute;\n",
       "  width: 1px;\n",
       "}\n",
       "\n",
       "#sk-container-id-1 div.sk-dashed-wrapped {\n",
       "  border: 1px dashed var(--sklearn-color-line);\n",
       "  margin: 0 0.4em 0.5em 0.4em;\n",
       "  box-sizing: border-box;\n",
       "  padding-bottom: 0.4em;\n",
       "  background-color: var(--sklearn-color-background);\n",
       "}\n",
       "\n",
       "#sk-container-id-1 div.sk-container {\n",
       "  /* jupyter's `normalize.less` sets `[hidden] { display: none; }`\n",
       "     but bootstrap.min.css set `[hidden] { display: none !important; }`\n",
       "     so we also need the `!important` here to be able to override the\n",
       "     default hidden behavior on the sphinx rendered scikit-learn.org.\n",
       "     See: https://github.com/scikit-learn/scikit-learn/issues/21755 */\n",
       "  display: inline-block !important;\n",
       "  position: relative;\n",
       "}\n",
       "\n",
       "#sk-container-id-1 div.sk-text-repr-fallback {\n",
       "  display: none;\n",
       "}\n",
       "\n",
       "div.sk-parallel-item,\n",
       "div.sk-serial,\n",
       "div.sk-item {\n",
       "  /* draw centered vertical line to link estimators */\n",
       "  background-image: linear-gradient(var(--sklearn-color-text-on-default-background), var(--sklearn-color-text-on-default-background));\n",
       "  background-size: 2px 100%;\n",
       "  background-repeat: no-repeat;\n",
       "  background-position: center center;\n",
       "}\n",
       "\n",
       "/* Parallel-specific style estimator block */\n",
       "\n",
       "#sk-container-id-1 div.sk-parallel-item::after {\n",
       "  content: \"\";\n",
       "  width: 100%;\n",
       "  border-bottom: 2px solid var(--sklearn-color-text-on-default-background);\n",
       "  flex-grow: 1;\n",
       "}\n",
       "\n",
       "#sk-container-id-1 div.sk-parallel {\n",
       "  display: flex;\n",
       "  align-items: stretch;\n",
       "  justify-content: center;\n",
       "  background-color: var(--sklearn-color-background);\n",
       "  position: relative;\n",
       "}\n",
       "\n",
       "#sk-container-id-1 div.sk-parallel-item {\n",
       "  display: flex;\n",
       "  flex-direction: column;\n",
       "}\n",
       "\n",
       "#sk-container-id-1 div.sk-parallel-item:first-child::after {\n",
       "  align-self: flex-end;\n",
       "  width: 50%;\n",
       "}\n",
       "\n",
       "#sk-container-id-1 div.sk-parallel-item:last-child::after {\n",
       "  align-self: flex-start;\n",
       "  width: 50%;\n",
       "}\n",
       "\n",
       "#sk-container-id-1 div.sk-parallel-item:only-child::after {\n",
       "  width: 0;\n",
       "}\n",
       "\n",
       "/* Serial-specific style estimator block */\n",
       "\n",
       "#sk-container-id-1 div.sk-serial {\n",
       "  display: flex;\n",
       "  flex-direction: column;\n",
       "  align-items: center;\n",
       "  background-color: var(--sklearn-color-background);\n",
       "  padding-right: 1em;\n",
       "  padding-left: 1em;\n",
       "}\n",
       "\n",
       "\n",
       "/* Toggleable style: style used for estimator/Pipeline/ColumnTransformer box that is\n",
       "clickable and can be expanded/collapsed.\n",
       "- Pipeline and ColumnTransformer use this feature and define the default style\n",
       "- Estimators will overwrite some part of the style using the `sk-estimator` class\n",
       "*/\n",
       "\n",
       "/* Pipeline and ColumnTransformer style (default) */\n",
       "\n",
       "#sk-container-id-1 div.sk-toggleable {\n",
       "  /* Default theme specific background. It is overwritten whether we have a\n",
       "  specific estimator or a Pipeline/ColumnTransformer */\n",
       "  background-color: var(--sklearn-color-background);\n",
       "}\n",
       "\n",
       "/* Toggleable label */\n",
       "#sk-container-id-1 label.sk-toggleable__label {\n",
       "  cursor: pointer;\n",
       "  display: flex;\n",
       "  width: 100%;\n",
       "  margin-bottom: 0;\n",
       "  padding: 0.5em;\n",
       "  box-sizing: border-box;\n",
       "  text-align: center;\n",
       "  align-items: start;\n",
       "  justify-content: space-between;\n",
       "  gap: 0.5em;\n",
       "}\n",
       "\n",
       "#sk-container-id-1 label.sk-toggleable__label .caption {\n",
       "  font-size: 0.6rem;\n",
       "  font-weight: lighter;\n",
       "  color: var(--sklearn-color-text-muted);\n",
       "}\n",
       "\n",
       "#sk-container-id-1 label.sk-toggleable__label-arrow:before {\n",
       "  /* Arrow on the left of the label */\n",
       "  content: \"▸\";\n",
       "  float: left;\n",
       "  margin-right: 0.25em;\n",
       "  color: var(--sklearn-color-icon);\n",
       "}\n",
       "\n",
       "#sk-container-id-1 label.sk-toggleable__label-arrow:hover:before {\n",
       "  color: var(--sklearn-color-text);\n",
       "}\n",
       "\n",
       "/* Toggleable content - dropdown */\n",
       "\n",
       "#sk-container-id-1 div.sk-toggleable__content {\n",
       "  max-height: 0;\n",
       "  max-width: 0;\n",
       "  overflow: hidden;\n",
       "  text-align: left;\n",
       "  /* unfitted */\n",
       "  background-color: var(--sklearn-color-unfitted-level-0);\n",
       "}\n",
       "\n",
       "#sk-container-id-1 div.sk-toggleable__content.fitted {\n",
       "  /* fitted */\n",
       "  background-color: var(--sklearn-color-fitted-level-0);\n",
       "}\n",
       "\n",
       "#sk-container-id-1 div.sk-toggleable__content pre {\n",
       "  margin: 0.2em;\n",
       "  border-radius: 0.25em;\n",
       "  color: var(--sklearn-color-text);\n",
       "  /* unfitted */\n",
       "  background-color: var(--sklearn-color-unfitted-level-0);\n",
       "}\n",
       "\n",
       "#sk-container-id-1 div.sk-toggleable__content.fitted pre {\n",
       "  /* unfitted */\n",
       "  background-color: var(--sklearn-color-fitted-level-0);\n",
       "}\n",
       "\n",
       "#sk-container-id-1 input.sk-toggleable__control:checked~div.sk-toggleable__content {\n",
       "  /* Expand drop-down */\n",
       "  max-height: 200px;\n",
       "  max-width: 100%;\n",
       "  overflow: auto;\n",
       "}\n",
       "\n",
       "#sk-container-id-1 input.sk-toggleable__control:checked~label.sk-toggleable__label-arrow:before {\n",
       "  content: \"▾\";\n",
       "}\n",
       "\n",
       "/* Pipeline/ColumnTransformer-specific style */\n",
       "\n",
       "#sk-container-id-1 div.sk-label input.sk-toggleable__control:checked~label.sk-toggleable__label {\n",
       "  color: var(--sklearn-color-text);\n",
       "  background-color: var(--sklearn-color-unfitted-level-2);\n",
       "}\n",
       "\n",
       "#sk-container-id-1 div.sk-label.fitted input.sk-toggleable__control:checked~label.sk-toggleable__label {\n",
       "  background-color: var(--sklearn-color-fitted-level-2);\n",
       "}\n",
       "\n",
       "/* Estimator-specific style */\n",
       "\n",
       "/* Colorize estimator box */\n",
       "#sk-container-id-1 div.sk-estimator input.sk-toggleable__control:checked~label.sk-toggleable__label {\n",
       "  /* unfitted */\n",
       "  background-color: var(--sklearn-color-unfitted-level-2);\n",
       "}\n",
       "\n",
       "#sk-container-id-1 div.sk-estimator.fitted input.sk-toggleable__control:checked~label.sk-toggleable__label {\n",
       "  /* fitted */\n",
       "  background-color: var(--sklearn-color-fitted-level-2);\n",
       "}\n",
       "\n",
       "#sk-container-id-1 div.sk-label label.sk-toggleable__label,\n",
       "#sk-container-id-1 div.sk-label label {\n",
       "  /* The background is the default theme color */\n",
       "  color: var(--sklearn-color-text-on-default-background);\n",
       "}\n",
       "\n",
       "/* On hover, darken the color of the background */\n",
       "#sk-container-id-1 div.sk-label:hover label.sk-toggleable__label {\n",
       "  color: var(--sklearn-color-text);\n",
       "  background-color: var(--sklearn-color-unfitted-level-2);\n",
       "}\n",
       "\n",
       "/* Label box, darken color on hover, fitted */\n",
       "#sk-container-id-1 div.sk-label.fitted:hover label.sk-toggleable__label.fitted {\n",
       "  color: var(--sklearn-color-text);\n",
       "  background-color: var(--sklearn-color-fitted-level-2);\n",
       "}\n",
       "\n",
       "/* Estimator label */\n",
       "\n",
       "#sk-container-id-1 div.sk-label label {\n",
       "  font-family: monospace;\n",
       "  font-weight: bold;\n",
       "  display: inline-block;\n",
       "  line-height: 1.2em;\n",
       "}\n",
       "\n",
       "#sk-container-id-1 div.sk-label-container {\n",
       "  text-align: center;\n",
       "}\n",
       "\n",
       "/* Estimator-specific */\n",
       "#sk-container-id-1 div.sk-estimator {\n",
       "  font-family: monospace;\n",
       "  border: 1px dotted var(--sklearn-color-border-box);\n",
       "  border-radius: 0.25em;\n",
       "  box-sizing: border-box;\n",
       "  margin-bottom: 0.5em;\n",
       "  /* unfitted */\n",
       "  background-color: var(--sklearn-color-unfitted-level-0);\n",
       "}\n",
       "\n",
       "#sk-container-id-1 div.sk-estimator.fitted {\n",
       "  /* fitted */\n",
       "  background-color: var(--sklearn-color-fitted-level-0);\n",
       "}\n",
       "\n",
       "/* on hover */\n",
       "#sk-container-id-1 div.sk-estimator:hover {\n",
       "  /* unfitted */\n",
       "  background-color: var(--sklearn-color-unfitted-level-2);\n",
       "}\n",
       "\n",
       "#sk-container-id-1 div.sk-estimator.fitted:hover {\n",
       "  /* fitted */\n",
       "  background-color: var(--sklearn-color-fitted-level-2);\n",
       "}\n",
       "\n",
       "/* Specification for estimator info (e.g. \"i\" and \"?\") */\n",
       "\n",
       "/* Common style for \"i\" and \"?\" */\n",
       "\n",
       ".sk-estimator-doc-link,\n",
       "a:link.sk-estimator-doc-link,\n",
       "a:visited.sk-estimator-doc-link {\n",
       "  float: right;\n",
       "  font-size: smaller;\n",
       "  line-height: 1em;\n",
       "  font-family: monospace;\n",
       "  background-color: var(--sklearn-color-background);\n",
       "  border-radius: 1em;\n",
       "  height: 1em;\n",
       "  width: 1em;\n",
       "  text-decoration: none !important;\n",
       "  margin-left: 0.5em;\n",
       "  text-align: center;\n",
       "  /* unfitted */\n",
       "  border: var(--sklearn-color-unfitted-level-1) 1pt solid;\n",
       "  color: var(--sklearn-color-unfitted-level-1);\n",
       "}\n",
       "\n",
       ".sk-estimator-doc-link.fitted,\n",
       "a:link.sk-estimator-doc-link.fitted,\n",
       "a:visited.sk-estimator-doc-link.fitted {\n",
       "  /* fitted */\n",
       "  border: var(--sklearn-color-fitted-level-1) 1pt solid;\n",
       "  color: var(--sklearn-color-fitted-level-1);\n",
       "}\n",
       "\n",
       "/* On hover */\n",
       "div.sk-estimator:hover .sk-estimator-doc-link:hover,\n",
       ".sk-estimator-doc-link:hover,\n",
       "div.sk-label-container:hover .sk-estimator-doc-link:hover,\n",
       ".sk-estimator-doc-link:hover {\n",
       "  /* unfitted */\n",
       "  background-color: var(--sklearn-color-unfitted-level-3);\n",
       "  color: var(--sklearn-color-background);\n",
       "  text-decoration: none;\n",
       "}\n",
       "\n",
       "div.sk-estimator.fitted:hover .sk-estimator-doc-link.fitted:hover,\n",
       ".sk-estimator-doc-link.fitted:hover,\n",
       "div.sk-label-container:hover .sk-estimator-doc-link.fitted:hover,\n",
       ".sk-estimator-doc-link.fitted:hover {\n",
       "  /* fitted */\n",
       "  background-color: var(--sklearn-color-fitted-level-3);\n",
       "  color: var(--sklearn-color-background);\n",
       "  text-decoration: none;\n",
       "}\n",
       "\n",
       "/* Span, style for the box shown on hovering the info icon */\n",
       ".sk-estimator-doc-link span {\n",
       "  display: none;\n",
       "  z-index: 9999;\n",
       "  position: relative;\n",
       "  font-weight: normal;\n",
       "  right: .2ex;\n",
       "  padding: .5ex;\n",
       "  margin: .5ex;\n",
       "  width: min-content;\n",
       "  min-width: 20ex;\n",
       "  max-width: 50ex;\n",
       "  color: var(--sklearn-color-text);\n",
       "  box-shadow: 2pt 2pt 4pt #999;\n",
       "  /* unfitted */\n",
       "  background: var(--sklearn-color-unfitted-level-0);\n",
       "  border: .5pt solid var(--sklearn-color-unfitted-level-3);\n",
       "}\n",
       "\n",
       ".sk-estimator-doc-link.fitted span {\n",
       "  /* fitted */\n",
       "  background: var(--sklearn-color-fitted-level-0);\n",
       "  border: var(--sklearn-color-fitted-level-3);\n",
       "}\n",
       "\n",
       ".sk-estimator-doc-link:hover span {\n",
       "  display: block;\n",
       "}\n",
       "\n",
       "/* \"?\"-specific style due to the `<a>` HTML tag */\n",
       "\n",
       "#sk-container-id-1 a.estimator_doc_link {\n",
       "  float: right;\n",
       "  font-size: 1rem;\n",
       "  line-height: 1em;\n",
       "  font-family: monospace;\n",
       "  background-color: var(--sklearn-color-background);\n",
       "  border-radius: 1rem;\n",
       "  height: 1rem;\n",
       "  width: 1rem;\n",
       "  text-decoration: none;\n",
       "  /* unfitted */\n",
       "  color: var(--sklearn-color-unfitted-level-1);\n",
       "  border: var(--sklearn-color-unfitted-level-1) 1pt solid;\n",
       "}\n",
       "\n",
       "#sk-container-id-1 a.estimator_doc_link.fitted {\n",
       "  /* fitted */\n",
       "  border: var(--sklearn-color-fitted-level-1) 1pt solid;\n",
       "  color: var(--sklearn-color-fitted-level-1);\n",
       "}\n",
       "\n",
       "/* On hover */\n",
       "#sk-container-id-1 a.estimator_doc_link:hover {\n",
       "  /* unfitted */\n",
       "  background-color: var(--sklearn-color-unfitted-level-3);\n",
       "  color: var(--sklearn-color-background);\n",
       "  text-decoration: none;\n",
       "}\n",
       "\n",
       "#sk-container-id-1 a.estimator_doc_link.fitted:hover {\n",
       "  /* fitted */\n",
       "  background-color: var(--sklearn-color-fitted-level-3);\n",
       "}\n",
       "</style><div id=\"sk-container-id-1\" class=\"sk-top-container\"><div class=\"sk-text-repr-fallback\"><pre>LGBMRegressor(max_depth=9)</pre><b>In a Jupyter environment, please rerun this cell to show the HTML representation or trust the notebook. <br />On GitHub, the HTML representation is unable to render, please try loading this page with nbviewer.org.</b></div><div class=\"sk-container\" hidden><div class=\"sk-item\"><div class=\"sk-estimator fitted sk-toggleable\"><input class=\"sk-toggleable__control sk-hidden--visually\" id=\"sk-estimator-id-1\" type=\"checkbox\" checked><label for=\"sk-estimator-id-1\" class=\"sk-toggleable__label fitted sk-toggleable__label-arrow\"><div><div>LGBMRegressor</div></div><div><span class=\"sk-estimator-doc-link fitted\">i<span>Fitted</span></span></div></label><div class=\"sk-toggleable__content fitted\"><pre>LGBMRegressor(max_depth=9)</pre></div> </div></div></div></div>"
      ],
      "text/plain": [
       "LGBMRegressor(max_depth=9)"
      ]
     },
     "execution_count": 28,
     "metadata": {},
     "output_type": "execute_result"
    }
   ],
   "source": [
    "model.named_steps['models']"
   ]
  },
  {
   "cell_type": "markdown",
   "metadata": {},
   "source": [
    "#### Важность признаков"
   ]
  },
  {
   "cell_type": "code",
   "execution_count": 29,
   "metadata": {},
   "outputs": [
    {
     "name": "stderr",
     "output_type": "stream",
     "text": [
      "C:\\Users\\kapit\\AppData\\Local\\Temp\\ipykernel_20940\\1829821018.py:4: FutureWarning: \n",
      "\n",
      "Passing `palette` without assigning `hue` is deprecated and will be removed in v0.14.0. Assign the `y` variable to `hue` and set `legend=False` for the same effect.\n",
      "\n",
      "  sns.barplot(x=\"Value\", y=\"Feature\", data=feature_imp.sort_values(by=\"Value\", ascending=False), palette='YlGnBu')\n"
     ]
    },
    {
     "data": {
      "image/png": "[encoded data removed]",
      "text/plain": [
       "<Figure size 1500x600 with 1 Axes>"
      ]
     },
     "metadata": {},
     "output_type": "display_data"
    }
   ],
   "source": [
    "plt.figure(figsize=(15,6), dpi=100)\n",
    "feature_importance = model.named_steps['models'].feature_importances_\n",
    "feature_imp = pd.DataFrame(sorted(zip(feature_importance, X_train.columns)), columns=['Value','Feature'])\n",
    "sns.barplot(x=\"Value\", y=\"Feature\", data=feature_imp.sort_values(by=\"Value\", ascending=False), palette='YlGnBu')\n",
    "plt.title('Feature importance')\n",
    "plt.tight_layout()\n",
    "plt.show(); "
   ]
  },
  {
   "cell_type": "markdown",
   "metadata": {},
   "source": [
    "### Вывод"
   ]
  },
  {
   "cell_type": "markdown",
   "metadata": {},
   "source": [
    "Был создан пайплайн для поиска лучшей модели и подбора гиперпараметров между LinearRegression, LGBMRegressor, DecisionTreeRegressor. Лучшая модель на кросс-валидации - **LGBMRegressor(max_depth=9)** с RMSE -24.01."
   ]
  },
  {
   "cell_type": "markdown",
   "metadata": {},
   "source": [
    "## Тестирование"
   ]
  },
  {
   "cell_type": "code",
   "execution_count": 30,
   "metadata": {},
   "outputs": [
    {
     "name": "stderr",
     "output_type": "stream",
     "text": [
      "c:\\Users\\kapit\\Desktop\\Разные файлы\\Python\\Practicum_GIT\\.venv\\lib\\site-packages\\sklearn\\utils\\validation.py:2739: UserWarning: X does not have valid feature names, but LGBMRegressor was fitted with feature names\n",
      "  warnings.warn(\n"
     ]
    },
    {
     "data": {
      "text/plain": [
       "43.33804255739681"
      ]
     },
     "execution_count": 30,
     "metadata": {},
     "output_type": "execute_result"
    }
   ],
   "source": [
    "pred = model.predict(X_test)\n",
    "root_mean_squared_error(y_test, pred)"
   ]
  },
  {
   "cell_type": "code",
   "execution_count": 31,
   "metadata": {},
   "outputs": [
    {
     "data": {
      "image/png": "[encoded data removed]",
      "text/plain": [
       "<Figure size 1500x600 with 1 Axes>"
      ]
     },
     "metadata": {},
     "output_type": "display_data"
    }
   ],
   "source": [
    "pd.DataFrame({'Факт': y_test, 'Предсказание': pred}).plot(figsize=(15, 6), color=sns.color_palette('YlGnBu', n_colors=2));"
   ]
  },
  {
   "cell_type": "markdown",
   "metadata": {},
   "source": [
    "### Вывод"
   ]
  },
  {
   "cell_type": "markdown",
   "metadata": {},
   "source": [
    "На тестовой выборке модель показала RMSE 43.33, что в 2 раза хуже чем на кросс-валидации, но укладывается в требование - RMSE не более 48. В тестовую выборку попали данные относящиеся ко второй половине августа. Из-за того что в данных наблюдается ярко выраженная тенденция роста ближе к концу лета и этот рост ускоряется, то модель хуже предсказывает этот период, отсюда, вероятнее всего, RMSE заметно хуже чем на кросс-валидации.   "
   ]
  }
 ],
 "metadata": {
  "ExecuteTimeLog": [
   {
    "duration": 3641,
    "start_time": "2024-07-08T05:27:11.697Z"
   },
   {
    "duration": 1529,
    "start_time": "2024-07-08T05:27:25.887Z"
   },
   {
    "duration": 2,
    "start_time": "2024-07-08T05:27:30.162Z"
   },
   {
    "duration": 150,
    "start_time": "2024-07-08T05:28:13.812Z"
   },
   {
    "duration": 11,
    "start_time": "2024-07-08T05:28:27.114Z"
   },
   {
    "duration": 9,
    "start_time": "2024-07-08T05:28:34.704Z"
   },
   {
    "duration": 10,
    "start_time": "2024-07-08T05:29:23.995Z"
   },
   {
    "duration": 4,
    "start_time": "2024-07-08T05:30:07.190Z"
   },
   {
    "duration": 9,
    "start_time": "2024-07-08T05:30:15.019Z"
   },
   {
    "duration": 36,
    "start_time": "2024-07-08T05:31:00.763Z"
   },
   {
    "duration": 76,
    "start_time": "2024-07-08T05:31:01.003Z"
   },
   {
    "duration": 5,
    "start_time": "2024-07-08T05:31:01.257Z"
   },
   {
    "duration": 8,
    "start_time": "2024-07-08T05:31:01.850Z"
   },
   {
    "duration": 135,
    "start_time": "2024-07-08T05:31:02.443Z"
   },
   {
    "duration": 8,
    "start_time": "2024-07-08T05:31:40.656Z"
   },
   {
    "duration": 68,
    "start_time": "2024-07-08T05:31:47.451Z"
   },
   {
    "duration": 9,
    "start_time": "2024-07-08T05:31:51.456Z"
   },
   {
    "duration": 11,
    "start_time": "2024-07-08T05:31:51.696Z"
   },
   {
    "duration": 6,
    "start_time": "2024-07-08T05:32:02.309Z"
   },
   {
    "duration": 657,
    "start_time": "2024-07-08T05:32:18.486Z"
   },
   {
    "duration": 21,
    "start_time": "2024-07-08T05:33:25.006Z"
   },
   {
    "duration": 17,
    "start_time": "2024-07-08T05:34:30.084Z"
   },
   {
    "duration": 7,
    "start_time": "2024-07-08T05:35:51.348Z"
   },
   {
    "duration": 5,
    "start_time": "2024-07-08T05:35:52.818Z"
   },
   {
    "duration": 181,
    "start_time": "2024-07-08T05:35:56.908Z"
   },
   {
    "duration": 8,
    "start_time": "2024-07-08T05:36:11.106Z"
   },
   {
    "duration": 6,
    "start_time": "2024-07-08T05:36:28.237Z"
   },
   {
    "duration": 38,
    "start_time": "2024-07-08T05:36:42.229Z"
   },
   {
    "duration": 11,
    "start_time": "2024-07-08T05:36:43.002Z"
   },
   {
    "duration": 159,
    "start_time": "2024-07-08T05:36:46.481Z"
   },
   {
    "duration": 5,
    "start_time": "2024-07-08T05:37:01.685Z"
   },
   {
    "duration": 8,
    "start_time": "2024-07-08T05:42:01.766Z"
   },
   {
    "duration": 189,
    "start_time": "2024-07-08T05:42:05.958Z"
   },
   {
    "duration": 6,
    "start_time": "2024-07-08T05:42:13.165Z"
   },
   {
    "duration": 38,
    "start_time": "2024-07-08T05:42:56.082Z"
   },
   {
    "duration": 9,
    "start_time": "2024-07-08T05:42:56.291Z"
   },
   {
    "duration": 6,
    "start_time": "2024-07-08T05:42:56.531Z"
   },
   {
    "duration": 8,
    "start_time": "2024-07-08T05:42:56.853Z"
   },
   {
    "duration": 65,
    "start_time": "2024-07-08T05:42:57.206Z"
   },
   {
    "duration": 9,
    "start_time": "2024-07-08T05:42:57.528Z"
   },
   {
    "duration": 8,
    "start_time": "2024-07-08T05:42:58.362Z"
   },
   {
    "duration": 6,
    "start_time": "2024-07-08T05:43:00.559Z"
   },
   {
    "duration": 514,
    "start_time": "2024-07-08T05:43:01.969Z"
   },
   {
    "duration": 4,
    "start_time": "2024-07-08T05:43:04.009Z"
   },
   {
    "duration": 9,
    "start_time": "2024-07-08T05:43:05.231Z"
   },
   {
    "duration": 138,
    "start_time": "2024-07-08T05:43:07.482Z"
   },
   {
    "duration": 7,
    "start_time": "2024-07-08T05:43:12.926Z"
   },
   {
    "duration": 8,
    "start_time": "2024-07-08T05:43:21.462Z"
   },
   {
    "duration": 38,
    "start_time": "2024-07-08T05:44:20.916Z"
   },
   {
    "duration": 10,
    "start_time": "2024-07-08T05:44:21.163Z"
   },
   {
    "duration": 6,
    "start_time": "2024-07-08T05:44:21.913Z"
   },
   {
    "duration": 8,
    "start_time": "2024-07-08T05:44:46.528Z"
   },
   {
    "duration": 223,
    "start_time": "2024-07-08T05:44:46.806Z"
   },
   {
    "duration": 9,
    "start_time": "2024-07-08T05:44:47.030Z"
   },
   {
    "duration": 9,
    "start_time": "2024-07-08T05:44:47.278Z"
   },
   {
    "duration": 6,
    "start_time": "2024-07-08T05:44:47.759Z"
   },
   {
    "duration": 4,
    "start_time": "2024-07-08T05:44:52.303Z"
   },
   {
    "duration": 139,
    "start_time": "2024-07-08T05:44:55.499Z"
   },
   {
    "duration": 6,
    "start_time": "2024-07-08T05:44:58.979Z"
   },
   {
    "duration": 39,
    "start_time": "2024-07-08T05:45:54.262Z"
   },
   {
    "duration": 11,
    "start_time": "2024-07-08T05:45:54.479Z"
   },
   {
    "duration": 6,
    "start_time": "2024-07-08T05:45:54.675Z"
   },
   {
    "duration": 8,
    "start_time": "2024-07-08T05:45:54.892Z"
   },
   {
    "duration": 66,
    "start_time": "2024-07-08T05:45:55.216Z"
   },
   {
    "duration": 9,
    "start_time": "2024-07-08T05:45:57.217Z"
   },
   {
    "duration": 9,
    "start_time": "2024-07-08T05:45:57.509Z"
   },
   {
    "duration": 6,
    "start_time": "2024-07-08T05:45:58.049Z"
   },
   {
    "duration": 8,
    "start_time": "2024-07-08T05:46:00.570Z"
   },
   {
    "duration": 967,
    "start_time": "2024-07-08T05:46:11.003Z"
   },
   {
    "duration": 8,
    "start_time": "2024-07-08T05:46:51.346Z"
   },
   {
    "duration": 207,
    "start_time": "2024-07-08T06:08:21.126Z"
   },
   {
    "duration": 13,
    "start_time": "2024-07-08T06:08:23.683Z"
   },
   {
    "duration": 598,
    "start_time": "2024-07-08T06:08:26.045Z"
   },
   {
    "duration": 10,
    "start_time": "2024-07-08T06:08:31.242Z"
   },
   {
    "duration": 8,
    "start_time": "2024-07-08T06:08:38.607Z"
   },
   {
    "duration": 10,
    "start_time": "2024-07-08T06:08:50.803Z"
   },
   {
    "duration": 43,
    "start_time": "2024-07-08T06:08:56.654Z"
   },
   {
    "duration": 10,
    "start_time": "2024-07-08T06:08:56.930Z"
   },
   {
    "duration": 7,
    "start_time": "2024-07-08T06:08:57.185Z"
   },
   {
    "duration": 7,
    "start_time": "2024-07-08T06:08:57.861Z"
   },
   {
    "duration": 69,
    "start_time": "2024-07-08T06:08:58.175Z"
   },
   {
    "duration": 9,
    "start_time": "2024-07-08T06:08:58.476Z"
   },
   {
    "duration": 9,
    "start_time": "2024-07-08T06:08:58.730Z"
   },
   {
    "duration": 6,
    "start_time": "2024-07-08T06:08:59.878Z"
   },
   {
    "duration": 212,
    "start_time": "2024-07-08T06:09:05.631Z"
   },
   {
    "duration": 507,
    "start_time": "2024-07-08T06:09:09.232Z"
   },
   {
    "duration": 10,
    "start_time": "2024-07-08T06:09:22.297Z"
   },
   {
    "duration": 42,
    "start_time": "2024-07-08T06:13:50.299Z"
   },
   {
    "duration": 9,
    "start_time": "2024-07-08T06:13:51.041Z"
   },
   {
    "duration": 6,
    "start_time": "2024-07-08T06:14:05.067Z"
   },
   {
    "duration": 8,
    "start_time": "2024-07-08T06:14:35.060Z"
   },
   {
    "duration": 3,
    "start_time": "2024-07-08T06:14:42.891Z"
   },
   {
    "duration": 9,
    "start_time": "2024-07-08T06:14:46.380Z"
   },
   {
    "duration": 9,
    "start_time": "2024-07-08T06:14:53.161Z"
   },
   {
    "duration": 4,
    "start_time": "2024-07-08T06:15:19.400Z"
   },
   {
    "duration": 42,
    "start_time": "2024-07-08T06:15:26.631Z"
   },
   {
    "duration": 9,
    "start_time": "2024-07-08T06:15:27.006Z"
   },
   {
    "duration": 6,
    "start_time": "2024-07-08T06:15:27.374Z"
   },
   {
    "duration": 4,
    "start_time": "2024-07-08T06:15:34.581Z"
   },
   {
    "duration": 9,
    "start_time": "2024-07-08T06:15:36.456Z"
   },
   {
    "duration": 11,
    "start_time": "2024-07-08T06:15:48.666Z"
   },
   {
    "duration": 5,
    "start_time": "2024-07-08T06:15:58.312Z"
   },
   {
    "duration": 5,
    "start_time": "2024-07-08T06:16:05.497Z"
   },
   {
    "duration": 6,
    "start_time": "2024-07-08T06:16:12.120Z"
   },
   {
    "duration": 6,
    "start_time": "2024-07-08T06:16:16.192Z"
   },
   {
    "duration": 6,
    "start_time": "2024-07-08T06:16:21.885Z"
   },
   {
    "duration": 9,
    "start_time": "2024-07-08T06:16:22.799Z"
   },
   {
    "duration": 6,
    "start_time": "2024-07-08T06:16:26.102Z"
   },
   {
    "duration": 189,
    "start_time": "2024-07-08T06:16:29.207Z"
   },
   {
    "duration": 3,
    "start_time": "2024-07-08T06:16:51.659Z"
   },
   {
    "duration": 9,
    "start_time": "2024-07-08T06:16:52.785Z"
   },
   {
    "duration": 203,
    "start_time": "2024-07-08T06:17:00.818Z"
   },
   {
    "duration": 8,
    "start_time": "2024-07-08T06:17:10.495Z"
   },
   {
    "duration": 6,
    "start_time": "2024-07-08T06:17:13.876Z"
   },
   {
    "duration": 51,
    "start_time": "2024-07-08T06:17:19.043Z"
   },
   {
    "duration": 12,
    "start_time": "2024-07-08T06:17:19.269Z"
   },
   {
    "duration": 7,
    "start_time": "2024-07-08T06:17:19.493Z"
   },
   {
    "duration": 5,
    "start_time": "2024-07-08T06:17:19.741Z"
   },
   {
    "duration": 10,
    "start_time": "2024-07-08T06:17:20.108Z"
   },
   {
    "duration": 5,
    "start_time": "2024-07-08T06:17:20.371Z"
   },
   {
    "duration": 6,
    "start_time": "2024-07-08T06:17:27.503Z"
   },
   {
    "duration": 50,
    "start_time": "2024-07-08T06:18:03.886Z"
   },
   {
    "duration": 63,
    "start_time": "2024-07-08T06:18:10.216Z"
   },
   {
    "duration": 73,
    "start_time": "2024-07-08T06:19:24.529Z"
   },
   {
    "duration": 80,
    "start_time": "2024-07-08T06:19:48.701Z"
   },
   {
    "duration": 69,
    "start_time": "2024-07-08T06:20:25.571Z"
   },
   {
    "duration": 10,
    "start_time": "2024-07-08T06:20:34.324Z"
   },
   {
    "duration": 128,
    "start_time": "2024-07-08T06:20:43.437Z"
   },
   {
    "duration": 8,
    "start_time": "2024-07-08T06:22:10.537Z"
   },
   {
    "duration": 159,
    "start_time": "2024-07-08T06:22:24.629Z"
   },
   {
    "duration": 224,
    "start_time": "2024-07-08T06:22:34.582Z"
   },
   {
    "duration": 226,
    "start_time": "2024-07-08T06:22:46.732Z"
   },
   {
    "duration": 264,
    "start_time": "2024-07-08T06:22:53.706Z"
   },
   {
    "duration": 229,
    "start_time": "2024-07-08T06:23:04.126Z"
   },
   {
    "duration": 180,
    "start_time": "2024-07-08T06:23:40.665Z"
   },
   {
    "duration": 210,
    "start_time": "2024-07-08T06:23:53.123Z"
   },
   {
    "duration": 248,
    "start_time": "2024-07-08T06:24:20.041Z"
   },
   {
    "duration": 9,
    "start_time": "2024-07-08T06:25:07.435Z"
   },
   {
    "duration": 7,
    "start_time": "2024-07-08T06:25:24.303Z"
   },
   {
    "duration": 323,
    "start_time": "2024-07-08T06:25:51.490Z"
   },
   {
    "duration": 151,
    "start_time": "2024-07-08T06:26:08.636Z"
   },
   {
    "duration": 8,
    "start_time": "2024-07-08T06:26:38.779Z"
   },
   {
    "duration": 258,
    "start_time": "2024-07-08T06:26:42.799Z"
   },
   {
    "duration": 248,
    "start_time": "2024-07-08T06:27:20.990Z"
   },
   {
    "duration": 475,
    "start_time": "2024-07-08T06:29:26.632Z"
   },
   {
    "duration": 12,
    "start_time": "2024-07-08T06:29:39.457Z"
   },
   {
    "duration": 11,
    "start_time": "2024-07-08T06:29:46.343Z"
   },
   {
    "duration": 224,
    "start_time": "2024-07-08T06:30:41.814Z"
   },
   {
    "duration": 223,
    "start_time": "2024-07-08T06:30:46.885Z"
   },
   {
    "duration": 236,
    "start_time": "2024-07-08T06:30:52.907Z"
   },
   {
    "duration": 255,
    "start_time": "2024-07-08T06:31:04.232Z"
   },
   {
    "duration": 233,
    "start_time": "2024-07-08T06:31:25.705Z"
   },
   {
    "duration": 233,
    "start_time": "2024-07-08T06:31:29.358Z"
   },
   {
    "duration": 249,
    "start_time": "2024-07-08T06:31:34.990Z"
   },
   {
    "duration": 209,
    "start_time": "2024-07-08T06:31:53.921Z"
   },
   {
    "duration": 151,
    "start_time": "2024-07-08T06:31:57.386Z"
   },
   {
    "duration": 232,
    "start_time": "2024-07-08T06:32:33.634Z"
   },
   {
    "duration": 228,
    "start_time": "2024-07-08T06:32:38.307Z"
   },
   {
    "duration": 234,
    "start_time": "2024-07-08T06:32:41.651Z"
   },
   {
    "duration": 227,
    "start_time": "2024-07-08T06:32:44.682Z"
   },
   {
    "duration": 227,
    "start_time": "2024-07-08T06:32:47.704Z"
   },
   {
    "duration": 8,
    "start_time": "2024-07-08T06:32:50.366Z"
   },
   {
    "duration": 225,
    "start_time": "2024-07-08T06:32:53.569Z"
   },
   {
    "duration": 236,
    "start_time": "2024-07-08T06:33:06.372Z"
   },
   {
    "duration": 214,
    "start_time": "2024-07-08T06:33:13.902Z"
   },
   {
    "duration": 152,
    "start_time": "2024-07-08T06:33:17.472Z"
   },
   {
    "duration": 6,
    "start_time": "2024-07-08T06:36:44.964Z"
   },
   {
    "duration": 440,
    "start_time": "2024-07-08T06:37:42.700Z"
   },
   {
    "duration": 232,
    "start_time": "2024-07-08T06:38:02.906Z"
   },
   {
    "duration": 7,
    "start_time": "2024-07-08T06:38:24.881Z"
   },
   {
    "duration": 6,
    "start_time": "2024-07-08T06:38:39.926Z"
   },
   {
    "duration": 4,
    "start_time": "2024-07-08T06:39:41.239Z"
   },
   {
    "duration": 2,
    "start_time": "2024-07-08T06:40:36.217Z"
   },
   {
    "duration": 4,
    "start_time": "2024-07-08T06:40:40.296Z"
   },
   {
    "duration": 2,
    "start_time": "2024-07-08T06:41:02.237Z"
   },
   {
    "duration": 4,
    "start_time": "2024-07-08T06:42:24.128Z"
   },
   {
    "duration": 4,
    "start_time": "2024-07-08T06:43:09.683Z"
   },
   {
    "duration": 51,
    "start_time": "2024-07-08T06:43:44.627Z"
   },
   {
    "duration": 4,
    "start_time": "2024-07-08T06:43:47.957Z"
   },
   {
    "duration": 4,
    "start_time": "2024-07-08T06:43:59.028Z"
   },
   {
    "duration": 4,
    "start_time": "2024-07-08T06:44:05.043Z"
   },
   {
    "duration": 5,
    "start_time": "2024-07-08T06:44:09.655Z"
   },
   {
    "duration": 3,
    "start_time": "2024-07-08T06:44:20.373Z"
   },
   {
    "duration": 5,
    "start_time": "2024-07-08T06:44:36.850Z"
   },
   {
    "duration": 14,
    "start_time": "2024-07-08T06:45:07.219Z"
   },
   {
    "duration": 4,
    "start_time": "2024-07-08T06:45:23.840Z"
   },
   {
    "duration": 4,
    "start_time": "2024-07-08T06:45:36.229Z"
   },
   {
    "duration": 3,
    "start_time": "2024-07-08T06:47:22.551Z"
   },
   {
    "duration": 11,
    "start_time": "2024-07-08T06:47:23.324Z"
   },
   {
    "duration": 4,
    "start_time": "2024-07-08T06:47:31.596Z"
   },
   {
    "duration": 3,
    "start_time": "2024-07-08T06:47:42.809Z"
   },
   {
    "duration": 5,
    "start_time": "2024-07-08T06:47:46.095Z"
   },
   {
    "duration": 3,
    "start_time": "2024-07-08T06:49:14.364Z"
   },
   {
    "duration": 7,
    "start_time": "2024-07-08T06:49:17.382Z"
   },
   {
    "duration": 6,
    "start_time": "2024-07-08T06:49:20.214Z"
   },
   {
    "duration": 6,
    "start_time": "2024-07-08T06:49:23.919Z"
   },
   {
    "duration": 5,
    "start_time": "2024-07-08T06:49:31.936Z"
   },
   {
    "duration": 12,
    "start_time": "2024-07-08T06:49:57.760Z"
   },
   {
    "duration": 8,
    "start_time": "2024-07-08T06:50:12.722Z"
   },
   {
    "duration": 3,
    "start_time": "2024-07-08T06:51:12.905Z"
   },
   {
    "duration": 4,
    "start_time": "2024-07-08T06:51:15.116Z"
   },
   {
    "duration": 3,
    "start_time": "2024-07-08T06:51:22.916Z"
   },
   {
    "duration": 6,
    "start_time": "2024-07-08T06:51:24.626Z"
   },
   {
    "duration": 4,
    "start_time": "2024-07-08T06:51:34.526Z"
   },
   {
    "duration": 5,
    "start_time": "2024-07-08T06:51:34.983Z"
   },
   {
    "duration": 7,
    "start_time": "2024-07-08T06:51:35.509Z"
   },
   {
    "duration": 2,
    "start_time": "2024-07-08T06:51:39.417Z"
   },
   {
    "duration": 5,
    "start_time": "2024-07-08T06:51:41.239Z"
   },
   {
    "duration": 8,
    "start_time": "2024-07-08T06:51:41.959Z"
   },
   {
    "duration": 4,
    "start_time": "2024-07-08T06:51:52.032Z"
   },
   {
    "duration": 4,
    "start_time": "2024-07-08T06:52:03.155Z"
   },
   {
    "duration": 4,
    "start_time": "2024-07-08T06:52:58.612Z"
   },
   {
    "duration": 4,
    "start_time": "2024-07-08T06:53:14.068Z"
   },
   {
    "duration": 2,
    "start_time": "2024-07-08T06:54:01.529Z"
   },
   {
    "duration": 3,
    "start_time": "2024-07-08T06:54:25.575Z"
   },
   {
    "duration": 4,
    "start_time": "2024-07-08T06:55:43.757Z"
   },
   {
    "duration": 7,
    "start_time": "2024-07-08T06:55:52.937Z"
   },
   {
    "duration": 3,
    "start_time": "2024-07-08T06:56:50.801Z"
   },
   {
    "duration": 4,
    "start_time": "2024-07-08T06:56:51.025Z"
   },
   {
    "duration": 4,
    "start_time": "2024-07-08T06:56:51.257Z"
   },
   {
    "duration": 4,
    "start_time": "2024-07-08T06:57:12.483Z"
   },
   {
    "duration": 6,
    "start_time": "2024-07-08T06:57:13.151Z"
   },
   {
    "duration": 12,
    "start_time": "2024-07-08T06:57:13.886Z"
   },
   {
    "duration": 3,
    "start_time": "2024-07-08T06:57:19.825Z"
   },
   {
    "duration": 5,
    "start_time": "2024-07-08T06:57:20.928Z"
   },
   {
    "duration": 4,
    "start_time": "2024-07-08T06:57:25.570Z"
   },
   {
    "duration": 5,
    "start_time": "2024-07-08T06:57:26.404Z"
   },
   {
    "duration": 6,
    "start_time": "2024-07-08T06:57:36.506Z"
   },
   {
    "duration": 3,
    "start_time": "2024-07-08T06:57:39.177Z"
   },
   {
    "duration": 5,
    "start_time": "2024-07-08T06:57:39.476Z"
   },
   {
    "duration": 2,
    "start_time": "2024-07-08T06:57:39.746Z"
   },
   {
    "duration": 5,
    "start_time": "2024-07-08T06:57:40.001Z"
   },
   {
    "duration": 4,
    "start_time": "2024-07-08T06:57:40.271Z"
   },
   {
    "duration": 4,
    "start_time": "2024-07-08T06:57:40.593Z"
   },
   {
    "duration": 24,
    "start_time": "2024-07-08T06:58:56.271Z"
   },
   {
    "duration": 7,
    "start_time": "2024-07-08T07:00:07.874Z"
   },
   {
    "duration": 8,
    "start_time": "2024-07-08T07:00:21.767Z"
   },
   {
    "duration": 3,
    "start_time": "2024-07-08T07:05:46.530Z"
   },
   {
    "duration": 3,
    "start_time": "2024-07-08T07:08:38.881Z"
   },
   {
    "duration": 5,
    "start_time": "2024-07-08T07:12:50.804Z"
   },
   {
    "duration": 4,
    "start_time": "2024-07-08T07:15:54.565Z"
   },
   {
    "duration": 68,
    "start_time": "2024-07-08T07:16:55.392Z"
   },
   {
    "duration": 4,
    "start_time": "2024-07-08T07:17:17.112Z"
   },
   {
    "duration": 8,
    "start_time": "2024-07-08T07:17:21.117Z"
   },
   {
    "duration": 5,
    "start_time": "2024-07-08T07:17:51.253Z"
   },
   {
    "duration": 2,
    "start_time": "2024-07-08T07:17:51.747Z"
   },
   {
    "duration": 3,
    "start_time": "2024-07-08T07:17:52.002Z"
   },
   {
    "duration": 8,
    "start_time": "2024-07-08T07:17:52.475Z"
   },
   {
    "duration": 17,
    "start_time": "2024-07-08T07:18:14.398Z"
   },
   {
    "duration": 2,
    "start_time": "2024-07-08T07:18:58.874Z"
   },
   {
    "duration": 3,
    "start_time": "2024-07-08T07:19:30.217Z"
   },
   {
    "duration": 12,
    "start_time": "2024-07-08T07:20:30.023Z"
   },
   {
    "duration": 3,
    "start_time": "2024-07-08T07:21:07.531Z"
   },
   {
    "duration": 157111,
    "start_time": "2024-07-08T07:21:08.192Z"
   },
   {
    "duration": 0,
    "start_time": "2024-07-08T07:23:45.305Z"
   },
   {
    "duration": 2,
    "start_time": "2024-07-08T07:23:46.753Z"
   },
   {
    "duration": 3,
    "start_time": "2024-07-08T07:23:47.772Z"
   },
   {
    "duration": 80458,
    "start_time": "2024-07-08T07:23:48.335Z"
   },
   {
    "duration": 3,
    "start_time": "2024-07-08T07:28:36.160Z"
   },
   {
    "duration": 7,
    "start_time": "2024-07-08T07:28:56.102Z"
   },
   {
    "duration": 20,
    "start_time": "2024-07-08T07:29:11.260Z"
   },
   {
    "duration": 21,
    "start_time": "2024-07-08T07:29:34.151Z"
   },
   {
    "duration": 6,
    "start_time": "2024-07-08T07:38:43.710Z"
   },
   {
    "duration": 9,
    "start_time": "2024-07-08T07:38:50.178Z"
   },
   {
    "duration": 11,
    "start_time": "2024-07-08T07:39:06.540Z"
   },
   {
    "duration": 5,
    "start_time": "2024-07-08T07:39:45.293Z"
   },
   {
    "duration": 12,
    "start_time": "2024-07-08T07:39:47.596Z"
   },
   {
    "duration": 4,
    "start_time": "2024-07-08T07:52:12.961Z"
   },
   {
    "duration": 5,
    "start_time": "2024-07-08T07:52:13.230Z"
   },
   {
    "duration": 8,
    "start_time": "2024-07-08T07:52:17.513Z"
   },
   {
    "duration": 10,
    "start_time": "2024-07-08T07:55:45.942Z"
   },
   {
    "duration": 11,
    "start_time": "2024-07-08T07:55:52.732Z"
   },
   {
    "duration": 3,
    "start_time": "2024-07-08T07:56:08.645Z"
   },
   {
    "duration": 10,
    "start_time": "2024-07-08T07:56:09.365Z"
   },
   {
    "duration": 7,
    "start_time": "2024-07-08T07:56:11.142Z"
   },
   {
    "duration": 10,
    "start_time": "2024-07-08T07:56:13.386Z"
   },
   {
    "duration": 6,
    "start_time": "2024-07-08T07:56:16.693Z"
   },
   {
    "duration": 11,
    "start_time": "2024-07-08T07:56:17.293Z"
   },
   {
    "duration": 2,
    "start_time": "2024-07-08T07:56:36.239Z"
   },
   {
    "duration": 3,
    "start_time": "2024-07-08T07:56:41.027Z"
   },
   {
    "duration": 5,
    "start_time": "2024-07-08T07:56:41.338Z"
   },
   {
    "duration": 8,
    "start_time": "2024-07-08T07:56:43.236Z"
   },
   {
    "duration": 5,
    "start_time": "2024-07-08T07:57:35.512Z"
   },
   {
    "duration": 8,
    "start_time": "2024-07-08T07:57:38.459Z"
   },
   {
    "duration": 11,
    "start_time": "2024-07-08T08:59:04.440Z"
   },
   {
    "duration": 12,
    "start_time": "2024-07-08T08:59:14.892Z"
   },
   {
    "duration": 4,
    "start_time": "2024-07-08T09:00:04.978Z"
   },
   {
    "duration": 25,
    "start_time": "2024-07-08T09:00:39.984Z"
   },
   {
    "duration": 4,
    "start_time": "2024-07-08T09:01:32.557Z"
   },
   {
    "duration": 215,
    "start_time": "2024-07-08T09:01:34.471Z"
   },
   {
    "duration": 12,
    "start_time": "2024-07-08T09:01:44.205Z"
   },
   {
    "duration": 15,
    "start_time": "2024-07-08T09:01:57.750Z"
   },
   {
    "duration": 9,
    "start_time": "2024-07-08T09:02:30.781Z"
   },
   {
    "duration": 4,
    "start_time": "2024-07-08T09:27:08.813Z"
   },
   {
    "duration": 221,
    "start_time": "2024-07-08T09:27:09.983Z"
   },
   {
    "duration": 9,
    "start_time": "2024-07-08T09:27:10.681Z"
   },
   {
    "duration": 6,
    "start_time": "2024-07-08T09:27:16.254Z"
   },
   {
    "duration": 187,
    "start_time": "2024-07-08T09:27:16.636Z"
   },
   {
    "duration": 10,
    "start_time": "2024-07-08T09:27:16.928Z"
   },
   {
    "duration": 6,
    "start_time": "2024-07-08T09:27:18.008Z"
   },
   {
    "duration": 239,
    "start_time": "2024-07-08T09:27:18.270Z"
   },
   {
    "duration": 9,
    "start_time": "2024-07-08T09:27:18.534Z"
   },
   {
    "duration": 7,
    "start_time": "2024-07-08T09:27:22.718Z"
   },
   {
    "duration": 203,
    "start_time": "2024-07-08T09:27:23.049Z"
   },
   {
    "duration": 9,
    "start_time": "2024-07-08T09:27:23.327Z"
   },
   {
    "duration": 6,
    "start_time": "2024-07-08T09:27:47.814Z"
   },
   {
    "duration": 194,
    "start_time": "2024-07-08T09:27:48.219Z"
   },
   {
    "duration": 9,
    "start_time": "2024-07-08T09:27:48.534Z"
   },
   {
    "duration": 3,
    "start_time": "2024-07-08T09:28:35.343Z"
   },
   {
    "duration": 91,
    "start_time": "2024-07-08T09:28:36.138Z"
   },
   {
    "duration": 7,
    "start_time": "2024-07-08T09:28:37.108Z"
   },
   {
    "duration": 5,
    "start_time": "2024-07-08T09:28:50.396Z"
   },
   {
    "duration": 191,
    "start_time": "2024-07-08T09:28:50.868Z"
   },
   {
    "duration": 10,
    "start_time": "2024-07-08T09:28:51.655Z"
   },
   {
    "duration": 6,
    "start_time": "2024-07-08T09:36:35.869Z"
   },
   {
    "duration": 799026,
    "start_time": "2024-07-08T09:36:42.079Z"
   },
   {
    "duration": 11,
    "start_time": "2024-07-08T09:51:06.908Z"
   },
   {
    "duration": 6,
    "start_time": "2024-07-08T09:52:29.978Z"
   },
   {
    "duration": 1163032,
    "start_time": "2024-07-08T09:52:31.276Z"
   },
   {
    "duration": 0,
    "start_time": "2024-07-08T10:11:54.310Z"
   },
   {
    "duration": 5,
    "start_time": "2024-07-08T10:11:57.842Z"
   },
   {
    "duration": 31432,
    "start_time": "2024-07-08T10:11:58.675Z"
   },
   {
    "duration": 5,
    "start_time": "2024-07-08T10:12:36.379Z"
   },
   {
    "duration": 438174,
    "start_time": "2024-07-08T10:12:37.323Z"
   },
   {
    "duration": 7,
    "start_time": "2024-07-08T10:19:58.647Z"
   },
   {
    "duration": 20645,
    "start_time": "2024-07-08T10:19:59.345Z"
   },
   {
    "duration": 3,
    "start_time": "2024-07-08T10:21:20.901Z"
   },
   {
    "duration": 33,
    "start_time": "2024-07-08T10:21:24.586Z"
   },
   {
    "duration": 28,
    "start_time": "2024-07-08T10:21:29.901Z"
   },
   {
    "duration": 7,
    "start_time": "2024-07-08T10:22:05.782Z"
   },
   {
    "duration": 2,
    "start_time": "2024-07-08T10:22:16.244Z"
   },
   {
    "duration": 10,
    "start_time": "2024-07-08T10:25:10.243Z"
   },
   {
    "duration": 9,
    "start_time": "2024-07-08T10:25:32.343Z"
   },
   {
    "duration": 13,
    "start_time": "2024-07-08T10:28:12.337Z"
   },
   {
    "duration": 8,
    "start_time": "2024-07-08T10:28:17.377Z"
   },
   {
    "duration": 3,
    "start_time": "2024-07-08T10:28:23.237Z"
   },
   {
    "duration": 8,
    "start_time": "2024-07-08T10:28:28.041Z"
   },
   {
    "duration": 5,
    "start_time": "2024-07-08T10:28:34.146Z"
   },
   {
    "duration": 10,
    "start_time": "2024-07-08T10:28:40.386Z"
   },
   {
    "duration": 9,
    "start_time": "2024-07-08T10:28:48.510Z"
   },
   {
    "duration": 85,
    "start_time": "2024-07-08T10:30:18.414Z"
   },
   {
    "duration": 11767,
    "start_time": "2024-07-08T10:30:45.823Z"
   },
   {
    "duration": 26,
    "start_time": "2024-07-08T10:31:03.910Z"
   },
   {
    "duration": 2,
    "start_time": "2024-07-08T10:31:10.990Z"
   },
   {
    "duration": 16,
    "start_time": "2024-07-08T10:31:12.234Z"
   },
   {
    "duration": 4,
    "start_time": "2024-07-08T10:34:50.349Z"
   },
   {
    "duration": 3,
    "start_time": "2024-07-08T10:34:54.331Z"
   },
   {
    "duration": 5,
    "start_time": "2024-07-08T10:34:56.181Z"
   },
   {
    "duration": 11622,
    "start_time": "2024-07-08T10:34:56.977Z"
   },
   {
    "duration": 112,
    "start_time": "2024-07-08T10:35:08.600Z"
   },
   {
    "duration": 24,
    "start_time": "2024-07-08T10:35:08.713Z"
   },
   {
    "duration": 21,
    "start_time": "2024-07-08T10:35:08.739Z"
   },
   {
    "duration": 7,
    "start_time": "2024-07-08T10:35:20.084Z"
   },
   {
    "duration": 3,
    "start_time": "2024-07-08T10:36:49.989Z"
   },
   {
    "duration": 4,
    "start_time": "2024-07-08T10:36:57.579Z"
   },
   {
    "duration": 2,
    "start_time": "2024-07-08T10:36:57.819Z"
   },
   {
    "duration": 5,
    "start_time": "2024-07-08T10:36:58.059Z"
   },
   {
    "duration": 12170,
    "start_time": "2024-07-08T10:36:59.724Z"
   },
   {
    "duration": 110,
    "start_time": "2024-07-08T10:37:11.897Z"
   },
   {
    "duration": 27,
    "start_time": "2024-07-08T10:37:58.773Z"
   },
   {
    "duration": 3,
    "start_time": "2024-07-08T10:38:05.515Z"
   },
   {
    "duration": 9,
    "start_time": "2024-07-08T10:38:06.835Z"
   },
   {
    "duration": 7,
    "start_time": "2024-07-08T10:38:08.147Z"
   },
   {
    "duration": 4,
    "start_time": "2024-07-08T10:38:53.877Z"
   },
   {
    "duration": 10,
    "start_time": "2024-07-08T10:38:54.236Z"
   },
   {
    "duration": 2,
    "start_time": "2024-07-08T10:39:04.032Z"
   },
   {
    "duration": 5,
    "start_time": "2024-07-08T10:39:10.453Z"
   },
   {
    "duration": 11762,
    "start_time": "2024-07-08T10:39:11.629Z"
   },
   {
    "duration": 25,
    "start_time": "2024-07-08T10:39:23.393Z"
   },
   {
    "duration": 26,
    "start_time": "2024-07-08T10:39:26.697Z"
   },
   {
    "duration": 3,
    "start_time": "2024-07-08T10:39:27.957Z"
   },
   {
    "duration": 14,
    "start_time": "2024-07-08T10:39:30.642Z"
   },
   {
    "duration": 8,
    "start_time": "2024-07-08T10:39:32.119Z"
   },
   {
    "duration": 4,
    "start_time": "2024-07-08T10:40:27.591Z"
   },
   {
    "duration": 3,
    "start_time": "2024-07-08T10:40:27.777Z"
   },
   {
    "duration": 8,
    "start_time": "2024-07-08T10:41:47.910Z"
   },
   {
    "duration": 13,
    "start_time": "2024-07-08T10:42:39.713Z"
   },
   {
    "duration": 6,
    "start_time": "2024-07-08T10:43:18.796Z"
   },
   {
    "duration": 4,
    "start_time": "2024-07-08T10:44:22.487Z"
   },
   {
    "duration": 4,
    "start_time": "2024-07-08T10:44:41.253Z"
   },
   {
    "duration": 133,
    "start_time": "2024-07-08T10:44:55.570Z"
   },
   {
    "duration": 327,
    "start_time": "2024-07-08T10:45:46.609Z"
   },
   {
    "duration": 8,
    "start_time": "2024-07-08T10:46:32.195Z"
   },
   {
    "duration": 5,
    "start_time": "2024-07-08T10:46:32.548Z"
   },
   {
    "duration": 13,
    "start_time": "2024-07-08T10:46:32.983Z"
   },
   {
    "duration": 13,
    "start_time": "2024-07-08T10:46:40.850Z"
   },
   {
    "duration": 3,
    "start_time": "2024-07-08T10:46:44.803Z"
   },
   {
    "duration": 14,
    "start_time": "2024-07-08T10:46:45.050Z"
   },
   {
    "duration": 7,
    "start_time": "2024-07-08T10:46:45.305Z"
   },
   {
    "duration": 12,
    "start_time": "2024-07-08T10:46:45.575Z"
   },
   {
    "duration": 3,
    "start_time": "2024-07-08T10:46:53.805Z"
   },
   {
    "duration": 4,
    "start_time": "2024-07-08T10:46:53.990Z"
   },
   {
    "duration": 5,
    "start_time": "2024-07-08T10:46:54.230Z"
   },
   {
    "duration": 3,
    "start_time": "2024-07-08T10:46:54.478Z"
   },
   {
    "duration": 5,
    "start_time": "2024-07-08T10:46:54.733Z"
   },
   {
    "duration": 12853,
    "start_time": "2024-07-08T10:46:56.038Z"
   },
   {
    "duration": 25,
    "start_time": "2024-07-08T10:47:08.893Z"
   },
   {
    "duration": 12,
    "start_time": "2024-07-08T10:47:42.336Z"
   },
   {
    "duration": 8,
    "start_time": "2024-07-08T10:48:42.580Z"
   },
   {
    "duration": 12182,
    "start_time": "2024-07-08T10:48:43.207Z"
   },
   {
    "duration": 27,
    "start_time": "2024-07-08T10:48:55.391Z"
   },
   {
    "duration": 2,
    "start_time": "2024-07-08T10:49:01.298Z"
   },
   {
    "duration": 14,
    "start_time": "2024-07-08T10:49:04.860Z"
   },
   {
    "duration": 251,
    "start_time": "2024-07-08T10:49:07.283Z"
   },
   {
    "duration": 3,
    "start_time": "2024-07-08T10:49:40.711Z"
   },
   {
    "duration": 10,
    "start_time": "2024-07-08T10:49:41.072Z"
   },
   {
    "duration": 5,
    "start_time": "2024-07-08T10:49:41.379Z"
   },
   {
    "duration": 9,
    "start_time": "2024-07-08T10:49:41.745Z"
   },
   {
    "duration": 3,
    "start_time": "2024-07-08T10:49:46.741Z"
   },
   {
    "duration": 4,
    "start_time": "2024-07-08T10:49:47.109Z"
   },
   {
    "duration": 5,
    "start_time": "2024-07-08T10:49:47.874Z"
   },
   {
    "duration": 3,
    "start_time": "2024-07-08T10:49:48.211Z"
   },
   {
    "duration": 6,
    "start_time": "2024-07-08T10:50:01.577Z"
   },
   {
    "duration": 11658,
    "start_time": "2024-07-08T10:50:02.334Z"
   },
   {
    "duration": 27,
    "start_time": "2024-07-08T10:50:16.285Z"
   },
   {
    "duration": 2,
    "start_time": "2024-07-08T10:50:18.850Z"
   },
   {
    "duration": 103,
    "start_time": "2024-07-08T10:50:19.494Z"
   },
   {
    "duration": 235,
    "start_time": "2024-07-08T10:50:21.273Z"
   },
   {
    "duration": 9,
    "start_time": "2024-07-08T10:51:09.251Z"
   },
   {
    "duration": 3,
    "start_time": "2024-07-08T10:51:10.451Z"
   },
   {
    "duration": 11,
    "start_time": "2024-07-08T10:51:10.721Z"
   },
   {
    "duration": 7,
    "start_time": "2024-07-08T10:51:11.044Z"
   },
   {
    "duration": 11,
    "start_time": "2024-07-08T10:51:11.336Z"
   },
   {
    "duration": 3,
    "start_time": "2024-07-08T10:51:19.728Z"
   },
   {
    "duration": 5,
    "start_time": "2024-07-08T10:51:20.201Z"
   },
   {
    "duration": 4,
    "start_time": "2024-07-08T10:51:20.478Z"
   },
   {
    "duration": 3,
    "start_time": "2024-07-08T10:51:21.348Z"
   },
   {
    "duration": 4,
    "start_time": "2024-07-08T10:51:31.504Z"
   },
   {
    "duration": 11361,
    "start_time": "2024-07-08T10:51:32.336Z"
   },
   {
    "duration": 5,
    "start_time": "2024-07-08T10:52:20.915Z"
   },
   {
    "duration": 13676,
    "start_time": "2024-07-08T10:52:21.815Z"
   },
   {
    "duration": 27,
    "start_time": "2024-07-08T10:52:35.492Z"
   },
   {
    "duration": 2,
    "start_time": "2024-07-08T10:52:35.521Z"
   },
   {
    "duration": 14,
    "start_time": "2024-07-08T10:52:41.930Z"
   },
   {
    "duration": 277,
    "start_time": "2024-07-08T10:52:44.832Z"
   },
   {
    "duration": 107,
    "start_time": "2024-07-08T10:53:49.244Z"
   },
   {
    "duration": 29,
    "start_time": "2024-07-08T10:53:56.429Z"
   },
   {
    "duration": 21,
    "start_time": "2024-07-08T10:54:05.437Z"
   },
   {
    "duration": 10,
    "start_time": "2024-07-08T10:55:10.014Z"
   },
   {
    "duration": 268,
    "start_time": "2024-07-08T10:55:25.043Z"
   },
   {
    "duration": 246,
    "start_time": "2024-07-08T10:55:55.906Z"
   },
   {
    "duration": 297,
    "start_time": "2024-07-08T10:56:06.879Z"
   },
   {
    "duration": 322,
    "start_time": "2024-07-08T10:56:13.599Z"
   },
   {
    "duration": 706,
    "start_time": "2024-07-08T10:56:18.729Z"
   },
   {
    "duration": 317,
    "start_time": "2024-07-08T10:56:23.192Z"
   },
   {
    "duration": 357,
    "start_time": "2024-07-08T10:56:47.139Z"
   },
   {
    "duration": 23,
    "start_time": "2024-07-08T10:57:58.811Z"
   },
   {
    "duration": 330,
    "start_time": "2024-07-08T10:58:06.372Z"
   },
   {
    "duration": 23,
    "start_time": "2024-07-08T10:58:12.071Z"
   },
   {
    "duration": 320,
    "start_time": "2024-07-08T10:58:17.892Z"
   },
   {
    "duration": 22,
    "start_time": "2024-07-08T10:58:25.954Z"
   },
   {
    "duration": 21,
    "start_time": "2024-07-08T10:58:31.827Z"
   },
   {
    "duration": 346,
    "start_time": "2024-07-08T10:58:36.058Z"
   },
   {
    "duration": 3,
    "start_time": "2024-07-08T10:59:45.614Z"
   },
   {
    "duration": 4,
    "start_time": "2024-07-08T11:00:40.185Z"
   },
   {
    "duration": 18,
    "start_time": "2024-07-08T11:16:37.166Z"
   },
   {
    "duration": 17,
    "start_time": "2024-07-08T11:18:07.655Z"
   },
   {
    "duration": 2,
    "start_time": "2024-07-08T11:21:04.681Z"
   },
   {
    "duration": 11,
    "start_time": "2024-07-08T11:21:04.981Z"
   },
   {
    "duration": 6,
    "start_time": "2024-07-08T11:21:05.295Z"
   },
   {
    "duration": 12,
    "start_time": "2024-07-08T11:21:05.604Z"
   },
   {
    "duration": 3,
    "start_time": "2024-07-08T11:21:07.089Z"
   },
   {
    "duration": 4,
    "start_time": "2024-07-08T11:21:07.628Z"
   },
   {
    "duration": 4,
    "start_time": "2024-07-08T11:21:07.921Z"
   },
   {
    "duration": 3,
    "start_time": "2024-07-08T11:21:08.288Z"
   },
   {
    "duration": 5,
    "start_time": "2024-07-08T11:21:09.714Z"
   },
   {
    "duration": 13374,
    "start_time": "2024-07-08T11:21:14.424Z"
   },
   {
    "duration": 26,
    "start_time": "2024-07-08T11:21:27.890Z"
   },
   {
    "duration": 3,
    "start_time": "2024-07-08T11:21:30.031Z"
   },
   {
    "duration": 4,
    "start_time": "2024-07-08T11:21:31.584Z"
   },
   {
    "duration": 361,
    "start_time": "2024-07-08T11:21:32.952Z"
   },
   {
    "duration": 85,
    "start_time": "2024-07-08T11:21:35.304Z"
   },
   {
    "duration": 3,
    "start_time": "2024-07-08T11:22:00.212Z"
   },
   {
    "duration": 11,
    "start_time": "2024-07-08T11:22:00.655Z"
   },
   {
    "duration": 6,
    "start_time": "2024-07-08T11:22:01.014Z"
   },
   {
    "duration": 11,
    "start_time": "2024-07-08T11:22:01.525Z"
   },
   {
    "duration": 3,
    "start_time": "2024-07-08T11:22:07.900Z"
   },
   {
    "duration": 3,
    "start_time": "2024-07-08T11:22:08.560Z"
   },
   {
    "duration": 4,
    "start_time": "2024-07-08T11:22:08.859Z"
   },
   {
    "duration": 2,
    "start_time": "2024-07-08T11:22:09.280Z"
   },
   {
    "duration": 5,
    "start_time": "2024-07-08T11:22:10.562Z"
   },
   {
    "duration": 16439,
    "start_time": "2024-07-08T11:22:12.760Z"
   },
   {
    "duration": 26,
    "start_time": "2024-07-08T11:22:32.365Z"
   },
   {
    "duration": 2,
    "start_time": "2024-07-08T11:22:33.100Z"
   },
   {
    "duration": 4,
    "start_time": "2024-07-08T11:22:34.180Z"
   },
   {
    "duration": 361,
    "start_time": "2024-07-08T11:22:35.387Z"
   },
   {
    "duration": 45,
    "start_time": "2024-07-08T11:22:39.153Z"
   },
   {
    "duration": 16,
    "start_time": "2024-07-08T11:26:00.352Z"
   },
   {
    "duration": 2896,
    "start_time": "2024-07-08T11:32:47.113Z"
   },
   {
    "duration": 1653,
    "start_time": "2024-07-08T11:32:50.011Z"
   },
   {
    "duration": 2,
    "start_time": "2024-07-08T11:32:51.666Z"
   },
   {
    "duration": 76,
    "start_time": "2024-07-08T11:32:51.671Z"
   },
   {
    "duration": 9,
    "start_time": "2024-07-08T11:32:51.749Z"
   },
   {
    "duration": 22,
    "start_time": "2024-07-08T11:32:51.759Z"
   },
   {
    "duration": 15,
    "start_time": "2024-07-08T11:32:51.782Z"
   },
   {
    "duration": 20,
    "start_time": "2024-07-08T11:32:51.798Z"
   },
   {
    "duration": 32,
    "start_time": "2024-07-08T11:32:51.820Z"
   },
   {
    "duration": 6,
    "start_time": "2024-07-08T11:32:51.854Z"
   },
   {
    "duration": 268,
    "start_time": "2024-07-08T11:32:51.862Z"
   },
   {
    "duration": 298,
    "start_time": "2024-07-08T11:32:52.132Z"
   },
   {
    "duration": 170,
    "start_time": "2024-07-08T11:32:52.432Z"
   },
   {
    "duration": 237,
    "start_time": "2024-07-08T11:32:52.603Z"
   },
   {
    "duration": 3,
    "start_time": "2024-07-08T11:32:52.841Z"
   },
   {
    "duration": 57,
    "start_time": "2024-07-08T11:32:52.845Z"
   },
   {
    "duration": 14,
    "start_time": "2024-07-08T11:32:52.904Z"
   },
   {
    "duration": 10,
    "start_time": "2024-07-08T11:32:52.919Z"
   },
   {
    "duration": 16,
    "start_time": "2024-07-08T11:32:52.930Z"
   },
   {
    "duration": 142,
    "start_time": "2024-07-08T11:32:52.947Z"
   },
   {
    "duration": 0,
    "start_time": "2024-07-08T11:32:53.090Z"
   },
   {
    "duration": 0,
    "start_time": "2024-07-08T11:32:53.091Z"
   },
   {
    "duration": 0,
    "start_time": "2024-07-08T11:32:53.092Z"
   },
   {
    "duration": 0,
    "start_time": "2024-07-08T11:32:53.093Z"
   },
   {
    "duration": 0,
    "start_time": "2024-07-08T11:32:53.094Z"
   },
   {
    "duration": 0,
    "start_time": "2024-07-08T11:32:53.095Z"
   },
   {
    "duration": 0,
    "start_time": "2024-07-08T11:32:53.095Z"
   },
   {
    "duration": 0,
    "start_time": "2024-07-08T11:32:53.097Z"
   },
   {
    "duration": 0,
    "start_time": "2024-07-08T11:32:53.098Z"
   },
   {
    "duration": 0,
    "start_time": "2024-07-08T11:32:53.099Z"
   },
   {
    "duration": 3,
    "start_time": "2024-07-08T11:33:46.636Z"
   },
   {
    "duration": 3345,
    "start_time": "2024-07-08T11:33:51.932Z"
   },
   {
    "duration": 1540,
    "start_time": "2024-07-08T11:33:55.279Z"
   },
   {
    "duration": 2,
    "start_time": "2024-07-08T11:33:56.820Z"
   },
   {
    "duration": 120,
    "start_time": "2024-07-08T11:33:56.824Z"
   },
   {
    "duration": 9,
    "start_time": "2024-07-08T11:33:56.946Z"
   },
   {
    "duration": 20,
    "start_time": "2024-07-08T11:33:56.956Z"
   },
   {
    "duration": 27,
    "start_time": "2024-07-08T11:33:56.977Z"
   },
   {
    "duration": 22,
    "start_time": "2024-07-08T11:33:57.006Z"
   },
   {
    "duration": 19,
    "start_time": "2024-07-08T11:33:57.029Z"
   },
   {
    "duration": 21,
    "start_time": "2024-07-08T11:33:57.051Z"
   },
   {
    "duration": 275,
    "start_time": "2024-07-08T11:33:57.073Z"
   },
   {
    "duration": 282,
    "start_time": "2024-07-08T11:33:57.350Z"
   },
   {
    "duration": 159,
    "start_time": "2024-07-08T11:33:57.633Z"
   },
   {
    "duration": 230,
    "start_time": "2024-07-08T11:33:57.793Z"
   },
   {
    "duration": 3,
    "start_time": "2024-07-08T11:33:58.024Z"
   },
   {
    "duration": 13,
    "start_time": "2024-07-08T11:33:58.028Z"
   },
   {
    "duration": 69,
    "start_time": "2024-07-08T11:33:58.042Z"
   },
   {
    "duration": 10,
    "start_time": "2024-07-08T11:33:58.112Z"
   },
   {
    "duration": 12,
    "start_time": "2024-07-08T11:33:58.123Z"
   },
   {
    "duration": 3,
    "start_time": "2024-07-08T11:33:58.137Z"
   },
   {
    "duration": 4,
    "start_time": "2024-07-08T11:33:58.141Z"
   },
   {
    "duration": 5,
    "start_time": "2024-07-08T11:33:58.146Z"
   },
   {
    "duration": 5,
    "start_time": "2024-07-08T11:33:58.153Z"
   },
   {
    "duration": 6,
    "start_time": "2024-07-08T11:33:58.159Z"
   },
   {
    "duration": 13831,
    "start_time": "2024-07-08T11:33:58.166Z"
   },
   {
    "duration": 114,
    "start_time": "2024-07-08T11:34:11.999Z"
   },
   {
    "duration": 10,
    "start_time": "2024-07-08T11:34:12.115Z"
   },
   {
    "duration": 11,
    "start_time": "2024-07-08T11:34:12.128Z"
   },
   {
    "duration": 389,
    "start_time": "2024-07-08T11:34:12.141Z"
   },
   {
    "duration": 159,
    "start_time": "2024-07-08T11:34:12.531Z"
   },
   {
    "duration": 3985,
    "start_time": "2024-07-08T11:58:59.251Z"
   },
   {
    "duration": 1996,
    "start_time": "2024-07-08T11:59:03.239Z"
   },
   {
    "duration": 2,
    "start_time": "2024-07-08T11:59:05.237Z"
   },
   {
    "duration": 167,
    "start_time": "2024-07-08T11:59:05.241Z"
   },
   {
    "duration": 9,
    "start_time": "2024-07-08T11:59:05.410Z"
   },
   {
    "duration": 9,
    "start_time": "2024-07-08T11:59:05.431Z"
   },
   {
    "duration": 11,
    "start_time": "2024-07-08T11:59:05.441Z"
   },
   {
    "duration": 8,
    "start_time": "2024-07-08T11:59:05.453Z"
   },
   {
    "duration": 14,
    "start_time": "2024-07-08T11:59:05.463Z"
   },
   {
    "duration": 11,
    "start_time": "2024-07-08T11:59:05.479Z"
   },
   {
    "duration": 273,
    "start_time": "2024-07-08T11:59:05.491Z"
   },
   {
    "duration": 279,
    "start_time": "2024-07-08T11:59:05.765Z"
   },
   {
    "duration": 170,
    "start_time": "2024-07-08T11:59:06.046Z"
   },
   {
    "duration": 262,
    "start_time": "2024-07-08T11:59:06.218Z"
   },
   {
    "duration": 3,
    "start_time": "2024-07-08T11:59:06.481Z"
   },
   {
    "duration": 15,
    "start_time": "2024-07-08T11:59:06.485Z"
   },
   {
    "duration": 27,
    "start_time": "2024-07-08T11:59:06.501Z"
   },
   {
    "duration": 9,
    "start_time": "2024-07-08T11:59:06.532Z"
   },
   {
    "duration": 11,
    "start_time": "2024-07-08T11:59:06.543Z"
   },
   {
    "duration": 2,
    "start_time": "2024-07-08T11:59:06.556Z"
   },
   {
    "duration": 8,
    "start_time": "2024-07-08T11:59:06.559Z"
   },
   {
    "duration": 7,
    "start_time": "2024-07-08T11:59:06.568Z"
   },
   {
    "duration": 4,
    "start_time": "2024-07-08T11:59:06.576Z"
   },
   {
    "duration": 8,
    "start_time": "2024-07-08T11:59:06.581Z"
   },
   {
    "duration": 240850,
    "start_time": "2024-07-08T11:59:06.590Z"
   },
   {
    "duration": 114,
    "start_time": "2024-07-08T12:03:07.442Z"
   },
   {
    "duration": 3,
    "start_time": "2024-07-08T12:03:07.557Z"
   },
   {
    "duration": 4,
    "start_time": "2024-07-08T12:03:07.564Z"
   },
   {
    "duration": 430,
    "start_time": "2024-07-08T12:03:07.569Z"
   },
   {
    "duration": 133,
    "start_time": "2024-07-08T12:03:08.001Z"
   },
   {
    "duration": 2682,
    "start_time": "2024-07-09T07:15:36.229Z"
   },
   {
    "duration": 4,
    "start_time": "2024-07-09T07:15:38.914Z"
   },
   {
    "duration": 13,
    "start_time": "2024-07-09T07:15:38.919Z"
   },
   {
    "duration": 46,
    "start_time": "2024-07-09T07:15:50.711Z"
   },
   {
    "duration": 11,
    "start_time": "2024-07-09T07:15:51.086Z"
   },
   {
    "duration": 7,
    "start_time": "2024-07-09T07:15:54.216Z"
   },
   {
    "duration": 7,
    "start_time": "2024-07-09T07:15:56.793Z"
   },
   {
    "duration": 8,
    "start_time": "2024-07-09T07:15:58.009Z"
   },
   {
    "duration": 6,
    "start_time": "2024-07-09T07:15:59.000Z"
   },
   {
    "duration": 6,
    "start_time": "2024-07-09T07:16:00.634Z"
   },
   {
    "duration": 245,
    "start_time": "2024-07-09T07:16:01.016Z"
   },
   {
    "duration": 227,
    "start_time": "2024-07-09T07:16:02.262Z"
   },
   {
    "duration": 326,
    "start_time": "2024-07-09T07:16:27.440Z"
   },
   {
    "duration": 150,
    "start_time": "2024-07-09T07:16:28.879Z"
   },
   {
    "duration": 237,
    "start_time": "2024-07-09T07:17:36.319Z"
   },
   {
    "duration": 233,
    "start_time": "2024-07-09T07:19:18.308Z"
   },
   {
    "duration": 4,
    "start_time": "2024-07-09T07:56:34.717Z"
   },
   {
    "duration": 7,
    "start_time": "2024-07-09T07:56:35.692Z"
   },
   {
    "duration": 10,
    "start_time": "2024-07-09T07:56:43.642Z"
   },
   {
    "duration": 7,
    "start_time": "2024-07-09T07:56:47.018Z"
   },
   {
    "duration": 10,
    "start_time": "2024-07-09T07:56:47.360Z"
   },
   {
    "duration": 10,
    "start_time": "2024-07-09T07:56:51.037Z"
   },
   {
    "duration": 3,
    "start_time": "2024-07-09T07:58:17.658Z"
   },
   {
    "duration": 5,
    "start_time": "2024-07-09T07:58:18.429Z"
   },
   {
    "duration": 4,
    "start_time": "2024-07-09T07:58:18.976Z"
   },
   {
    "duration": 3,
    "start_time": "2024-07-09T07:58:27.654Z"
   },
   {
    "duration": 4,
    "start_time": "2024-07-09T08:01:43.813Z"
   },
   {
    "duration": 3,
    "start_time": "2024-07-09T08:02:35.062Z"
   },
   {
    "duration": 6,
    "start_time": "2024-07-09T08:02:41.541Z"
   },
   {
    "duration": 7969,
    "start_time": "2024-07-09T08:02:46.973Z"
   },
   {
    "duration": 6,
    "start_time": "2024-07-09T08:03:57.075Z"
   },
   {
    "duration": 10138,
    "start_time": "2024-07-09T08:04:00.265Z"
   },
   {
    "duration": 3,
    "start_time": "2024-07-09T08:05:27.985Z"
   },
   {
    "duration": 5,
    "start_time": "2024-07-09T08:05:29.433Z"
   },
   {
    "duration": 12840,
    "start_time": "2024-07-09T08:05:31.458Z"
   },
   {
    "duration": 3,
    "start_time": "2024-07-09T08:08:54.711Z"
   },
   {
    "duration": 8,
    "start_time": "2024-07-09T08:08:56.144Z"
   },
   {
    "duration": 9131,
    "start_time": "2024-07-09T08:08:58.964Z"
   },
   {
    "duration": 5,
    "start_time": "2024-07-09T08:17:54.963Z"
   },
   {
    "duration": 2,
    "start_time": "2024-07-09T08:17:56.110Z"
   },
   {
    "duration": 5,
    "start_time": "2024-07-09T08:17:57.205Z"
   },
   {
    "duration": 9448,
    "start_time": "2024-07-09T08:17:59.260Z"
   },
   {
    "duration": 5,
    "start_time": "2024-07-09T08:24:42.910Z"
   },
   {
    "duration": 9530,
    "start_time": "2024-07-09T08:24:45.580Z"
   },
   {
    "duration": 5,
    "start_time": "2024-07-09T08:26:25.580Z"
   },
   {
    "duration": 8895,
    "start_time": "2024-07-09T08:26:28.512Z"
   },
   {
    "duration": 5,
    "start_time": "2024-07-09T08:59:09.374Z"
   },
   {
    "duration": 4,
    "start_time": "2024-07-09T08:59:26.399Z"
   },
   {
    "duration": 7,
    "start_time": "2024-07-09T08:59:26.684Z"
   },
   {
    "duration": 6,
    "start_time": "2024-07-09T08:59:31.207Z"
   },
   {
    "duration": 11,
    "start_time": "2024-07-09T08:59:31.477Z"
   },
   {
    "duration": 10,
    "start_time": "2024-07-09T08:59:32.413Z"
   },
   {
    "duration": 3,
    "start_time": "2024-07-09T08:59:37.336Z"
   },
   {
    "duration": 3,
    "start_time": "2024-07-09T08:59:38.002Z"
   },
   {
    "duration": 4,
    "start_time": "2024-07-09T08:59:38.318Z"
   },
   {
    "duration": 3,
    "start_time": "2024-07-09T09:00:06.134Z"
   },
   {
    "duration": 5,
    "start_time": "2024-07-09T09:00:07.290Z"
   },
   {
    "duration": 11147,
    "start_time": "2024-07-09T09:00:09.645Z"
   },
   {
    "duration": 28,
    "start_time": "2024-07-09T09:00:25.350Z"
   },
   {
    "duration": 2,
    "start_time": "2024-07-09T09:00:29.761Z"
   },
   {
    "duration": 4,
    "start_time": "2024-07-09T09:00:30.428Z"
   },
   {
    "duration": 420,
    "start_time": "2024-07-09T09:00:32.618Z"
   },
   {
    "duration": 18,
    "start_time": "2024-07-09T09:00:40.373Z"
   },
   {
    "duration": 4,
    "start_time": "2024-07-09T09:01:29.198Z"
   },
   {
    "duration": 107,
    "start_time": "2024-07-09T09:01:29.204Z"
   },
   {
    "duration": 6,
    "start_time": "2024-07-09T09:01:31.284Z"
   },
   {
    "duration": 10,
    "start_time": "2024-07-09T09:01:31.524Z"
   },
   {
    "duration": 9,
    "start_time": "2024-07-09T09:01:32.567Z"
   },
   {
    "duration": 2,
    "start_time": "2024-07-09T09:01:34.082Z"
   },
   {
    "duration": 3,
    "start_time": "2024-07-09T09:01:34.734Z"
   },
   {
    "duration": 4,
    "start_time": "2024-07-09T09:01:35.049Z"
   },
   {
    "duration": 2,
    "start_time": "2024-07-09T09:01:36.752Z"
   },
   {
    "duration": 2,
    "start_time": "2024-07-09T09:01:49.472Z"
   },
   {
    "duration": 5,
    "start_time": "2024-07-09T09:01:50.410Z"
   },
   {
    "duration": 21723,
    "start_time": "2024-07-09T09:01:52.667Z"
   },
   {
    "duration": 26,
    "start_time": "2024-07-09T09:02:17.297Z"
   },
   {
    "duration": 2,
    "start_time": "2024-07-09T09:02:17.674Z"
   },
   {
    "duration": 4,
    "start_time": "2024-07-09T09:02:18.535Z"
   },
   {
    "duration": 307,
    "start_time": "2024-07-09T09:02:19.811Z"
   },
   {
    "duration": 15,
    "start_time": "2024-07-09T09:02:23.298Z"
   },
   {
    "duration": 3,
    "start_time": "2024-07-09T09:03:52.153Z"
   },
   {
    "duration": 7,
    "start_time": "2024-07-09T09:03:54.319Z"
   },
   {
    "duration": 6,
    "start_time": "2024-07-09T09:03:56.967Z"
   },
   {
    "duration": 11,
    "start_time": "2024-07-09T09:03:57.252Z"
   },
   {
    "duration": 10,
    "start_time": "2024-07-09T09:03:58.594Z"
   },
   {
    "duration": 3,
    "start_time": "2024-07-09T09:04:01.407Z"
   },
   {
    "duration": 3,
    "start_time": "2024-07-09T09:04:01.924Z"
   },
   {
    "duration": 47,
    "start_time": "2024-07-09T09:04:02.194Z"
   },
   {
    "duration": 3,
    "start_time": "2024-07-09T09:04:02.840Z"
   },
   {
    "duration": 5,
    "start_time": "2024-07-09T09:04:13.760Z"
   },
   {
    "duration": 6,
    "start_time": "2024-07-09T09:04:20.742Z"
   },
   {
    "duration": 11198,
    "start_time": "2024-07-09T09:04:23.195Z"
   },
   {
    "duration": 30,
    "start_time": "2024-07-09T09:04:38.466Z"
   },
   {
    "duration": 3,
    "start_time": "2024-07-09T09:04:39.665Z"
   },
   {
    "duration": 4,
    "start_time": "2024-07-09T09:04:39.950Z"
   },
   {
    "duration": 335,
    "start_time": "2024-07-09T09:04:40.827Z"
   },
   {
    "duration": 107,
    "start_time": "2024-07-09T09:04:45.493Z"
   },
   {
    "duration": 5,
    "start_time": "2024-07-09T09:05:25.731Z"
   },
   {
    "duration": 4,
    "start_time": "2024-07-09T09:05:39.119Z"
   },
   {
    "duration": 7,
    "start_time": "2024-07-09T09:05:39.403Z"
   },
   {
    "duration": 5,
    "start_time": "2024-07-09T09:05:41.309Z"
   },
   {
    "duration": 9,
    "start_time": "2024-07-09T09:05:41.519Z"
   },
   {
    "duration": 8,
    "start_time": "2024-07-09T09:05:41.767Z"
   },
   {
    "duration": 3,
    "start_time": "2024-07-09T09:05:42.561Z"
   },
   {
    "duration": 3,
    "start_time": "2024-07-09T09:05:43.034Z"
   },
   {
    "duration": 4,
    "start_time": "2024-07-09T09:05:43.289Z"
   },
   {
    "duration": 2,
    "start_time": "2024-07-09T09:05:43.761Z"
   },
   {
    "duration": 5,
    "start_time": "2024-07-09T09:05:44.234Z"
   },
   {
    "duration": 14176,
    "start_time": "2024-07-09T09:05:46.416Z"
   },
   {
    "duration": 26,
    "start_time": "2024-07-09T09:06:06.539Z"
   },
   {
    "duration": 2,
    "start_time": "2024-07-09T09:06:07.050Z"
   },
   {
    "duration": 4,
    "start_time": "2024-07-09T09:06:07.604Z"
   },
   {
    "duration": 301,
    "start_time": "2024-07-09T09:06:09.014Z"
   },
   {
    "duration": 36,
    "start_time": "2024-07-09T09:06:10.964Z"
   },
   {
    "duration": 4,
    "start_time": "2024-07-09T09:06:31.980Z"
   },
   {
    "duration": 7,
    "start_time": "2024-07-09T09:06:32.265Z"
   },
   {
    "duration": 6,
    "start_time": "2024-07-09T09:06:32.871Z"
   },
   {
    "duration": 43,
    "start_time": "2024-07-09T09:06:32.903Z"
   },
   {
    "duration": 15,
    "start_time": "2024-07-09T09:06:32.947Z"
   },
   {
    "duration": 3,
    "start_time": "2024-07-09T09:06:33.041Z"
   },
   {
    "duration": 4,
    "start_time": "2024-07-09T09:06:33.104Z"
   },
   {
    "duration": 4,
    "start_time": "2024-07-09T09:06:33.135Z"
   },
   {
    "duration": 2,
    "start_time": "2024-07-09T09:06:33.197Z"
   },
   {
    "duration": 5,
    "start_time": "2024-07-09T09:06:33.261Z"
   },
   {
    "duration": 11776,
    "start_time": "2024-07-09T09:06:36.217Z"
   },
   {
    "duration": 26,
    "start_time": "2024-07-09T09:06:50.993Z"
   },
   {
    "duration": 2,
    "start_time": "2024-07-09T09:06:52.883Z"
   },
   {
    "duration": 3,
    "start_time": "2024-07-09T09:06:53.168Z"
   },
   {
    "duration": 301,
    "start_time": "2024-07-09T09:06:54.000Z"
   },
   {
    "duration": 16,
    "start_time": "2024-07-09T09:06:55.485Z"
   },
   {
    "duration": 300,
    "start_time": "2024-07-09T09:24:35.331Z"
   },
   {
    "duration": 306,
    "start_time": "2024-07-09T09:24:50.826Z"
   },
   {
    "duration": 198,
    "start_time": "2024-07-09T09:24:57.538Z"
   },
   {
    "duration": 9626,
    "start_time": "2024-07-09T09:25:24.443Z"
   },
   {
    "duration": 141,
    "start_time": "2024-07-09T09:25:41.159Z"
   },
   {
    "duration": 9381,
    "start_time": "2024-07-09T09:25:51.937Z"
   },
   {
    "duration": 52,
    "start_time": "2024-07-09T09:26:19.651Z"
   },
   {
    "duration": 9024,
    "start_time": "2024-07-09T09:26:33.430Z"
   },
   {
    "duration": 6,
    "start_time": "2024-07-09T09:27:03.285Z"
   },
   {
    "duration": 3,
    "start_time": "2024-07-09T09:27:27.466Z"
   },
   {
    "duration": 171,
    "start_time": "2024-07-09T09:27:30.969Z"
   },
   {
    "duration": 195,
    "start_time": "2024-07-09T09:27:39.204Z"
   },
   {
    "duration": 141,
    "start_time": "2024-07-09T09:28:31.893Z"
   },
   {
    "duration": 6,
    "start_time": "2024-07-09T09:28:38.876Z"
   },
   {
    "duration": 5,
    "start_time": "2024-07-09T09:28:43.406Z"
   },
   {
    "duration": 3,
    "start_time": "2024-07-09T09:36:16.294Z"
   },
   {
    "duration": 5,
    "start_time": "2024-07-09T09:36:16.489Z"
   },
   {
    "duration": 3,
    "start_time": "2024-07-09T09:36:17.765Z"
   },
   {
    "duration": 5,
    "start_time": "2024-07-09T09:36:17.828Z"
   },
   {
    "duration": 14194,
    "start_time": "2024-07-09T09:36:17.998Z"
   },
   {
    "duration": 27,
    "start_time": "2024-07-09T09:36:32.194Z"
   },
   {
    "duration": 2,
    "start_time": "2024-07-09T09:36:32.223Z"
   },
   {
    "duration": 5,
    "start_time": "2024-07-09T09:36:32.289Z"
   },
   {
    "duration": 380,
    "start_time": "2024-07-09T09:36:32.295Z"
   },
   {
    "duration": 23,
    "start_time": "2024-07-09T09:36:32.677Z"
   },
   {
    "duration": 7,
    "start_time": "2024-07-09T09:36:32.701Z"
   },
   {
    "duration": 4,
    "start_time": "2024-07-09T09:36:43.707Z"
   },
   {
    "duration": 5,
    "start_time": "2024-07-09T09:36:49.625Z"
   },
   {
    "duration": 142,
    "start_time": "2024-07-09T09:40:15.675Z"
   },
   {
    "duration": 7,
    "start_time": "2024-07-09T09:40:23.634Z"
   },
   {
    "duration": 15,
    "start_time": "2024-07-09T09:40:34.801Z"
   },
   {
    "duration": 10,
    "start_time": "2024-07-09T09:45:27.104Z"
   },
   {
    "duration": 10,
    "start_time": "2024-07-09T09:45:49.629Z"
   },
   {
    "duration": 227,
    "start_time": "2024-07-09T09:45:52.568Z"
   },
   {
    "duration": 153,
    "start_time": "2024-07-09T09:46:37.794Z"
   },
   {
    "duration": 151,
    "start_time": "2024-07-09T09:46:42.864Z"
   },
   {
    "duration": 245,
    "start_time": "2024-07-09T09:46:51.984Z"
   },
   {
    "duration": 228,
    "start_time": "2024-07-09T09:47:00.441Z"
   },
   {
    "duration": 224,
    "start_time": "2024-07-09T09:48:53.862Z"
   },
   {
    "duration": 226,
    "start_time": "2024-07-09T09:49:03.544Z"
   },
   {
    "duration": 462,
    "start_time": "2024-07-09T09:49:10.850Z"
   },
   {
    "duration": 12,
    "start_time": "2024-07-09T09:49:22.647Z"
   },
   {
    "duration": 10,
    "start_time": "2024-07-09T09:49:26.885Z"
   },
   {
    "duration": 10,
    "start_time": "2024-07-09T09:49:32.622Z"
   },
   {
    "duration": 253,
    "start_time": "2024-07-09T09:49:40.446Z"
   },
   {
    "duration": 233,
    "start_time": "2024-07-09T09:49:45.470Z"
   },
   {
    "duration": 226,
    "start_time": "2024-07-09T09:49:50.840Z"
   },
   {
    "duration": 255,
    "start_time": "2024-07-09T09:49:58.791Z"
   },
   {
    "duration": 263,
    "start_time": "2024-07-09T09:52:27.039Z"
   },
   {
    "duration": 250,
    "start_time": "2024-07-09T09:52:32.078Z"
   },
   {
    "duration": 233,
    "start_time": "2024-07-09T09:52:36.294Z"
   },
   {
    "duration": 230,
    "start_time": "2024-07-09T09:52:39.001Z"
   },
   {
    "duration": 241,
    "start_time": "2024-07-09T09:52:42.122Z"
   },
   {
    "duration": 247,
    "start_time": "2024-07-09T09:52:45.894Z"
   },
   {
    "duration": 246,
    "start_time": "2024-07-09T09:52:48.970Z"
   },
   {
    "duration": 247,
    "start_time": "2024-07-09T09:53:03.333Z"
   },
   {
    "duration": 234,
    "start_time": "2024-07-09T09:53:10.113Z"
   },
   {
    "duration": 221,
    "start_time": "2024-07-09T09:53:35.440Z"
   },
   {
    "duration": 240,
    "start_time": "2024-07-09T09:53:44.103Z"
   },
   {
    "duration": 230,
    "start_time": "2024-07-09T09:53:47.726Z"
   },
   {
    "duration": 223,
    "start_time": "2024-07-09T09:53:50.702Z"
   },
   {
    "duration": 234,
    "start_time": "2024-07-09T09:54:01.571Z"
   },
   {
    "duration": 258,
    "start_time": "2024-07-09T09:54:05.321Z"
   },
   {
    "duration": 210,
    "start_time": "2024-07-09T09:54:08.996Z"
   },
   {
    "duration": 246,
    "start_time": "2024-07-09T09:54:12.529Z"
   },
   {
    "duration": 235,
    "start_time": "2024-07-09T09:55:57.193Z"
   },
   {
    "duration": 230,
    "start_time": "2024-07-09T09:56:00.913Z"
   },
   {
    "duration": 228,
    "start_time": "2024-07-09T09:56:04.161Z"
   },
   {
    "duration": 2806,
    "start_time": "2024-07-09T09:57:22.134Z"
   },
   {
    "duration": 1535,
    "start_time": "2024-07-09T09:57:24.942Z"
   },
   {
    "duration": 2,
    "start_time": "2024-07-09T09:57:26.478Z"
   },
   {
    "duration": 63,
    "start_time": "2024-07-09T09:57:26.482Z"
   },
   {
    "duration": 11,
    "start_time": "2024-07-09T09:57:26.547Z"
   },
   {
    "duration": 12,
    "start_time": "2024-07-09T09:57:26.560Z"
   },
   {
    "duration": 13,
    "start_time": "2024-07-09T09:57:26.573Z"
   },
   {
    "duration": 10,
    "start_time": "2024-07-09T09:57:26.588Z"
   },
   {
    "duration": 9,
    "start_time": "2024-07-09T09:57:26.600Z"
   },
   {
    "duration": 42,
    "start_time": "2024-07-09T09:57:26.611Z"
   },
   {
    "duration": 250,
    "start_time": "2024-07-09T09:57:26.655Z"
   },
   {
    "duration": 282,
    "start_time": "2024-07-09T09:57:26.907Z"
   },
   {
    "duration": 286,
    "start_time": "2024-07-09T09:57:27.191Z"
   },
   {
    "duration": 244,
    "start_time": "2024-07-09T09:57:27.480Z"
   },
   {
    "duration": 248,
    "start_time": "2024-07-09T09:57:27.726Z"
   },
   {
    "duration": 4,
    "start_time": "2024-07-09T09:57:27.976Z"
   },
   {
    "duration": 7,
    "start_time": "2024-07-09T09:57:27.990Z"
   },
   {
    "duration": 8,
    "start_time": "2024-07-09T09:57:27.998Z"
   },
   {
    "duration": 13,
    "start_time": "2024-07-09T09:57:28.007Z"
   },
   {
    "duration": 18,
    "start_time": "2024-07-09T09:57:28.022Z"
   },
   {
    "duration": 13,
    "start_time": "2024-07-09T09:57:28.042Z"
   },
   {
    "duration": 6,
    "start_time": "2024-07-09T09:57:28.056Z"
   },
   {
    "duration": 6,
    "start_time": "2024-07-09T09:57:28.089Z"
   },
   {
    "duration": 3,
    "start_time": "2024-07-09T09:57:28.096Z"
   },
   {
    "duration": 8,
    "start_time": "2024-07-09T09:57:28.101Z"
   },
   {
    "duration": 12581,
    "start_time": "2024-07-09T09:57:28.111Z"
   },
   {
    "duration": 96,
    "start_time": "2024-07-09T09:57:40.694Z"
   },
   {
    "duration": 3,
    "start_time": "2024-07-09T09:57:40.792Z"
   },
   {
    "duration": 9,
    "start_time": "2024-07-09T09:57:40.797Z"
   },
   {
    "duration": 387,
    "start_time": "2024-07-09T09:57:40.808Z"
   },
   {
    "duration": 93,
    "start_time": "2024-07-09T09:57:41.197Z"
   },
   {
    "duration": 292,
    "start_time": "2024-07-09T09:57:41.292Z"
   }
  ],
  "kernelspec": {
   "display_name": ".venv",
   "language": "python",
   "name": "python3"
  },
  "language_info": {
   "codemirror_mode": {
    "name": "ipython",
    "version": 3
   },
   "file_extension": ".py",
   "mimetype": "text/x-python",
   "name": "python",
   "nbconvert_exporter": "python",
   "pygments_lexer": "ipython3",
   "version": "3.10.11"
  },
  "toc": {
   "base_numbering": 1,
   "nav_menu": {},
   "number_sections": true,
   "sideBar": true,
   "skip_h1_title": true,
   "title_cell": "Содержание",
   "title_sidebar": "Contents",
   "toc_cell": true,
   "toc_position": {
    "height": "calc(100% - 180px)",
    "left": "10px",
    "top": "150px",
    "width": "165px"
   },
   "toc_section_display": true,
   "toc_window_display": true
  }
 },
 "nbformat": 4,
 "nbformat_minor": 2
}
