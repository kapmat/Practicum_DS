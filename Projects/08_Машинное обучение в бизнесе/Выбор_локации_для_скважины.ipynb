{
 "cells": [
  {
   "cell_type": "markdown",
   "metadata": {},
   "source": [
    "# Выбор локации для скважины"
   ]
  },
  {
   "cell_type": "markdown",
   "metadata": {},
   "source": [
    "Допустим, вы работаете в добывающей компании «ГлавРосГосНефть». Нужно решить, где бурить новую скважину.\n",
    "\n",
    "Вам предоставлены пробы нефти в трёх регионах: в каждом 10 000 месторождений, где измерили качество нефти и объём её запасов. Постройте модель машинного обучения, которая поможет определить регион, где добыча принесёт наибольшую прибыль. Проанализируйте возможную прибыль и риски техникой *Bootstrap.*\n",
    "\n",
    "Шаги для выбора локации:\n",
    "\n",
    "- В избранном регионе ищут месторождения, для каждого определяют значения признаков;\n",
    "- Строят модель и оценивают объём запасов;\n",
    "- Выбирают месторождения с самым высокими оценками значений. Количество месторождений зависит от бюджета компании и стоимости разработки одной скважины;\n",
    "- Прибыль равна суммарной прибыли отобранных месторождений."
   ]
  },
  {
   "cell_type": "code",
   "execution_count": 34,
   "metadata": {},
   "outputs": [],
   "source": [
    "import numpy as np\n",
    "import pandas as pd\n",
    "import matplotlib.pyplot as plt\n",
    "import seaborn as sns\n",
    "\n",
    "from scipy import stats as st\n",
    "from sklearn.metrics import root_mean_squared_error\n",
    "from sklearn.model_selection import train_test_split\n",
    "from sklearn.linear_model import LinearRegression\n",
    "from sklearn.preprocessing import MinMaxScaler"
   ]
  },
  {
   "cell_type": "code",
   "execution_count": 35,
   "metadata": {},
   "outputs": [],
   "source": [
    "RANDOM_STATE = np.random.RandomState(42)\n",
    "TEST_SIZE = 0.25"
   ]
  },
  {
   "cell_type": "markdown",
   "metadata": {},
   "source": [
    "## Загрузка и подготовка данных"
   ]
  },
  {
   "cell_type": "markdown",
   "metadata": {},
   "source": [
    "### Загрузка и предобработка данных"
   ]
  },
  {
   "cell_type": "code",
   "execution_count": 36,
   "metadata": {},
   "outputs": [],
   "source": [
    "geo_0 = pd.read_csv(\"datasets/geo_data_0.csv\")\n",
    "geo_1 = pd.read_csv(\"datasets/geo_data_1.csv\")\n",
    "geo_2 = pd.read_csv(\"datasets/geo_data_2.csv\")"
   ]
  },
  {
   "cell_type": "code",
   "execution_count": 37,
   "metadata": {},
   "outputs": [
    {
     "name": "stdout",
     "output_type": "stream",
     "text": [
      "<class 'pandas.core.frame.DataFrame'>\n",
      "RangeIndex: 100000 entries, 0 to 99999\n",
      "Data columns (total 5 columns):\n",
      " #   Column   Non-Null Count   Dtype  \n",
      "---  ------   --------------   -----  \n",
      " 0   id       100000 non-null  object \n",
      " 1   f0       100000 non-null  float64\n",
      " 2   f1       100000 non-null  float64\n",
      " 3   f2       100000 non-null  float64\n",
      " 4   product  100000 non-null  float64\n",
      "dtypes: float64(4), object(1)\n",
      "memory usage: 3.8+ MB\n"
     ]
    }
   ],
   "source": [
    "geo_0.info()"
   ]
  },
  {
   "cell_type": "code",
   "execution_count": 38,
   "metadata": {},
   "outputs": [
    {
     "data": {
      "text/html": [
       "<div>\n",
       "<style scoped>\n",
       "    .dataframe tbody tr th:only-of-type {\n",
       "        vertical-align: middle;\n",
       "    }\n",
       "\n",
       "    .dataframe tbody tr th {\n",
       "        vertical-align: top;\n",
       "    }\n",
       "\n",
       "    .dataframe thead th {\n",
       "        text-align: right;\n",
       "    }\n",
       "</style>\n",
       "<table border=\"1\" class=\"dataframe\">\n",
       "  <thead>\n",
       "    <tr style=\"text-align: right;\">\n",
       "      <th></th>\n",
       "      <th>id</th>\n",
       "      <th>f0</th>\n",
       "      <th>f1</th>\n",
       "      <th>f2</th>\n",
       "      <th>product</th>\n",
       "    </tr>\n",
       "  </thead>\n",
       "  <tbody>\n",
       "    <tr>\n",
       "      <th>0</th>\n",
       "      <td>txEyH</td>\n",
       "      <td>0.705745</td>\n",
       "      <td>-0.497823</td>\n",
       "      <td>1.221170</td>\n",
       "      <td>105.280062</td>\n",
       "    </tr>\n",
       "    <tr>\n",
       "      <th>1</th>\n",
       "      <td>2acmU</td>\n",
       "      <td>1.334711</td>\n",
       "      <td>-0.340164</td>\n",
       "      <td>4.365080</td>\n",
       "      <td>73.037750</td>\n",
       "    </tr>\n",
       "    <tr>\n",
       "      <th>2</th>\n",
       "      <td>409Wp</td>\n",
       "      <td>1.022732</td>\n",
       "      <td>0.151990</td>\n",
       "      <td>1.419926</td>\n",
       "      <td>85.265647</td>\n",
       "    </tr>\n",
       "    <tr>\n",
       "      <th>3</th>\n",
       "      <td>iJLyR</td>\n",
       "      <td>-0.032172</td>\n",
       "      <td>0.139033</td>\n",
       "      <td>2.978566</td>\n",
       "      <td>168.620776</td>\n",
       "    </tr>\n",
       "    <tr>\n",
       "      <th>4</th>\n",
       "      <td>Xdl7t</td>\n",
       "      <td>1.988431</td>\n",
       "      <td>0.155413</td>\n",
       "      <td>4.751769</td>\n",
       "      <td>154.036647</td>\n",
       "    </tr>\n",
       "  </tbody>\n",
       "</table>\n",
       "</div>"
      ],
      "text/plain": [
       "      id        f0        f1        f2     product\n",
       "0  txEyH  0.705745 -0.497823  1.221170  105.280062\n",
       "1  2acmU  1.334711 -0.340164  4.365080   73.037750\n",
       "2  409Wp  1.022732  0.151990  1.419926   85.265647\n",
       "3  iJLyR -0.032172  0.139033  2.978566  168.620776\n",
       "4  Xdl7t  1.988431  0.155413  4.751769  154.036647"
      ]
     },
     "execution_count": 38,
     "metadata": {},
     "output_type": "execute_result"
    }
   ],
   "source": [
    "geo_0.head()"
   ]
  },
  {
   "cell_type": "code",
   "execution_count": 39,
   "metadata": {},
   "outputs": [
    {
     "name": "stdout",
     "output_type": "stream",
     "text": [
      "<class 'pandas.core.frame.DataFrame'>\n",
      "RangeIndex: 100000 entries, 0 to 99999\n",
      "Data columns (total 5 columns):\n",
      " #   Column   Non-Null Count   Dtype  \n",
      "---  ------   --------------   -----  \n",
      " 0   id       100000 non-null  object \n",
      " 1   f0       100000 non-null  float64\n",
      " 2   f1       100000 non-null  float64\n",
      " 3   f2       100000 non-null  float64\n",
      " 4   product  100000 non-null  float64\n",
      "dtypes: float64(4), object(1)\n",
      "memory usage: 3.8+ MB\n"
     ]
    }
   ],
   "source": [
    "geo_1.info()"
   ]
  },
  {
   "cell_type": "code",
   "execution_count": 40,
   "metadata": {},
   "outputs": [
    {
     "data": {
      "text/html": [
       "<div>\n",
       "<style scoped>\n",
       "    .dataframe tbody tr th:only-of-type {\n",
       "        vertical-align: middle;\n",
       "    }\n",
       "\n",
       "    .dataframe tbody tr th {\n",
       "        vertical-align: top;\n",
       "    }\n",
       "\n",
       "    .dataframe thead th {\n",
       "        text-align: right;\n",
       "    }\n",
       "</style>\n",
       "<table border=\"1\" class=\"dataframe\">\n",
       "  <thead>\n",
       "    <tr style=\"text-align: right;\">\n",
       "      <th></th>\n",
       "      <th>id</th>\n",
       "      <th>f0</th>\n",
       "      <th>f1</th>\n",
       "      <th>f2</th>\n",
       "      <th>product</th>\n",
       "    </tr>\n",
       "  </thead>\n",
       "  <tbody>\n",
       "    <tr>\n",
       "      <th>0</th>\n",
       "      <td>kBEdx</td>\n",
       "      <td>-15.001348</td>\n",
       "      <td>-8.276000</td>\n",
       "      <td>-0.005876</td>\n",
       "      <td>3.179103</td>\n",
       "    </tr>\n",
       "    <tr>\n",
       "      <th>1</th>\n",
       "      <td>62mP7</td>\n",
       "      <td>14.272088</td>\n",
       "      <td>-3.475083</td>\n",
       "      <td>0.999183</td>\n",
       "      <td>26.953261</td>\n",
       "    </tr>\n",
       "    <tr>\n",
       "      <th>2</th>\n",
       "      <td>vyE1P</td>\n",
       "      <td>6.263187</td>\n",
       "      <td>-5.948386</td>\n",
       "      <td>5.001160</td>\n",
       "      <td>134.766305</td>\n",
       "    </tr>\n",
       "    <tr>\n",
       "      <th>3</th>\n",
       "      <td>KcrkZ</td>\n",
       "      <td>-13.081196</td>\n",
       "      <td>-11.506057</td>\n",
       "      <td>4.999415</td>\n",
       "      <td>137.945408</td>\n",
       "    </tr>\n",
       "    <tr>\n",
       "      <th>4</th>\n",
       "      <td>AHL4O</td>\n",
       "      <td>12.702195</td>\n",
       "      <td>-8.147433</td>\n",
       "      <td>5.004363</td>\n",
       "      <td>134.766305</td>\n",
       "    </tr>\n",
       "  </tbody>\n",
       "</table>\n",
       "</div>"
      ],
      "text/plain": [
       "      id         f0         f1        f2     product\n",
       "0  kBEdx -15.001348  -8.276000 -0.005876    3.179103\n",
       "1  62mP7  14.272088  -3.475083  0.999183   26.953261\n",
       "2  vyE1P   6.263187  -5.948386  5.001160  134.766305\n",
       "3  KcrkZ -13.081196 -11.506057  4.999415  137.945408\n",
       "4  AHL4O  12.702195  -8.147433  5.004363  134.766305"
      ]
     },
     "execution_count": 40,
     "metadata": {},
     "output_type": "execute_result"
    }
   ],
   "source": [
    "geo_1.head()"
   ]
  },
  {
   "cell_type": "code",
   "execution_count": 41,
   "metadata": {},
   "outputs": [
    {
     "name": "stdout",
     "output_type": "stream",
     "text": [
      "<class 'pandas.core.frame.DataFrame'>\n",
      "RangeIndex: 100000 entries, 0 to 99999\n",
      "Data columns (total 5 columns):\n",
      " #   Column   Non-Null Count   Dtype  \n",
      "---  ------   --------------   -----  \n",
      " 0   id       100000 non-null  object \n",
      " 1   f0       100000 non-null  float64\n",
      " 2   f1       100000 non-null  float64\n",
      " 3   f2       100000 non-null  float64\n",
      " 4   product  100000 non-null  float64\n",
      "dtypes: float64(4), object(1)\n",
      "memory usage: 3.8+ MB\n"
     ]
    }
   ],
   "source": [
    "geo_2.info()"
   ]
  },
  {
   "cell_type": "code",
   "execution_count": 42,
   "metadata": {},
   "outputs": [
    {
     "data": {
      "text/html": [
       "<div>\n",
       "<style scoped>\n",
       "    .dataframe tbody tr th:only-of-type {\n",
       "        vertical-align: middle;\n",
       "    }\n",
       "\n",
       "    .dataframe tbody tr th {\n",
       "        vertical-align: top;\n",
       "    }\n",
       "\n",
       "    .dataframe thead th {\n",
       "        text-align: right;\n",
       "    }\n",
       "</style>\n",
       "<table border=\"1\" class=\"dataframe\">\n",
       "  <thead>\n",
       "    <tr style=\"text-align: right;\">\n",
       "      <th></th>\n",
       "      <th>id</th>\n",
       "      <th>f0</th>\n",
       "      <th>f1</th>\n",
       "      <th>f2</th>\n",
       "      <th>product</th>\n",
       "    </tr>\n",
       "  </thead>\n",
       "  <tbody>\n",
       "    <tr>\n",
       "      <th>0</th>\n",
       "      <td>fwXo0</td>\n",
       "      <td>-1.146987</td>\n",
       "      <td>0.963328</td>\n",
       "      <td>-0.828965</td>\n",
       "      <td>27.758673</td>\n",
       "    </tr>\n",
       "    <tr>\n",
       "      <th>1</th>\n",
       "      <td>WJtFt</td>\n",
       "      <td>0.262778</td>\n",
       "      <td>0.269839</td>\n",
       "      <td>-2.530187</td>\n",
       "      <td>56.069697</td>\n",
       "    </tr>\n",
       "    <tr>\n",
       "      <th>2</th>\n",
       "      <td>ovLUW</td>\n",
       "      <td>0.194587</td>\n",
       "      <td>0.289035</td>\n",
       "      <td>-5.586433</td>\n",
       "      <td>62.871910</td>\n",
       "    </tr>\n",
       "    <tr>\n",
       "      <th>3</th>\n",
       "      <td>q6cA6</td>\n",
       "      <td>2.236060</td>\n",
       "      <td>-0.553760</td>\n",
       "      <td>0.930038</td>\n",
       "      <td>114.572842</td>\n",
       "    </tr>\n",
       "    <tr>\n",
       "      <th>4</th>\n",
       "      <td>WPMUX</td>\n",
       "      <td>-0.515993</td>\n",
       "      <td>1.716266</td>\n",
       "      <td>5.899011</td>\n",
       "      <td>149.600746</td>\n",
       "    </tr>\n",
       "  </tbody>\n",
       "</table>\n",
       "</div>"
      ],
      "text/plain": [
       "      id        f0        f1        f2     product\n",
       "0  fwXo0 -1.146987  0.963328 -0.828965   27.758673\n",
       "1  WJtFt  0.262778  0.269839 -2.530187   56.069697\n",
       "2  ovLUW  0.194587  0.289035 -5.586433   62.871910\n",
       "3  q6cA6  2.236060 -0.553760  0.930038  114.572842\n",
       "4  WPMUX -0.515993  1.716266  5.899011  149.600746"
      ]
     },
     "execution_count": 42,
     "metadata": {},
     "output_type": "execute_result"
    }
   ],
   "source": [
    "geo_2.head()"
   ]
  },
  {
   "cell_type": "code",
   "execution_count": 43,
   "metadata": {},
   "outputs": [
    {
     "data": {
      "text/plain": [
       "np.int64(0)"
      ]
     },
     "execution_count": 43,
     "metadata": {},
     "output_type": "execute_result"
    }
   ],
   "source": [
    "geo_0.duplicated().sum()"
   ]
  },
  {
   "cell_type": "code",
   "execution_count": 44,
   "metadata": {},
   "outputs": [
    {
     "data": {
      "text/plain": [
       "np.int64(0)"
      ]
     },
     "execution_count": 44,
     "metadata": {},
     "output_type": "execute_result"
    }
   ],
   "source": [
    "geo_1.duplicated().sum()"
   ]
  },
  {
   "cell_type": "code",
   "execution_count": 45,
   "metadata": {},
   "outputs": [
    {
     "data": {
      "text/plain": [
       "np.int64(0)"
      ]
     },
     "execution_count": 45,
     "metadata": {},
     "output_type": "execute_result"
    }
   ],
   "source": [
    "geo_2.duplicated().sum()"
   ]
  },
  {
   "cell_type": "markdown",
   "metadata": {},
   "source": [
    "#### Вывод"
   ]
  },
  {
   "cell_type": "markdown",
   "metadata": {},
   "source": [
    "Пропуски и дубликаты не обнаружены."
   ]
  },
  {
   "cell_type": "markdown",
   "metadata": {},
   "source": [
    "### Иследовательский анализ"
   ]
  },
  {
   "cell_type": "code",
   "execution_count": 46,
   "metadata": {},
   "outputs": [],
   "source": [
    "def my_hist(df):\n",
    "    for col in [\"f0\", \"f1\", \"f2\", \"product\"]:\n",
    "        df[col].plot(\n",
    "            kind='hist', \n",
    "            bins=15, \n",
    "            title=col, \n",
    "            figsize=(8, 5),\n",
    "            color=sns.color_palette(\"viridis\")[2:5]\n",
    "        )\n",
    "        plt.show()\n",
    "    print(df.describe())"
   ]
  },
  {
   "cell_type": "markdown",
   "metadata": {},
   "source": [
    "#### Первый регион"
   ]
  },
  {
   "cell_type": "code",
   "execution_count": 47,
   "metadata": {
    "scrolled": false
   },
   "outputs": [
    {
     "data": {
      "image/png": "[encoded data removed]",
      "text/plain": [
       "<Figure size 800x500 with 1 Axes>"
      ]
     },
     "metadata": {},
     "output_type": "display_data"
    },
    {
     "data": {
      "image/png": "[encoded data removed]",
      "text/plain": [
       "<Figure size 800x500 with 1 Axes>"
      ]
     },
     "metadata": {},
     "output_type": "display_data"
    },
    {
     "data": {
      "image/png": "[encoded data removed]",
      "text/plain": [
       "<Figure size 800x500 with 1 Axes>"
      ]
     },
     "metadata": {},
     "output_type": "display_data"
    },
    {
     "data": {
      "image/png": "[encoded data removed]",
      "text/plain": [
       "<Figure size 800x500 with 1 Axes>"
      ]
     },
     "metadata": {},
     "output_type": "display_data"
    },
    {
     "name": "stdout",
     "output_type": "stream",
     "text": [
      "                  f0             f1             f2        product\n",
      "count  100000.000000  100000.000000  100000.000000  100000.000000\n",
      "mean        0.500419       0.250143       2.502647      92.500000\n",
      "std         0.871832       0.504433       3.248248      44.288691\n",
      "min        -1.408605      -0.848218     -12.088328       0.000000\n",
      "25%        -0.072580      -0.200881       0.287748      56.497507\n",
      "50%         0.502360       0.250252       2.515969      91.849972\n",
      "75%         1.073581       0.700646       4.715088     128.564089\n",
      "max         2.362331       1.343769      16.003790     185.364347\n"
     ]
    }
   ],
   "source": [
    "my_hist(geo_0)"
   ]
  },
  {
   "cell_type": "markdown",
   "metadata": {},
   "source": [
    "Признак \"f0\" распределен приблизительно от -1,4 до 2,4, симетрично вокруг среднего в 0,5 и имеет 4 пика, в районе -1, 0, 1, 2.\\\n",
    "Признак \"f1\" распределен приблизительно от -0,9 до 1,4, симетрично вокруг среднего в 0,25 и имеет 3 пика, в районе -0,5, 0,25, 1.\\\n",
    "Признак \"f2\" распределен нормально от -12 до 16, со среднем в 2,50 и стандартным отклонением в 3,24.\\\n",
    "Признак \"product\" распределен симетрично от 0 до 185, вокруг среднего в 92, имеет несколько пиков с шагом в 50 единиц и стандартное отклонение 44."
   ]
  },
  {
   "cell_type": "markdown",
   "metadata": {},
   "source": [
    "#### Второй регион"
   ]
  },
  {
   "cell_type": "code",
   "execution_count": 48,
   "metadata": {},
   "outputs": [
    {
     "data": {
      "image/png": "[encoded data removed]",
      "text/plain": [
       "<Figure size 800x500 with 1 Axes>"
      ]
     },
     "metadata": {},
     "output_type": "display_data"
    },
    {
     "data": {
      "image/png": "[encoded data removed]",
      "text/plain": [
       "<Figure size 800x500 with 1 Axes>"
      ]
     },
     "metadata": {},
     "output_type": "display_data"
    },
    {
     "data": {
      "image/png": "[encoded data removed]",
      "text/plain": [
       "<Figure size 800x500 with 1 Axes>"
      ]
     },
     "metadata": {},
     "output_type": "display_data"
    },
    {
     "data": {
      "image/png": "[encoded data removed]",
      "text/plain": [
       "<Figure size 800x500 with 1 Axes>"
      ]
     },
     "metadata": {},
     "output_type": "display_data"
    },
    {
     "name": "stdout",
     "output_type": "stream",
     "text": [
      "                  f0             f1             f2        product\n",
      "count  100000.000000  100000.000000  100000.000000  100000.000000\n",
      "mean        1.141296      -4.796579       2.494541      68.825000\n",
      "std         8.965932       5.119872       1.703572      45.944423\n",
      "min       -31.609576     -26.358598      -0.018144       0.000000\n",
      "25%        -6.298551      -8.267985       1.000021      26.953261\n",
      "50%         1.153055      -4.813172       2.011479      57.085625\n",
      "75%         8.621015      -1.332816       3.999904     107.813044\n",
      "max        29.421755      18.734063       5.019721     137.945408\n"
     ]
    }
   ],
   "source": [
    "my_hist(geo_1)"
   ]
  },
  {
   "cell_type": "markdown",
   "metadata": {},
   "source": [
    "Признак \"f0\" распределен приблизительно от -30 до 30, симетрично вокруг среднего в 1,14 и имеет 2 пика, в районе -8, 9.\\\n",
    "Признак \"f1\" распределен нормально от -26 до 18, со среднем в 4,8 и стандартным отклонением в 5,1.\\\n",
    "Признак \"f2\" распределен равномерно от 0 до 5, наблюдается некая сегментарность в районе целых единиц от 0 до 5.\\\n",
    "Признак \"product\" распределен от 0 до 140 схоже с \"f2\", только с заметными пиками в районе 0 и 140, так же разбит на сегменты, приблизительно через каждые 20 единиц."
   ]
  },
  {
   "cell_type": "markdown",
   "metadata": {},
   "source": [
    "#### Третий регион"
   ]
  },
  {
   "cell_type": "code",
   "execution_count": 49,
   "metadata": {},
   "outputs": [
    {
     "data": {
      "image/png": "[encoded data removed]",
      "text/plain": [
       "<Figure size 800x500 with 1 Axes>"
      ]
     },
     "metadata": {},
     "output_type": "display_data"
    },
    {
     "data": {
      "image/png": "[encoded data removed]",
      "text/plain": [
       "<Figure size 800x500 with 1 Axes>"
      ]
     },
     "metadata": {},
     "output_type": "display_data"
    },
    {
     "data": {
      "image/png": "[encoded data removed]",
      "text/plain": [
       "<Figure size 800x500 with 1 Axes>"
      ]
     },
     "metadata": {},
     "output_type": "display_data"
    },
    {
     "data": {
      "image/png": "[encoded data removed]",
      "text/plain": [
       "<Figure size 800x500 with 1 Axes>"
      ]
     },
     "metadata": {},
     "output_type": "display_data"
    },
    {
     "name": "stdout",
     "output_type": "stream",
     "text": [
      "                  f0             f1             f2        product\n",
      "count  100000.000000  100000.000000  100000.000000  100000.000000\n",
      "mean        0.002023      -0.002081       2.495128      95.000000\n",
      "std         1.732045       1.730417       3.473445      44.749921\n",
      "min        -8.760004      -7.084020     -11.970335       0.000000\n",
      "25%        -1.162288      -1.174820       0.130359      59.450441\n",
      "50%         0.009424      -0.009482       2.484236      94.925613\n",
      "75%         1.158535       1.163678       4.858794     130.595027\n",
      "max         7.238262       7.844801      16.739402     190.029838\n"
     ]
    }
   ],
   "source": [
    "my_hist(geo_2)"
   ]
  },
  {
   "cell_type": "markdown",
   "metadata": {},
   "source": [
    "Признак \"f0\" распределен нормально от -8 до 7, со среднем в районе 0 и стандартным отклонением в 1,73.\\\n",
    "Признак \"f1\" распределен нормально от -7 до 7,8, со среднем в районе 0 и стандартным отклонением в 1,73.\\\n",
    "Признак \"f2\" распределен нормально от -11,9 до 16,7, со среднем в 2,49 и стандартным отклонением в 3,47.\\\n",
    "Признак \"product\" распределен симетрично от 0 до 190, вокруг среднего в 95, имеет несколько пиков с шагом в 25 единиц и стандартное отклонение 44."
   ]
  },
  {
   "cell_type": "markdown",
   "metadata": {},
   "source": [
    "### Вывод"
   ]
  },
  {
   "cell_type": "markdown",
   "metadata": {},
   "source": [
    "Данные в разных регионах имеют разные распределения и стандартные отклонения, максимальные и минимальные значения у одних и тех же признаков в разных регионах отличаются кратно, заметных выбросов не наблюдается."
   ]
  },
  {
   "cell_type": "markdown",
   "metadata": {},
   "source": [
    "## Обучение и проверка модели"
   ]
  },
  {
   "cell_type": "markdown",
   "metadata": {},
   "source": [
    "### Обучение модели"
   ]
  },
  {
   "cell_type": "code",
   "execution_count": 50,
   "metadata": {},
   "outputs": [],
   "source": [
    "def model(df, region):\n",
    "    \n",
    "    X = df.drop([\"id\", \"product\"], axis=1)\n",
    "    y = df[\"product\"]\n",
    "\n",
    "    X_train, X_test, y_train, y_test = train_test_split(\n",
    "        X,\n",
    "        y,\n",
    "        test_size=TEST_SIZE,\n",
    "        random_state=RANDOM_STATE\n",
    "    )\n",
    "\n",
    "    num_cols = [\"f0\", \"f1\", \"f2\"]\n",
    "    scaler = MinMaxScaler()\n",
    "\n",
    "    X_train_scaled = scaler.fit_transform(X_train[num_cols])\n",
    "    X_test_scaler = scaler.transform(X_test[num_cols])\n",
    "\n",
    "    le = LinearRegression()\n",
    "    le.fit(X_train_scaled, y_train)\n",
    "    y_pred = le.predict(X_test_scaler)\n",
    "    \n",
    "    result = X_test.copy(deep=True)\n",
    "    result[\"product\"] = y_test\n",
    "    result[\"predict\"] = y_pred\n",
    "    \n",
    "    rmse = root_mean_squared_error(y_test, y_pred)\n",
    "    \n",
    "    print(\"----------------------Регион №{}----------------------\".format(region))\n",
    "    print(\"RMSE модели {:.2f}:\".format(rmse))\n",
    "    print(\"Средний запас предсказанного сырья {:.1f}:\".format(y_pred.mean()))\n",
    "    print(\"\")\n",
    "\n",
    "    return result"
   ]
  },
  {
   "cell_type": "markdown",
   "metadata": {},
   "source": [
    "### Предсказания модели"
   ]
  },
  {
   "cell_type": "code",
   "execution_count": 51,
   "metadata": {},
   "outputs": [
    {
     "name": "stdout",
     "output_type": "stream",
     "text": [
      "----------------------Регион №1----------------------\n",
      "RMSE модели 37.76:\n",
      "Средний запас предсказанного сырья 92.4:\n",
      "\n",
      "----------------------Регион №2----------------------\n",
      "RMSE модели 0.89:\n",
      "Средний запас предсказанного сырья 68.6:\n",
      "\n",
      "----------------------Регион №3----------------------\n",
      "RMSE модели 40.24:\n",
      "Средний запас предсказанного сырья 95.1:\n",
      "\n"
     ]
    }
   ],
   "source": [
    "geo_0_pred = model(geo_0, 1)\n",
    "geo_1_pred = model(geo_1, 2)\n",
    "geo_2_pred = model(geo_2, 3)"
   ]
  },
  {
   "cell_type": "markdown",
   "metadata": {},
   "source": [
    "### Вывод"
   ]
  },
  {
   "cell_type": "markdown",
   "metadata": {},
   "source": [
    "Лучше всего справилась вторая модель, почти идеальный результат, RMSE 0,89 при среднем в 68,6 - это намного лучше чем у других двух моделей (Регион №1 - RMSE 37.76, Регион №3 - RMSE 40.24), скорее всего это связано со структурой данных у признаков датасета для второго региона, где наблюдалась выраженная сегментация признака f2 и product, также эти признаки полностью коррелируют, возможно есть утечка данных либо другие причины."
   ]
  },
  {
   "cell_type": "markdown",
   "metadata": {},
   "source": [
    "Корреляция признаков f2 и product в датасете второго региона:"
   ]
  },
  {
   "cell_type": "code",
   "execution_count": 60,
   "metadata": {},
   "outputs": [
    {
     "data": {
      "text/html": [
       "<div>\n",
       "<style scoped>\n",
       "    .dataframe tbody tr th:only-of-type {\n",
       "        vertical-align: middle;\n",
       "    }\n",
       "\n",
       "    .dataframe tbody tr th {\n",
       "        vertical-align: top;\n",
       "    }\n",
       "\n",
       "    .dataframe thead th {\n",
       "        text-align: right;\n",
       "    }\n",
       "</style>\n",
       "<table border=\"1\" class=\"dataframe\">\n",
       "  <thead>\n",
       "    <tr style=\"text-align: right;\">\n",
       "      <th></th>\n",
       "      <th>f2</th>\n",
       "      <th>product</th>\n",
       "    </tr>\n",
       "  </thead>\n",
       "  <tbody>\n",
       "    <tr>\n",
       "      <th>f2</th>\n",
       "      <td>1.000000</td>\n",
       "      <td>0.999397</td>\n",
       "    </tr>\n",
       "    <tr>\n",
       "      <th>product</th>\n",
       "      <td>0.999397</td>\n",
       "      <td>1.000000</td>\n",
       "    </tr>\n",
       "  </tbody>\n",
       "</table>\n",
       "</div>"
      ],
      "text/plain": [
       "               f2   product\n",
       "f2       1.000000  0.999397\n",
       "product  0.999397  1.000000"
      ]
     },
     "execution_count": 60,
     "metadata": {},
     "output_type": "execute_result"
    }
   ],
   "source": [
    "geo_1[[\"f2\", \"product\"]].corr()"
   ]
  },
  {
   "cell_type": "markdown",
   "metadata": {},
   "source": [
    "## Подготовка к расчёту прибыли"
   ]
  },
  {
   "cell_type": "code",
   "execution_count": 53,
   "metadata": {},
   "outputs": [],
   "source": [
    "BUDGET = 10000000000 # Бюджет\n",
    "INCOME_PER_UNIT = 450000 # Доход на 1 тыс. баррелей\n",
    "BEST_WELLS = 200 # Кол-во разрабатываемых скважин\n",
    "TOTAL_WELLS = 500 # Кол-во исследуемых скважин"
   ]
  },
  {
   "cell_type": "markdown",
   "metadata": {},
   "source": [
    "Объем сырья для безубыточной разработки должен принести доход как минимум равный бюджету (10 млрд руб.). Одна единица продукта (1 тыс бар.) приносит 450 000 рублей дохода. Всего планируется разработка 200 скважин, значит необходимо бюджет поделить на 450 000 и разделить на 200 скажин, тогда мы узнаем минимальное среднее количиство единиц продукта на одну скважину для безубыточности."
   ]
  },
  {
   "cell_type": "code",
   "execution_count": 54,
   "metadata": {},
   "outputs": [
    {
     "data": {
      "text/plain": [
       "111.11111111111111"
      ]
     },
     "execution_count": 54,
     "metadata": {},
     "output_type": "execute_result"
    }
   ],
   "source": [
    "need_prod = BUDGET / INCOME_PER_UNIT / BEST_WELLS\n",
    "need_prod"
   ]
  },
  {
   "cell_type": "markdown",
   "metadata": {},
   "source": [
    "Функция для расчета прибыли в регионе:"
   ]
  },
  {
   "cell_type": "code",
   "execution_count": 55,
   "metadata": {},
   "outputs": [],
   "source": [
    "def profit(data):\n",
    "    total_products = data.sort_values(by=\"predict\", ascending=False).head(BEST_WELLS)[\"product\"].sum()\n",
    "    income = total_products * INCOME_PER_UNIT\n",
    "    profit = income - BUDGET\n",
    "    return int(profit)"
   ]
  },
  {
   "cell_type": "code",
   "execution_count": 56,
   "metadata": {},
   "outputs": [
    {
     "name": "stdout",
     "output_type": "stream",
     "text": [
      "Расчетная прибыль в первом регионе: 3.359 млрд. рублей.\n",
      "Расчетная прибыль во втором регионе: 2.415 млрд. рублей.\n",
      "Расчетная прибыль в третьем регионе: 2.584 млрд. рублей.\n"
     ]
    }
   ],
   "source": [
    "print(\"Расчетная прибыль в первом регионе: {:.3f} млрд. рублей.\".format(profit(geo_0_pred)/10**9))\n",
    "print(\"Расчетная прибыль во втором регионе: {:.3f} млрд. рублей.\".format(profit(geo_1_pred)/10**9))\n",
    "print(\"Расчетная прибыль в третьем регионе: {:.3f} млрд. рублей.\".format(profit(geo_2_pred)/10**9))"
   ]
  },
  {
   "cell_type": "markdown",
   "metadata": {},
   "source": [
    "### Вывод"
   ]
  },
  {
   "cell_type": "markdown",
   "metadata": {},
   "source": [
    "Для безубыточной разработки необходимо иметь объём запасов нефти на скважину в среднем минимум 111,2 тыс баррелей. Самая высокая расчетная прибыль в первом регионе - 3,359 млрд рублей, у третьего региона - 2,599 млрд рублей, у втрого - 2,415 млрд."
   ]
  },
  {
   "cell_type": "markdown",
   "metadata": {},
   "source": [
    "## Расчёт прибыли и рисков "
   ]
  },
  {
   "cell_type": "code",
   "execution_count": 57,
   "metadata": {},
   "outputs": [],
   "source": [
    "def bootstrap(data, region):\n",
    "    \n",
    "    mean_values = []\n",
    "\n",
    "    for i in range(1000):\n",
    "        samples = data.sample(TOTAL_WELLS, replace=True, random_state=RANDOM_STATE).values\n",
    "        samples = pd.DataFrame(samples, columns=data.columns)\n",
    "        mean_profit = profit(samples)\n",
    "        mean_values.append(mean_profit)\n",
    "\n",
    "    mean_values = pd.Series(mean_values)\n",
    "    lower = mean_values.quantile(0.025)\n",
    "    upper = mean_values.quantile(0.975)\n",
    "    risk_of_loss = (mean_values < 0).mean()\n",
    "    \n",
    "    print(\"----------------------Регион №{}----------------------\".format(region))\n",
    "    print(\"Средняя прибль: {:.2f} млн. руб.\".format(mean_values.mean()/10**6))\n",
    "    print(\"95% доверительный интервал: от {:.0f} до {:.0f}\".format(lower, upper))\n",
    "    print(\"Риск убытков {:.2%}\".format(risk_of_loss))\n",
    "    print(\"\")\n"
   ]
  },
  {
   "cell_type": "code",
   "execution_count": 58,
   "metadata": {},
   "outputs": [
    {
     "name": "stdout",
     "output_type": "stream",
     "text": [
      "----------------------Регион №1----------------------\n",
      "Средняя прибль: 415.66 млн. руб.\n",
      "95% доверительный интервал: от -136326160 до 932343968\n",
      "Риск убытков 6.20%\n",
      "\n",
      "----------------------Регион №2----------------------\n",
      "Средняя прибль: 429.54 млн. руб.\n",
      "95% доверительный интервал: от 37480969 до 813804862\n",
      "Риск убытков 1.50%\n",
      "\n",
      "----------------------Регион №3----------------------\n",
      "Средняя прибль: 318.15 млн. руб.\n",
      "95% доверительный интервал: от -227793511 до 813881577\n",
      "Риск убытков 12.30%\n",
      "\n"
     ]
    }
   ],
   "source": [
    "bootstrap(geo_0_pred, 1)\n",
    "bootstrap(geo_1_pred, 2)\n",
    "bootstrap(geo_2_pred, 3)"
   ]
  },
  {
   "cell_type": "markdown",
   "metadata": {},
   "source": [
    "### Вывод"
   ]
  },
  {
   "cell_type": "markdown",
   "metadata": {},
   "source": [
    "В результате работы бутстрэпа имеем только один регион с вероятностью убытков меньше 2,5% - это второй регион, у него же и самый высокий показатель прибыли и 95% доверительный интервал. Однако имеются сомнения по поводу выбора региона из-за подозрения на утечку данных целевого признака, что могло очень сильно завысить точность прогнозов модели по сравнению с остальными регионами."
   ]
  }
 ],
 "metadata": {
  "ExecuteTimeLog": [
   {
    "duration": 384,
    "start_time": "2024-05-13T05:21:50.888Z"
   },
   {
    "duration": 696,
    "start_time": "2024-05-13T05:21:51.594Z"
   },
   {
    "duration": 18,
    "start_time": "2024-05-13T05:22:04.076Z"
   },
   {
    "duration": 15,
    "start_time": "2024-05-13T05:22:19.091Z"
   },
   {
    "duration": 15,
    "start_time": "2024-05-13T05:22:19.713Z"
   },
   {
    "duration": 16,
    "start_time": "2024-05-13T05:23:08.127Z"
   },
   {
    "duration": 10,
    "start_time": "2024-05-13T05:23:21.822Z"
   },
   {
    "duration": 9,
    "start_time": "2024-05-13T05:23:46.686Z"
   },
   {
    "duration": 45,
    "start_time": "2024-05-13T05:31:52.921Z"
   },
   {
    "duration": 48,
    "start_time": "2024-05-13T05:31:58.652Z"
   },
   {
    "duration": 45,
    "start_time": "2024-05-13T05:32:25.254Z"
   },
   {
    "duration": 55,
    "start_time": "2024-05-13T05:32:25.523Z"
   },
   {
    "duration": 79,
    "start_time": "2024-05-13T05:50:40.115Z"
   },
   {
    "duration": 7,
    "start_time": "2024-05-13T05:50:44.973Z"
   },
   {
    "duration": 8,
    "start_time": "2024-05-13T05:50:56.624Z"
   },
   {
    "duration": 831,
    "start_time": "2024-05-13T05:51:19.401Z"
   },
   {
    "duration": 819,
    "start_time": "2024-05-13T05:52:13.695Z"
   },
   {
    "duration": 1098,
    "start_time": "2024-05-13T05:52:23.317Z"
   },
   {
    "duration": 478,
    "start_time": "2024-05-13T05:52:38.138Z"
   },
   {
    "duration": 67,
    "start_time": "2024-05-13T05:53:29.441Z"
   },
   {
    "duration": 579,
    "start_time": "2024-05-13T05:54:05.215Z"
   },
   {
    "duration": 597,
    "start_time": "2024-05-13T05:55:01.038Z"
   },
   {
    "duration": 652,
    "start_time": "2024-05-13T05:55:14.501Z"
   },
   {
    "duration": 554,
    "start_time": "2024-05-13T05:55:17.740Z"
   },
   {
    "duration": 530,
    "start_time": "2024-05-13T05:55:32.628Z"
   },
   {
    "duration": 590,
    "start_time": "2024-05-13T05:55:39.304Z"
   },
   {
    "duration": 660,
    "start_time": "2024-05-13T05:56:42.606Z"
   },
   {
    "duration": 590,
    "start_time": "2024-05-13T05:56:54.313Z"
   },
   {
    "duration": 563,
    "start_time": "2024-05-13T05:56:59.225Z"
   },
   {
    "duration": 697,
    "start_time": "2024-05-13T05:57:06.734Z"
   },
   {
    "duration": 30,
    "start_time": "2024-05-13T07:08:52.631Z"
   },
   {
    "duration": 22,
    "start_time": "2024-05-13T07:09:09.161Z"
   },
   {
    "duration": 19,
    "start_time": "2024-05-13T07:09:18.077Z"
   },
   {
    "duration": 5,
    "start_time": "2024-05-13T07:09:45.941Z"
   },
   {
    "duration": 4,
    "start_time": "2024-05-13T07:28:12.845Z"
   },
   {
    "duration": 16,
    "start_time": "2024-05-13T07:51:02.030Z"
   },
   {
    "duration": 4,
    "start_time": "2024-05-13T07:51:15.103Z"
   },
   {
    "duration": 14,
    "start_time": "2024-05-13T07:51:20.438Z"
   },
   {
    "duration": 5,
    "start_time": "2024-05-13T07:51:24.905Z"
   },
   {
    "duration": 29,
    "start_time": "2024-05-13T07:51:25.439Z"
   },
   {
    "duration": 27,
    "start_time": "2024-05-13T07:51:58.754Z"
   },
   {
    "duration": 4,
    "start_time": "2024-05-13T07:53:25.998Z"
   },
   {
    "duration": 23,
    "start_time": "2024-05-13T07:54:02.170Z"
   },
   {
    "duration": 23,
    "start_time": "2024-05-13T07:54:05.529Z"
   },
   {
    "duration": 40,
    "start_time": "2024-05-13T07:55:03.092Z"
   },
   {
    "duration": 945,
    "start_time": "2024-05-13T07:56:12.071Z"
   },
   {
    "duration": 28,
    "start_time": "2024-05-13T07:56:20.914Z"
   },
   {
    "duration": 50,
    "start_time": "2024-05-13T07:56:27.696Z"
   },
   {
    "duration": 33,
    "start_time": "2024-05-13T07:56:43.969Z"
   },
   {
    "duration": 82,
    "start_time": "2024-05-13T08:07:48.683Z"
   },
   {
    "duration": 78,
    "start_time": "2024-05-13T08:08:43.583Z"
   },
   {
    "duration": 99,
    "start_time": "2024-05-13T08:12:27.275Z"
   },
   {
    "duration": 99,
    "start_time": "2024-05-13T08:12:33.964Z"
   },
   {
    "duration": 33,
    "start_time": "2024-05-13T08:12:40.684Z"
   },
   {
    "duration": 50,
    "start_time": "2024-05-13T08:12:47.839Z"
   },
   {
    "duration": 78,
    "start_time": "2024-05-13T08:13:28.992Z"
   },
   {
    "duration": 241,
    "start_time": "2024-05-13T08:13:35.525Z"
   },
   {
    "duration": 42,
    "start_time": "2024-05-13T08:13:47.255Z"
   },
   {
    "duration": 22,
    "start_time": "2024-05-13T08:14:20.427Z"
   },
   {
    "duration": 28,
    "start_time": "2024-05-13T08:14:24.023Z"
   },
   {
    "duration": 7,
    "start_time": "2024-05-13T08:43:55.981Z"
   },
   {
    "duration": 28,
    "start_time": "2024-05-13T08:43:56.623Z"
   },
   {
    "duration": 36,
    "start_time": "2024-05-13T09:41:14.537Z"
   },
   {
    "duration": 6,
    "start_time": "2024-05-13T09:41:18.007Z"
   },
   {
    "duration": 28,
    "start_time": "2024-05-13T09:41:18.735Z"
   },
   {
    "duration": 28,
    "start_time": "2024-05-13T09:41:28.800Z"
   },
   {
    "duration": 32,
    "start_time": "2024-05-13T09:41:32.010Z"
   },
   {
    "duration": 4,
    "start_time": "2024-05-13T09:42:22.838Z"
   },
   {
    "duration": 59,
    "start_time": "2024-05-13T09:42:23.604Z"
   },
   {
    "duration": 3,
    "start_time": "2024-05-13T09:42:32.408Z"
   },
   {
    "duration": 6,
    "start_time": "2024-05-13T09:42:32.746Z"
   },
   {
    "duration": 23,
    "start_time": "2024-05-13T09:42:33.706Z"
   },
   {
    "duration": 23,
    "start_time": "2024-05-13T09:43:01.306Z"
   },
   {
    "duration": 25,
    "start_time": "2024-05-13T09:43:16.323Z"
   },
   {
    "duration": 35,
    "start_time": "2024-05-13T09:56:28.336Z"
   },
   {
    "duration": 123,
    "start_time": "2024-05-13T09:56:33.241Z"
   },
   {
    "duration": 25,
    "start_time": "2024-05-13T09:58:06.962Z"
   },
   {
    "duration": 36,
    "start_time": "2024-05-13T09:58:16.637Z"
   },
   {
    "duration": 5,
    "start_time": "2024-05-13T09:58:19.877Z"
   },
   {
    "duration": 33,
    "start_time": "2024-05-13T09:58:20.261Z"
   },
   {
    "duration": 38,
    "start_time": "2024-05-13T09:58:50.597Z"
   },
   {
    "duration": 31,
    "start_time": "2024-05-13T09:58:55.127Z"
   },
   {
    "duration": 5,
    "start_time": "2024-05-13T09:59:46.294Z"
   },
   {
    "duration": 531,
    "start_time": "2024-05-13T09:59:47.164Z"
   },
   {
    "duration": 603,
    "start_time": "2024-05-13T10:00:09.395Z"
   },
   {
    "duration": 4,
    "start_time": "2024-05-13T10:25:51.785Z"
   },
   {
    "duration": 51,
    "start_time": "2024-05-13T10:30:39.019Z"
   },
   {
    "duration": 4,
    "start_time": "2024-05-13T10:31:12.132Z"
   },
   {
    "duration": 48,
    "start_time": "2024-05-13T10:51:39.116Z"
   },
   {
    "duration": 11,
    "start_time": "2024-05-13T10:51:43.570Z"
   },
   {
    "duration": 10,
    "start_time": "2024-05-13T10:53:56.285Z"
   },
   {
    "duration": 8,
    "start_time": "2024-05-13T10:54:05.807Z"
   },
   {
    "duration": 3,
    "start_time": "2024-05-13T10:55:20.213Z"
   },
   {
    "duration": 3,
    "start_time": "2024-05-13T10:55:27.381Z"
   },
   {
    "duration": 11,
    "start_time": "2024-05-13T10:55:38.782Z"
   },
   {
    "duration": 13,
    "start_time": "2024-05-13T10:56:02.309Z"
   },
   {
    "duration": 4,
    "start_time": "2024-05-13T10:56:50.311Z"
   },
   {
    "duration": 3,
    "start_time": "2024-05-13T10:56:51.247Z"
   },
   {
    "duration": 9,
    "start_time": "2024-05-13T10:56:59.243Z"
   },
   {
    "duration": 9,
    "start_time": "2024-05-13T10:57:14.701Z"
   },
   {
    "duration": 9,
    "start_time": "2024-05-13T10:57:23.806Z"
   },
   {
    "duration": 10,
    "start_time": "2024-05-13T10:57:50.828Z"
   },
   {
    "duration": 4,
    "start_time": "2024-05-13T11:03:46.434Z"
   },
   {
    "duration": 97113,
    "start_time": "2024-05-13T11:03:46.440Z"
   },
   {
    "duration": 5,
    "start_time": "2024-05-13T11:05:23.561Z"
   },
   {
    "duration": 3,
    "start_time": "2024-05-13T11:08:59.645Z"
   },
   {
    "duration": 6,
    "start_time": "2024-05-13T11:09:00.057Z"
   },
   {
    "duration": 561,
    "start_time": "2024-05-13T11:09:01.205Z"
   },
   {
    "duration": 72,
    "start_time": "2024-05-13T11:09:20.990Z"
   },
   {
    "duration": 33,
    "start_time": "2024-05-13T11:09:33.246Z"
   },
   {
    "duration": 5,
    "start_time": "2024-05-13T11:51:14.930Z"
   },
   {
    "duration": 27,
    "start_time": "2024-05-13T11:51:20.343Z"
   },
   {
    "duration": 29,
    "start_time": "2024-05-13T11:54:19.937Z"
   },
   {
    "duration": 40,
    "start_time": "2024-05-13T11:55:04.223Z"
   },
   {
    "duration": 4,
    "start_time": "2024-05-13T11:55:23.468Z"
   },
   {
    "duration": 101,
    "start_time": "2024-05-13T11:55:23.760Z"
   },
   {
    "duration": 46,
    "start_time": "2024-05-13T11:56:02.147Z"
   },
   {
    "duration": 44,
    "start_time": "2024-05-13T12:01:42.526Z"
   },
   {
    "duration": 39,
    "start_time": "2024-05-13T12:01:50.123Z"
   },
   {
    "duration": 5,
    "start_time": "2024-05-13T12:01:56.116Z"
   },
   {
    "duration": 5,
    "start_time": "2024-05-13T12:02:41.470Z"
   },
   {
    "duration": 37,
    "start_time": "2024-05-13T12:02:41.732Z"
   },
   {
    "duration": 5,
    "start_time": "2024-05-13T12:03:06.843Z"
   },
   {
    "duration": 4,
    "start_time": "2024-05-13T12:03:07.646Z"
   },
   {
    "duration": 30,
    "start_time": "2024-05-13T12:03:08.178Z"
   },
   {
    "duration": 4,
    "start_time": "2024-05-13T12:03:15.079Z"
   },
   {
    "duration": 4,
    "start_time": "2024-05-13T12:03:15.371Z"
   },
   {
    "duration": 82,
    "start_time": "2024-05-13T12:03:15.580Z"
   },
   {
    "duration": 5,
    "start_time": "2024-05-13T12:04:38.879Z"
   },
   {
    "duration": 4,
    "start_time": "2024-05-13T12:04:39.238Z"
   },
   {
    "duration": 29,
    "start_time": "2024-05-13T12:04:39.486Z"
   },
   {
    "duration": 4,
    "start_time": "2024-05-13T12:04:52.102Z"
   },
   {
    "duration": 6,
    "start_time": "2024-05-13T12:04:52.664Z"
   },
   {
    "duration": 30,
    "start_time": "2024-05-13T12:04:52.911Z"
   },
   {
    "duration": 4,
    "start_time": "2024-05-13T12:05:18.323Z"
   },
   {
    "duration": 4,
    "start_time": "2024-05-13T12:05:38.176Z"
   },
   {
    "duration": 5,
    "start_time": "2024-05-13T12:05:41.595Z"
   },
   {
    "duration": 4,
    "start_time": "2024-05-13T12:05:41.828Z"
   },
   {
    "duration": 31,
    "start_time": "2024-05-13T12:05:42.091Z"
   },
   {
    "duration": 6,
    "start_time": "2024-05-13T12:07:52.256Z"
   },
   {
    "duration": 29,
    "start_time": "2024-05-13T12:07:53.187Z"
   },
   {
    "duration": 31,
    "start_time": "2024-05-13T12:08:40.228Z"
   },
   {
    "duration": 29,
    "start_time": "2024-05-13T12:08:43.708Z"
   },
   {
    "duration": 34,
    "start_time": "2024-05-14T05:03:38.276Z"
   },
   {
    "duration": 30,
    "start_time": "2024-05-14T05:03:39.893Z"
   },
   {
    "duration": 32,
    "start_time": "2024-05-14T05:03:41.475Z"
   },
   {
    "duration": 5,
    "start_time": "2024-05-14T05:04:21.152Z"
   },
   {
    "duration": 36,
    "start_time": "2024-05-14T05:04:23.329Z"
   },
   {
    "duration": 35,
    "start_time": "2024-05-14T05:14:23.052Z"
   },
   {
    "duration": 30,
    "start_time": "2024-05-14T05:14:39.276Z"
   },
   {
    "duration": 17,
    "start_time": "2024-05-14T05:15:51.959Z"
   },
   {
    "duration": 14,
    "start_time": "2024-05-14T05:15:59.690Z"
   },
   {
    "duration": 235,
    "start_time": "2024-05-14T05:16:43.283Z"
   },
   {
    "duration": 298,
    "start_time": "2024-05-14T05:17:07.665Z"
   },
   {
    "duration": 279,
    "start_time": "2024-05-14T05:18:22.727Z"
   },
   {
    "duration": 247,
    "start_time": "2024-05-14T05:18:44.079Z"
   },
   {
    "duration": 304,
    "start_time": "2024-05-14T05:19:09.408Z"
   },
   {
    "duration": 269,
    "start_time": "2024-05-14T05:19:11.072Z"
   },
   {
    "duration": 415,
    "start_time": "2024-05-14T05:19:13.121Z"
   },
   {
    "duration": 43,
    "start_time": "2024-05-14T05:23:01.672Z"
   },
   {
    "duration": 5,
    "start_time": "2024-05-14T05:23:15.945Z"
   },
   {
    "duration": 119,
    "start_time": "2024-05-14T05:23:20.342Z"
   },
   {
    "duration": 113,
    "start_time": "2024-05-14T05:23:30.849Z"
   },
   {
    "duration": 45,
    "start_time": "2024-05-14T05:23:50.145Z"
   },
   {
    "duration": 39,
    "start_time": "2024-05-14T05:23:57.232Z"
   },
   {
    "duration": 47,
    "start_time": "2024-05-14T05:24:08.138Z"
   },
   {
    "duration": 6,
    "start_time": "2024-05-14T05:24:54.873Z"
   },
   {
    "duration": 336,
    "start_time": "2024-05-14T05:24:57.025Z"
   },
   {
    "duration": 6,
    "start_time": "2024-05-14T05:26:00.138Z"
   },
   {
    "duration": 231,
    "start_time": "2024-05-14T05:26:02.531Z"
   },
   {
    "duration": 6,
    "start_time": "2024-05-14T05:26:18.963Z"
   },
   {
    "duration": 241,
    "start_time": "2024-05-14T05:26:21.228Z"
   },
   {
    "duration": 6,
    "start_time": "2024-05-14T05:27:23.577Z"
   },
   {
    "duration": 373,
    "start_time": "2024-05-14T05:27:26.891Z"
   },
   {
    "duration": 234,
    "start_time": "2024-05-14T05:27:37.557Z"
   },
   {
    "duration": 6,
    "start_time": "2024-05-14T06:54:15.750Z"
   },
   {
    "duration": 110,
    "start_time": "2024-05-14T06:54:17.150Z"
   },
   {
    "duration": 5,
    "start_time": "2024-05-14T06:54:22.985Z"
   },
   {
    "duration": 30,
    "start_time": "2024-05-14T06:54:23.600Z"
   },
   {
    "duration": 31,
    "start_time": "2024-05-14T06:54:24.598Z"
   },
   {
    "duration": 30,
    "start_time": "2024-05-14T06:54:25.498Z"
   },
   {
    "duration": 6,
    "start_time": "2024-05-14T06:56:03.000Z"
   },
   {
    "duration": 28,
    "start_time": "2024-05-14T06:56:05.752Z"
   },
   {
    "duration": 30,
    "start_time": "2024-05-14T06:56:07.725Z"
   },
   {
    "duration": 27,
    "start_time": "2024-05-14T06:56:15.607Z"
   },
   {
    "duration": 5,
    "start_time": "2024-05-14T06:56:27.773Z"
   },
   {
    "duration": 25,
    "start_time": "2024-05-14T06:56:28.898Z"
   },
   {
    "duration": 5,
    "start_time": "2024-05-14T06:56:54.436Z"
   },
   {
    "duration": 31,
    "start_time": "2024-05-14T06:56:55.253Z"
   },
   {
    "duration": 5,
    "start_time": "2024-05-14T06:57:07.726Z"
   },
   {
    "duration": 6,
    "start_time": "2024-05-14T07:22:28.750Z"
   },
   {
    "duration": 198,
    "start_time": "2024-05-14T07:22:52.564Z"
   },
   {
    "duration": 7,
    "start_time": "2024-05-14T07:24:07.895Z"
   },
   {
    "duration": 124,
    "start_time": "2024-05-14T07:24:10.138Z"
   },
   {
    "duration": 10,
    "start_time": "2024-05-14T07:24:25.189Z"
   },
   {
    "duration": 5,
    "start_time": "2024-05-14T07:26:44.813Z"
   },
   {
    "duration": 149,
    "start_time": "2024-05-14T07:26:47.214Z"
   },
   {
    "duration": 6,
    "start_time": "2024-05-14T07:27:01.388Z"
   },
   {
    "duration": 33,
    "start_time": "2024-05-14T07:27:03.286Z"
   },
   {
    "duration": 11,
    "start_time": "2024-05-14T07:27:05.001Z"
   },
   {
    "duration": 28,
    "start_time": "2024-05-14T07:27:49.239Z"
   },
   {
    "duration": 50,
    "start_time": "2024-05-14T07:27:53.411Z"
   },
   {
    "duration": 12,
    "start_time": "2024-05-14T07:28:07.008Z"
   },
   {
    "duration": 9,
    "start_time": "2024-05-14T07:28:11.589Z"
   },
   {
    "duration": 6,
    "start_time": "2024-05-14T07:29:29.547Z"
   },
   {
    "duration": 577,
    "start_time": "2024-05-14T07:29:31.722Z"
   },
   {
    "duration": 9,
    "start_time": "2024-05-14T07:29:35.203Z"
   },
   {
    "duration": 419,
    "start_time": "2024-05-14T07:29:37.046Z"
   },
   {
    "duration": 10,
    "start_time": "2024-05-14T07:29:40.035Z"
   },
   {
    "duration": 570,
    "start_time": "2024-05-14T07:29:48.537Z"
   },
   {
    "duration": 9,
    "start_time": "2024-05-14T07:29:49.159Z"
   },
   {
    "duration": 6,
    "start_time": "2024-05-14T07:30:21.252Z"
   },
   {
    "duration": 98,
    "start_time": "2024-05-14T07:30:22.865Z"
   },
   {
    "duration": 10,
    "start_time": "2024-05-14T07:30:23.637Z"
   },
   {
    "duration": 24,
    "start_time": "2024-05-14T07:30:24.867Z"
   },
   {
    "duration": 10,
    "start_time": "2024-05-14T07:30:25.886Z"
   },
   {
    "duration": 37,
    "start_time": "2024-05-14T07:30:28.122Z"
   },
   {
    "duration": 9,
    "start_time": "2024-05-14T07:30:28.572Z"
   },
   {
    "duration": 32,
    "start_time": "2024-05-14T07:31:17.511Z"
   },
   {
    "duration": 31,
    "start_time": "2024-05-14T07:31:30.817Z"
   },
   {
    "duration": 26,
    "start_time": "2024-05-14T07:31:33.011Z"
   },
   {
    "duration": 24,
    "start_time": "2024-05-14T07:31:49.596Z"
   },
   {
    "duration": 48,
    "start_time": "2024-05-14T07:32:01.192Z"
   },
   {
    "duration": 42,
    "start_time": "2024-05-14T07:32:01.409Z"
   },
   {
    "duration": 47,
    "start_time": "2024-05-14T07:32:01.597Z"
   },
   {
    "duration": 7,
    "start_time": "2024-05-14T07:40:55.834Z"
   },
   {
    "duration": 220,
    "start_time": "2024-05-14T07:40:57.955Z"
   },
   {
    "duration": 225,
    "start_time": "2024-05-14T07:41:03.910Z"
   },
   {
    "duration": 9,
    "start_time": "2024-05-14T07:41:06.514Z"
   },
   {
    "duration": 241,
    "start_time": "2024-05-14T07:41:09.326Z"
   },
   {
    "duration": 10,
    "start_time": "2024-05-14T07:41:10.564Z"
   },
   {
    "duration": 26,
    "start_time": "2024-05-14T07:43:01.477Z"
   },
   {
    "duration": 22,
    "start_time": "2024-05-14T07:43:33.689Z"
   },
   {
    "duration": 31,
    "start_time": "2024-05-14T07:43:57.382Z"
   },
   {
    "duration": 22,
    "start_time": "2024-05-14T07:44:07.552Z"
   },
   {
    "duration": 771,
    "start_time": "2024-05-14T07:44:17.063Z"
   },
   {
    "duration": 2111,
    "start_time": "2024-05-14T07:44:34.095Z"
   },
   {
    "duration": 1293,
    "start_time": "2024-05-14T07:44:56.536Z"
   },
   {
    "duration": 2589,
    "start_time": "2024-05-14T07:45:45.348Z"
   },
   {
    "duration": 4,
    "start_time": "2024-05-14T07:47:10.908Z"
   },
   {
    "duration": 9,
    "start_time": "2024-05-14T07:47:15.033Z"
   },
   {
    "duration": 32,
    "start_time": "2024-05-14T07:47:24.649Z"
   },
   {
    "duration": 28,
    "start_time": "2024-05-14T07:47:34.587Z"
   },
   {
    "duration": 21,
    "start_time": "2024-05-14T07:47:45.522Z"
   },
   {
    "duration": 3347,
    "start_time": "2024-05-14T07:47:50.989Z"
   },
   {
    "duration": 9,
    "start_time": "2024-05-14T07:58:29.445Z"
   },
   {
    "duration": 12,
    "start_time": "2024-05-14T07:59:15.422Z"
   },
   {
    "duration": 5,
    "start_time": "2024-05-14T07:59:17.941Z"
   },
   {
    "duration": 5,
    "start_time": "2024-05-14T07:59:20.334Z"
   },
   {
    "duration": 8,
    "start_time": "2024-05-14T07:59:35.401Z"
   },
   {
    "duration": 6,
    "start_time": "2024-05-14T08:00:17.344Z"
   },
   {
    "duration": 34,
    "start_time": "2024-05-14T08:00:18.505Z"
   },
   {
    "duration": 10,
    "start_time": "2024-05-14T08:00:19.320Z"
   },
   {
    "duration": 33,
    "start_time": "2024-05-14T08:00:20.695Z"
   },
   {
    "duration": 10,
    "start_time": "2024-05-14T08:00:21.137Z"
   },
   {
    "duration": 30,
    "start_time": "2024-05-14T08:00:22.029Z"
   },
   {
    "duration": 10,
    "start_time": "2024-05-14T08:00:22.966Z"
   },
   {
    "duration": 2862,
    "start_time": "2024-05-14T08:00:46.173Z"
   },
   {
    "duration": 4,
    "start_time": "2024-05-14T08:00:59.388Z"
   },
   {
    "duration": 5,
    "start_time": "2024-05-14T08:02:19.385Z"
   },
   {
    "duration": 35,
    "start_time": "2024-05-14T08:02:20.059Z"
   },
   {
    "duration": 10,
    "start_time": "2024-05-14T08:02:20.344Z"
   },
   {
    "duration": 28,
    "start_time": "2024-05-14T08:02:20.869Z"
   },
   {
    "duration": 9,
    "start_time": "2024-05-14T08:02:21.117Z"
   },
   {
    "duration": 36,
    "start_time": "2024-05-14T08:02:21.626Z"
   },
   {
    "duration": 9,
    "start_time": "2024-05-14T08:02:22.024Z"
   },
   {
    "duration": 3,
    "start_time": "2024-05-14T08:05:16.921Z"
   },
   {
    "duration": 4,
    "start_time": "2024-05-14T08:11:43.958Z"
   },
   {
    "duration": 3,
    "start_time": "2024-05-14T08:16:32.737Z"
   },
   {
    "duration": 2,
    "start_time": "2024-05-14T08:31:18.654Z"
   },
   {
    "duration": 5,
    "start_time": "2024-05-14T08:31:19.568Z"
   },
   {
    "duration": 16,
    "start_time": "2024-05-14T08:33:21.842Z"
   },
   {
    "duration": 6,
    "start_time": "2024-05-14T08:33:37.096Z"
   },
   {
    "duration": 5,
    "start_time": "2024-05-14T08:33:44.860Z"
   },
   {
    "duration": 4,
    "start_time": "2024-05-14T08:34:12.610Z"
   },
   {
    "duration": 5,
    "start_time": "2024-05-14T08:34:18.408Z"
   },
   {
    "duration": 5,
    "start_time": "2024-05-14T08:34:22.855Z"
   },
   {
    "duration": 12,
    "start_time": "2024-05-14T08:37:54.770Z"
   },
   {
    "duration": 11,
    "start_time": "2024-05-14T08:38:08.480Z"
   },
   {
    "duration": 11,
    "start_time": "2024-05-14T08:38:24.935Z"
   },
   {
    "duration": 9,
    "start_time": "2024-05-14T08:38:32.713Z"
   },
   {
    "duration": 7,
    "start_time": "2024-05-14T08:38:56.121Z"
   },
   {
    "duration": 11,
    "start_time": "2024-05-14T15:50:38.803Z"
   },
   {
    "duration": 4,
    "start_time": "2024-05-14T15:51:04.978Z"
   },
   {
    "duration": 1538,
    "start_time": "2024-05-14T15:51:41.276Z"
   },
   {
    "duration": 3,
    "start_time": "2024-05-14T15:51:42.816Z"
   },
   {
    "duration": 531,
    "start_time": "2024-05-14T15:51:42.820Z"
   },
   {
    "duration": 29,
    "start_time": "2024-05-14T15:51:43.353Z"
   },
   {
    "duration": 20,
    "start_time": "2024-05-14T15:51:43.385Z"
   },
   {
    "duration": 15,
    "start_time": "2024-05-14T15:51:43.407Z"
   },
   {
    "duration": 52,
    "start_time": "2024-05-14T15:51:43.423Z"
   },
   {
    "duration": 15,
    "start_time": "2024-05-14T15:51:43.477Z"
   },
   {
    "duration": 10,
    "start_time": "2024-05-14T15:51:43.493Z"
   },
   {
    "duration": 73,
    "start_time": "2024-05-14T15:51:43.504Z"
   },
   {
    "duration": 56,
    "start_time": "2024-05-14T15:51:43.579Z"
   },
   {
    "duration": 75,
    "start_time": "2024-05-14T15:51:43.637Z"
   },
   {
    "duration": 514,
    "start_time": "2024-05-14T15:51:43.714Z"
   },
   {
    "duration": 660,
    "start_time": "2024-05-14T15:51:44.231Z"
   },
   {
    "duration": 501,
    "start_time": "2024-05-14T15:51:44.893Z"
   },
   {
    "duration": 6,
    "start_time": "2024-05-14T15:51:45.395Z"
   },
   {
    "duration": 84,
    "start_time": "2024-05-14T15:51:45.403Z"
   },
   {
    "duration": 17,
    "start_time": "2024-05-14T15:51:45.564Z"
   },
   {
    "duration": 83,
    "start_time": "2024-05-14T15:51:45.583Z"
   },
   {
    "duration": 18,
    "start_time": "2024-05-14T15:51:45.668Z"
   },
   {
    "duration": 35,
    "start_time": "2024-05-14T15:51:45.761Z"
   },
   {
    "duration": 18,
    "start_time": "2024-05-14T15:51:45.866Z"
   },
   {
    "duration": 78,
    "start_time": "2024-05-14T15:51:45.886Z"
   },
   {
    "duration": 9,
    "start_time": "2024-05-14T15:51:45.966Z"
   },
   {
    "duration": 28,
    "start_time": "2024-05-14T15:51:45.979Z"
   },
   {
    "duration": 28,
    "start_time": "2024-05-14T15:51:46.009Z"
   },
   {
    "duration": 20,
    "start_time": "2024-05-14T15:51:46.039Z"
   },
   {
    "duration": 28,
    "start_time": "2024-05-14T15:51:46.060Z"
   },
   {
    "duration": 3,
    "start_time": "2024-05-14T15:52:35.016Z"
   },
   {
    "duration": 178,
    "start_time": "2024-05-14T15:52:35.438Z"
   },
   {
    "duration": 5,
    "start_time": "2024-05-14T15:53:42.369Z"
   },
   {
    "duration": 10,
    "start_time": "2024-05-14T15:53:43.764Z"
   },
   {
    "duration": 3,
    "start_time": "2024-05-14T15:55:39.110Z"
   },
   {
    "duration": 7,
    "start_time": "2024-05-14T15:55:39.641Z"
   },
   {
    "duration": 3,
    "start_time": "2024-05-14T15:55:49.797Z"
   },
   {
    "duration": 7,
    "start_time": "2024-05-14T15:55:50.243Z"
   },
   {
    "duration": 3,
    "start_time": "2024-05-14T15:57:09.702Z"
   },
   {
    "duration": 9,
    "start_time": "2024-05-14T15:57:10.069Z"
   },
   {
    "duration": 3,
    "start_time": "2024-05-14T15:57:21.349Z"
   },
   {
    "duration": 9,
    "start_time": "2024-05-14T15:57:21.739Z"
   },
   {
    "duration": 4,
    "start_time": "2024-05-14T15:57:46.474Z"
   },
   {
    "duration": 7,
    "start_time": "2024-05-14T15:57:46.757Z"
   },
   {
    "duration": 3,
    "start_time": "2024-05-14T15:57:51.137Z"
   },
   {
    "duration": 8,
    "start_time": "2024-05-14T15:57:52.450Z"
   },
   {
    "duration": 3,
    "start_time": "2024-05-14T16:00:42.520Z"
   },
   {
    "duration": 9,
    "start_time": "2024-05-14T16:00:43.026Z"
   },
   {
    "duration": 10,
    "start_time": "2024-05-14T16:00:56.267Z"
   },
   {
    "duration": 4,
    "start_time": "2024-05-14T16:01:08.045Z"
   },
   {
    "duration": 7,
    "start_time": "2024-05-14T16:01:08.443Z"
   },
   {
    "duration": 3,
    "start_time": "2024-05-14T16:01:19.541Z"
   },
   {
    "duration": 6,
    "start_time": "2024-05-14T16:01:19.805Z"
   },
   {
    "duration": 9,
    "start_time": "2024-05-14T16:31:30.800Z"
   },
   {
    "duration": 8,
    "start_time": "2024-05-14T16:31:37.323Z"
   },
   {
    "duration": 7,
    "start_time": "2024-05-14T16:31:42.654Z"
   },
   {
    "duration": 4,
    "start_time": "2024-05-15T06:02:17.831Z"
   },
   {
    "duration": 9,
    "start_time": "2024-05-15T06:02:18.442Z"
   },
   {
    "duration": 5,
    "start_time": "2024-05-15T06:02:29.626Z"
   },
   {
    "duration": 6,
    "start_time": "2024-05-15T06:02:30.262Z"
   },
   {
    "duration": 9,
    "start_time": "2024-05-15T06:02:31.196Z"
   },
   {
    "duration": 7,
    "start_time": "2024-05-15T06:02:31.777Z"
   },
   {
    "duration": 4,
    "start_time": "2024-05-15T06:02:48.683Z"
   },
   {
    "duration": 7,
    "start_time": "2024-05-15T06:02:50.168Z"
   },
   {
    "duration": 8,
    "start_time": "2024-05-15T06:02:50.812Z"
   },
   {
    "duration": 7,
    "start_time": "2024-05-15T06:02:51.390Z"
   },
   {
    "duration": 6,
    "start_time": "2024-05-15T06:03:04.560Z"
   },
   {
    "duration": 8,
    "start_time": "2024-05-15T06:03:05.010Z"
   },
   {
    "duration": 7,
    "start_time": "2024-05-15T06:03:05.797Z"
   },
   {
    "duration": 7,
    "start_time": "2024-05-15T06:03:06.353Z"
   },
   {
    "duration": 4,
    "start_time": "2024-05-15T06:34:44.874Z"
   },
   {
    "duration": 14,
    "start_time": "2024-05-15T06:34:45.728Z"
   },
   {
    "duration": 9,
    "start_time": "2024-05-15T06:34:52.538Z"
   },
   {
    "duration": 9,
    "start_time": "2024-05-15T06:35:12.885Z"
   },
   {
    "duration": 9,
    "start_time": "2024-05-15T06:35:19.989Z"
   },
   {
    "duration": 10,
    "start_time": "2024-05-15T06:40:02.579Z"
   },
   {
    "duration": 12,
    "start_time": "2024-05-15T06:40:22.269Z"
   },
   {
    "duration": 3,
    "start_time": "2024-05-15T06:40:34.537Z"
   },
   {
    "duration": 4,
    "start_time": "2024-05-15T07:45:37.230Z"
   },
   {
    "duration": 3,
    "start_time": "2024-05-15T07:46:24.384Z"
   },
   {
    "duration": 3,
    "start_time": "2024-05-15T07:46:40.083Z"
   },
   {
    "duration": 21,
    "start_time": "2024-05-15T07:47:14.134Z"
   },
   {
    "duration": 6,
    "start_time": "2024-05-15T07:47:20.169Z"
   },
   {
    "duration": 3,
    "start_time": "2024-05-15T07:47:51.414Z"
   },
   {
    "duration": 5,
    "start_time": "2024-05-15T07:47:52.599Z"
   },
   {
    "duration": 5,
    "start_time": "2024-05-15T07:47:52.952Z"
   },
   {
    "duration": 3,
    "start_time": "2024-05-15T07:48:03.595Z"
   },
   {
    "duration": 5,
    "start_time": "2024-05-15T07:48:04.150Z"
   },
   {
    "duration": 5,
    "start_time": "2024-05-15T07:48:15.865Z"
   },
   {
    "duration": 7,
    "start_time": "2024-05-15T07:48:16.577Z"
   },
   {
    "duration": 13,
    "start_time": "2024-05-15T07:53:21.886Z"
   },
   {
    "duration": 8,
    "start_time": "2024-05-15T07:53:37.442Z"
   },
   {
    "duration": 9,
    "start_time": "2024-05-15T07:53:58.201Z"
   },
   {
    "duration": 8,
    "start_time": "2024-05-15T07:54:06.249Z"
   },
   {
    "duration": 7,
    "start_time": "2024-05-15T07:56:00.867Z"
   },
   {
    "duration": 7,
    "start_time": "2024-05-15T07:56:03.101Z"
   },
   {
    "duration": 8,
    "start_time": "2024-05-15T08:25:18.161Z"
   },
   {
    "duration": 3,
    "start_time": "2024-05-15T08:25:25.129Z"
   },
   {
    "duration": 3,
    "start_time": "2024-05-15T08:25:26.951Z"
   },
   {
    "duration": 7,
    "start_time": "2024-05-15T08:26:17.737Z"
   },
   {
    "duration": 9,
    "start_time": "2024-05-15T08:26:29.223Z"
   },
   {
    "duration": 8,
    "start_time": "2024-05-15T08:26:56.058Z"
   },
   {
    "duration": 8,
    "start_time": "2024-05-15T08:27:14.959Z"
   },
   {
    "duration": 8,
    "start_time": "2024-05-15T08:27:22.459Z"
   },
   {
    "duration": 8,
    "start_time": "2024-05-15T08:27:48.110Z"
   },
   {
    "duration": 4,
    "start_time": "2024-05-15T08:29:04.371Z"
   },
   {
    "duration": 8,
    "start_time": "2024-05-15T08:29:05.330Z"
   },
   {
    "duration": 4,
    "start_time": "2024-05-15T08:29:30.036Z"
   },
   {
    "duration": 8,
    "start_time": "2024-05-15T08:29:31.408Z"
   },
   {
    "duration": 5,
    "start_time": "2024-05-15T08:30:00.292Z"
   },
   {
    "duration": 7,
    "start_time": "2024-05-15T08:30:01.813Z"
   },
   {
    "duration": 8,
    "start_time": "2024-05-15T08:30:44.189Z"
   },
   {
    "duration": 7,
    "start_time": "2024-05-15T08:30:52.672Z"
   },
   {
    "duration": 4,
    "start_time": "2024-05-15T08:35:52.887Z"
   },
   {
    "duration": 6,
    "start_time": "2024-05-15T09:39:59.838Z"
   },
   {
    "duration": 4,
    "start_time": "2024-05-15T09:41:51.687Z"
   },
   {
    "duration": 4,
    "start_time": "2024-05-15T09:42:56.256Z"
   },
   {
    "duration": 13,
    "start_time": "2024-05-15T09:43:21.239Z"
   },
   {
    "duration": 4,
    "start_time": "2024-05-15T09:46:01.982Z"
   },
   {
    "duration": 14,
    "start_time": "2024-05-15T09:46:02.537Z"
   },
   {
    "duration": 4,
    "start_time": "2024-05-15T09:46:14.868Z"
   },
   {
    "duration": 15,
    "start_time": "2024-05-15T09:46:15.273Z"
   },
   {
    "duration": 5,
    "start_time": "2024-05-15T09:47:01.108Z"
   },
   {
    "duration": 14,
    "start_time": "2024-05-15T09:47:01.369Z"
   },
   {
    "duration": 5,
    "start_time": "2024-05-15T09:49:35.737Z"
   },
   {
    "duration": 16,
    "start_time": "2024-05-15T09:49:36.009Z"
   },
   {
    "duration": 6,
    "start_time": "2024-05-15T09:54:36.435Z"
   },
   {
    "duration": 951,
    "start_time": "2024-05-15T09:54:36.720Z"
   },
   {
    "duration": 4,
    "start_time": "2024-05-15T09:54:44.280Z"
   },
   {
    "duration": 528,
    "start_time": "2024-05-15T09:54:44.521Z"
   },
   {
    "duration": 7,
    "start_time": "2024-05-15T09:54:56.497Z"
   },
   {
    "duration": 10,
    "start_time": "2024-05-15T09:55:11.085Z"
   },
   {
    "duration": 5,
    "start_time": "2024-05-15T09:55:41.754Z"
   },
   {
    "duration": 6,
    "start_time": "2024-05-15T09:56:11.477Z"
   },
   {
    "duration": 3,
    "start_time": "2024-05-15T09:56:23.650Z"
   },
   {
    "duration": 4,
    "start_time": "2024-05-15T09:56:55.705Z"
   },
   {
    "duration": 546,
    "start_time": "2024-05-15T09:56:56.650Z"
   },
   {
    "duration": 4,
    "start_time": "2024-05-15T09:56:57.198Z"
   },
   {
    "duration": 4,
    "start_time": "2024-05-15T09:59:24.967Z"
   },
   {
    "duration": 99,
    "start_time": "2024-05-15T09:59:29.729Z"
   },
   {
    "duration": 6,
    "start_time": "2024-05-15T10:00:08.393Z"
   },
   {
    "duration": 99,
    "start_time": "2024-05-15T10:00:08.722Z"
   },
   {
    "duration": 4,
    "start_time": "2024-05-15T10:00:56.506Z"
   },
   {
    "duration": 84,
    "start_time": "2024-05-15T10:00:56.806Z"
   },
   {
    "duration": 4,
    "start_time": "2024-05-15T10:01:22.591Z"
   },
   {
    "duration": 103,
    "start_time": "2024-05-15T10:01:22.875Z"
   },
   {
    "duration": 5,
    "start_time": "2024-05-15T10:02:40.178Z"
   },
   {
    "duration": 84,
    "start_time": "2024-05-15T10:02:40.552Z"
   },
   {
    "duration": 4,
    "start_time": "2024-05-15T10:03:05.287Z"
   },
   {
    "duration": 96,
    "start_time": "2024-05-15T10:03:05.648Z"
   },
   {
    "duration": 5,
    "start_time": "2024-05-15T10:03:12.172Z"
   },
   {
    "duration": 88,
    "start_time": "2024-05-15T10:03:12.547Z"
   },
   {
    "duration": 5,
    "start_time": "2024-05-15T10:03:47.767Z"
   },
   {
    "duration": 84,
    "start_time": "2024-05-15T10:03:48.037Z"
   },
   {
    "duration": 4,
    "start_time": "2024-05-15T10:05:03.367Z"
   },
   {
    "duration": 86,
    "start_time": "2024-05-15T10:05:03.891Z"
   },
   {
    "duration": 4,
    "start_time": "2024-05-15T10:06:18.685Z"
   },
   {
    "duration": 67,
    "start_time": "2024-05-15T10:06:37.229Z"
   },
   {
    "duration": 6,
    "start_time": "2024-05-15T10:06:41.265Z"
   },
   {
    "duration": 100,
    "start_time": "2024-05-15T10:06:41.827Z"
   },
   {
    "duration": 4,
    "start_time": "2024-05-15T10:07:47.633Z"
   },
   {
    "duration": 93,
    "start_time": "2024-05-15T10:07:48.045Z"
   },
   {
    "duration": 4,
    "start_time": "2024-05-15T10:11:25.772Z"
   },
   {
    "duration": 211,
    "start_time": "2024-05-15T10:11:26.065Z"
   },
   {
    "duration": 5,
    "start_time": "2024-05-15T10:11:50.994Z"
   },
   {
    "duration": 220,
    "start_time": "2024-05-15T10:11:51.369Z"
   },
   {
    "duration": 5,
    "start_time": "2024-05-15T10:12:22.053Z"
   },
   {
    "duration": 471,
    "start_time": "2024-05-15T10:12:23.597Z"
   },
   {
    "duration": 6,
    "start_time": "2024-05-15T10:13:39.828Z"
   },
   {
    "duration": 237,
    "start_time": "2024-05-15T10:13:40.241Z"
   },
   {
    "duration": 4,
    "start_time": "2024-05-15T10:13:55.811Z"
   },
   {
    "duration": 253,
    "start_time": "2024-05-15T10:13:56.943Z"
   },
   {
    "duration": 5,
    "start_time": "2024-05-15T10:14:50.089Z"
   },
   {
    "duration": 209,
    "start_time": "2024-05-15T10:14:50.427Z"
   },
   {
    "duration": 4,
    "start_time": "2024-05-15T10:15:00.972Z"
   },
   {
    "duration": 84,
    "start_time": "2024-05-15T10:15:01.324Z"
   },
   {
    "duration": 4,
    "start_time": "2024-05-15T10:18:44.903Z"
   },
   {
    "duration": 85,
    "start_time": "2024-05-15T10:18:45.263Z"
   },
   {
    "duration": 6,
    "start_time": "2024-05-15T10:18:56.692Z"
   },
   {
    "duration": 111,
    "start_time": "2024-05-15T10:18:57.030Z"
   },
   {
    "duration": 4,
    "start_time": "2024-05-15T10:19:05.003Z"
   },
   {
    "duration": 91,
    "start_time": "2024-05-15T10:19:05.311Z"
   },
   {
    "duration": 5,
    "start_time": "2024-05-15T10:19:14.242Z"
   },
   {
    "duration": 86,
    "start_time": "2024-05-15T10:19:14.559Z"
   },
   {
    "duration": 4,
    "start_time": "2024-05-15T10:19:18.323Z"
   },
   {
    "duration": 91,
    "start_time": "2024-05-15T10:19:18.593Z"
   },
   {
    "duration": 5,
    "start_time": "2024-05-15T10:19:49.217Z"
   },
   {
    "duration": 87,
    "start_time": "2024-05-15T10:19:49.478Z"
   },
   {
    "duration": 4,
    "start_time": "2024-05-15T10:20:30.392Z"
   },
   {
    "duration": 87,
    "start_time": "2024-05-15T10:20:30.632Z"
   },
   {
    "duration": 5,
    "start_time": "2024-05-15T10:20:47.139Z"
   },
   {
    "duration": 83,
    "start_time": "2024-05-15T10:20:48.136Z"
   },
   {
    "duration": 6,
    "start_time": "2024-05-15T10:20:59.012Z"
   },
   {
    "duration": 89,
    "start_time": "2024-05-15T10:20:59.349Z"
   },
   {
    "duration": 5,
    "start_time": "2024-05-15T10:34:27.379Z"
   },
   {
    "duration": 96,
    "start_time": "2024-05-15T10:34:27.443Z"
   },
   {
    "duration": 92,
    "start_time": "2024-05-15T10:34:29.732Z"
   },
   {
    "duration": 4,
    "start_time": "2024-05-15T10:34:30.795Z"
   },
   {
    "duration": 6,
    "start_time": "2024-05-15T10:59:59.249Z"
   },
   {
    "duration": 89,
    "start_time": "2024-05-15T10:59:59.617Z"
   },
   {
    "duration": 5,
    "start_time": "2024-05-15T11:00:13.334Z"
   },
   {
    "duration": 93,
    "start_time": "2024-05-15T11:00:13.895Z"
   },
   {
    "duration": 5,
    "start_time": "2024-05-15T11:06:44.573Z"
   },
   {
    "duration": 665,
    "start_time": "2024-05-15T11:06:45.074Z"
   },
   {
    "duration": 13,
    "start_time": "2024-05-15T11:07:09.751Z"
   },
   {
    "duration": 5,
    "start_time": "2024-05-15T11:07:27.653Z"
   },
   {
    "duration": 108,
    "start_time": "2024-05-15T11:07:28.154Z"
   },
   {
    "duration": 5,
    "start_time": "2024-05-15T11:08:31.997Z"
   },
   {
    "duration": 182,
    "start_time": "2024-05-15T11:08:33.610Z"
   },
   {
    "duration": 5,
    "start_time": "2024-05-15T11:09:01.510Z"
   },
   {
    "duration": 185,
    "start_time": "2024-05-15T11:09:02.583Z"
   },
   {
    "duration": 101,
    "start_time": "2024-05-15T11:09:30.888Z"
   },
   {
    "duration": 22,
    "start_time": "2024-05-15T12:41:52.345Z"
   },
   {
    "duration": 7,
    "start_time": "2024-05-15T12:41:55.869Z"
   },
   {
    "duration": 39,
    "start_time": "2024-05-15T12:41:56.581Z"
   },
   {
    "duration": 37,
    "start_time": "2024-05-15T12:42:43.547Z"
   },
   {
    "duration": 8,
    "start_time": "2024-05-15T12:43:31.159Z"
   },
   {
    "duration": 190,
    "start_time": "2024-05-15T12:43:32.373Z"
   },
   {
    "duration": 7,
    "start_time": "2024-05-15T12:43:57.326Z"
   },
   {
    "duration": 65,
    "start_time": "2024-05-15T12:43:57.806Z"
   },
   {
    "duration": 6,
    "start_time": "2024-05-15T12:44:02.479Z"
   },
   {
    "duration": 123,
    "start_time": "2024-05-15T12:44:02.943Z"
   },
   {
    "duration": 5,
    "start_time": "2024-05-15T12:44:17.202Z"
   },
   {
    "duration": 34,
    "start_time": "2024-05-15T12:44:17.651Z"
   },
   {
    "duration": 52,
    "start_time": "2024-05-15T12:44:55.138Z"
   },
   {
    "duration": 57,
    "start_time": "2024-05-15T12:45:03.260Z"
   },
   {
    "duration": 6,
    "start_time": "2024-05-15T12:45:10.782Z"
   },
   {
    "duration": 33,
    "start_time": "2024-05-15T12:45:12.530Z"
   },
   {
    "duration": 5,
    "start_time": "2024-05-15T12:45:20.286Z"
   },
   {
    "duration": 30,
    "start_time": "2024-05-15T12:45:20.937Z"
   },
   {
    "duration": 416,
    "start_time": "2024-05-15T12:46:11.451Z"
   },
   {
    "duration": 6,
    "start_time": "2024-05-15T12:46:33.382Z"
   },
   {
    "duration": 374,
    "start_time": "2024-05-15T12:46:34.094Z"
   },
   {
    "duration": 5,
    "start_time": "2024-05-15T12:46:41.265Z"
   },
   {
    "duration": 351,
    "start_time": "2024-05-15T12:46:41.826Z"
   },
   {
    "duration": 5,
    "start_time": "2024-05-15T12:46:48.802Z"
   },
   {
    "duration": 424,
    "start_time": "2024-05-15T12:46:49.342Z"
   },
   {
    "duration": 5,
    "start_time": "2024-05-15T12:46:59.369Z"
   },
   {
    "duration": 366,
    "start_time": "2024-05-15T12:46:59.901Z"
   },
   {
    "duration": 439,
    "start_time": "2024-05-15T12:47:11.737Z"
   },
   {
    "duration": 429,
    "start_time": "2024-05-15T12:47:53.033Z"
   },
   {
    "duration": 8,
    "start_time": "2024-05-15T12:47:59.970Z"
   },
   {
    "duration": 437,
    "start_time": "2024-05-15T12:48:00.833Z"
   },
   {
    "duration": 381,
    "start_time": "2024-05-15T12:48:09.893Z"
   },
   {
    "duration": 6,
    "start_time": "2024-05-15T12:48:22.238Z"
   },
   {
    "duration": 353,
    "start_time": "2024-05-15T12:48:23.018Z"
   },
   {
    "duration": 5,
    "start_time": "2024-05-15T12:55:03.162Z"
   },
   {
    "duration": 4,
    "start_time": "2024-05-15T13:03:54.982Z"
   },
   {
    "duration": 8,
    "start_time": "2024-05-15T13:03:59.429Z"
   },
   {
    "duration": 3,
    "start_time": "2024-05-15T13:04:08.819Z"
   },
   {
    "duration": 2,
    "start_time": "2024-05-15T13:04:09.194Z"
   },
   {
    "duration": 9,
    "start_time": "2024-05-15T13:04:10.476Z"
   },
   {
    "duration": 4,
    "start_time": "2024-05-15T13:04:38.055Z"
   },
   {
    "duration": 2,
    "start_time": "2024-05-15T13:04:38.355Z"
   },
   {
    "duration": 8,
    "start_time": "2024-05-15T13:04:38.886Z"
   },
   {
    "duration": 3,
    "start_time": "2024-05-15T13:04:48.773Z"
   },
   {
    "duration": 3,
    "start_time": "2024-05-15T13:04:49.006Z"
   },
   {
    "duration": 8,
    "start_time": "2024-05-15T13:04:49.470Z"
   },
   {
    "duration": 2,
    "start_time": "2024-05-15T13:17:51.163Z"
   },
   {
    "duration": 4,
    "start_time": "2024-05-15T13:18:03.155Z"
   },
   {
    "duration": 3,
    "start_time": "2024-05-15T13:18:27.620Z"
   },
   {
    "duration": 4,
    "start_time": "2024-05-15T13:19:15.262Z"
   },
   {
    "duration": 2,
    "start_time": "2024-05-15T13:19:17.047Z"
   },
   {
    "duration": 7,
    "start_time": "2024-05-15T13:19:18.276Z"
   },
   {
    "duration": 3,
    "start_time": "2024-05-15T13:19:42.446Z"
   },
   {
    "duration": 2,
    "start_time": "2024-05-15T13:19:42.704Z"
   },
   {
    "duration": 7,
    "start_time": "2024-05-15T13:19:43.214Z"
   },
   {
    "duration": 4,
    "start_time": "2024-05-15T13:21:05.304Z"
   },
   {
    "duration": 2,
    "start_time": "2024-05-15T13:21:05.612Z"
   },
   {
    "duration": 7,
    "start_time": "2024-05-15T13:21:06.091Z"
   },
   {
    "duration": 3,
    "start_time": "2024-05-15T13:21:20.859Z"
   },
   {
    "duration": 3,
    "start_time": "2024-05-15T13:21:21.092Z"
   },
   {
    "duration": 7,
    "start_time": "2024-05-15T13:21:21.797Z"
   },
   {
    "duration": 7,
    "start_time": "2024-05-15T13:21:39.595Z"
   },
   {
    "duration": 8,
    "start_time": "2024-05-15T13:21:49.389Z"
   },
   {
    "duration": 7,
    "start_time": "2024-05-15T13:21:54.002Z"
   },
   {
    "duration": 5,
    "start_time": "2024-05-15T13:24:03.891Z"
   },
   {
    "duration": 3,
    "start_time": "2024-05-15T13:24:05.997Z"
   },
   {
    "duration": 8,
    "start_time": "2024-05-15T13:24:06.477Z"
   },
   {
    "duration": 3,
    "start_time": "2024-05-15T13:24:14.908Z"
   },
   {
    "duration": 3,
    "start_time": "2024-05-15T13:24:15.209Z"
   },
   {
    "duration": 9,
    "start_time": "2024-05-15T13:24:15.800Z"
   },
   {
    "duration": 5,
    "start_time": "2024-05-15T13:25:12.780Z"
   },
   {
    "duration": 2,
    "start_time": "2024-05-15T13:25:13.050Z"
   },
   {
    "duration": 6,
    "start_time": "2024-05-15T13:25:13.612Z"
   },
   {
    "duration": 3,
    "start_time": "2024-05-15T13:25:19.432Z"
   },
   {
    "duration": 3,
    "start_time": "2024-05-15T13:25:19.687Z"
   },
   {
    "duration": 8,
    "start_time": "2024-05-15T13:25:20.190Z"
   },
   {
    "duration": 84,
    "start_time": "2024-05-15T13:27:32.993Z"
   },
   {
    "duration": 20,
    "start_time": "2024-05-15T13:27:41.380Z"
   },
   {
    "duration": 5,
    "start_time": "2024-05-15T13:29:18.738Z"
   },
   {
    "duration": 4,
    "start_time": "2024-05-15T13:29:18.955Z"
   },
   {
    "duration": 9,
    "start_time": "2024-05-15T13:29:19.420Z"
   },
   {
    "duration": 4,
    "start_time": "2024-05-15T13:29:26.642Z"
   },
   {
    "duration": 3,
    "start_time": "2024-05-15T13:29:26.876Z"
   },
   {
    "duration": 13,
    "start_time": "2024-05-15T13:29:27.325Z"
   },
   {
    "duration": 3,
    "start_time": "2024-05-15T13:29:36.887Z"
   },
   {
    "duration": 3,
    "start_time": "2024-05-15T13:29:37.090Z"
   },
   {
    "duration": 14,
    "start_time": "2024-05-15T13:29:37.517Z"
   },
   {
    "duration": 14,
    "start_time": "2024-05-15T13:29:53.455Z"
   },
   {
    "duration": 3,
    "start_time": "2024-05-15T13:29:56.238Z"
   },
   {
    "duration": 3,
    "start_time": "2024-05-15T13:29:56.463Z"
   },
   {
    "duration": 10,
    "start_time": "2024-05-15T13:29:56.857Z"
   },
   {
    "duration": 13,
    "start_time": "2024-05-15T13:30:16.541Z"
   },
   {
    "duration": 8,
    "start_time": "2024-05-15T13:30:33.108Z"
   },
   {
    "duration": 7,
    "start_time": "2024-05-15T13:30:40.736Z"
   },
   {
    "duration": 7,
    "start_time": "2024-05-15T13:30:44.396Z"
   },
   {
    "duration": 8,
    "start_time": "2024-05-15T13:30:48.612Z"
   },
   {
    "duration": 6,
    "start_time": "2024-05-15T13:30:54.244Z"
   },
   {
    "duration": 14,
    "start_time": "2024-05-15T13:31:27.897Z"
   },
   {
    "duration": 4,
    "start_time": "2024-05-15T13:38:59.651Z"
   },
   {
    "duration": 4,
    "start_time": "2024-05-15T13:38:59.871Z"
   },
   {
    "duration": 17,
    "start_time": "2024-05-15T13:39:00.739Z"
   },
   {
    "duration": 4,
    "start_time": "2024-05-15T13:40:18.801Z"
   },
   {
    "duration": 12,
    "start_time": "2024-05-15T13:40:19.123Z"
   },
   {
    "duration": 1014,
    "start_time": "2024-05-15T13:40:50.197Z"
   },
   {
    "duration": 4,
    "start_time": "2024-05-15T13:44:04.090Z"
   },
   {
    "duration": 23,
    "start_time": "2024-05-15T13:44:05.351Z"
   },
   {
    "duration": 4,
    "start_time": "2024-05-15T13:44:39.634Z"
   },
   {
    "duration": 4014,
    "start_time": "2024-05-15T13:44:39.978Z"
   },
   {
    "duration": 17,
    "start_time": "2024-05-15T13:45:23.455Z"
   },
   {
    "duration": 8,
    "start_time": "2024-05-15T13:46:14.105Z"
   },
   {
    "duration": 8,
    "start_time": "2024-05-15T13:46:18.410Z"
   },
   {
    "duration": 21,
    "start_time": "2024-05-15T13:47:17.758Z"
   },
   {
    "duration": 10,
    "start_time": "2024-05-15T13:47:40.357Z"
   },
   {
    "duration": 8,
    "start_time": "2024-05-15T13:48:03.411Z"
   },
   {
    "duration": 17,
    "start_time": "2024-05-15T13:49:09.983Z"
   },
   {
    "duration": 10,
    "start_time": "2024-05-15T13:49:36.692Z"
   },
   {
    "duration": 10,
    "start_time": "2024-05-15T13:49:41.365Z"
   },
   {
    "duration": 8,
    "start_time": "2024-05-15T13:49:52.426Z"
   },
   {
    "duration": 4,
    "start_time": "2024-05-15T13:51:25.804Z"
   },
   {
    "duration": 1281,
    "start_time": "2024-05-15T13:51:26.299Z"
   },
   {
    "duration": 1201,
    "start_time": "2024-05-15T13:51:42.034Z"
   },
   {
    "duration": 6,
    "start_time": "2024-05-15T13:52:26.968Z"
   },
   {
    "duration": 899,
    "start_time": "2024-05-15T13:52:28.234Z"
   },
   {
    "duration": 5,
    "start_time": "2024-05-15T13:52:46.267Z"
   },
   {
    "duration": 984,
    "start_time": "2024-05-15T13:52:46.520Z"
   },
   {
    "duration": 1016,
    "start_time": "2024-05-15T13:53:01.251Z"
   },
   {
    "duration": 4,
    "start_time": "2024-05-15T13:54:17.258Z"
   },
   {
    "duration": 873,
    "start_time": "2024-05-15T13:54:17.617Z"
   },
   {
    "duration": 895,
    "start_time": "2024-05-15T13:55:11.547Z"
   },
   {
    "duration": 806,
    "start_time": "2024-05-15T13:55:18.671Z"
   },
   {
    "duration": 818,
    "start_time": "2024-05-15T13:55:22.464Z"
   },
   {
    "duration": 4,
    "start_time": "2024-05-15T13:55:51.429Z"
   },
   {
    "duration": 853,
    "start_time": "2024-05-15T13:55:51.842Z"
   },
   {
    "duration": 4,
    "start_time": "2024-05-15T13:56:03.859Z"
   },
   {
    "duration": 793,
    "start_time": "2024-05-15T13:56:04.217Z"
   },
   {
    "duration": 4,
    "start_time": "2024-05-15T13:56:43.511Z"
   },
   {
    "duration": 801,
    "start_time": "2024-05-15T13:56:43.893Z"
   },
   {
    "duration": 4,
    "start_time": "2024-05-15T13:57:04.788Z"
   },
   {
    "duration": 837,
    "start_time": "2024-05-15T13:57:05.965Z"
   },
   {
    "duration": 840,
    "start_time": "2024-05-15T13:57:16.511Z"
   },
   {
    "duration": 10,
    "start_time": "2024-05-16T05:06:47.888Z"
   },
   {
    "duration": 46,
    "start_time": "2024-05-16T05:06:48.522Z"
   },
   {
    "duration": 1762,
    "start_time": "2024-05-16T05:06:54.479Z"
   },
   {
    "duration": 3,
    "start_time": "2024-05-16T05:06:56.243Z"
   },
   {
    "duration": 1721,
    "start_time": "2024-05-16T05:06:56.247Z"
   },
   {
    "duration": 18,
    "start_time": "2024-05-16T05:06:57.969Z"
   },
   {
    "duration": 27,
    "start_time": "2024-05-16T05:06:57.989Z"
   },
   {
    "duration": 16,
    "start_time": "2024-05-16T05:06:58.017Z"
   },
   {
    "duration": 10,
    "start_time": "2024-05-16T05:06:58.034Z"
   },
   {
    "duration": 42,
    "start_time": "2024-05-16T05:06:58.045Z"
   },
   {
    "duration": 9,
    "start_time": "2024-05-16T05:06:58.088Z"
   },
   {
    "duration": 62,
    "start_time": "2024-05-16T05:06:58.099Z"
   },
   {
    "duration": 49,
    "start_time": "2024-05-16T05:06:58.162Z"
   },
   {
    "duration": 49,
    "start_time": "2024-05-16T05:06:58.213Z"
   },
   {
    "duration": 549,
    "start_time": "2024-05-16T05:06:58.265Z"
   },
   {
    "duration": 576,
    "start_time": "2024-05-16T05:06:58.817Z"
   },
   {
    "duration": 474,
    "start_time": "2024-05-16T05:06:59.394Z"
   },
   {
    "duration": 5,
    "start_time": "2024-05-16T05:06:59.869Z"
   },
   {
    "duration": 407,
    "start_time": "2024-05-16T05:06:59.881Z"
   },
   {
    "duration": 89,
    "start_time": "2024-05-16T05:07:00.291Z"
   },
   {
    "duration": 178,
    "start_time": "2024-05-16T05:07:00.383Z"
   },
   {
    "duration": 48,
    "start_time": "2024-05-16T05:07:00.563Z"
   },
   {
    "duration": 142,
    "start_time": "2024-05-16T05:07:00.613Z"
   },
   {
    "duration": 237,
    "start_time": "2024-05-16T05:07:00.758Z"
   },
   {
    "duration": 90,
    "start_time": "2024-05-16T05:07:00.997Z"
   },
   {
    "duration": 94,
    "start_time": "2024-05-16T05:07:01.089Z"
   },
   {
    "duration": 1068,
    "start_time": "2024-05-16T05:07:01.185Z"
   },
   {
    "duration": 143,
    "start_time": "2024-05-16T05:07:02.255Z"
   },
   {
    "duration": 5,
    "start_time": "2024-05-16T05:07:21.663Z"
   },
   {
    "duration": 901,
    "start_time": "2024-05-16T05:07:21.924Z"
   },
   {
    "duration": 5,
    "start_time": "2024-05-16T05:07:32.560Z"
   },
   {
    "duration": 849,
    "start_time": "2024-05-16T05:07:32.889Z"
   },
   {
    "duration": 933,
    "start_time": "2024-05-16T05:10:35.465Z"
   },
   {
    "duration": 844,
    "start_time": "2024-05-16T05:10:46.198Z"
   },
   {
    "duration": 870,
    "start_time": "2024-05-16T05:11:21.801Z"
   },
   {
    "duration": 839,
    "start_time": "2024-05-16T05:11:24.831Z"
   },
   {
    "duration": 848,
    "start_time": "2024-05-16T05:11:26.504Z"
   },
   {
    "duration": 861,
    "start_time": "2024-05-16T05:11:27.989Z"
   },
   {
    "duration": 839,
    "start_time": "2024-05-16T05:11:29.451Z"
   },
   {
    "duration": 852,
    "start_time": "2024-05-16T05:11:30.974Z"
   },
   {
    "duration": 891,
    "start_time": "2024-05-16T05:11:32.474Z"
   },
   {
    "duration": 871,
    "start_time": "2024-05-16T05:11:34.027Z"
   },
   {
    "duration": 887,
    "start_time": "2024-05-16T05:11:35.894Z"
   },
   {
    "duration": 5,
    "start_time": "2024-05-16T05:11:59.864Z"
   },
   {
    "duration": 14,
    "start_time": "2024-05-16T05:12:00.164Z"
   },
   {
    "duration": 5,
    "start_time": "2024-05-16T05:12:21.578Z"
   },
   {
    "duration": 1092,
    "start_time": "2024-05-16T05:12:21.900Z"
   },
   {
    "duration": 3,
    "start_time": "2024-05-16T05:14:09.437Z"
   },
   {
    "duration": 6,
    "start_time": "2024-05-16T05:14:16.066Z"
   },
   {
    "duration": 833,
    "start_time": "2024-05-16T05:14:16.299Z"
   },
   {
    "duration": 75,
    "start_time": "2024-05-16T05:52:34.878Z"
   },
   {
    "duration": 74,
    "start_time": "2024-05-16T05:52:41.739Z"
   },
   {
    "duration": 104,
    "start_time": "2024-05-16T05:52:47.852Z"
   },
   {
    "duration": 5,
    "start_time": "2024-05-16T05:53:11.649Z"
   },
   {
    "duration": 861,
    "start_time": "2024-05-16T05:53:12.302Z"
   },
   {
    "duration": 5,
    "start_time": "2024-05-16T05:53:27.408Z"
   },
   {
    "duration": 787,
    "start_time": "2024-05-16T05:53:27.768Z"
   },
   {
    "duration": 5,
    "start_time": "2024-05-16T05:54:07.654Z"
   },
   {
    "duration": 827,
    "start_time": "2024-05-16T05:54:08.230Z"
   },
   {
    "duration": 6,
    "start_time": "2024-05-16T05:54:39.491Z"
   },
   {
    "duration": 782,
    "start_time": "2024-05-16T05:54:39.731Z"
   },
   {
    "duration": 5,
    "start_time": "2024-05-16T05:55:14.930Z"
   },
   {
    "duration": 830,
    "start_time": "2024-05-16T05:55:15.222Z"
   },
   {
    "duration": 5,
    "start_time": "2024-05-16T05:56:23.444Z"
   },
   {
    "duration": 858,
    "start_time": "2024-05-16T05:56:23.923Z"
   },
   {
    "duration": 9,
    "start_time": "2024-05-16T05:56:24.783Z"
   },
   {
    "duration": 4,
    "start_time": "2024-05-16T05:56:35.467Z"
   },
   {
    "duration": 838,
    "start_time": "2024-05-16T05:56:35.759Z"
   },
   {
    "duration": 5,
    "start_time": "2024-05-16T05:56:49.087Z"
   },
   {
    "duration": 835,
    "start_time": "2024-05-16T05:56:49.379Z"
   },
   {
    "duration": 5,
    "start_time": "2024-05-16T05:57:01.222Z"
   },
   {
    "duration": 856,
    "start_time": "2024-05-16T05:57:01.574Z"
   },
   {
    "duration": 5,
    "start_time": "2024-05-16T05:57:06.374Z"
   },
   {
    "duration": 851,
    "start_time": "2024-05-16T05:57:06.644Z"
   },
   {
    "duration": 7,
    "start_time": "2024-05-16T05:57:11.865Z"
   },
   {
    "duration": 852,
    "start_time": "2024-05-16T05:57:12.128Z"
   },
   {
    "duration": 4,
    "start_time": "2024-05-16T05:57:19.163Z"
   },
   {
    "duration": 795,
    "start_time": "2024-05-16T05:57:19.469Z"
   },
   {
    "duration": 4,
    "start_time": "2024-05-16T05:57:29.213Z"
   },
   {
    "duration": 803,
    "start_time": "2024-05-16T05:57:29.460Z"
   },
   {
    "duration": 5,
    "start_time": "2024-05-16T06:00:50.090Z"
   },
   {
    "duration": 855,
    "start_time": "2024-05-16T06:00:50.329Z"
   },
   {
    "duration": 5,
    "start_time": "2024-05-16T06:01:13.512Z"
   },
   {
    "duration": 858,
    "start_time": "2024-05-16T06:01:14.472Z"
   },
   {
    "duration": 870,
    "start_time": "2024-05-16T06:01:22.347Z"
   },
   {
    "duration": 7,
    "start_time": "2024-05-16T06:01:57.568Z"
   },
   {
    "duration": 862,
    "start_time": "2024-05-16T06:01:58.422Z"
   },
   {
    "duration": 12,
    "start_time": "2024-05-16T06:04:10.425Z"
   },
   {
    "duration": 5,
    "start_time": "2024-05-16T06:04:14.903Z"
   },
   {
    "duration": 2551,
    "start_time": "2024-05-16T06:04:15.502Z"
   },
   {
    "duration": 2552,
    "start_time": "2024-05-16T06:04:36.676Z"
   },
   {
    "duration": 9,
    "start_time": "2024-05-16T06:05:34.390Z"
   },
   {
    "duration": 6,
    "start_time": "2024-05-16T06:05:52.330Z"
   },
   {
    "duration": 146,
    "start_time": "2024-05-16T06:05:55.037Z"
   },
   {
    "duration": 5,
    "start_time": "2024-05-16T06:06:14.448Z"
   },
   {
    "duration": 419,
    "start_time": "2024-05-16T06:06:14.972Z"
   },
   {
    "duration": 413,
    "start_time": "2024-05-16T06:06:21.175Z"
   },
   {
    "duration": 382,
    "start_time": "2024-05-16T06:06:28.907Z"
   },
   {
    "duration": 8,
    "start_time": "2024-05-16T06:06:38.313Z"
   },
   {
    "duration": 373,
    "start_time": "2024-05-16T06:06:39.221Z"
   },
   {
    "duration": 6,
    "start_time": "2024-05-16T06:06:48.573Z"
   },
   {
    "duration": 344,
    "start_time": "2024-05-16T06:06:48.948Z"
   },
   {
    "duration": 7,
    "start_time": "2024-05-16T06:07:02.231Z"
   },
   {
    "duration": 2543,
    "start_time": "2024-05-16T06:07:02.554Z"
   },
   {
    "duration": 5,
    "start_time": "2024-05-16T06:08:31.806Z"
   },
   {
    "duration": 3187,
    "start_time": "2024-05-16T06:08:32.780Z"
   },
   {
    "duration": 3241,
    "start_time": "2024-05-16T06:08:40.499Z"
   },
   {
    "duration": 5,
    "start_time": "2024-05-16T06:08:47.810Z"
   },
   {
    "duration": 2591,
    "start_time": "2024-05-16T06:08:49.386Z"
   },
   {
    "duration": 302,
    "start_time": "2024-05-16T06:44:20.778Z"
   },
   {
    "duration": 239,
    "start_time": "2024-05-16T06:44:36.378Z"
   },
   {
    "duration": 983,
    "start_time": "2024-05-16T06:44:39.625Z"
   },
   {
    "duration": 341,
    "start_time": "2024-05-16T06:45:03.125Z"
   },
   {
    "duration": 293,
    "start_time": "2024-05-16T06:45:23.013Z"
   },
   {
    "duration": 20,
    "start_time": "2024-05-16T06:48:08.617Z"
   },
   {
    "duration": 891,
    "start_time": "2024-05-16T06:48:15.823Z"
   },
   {
    "duration": 524,
    "start_time": "2024-05-16T06:48:40.642Z"
   },
   {
    "duration": 527,
    "start_time": "2024-05-16T06:50:35.138Z"
   },
   {
    "duration": 770,
    "start_time": "2024-05-16T06:50:52.372Z"
   },
   {
    "duration": 763,
    "start_time": "2024-05-16T06:50:59.933Z"
   },
   {
    "duration": 536,
    "start_time": "2024-05-16T06:51:26.731Z"
   },
   {
    "duration": 576,
    "start_time": "2024-05-16T06:51:31.613Z"
   },
   {
    "duration": 551,
    "start_time": "2024-05-16T06:51:40.155Z"
   },
   {
    "duration": 4,
    "start_time": "2024-05-16T06:57:49.800Z"
   },
   {
    "duration": 627,
    "start_time": "2024-05-16T06:58:04.379Z"
   },
   {
    "duration": 69,
    "start_time": "2024-05-16T06:59:19.614Z"
   },
   {
    "duration": 4,
    "start_time": "2024-05-16T06:59:37.823Z"
   },
   {
    "duration": 854,
    "start_time": "2024-05-16T06:59:39.293Z"
   },
   {
    "duration": 739,
    "start_time": "2024-05-16T08:16:53.373Z"
   },
   {
    "duration": 700,
    "start_time": "2024-05-16T08:33:37.400Z"
   },
   {
    "duration": 23,
    "start_time": "2024-05-16T10:22:35.519Z"
   },
   {
    "duration": 17,
    "start_time": "2024-05-16T10:25:55.094Z"
   },
   {
    "duration": 19,
    "start_time": "2024-05-16T10:26:01.253Z"
   },
   {
    "duration": 19,
    "start_time": "2024-05-16T11:39:03.751Z"
   },
   {
    "duration": 14,
    "start_time": "2024-05-16T11:39:10.123Z"
   },
   {
    "duration": 13,
    "start_time": "2024-05-16T11:39:14.720Z"
   },
   {
    "duration": 6,
    "start_time": "2024-05-16T11:56:07.364Z"
   },
   {
    "duration": 2554,
    "start_time": "2024-05-16T11:56:07.806Z"
   },
   {
    "duration": 5,
    "start_time": "2024-05-16T11:56:14.480Z"
   },
   {
    "duration": 2551,
    "start_time": "2024-05-16T11:56:15.031Z"
   },
   {
    "duration": 6,
    "start_time": "2024-05-16T11:56:30.336Z"
   },
   {
    "duration": 2617,
    "start_time": "2024-05-16T11:56:30.629Z"
   },
   {
    "duration": 4,
    "start_time": "2024-05-16T12:08:35.503Z"
   },
   {
    "duration": 1512,
    "start_time": "2024-05-16T12:08:40.384Z"
   },
   {
    "duration": 3,
    "start_time": "2024-05-16T12:08:41.898Z"
   },
   {
    "duration": 493,
    "start_time": "2024-05-16T12:08:41.903Z"
   },
   {
    "duration": 18,
    "start_time": "2024-05-16T12:08:42.398Z"
   },
   {
    "duration": 25,
    "start_time": "2024-05-16T12:08:42.418Z"
   },
   {
    "duration": 34,
    "start_time": "2024-05-16T12:08:42.445Z"
   },
   {
    "duration": 24,
    "start_time": "2024-05-16T12:08:42.481Z"
   },
   {
    "duration": 26,
    "start_time": "2024-05-16T12:08:42.507Z"
   },
   {
    "duration": 19,
    "start_time": "2024-05-16T12:08:42.535Z"
   },
   {
    "duration": 102,
    "start_time": "2024-05-16T12:08:42.556Z"
   },
   {
    "duration": 51,
    "start_time": "2024-05-16T12:08:42.660Z"
   },
   {
    "duration": 56,
    "start_time": "2024-05-16T12:08:42.712Z"
   },
   {
    "duration": 3,
    "start_time": "2024-05-16T12:08:42.770Z"
   },
   {
    "duration": 719,
    "start_time": "2024-05-16T12:08:42.779Z"
   },
   {
    "duration": 796,
    "start_time": "2024-05-16T12:08:43.499Z"
   },
   {
    "duration": 675,
    "start_time": "2024-05-16T12:08:44.296Z"
   },
   {
    "duration": 10,
    "start_time": "2024-05-16T12:08:44.972Z"
   },
   {
    "duration": 416,
    "start_time": "2024-05-16T12:08:44.984Z"
   },
   {
    "duration": 181,
    "start_time": "2024-05-16T12:08:45.402Z"
   },
   {
    "duration": 15,
    "start_time": "2024-05-16T12:08:45.585Z"
   },
   {
    "duration": 63,
    "start_time": "2024-05-16T12:08:45.602Z"
   },
   {
    "duration": 17,
    "start_time": "2024-05-16T12:08:45.667Z"
   },
   {
    "duration": 22,
    "start_time": "2024-05-16T12:08:45.686Z"
   },
   {
    "duration": 39,
    "start_time": "2024-05-16T12:08:45.710Z"
   },
   {
    "duration": 2617,
    "start_time": "2024-05-16T12:08:45.751Z"
   },
   {
    "duration": 8,
    "start_time": "2024-05-17T14:46:21.570Z"
   },
   {
    "duration": 1744,
    "start_time": "2024-05-17T14:47:34.844Z"
   },
   {
    "duration": 3,
    "start_time": "2024-05-17T14:47:36.590Z"
   },
   {
    "duration": 1799,
    "start_time": "2024-05-17T14:47:36.595Z"
   },
   {
    "duration": 18,
    "start_time": "2024-05-17T14:47:38.396Z"
   },
   {
    "duration": 48,
    "start_time": "2024-05-17T14:47:38.416Z"
   },
   {
    "duration": 15,
    "start_time": "2024-05-17T14:47:38.466Z"
   },
   {
    "duration": 49,
    "start_time": "2024-05-17T14:47:38.482Z"
   },
   {
    "duration": 25,
    "start_time": "2024-05-17T14:47:38.533Z"
   },
   {
    "duration": 11,
    "start_time": "2024-05-17T14:47:38.560Z"
   },
   {
    "duration": 59,
    "start_time": "2024-05-17T14:47:38.572Z"
   },
   {
    "duration": 47,
    "start_time": "2024-05-17T14:47:38.632Z"
   },
   {
    "duration": 48,
    "start_time": "2024-05-17T14:47:38.680Z"
   },
   {
    "duration": 51,
    "start_time": "2024-05-17T14:47:38.730Z"
   },
   {
    "duration": 709,
    "start_time": "2024-05-17T14:47:38.783Z"
   },
   {
    "duration": 796,
    "start_time": "2024-05-17T14:47:39.494Z"
   },
   {
    "duration": 670,
    "start_time": "2024-05-17T14:47:40.291Z"
   },
   {
    "duration": 14,
    "start_time": "2024-05-17T14:47:40.963Z"
   },
   {
    "duration": 401,
    "start_time": "2024-05-17T14:47:40.980Z"
   },
   {
    "duration": 98,
    "start_time": "2024-05-17T14:47:41.383Z"
   },
   {
    "duration": 97,
    "start_time": "2024-05-17T14:47:41.483Z"
   },
   {
    "duration": 123,
    "start_time": "2024-05-17T14:47:41.582Z"
   },
   {
    "duration": 0,
    "start_time": "2024-05-17T14:47:41.707Z"
   },
   {
    "duration": 0,
    "start_time": "2024-05-17T14:47:41.708Z"
   },
   {
    "duration": 0,
    "start_time": "2024-05-17T14:47:41.709Z"
   },
   {
    "duration": 0,
    "start_time": "2024-05-17T14:47:41.711Z"
   },
   {
    "duration": 4,
    "start_time": "2024-05-17T14:47:53.839Z"
   },
   {
    "duration": 4,
    "start_time": "2024-05-17T14:47:55.990Z"
   },
   {
    "duration": 18,
    "start_time": "2024-05-17T14:47:56.450Z"
   },
   {
    "duration": 5,
    "start_time": "2024-05-17T14:47:57.816Z"
   },
   {
    "duration": 2600,
    "start_time": "2024-05-17T14:47:58.313Z"
   },
   {
    "duration": 6,
    "start_time": "2024-05-17T14:50:03.391Z"
   },
   {
    "duration": 2621,
    "start_time": "2024-05-17T14:50:04.833Z"
   },
   {
    "duration": 2571,
    "start_time": "2024-05-17T14:50:09.166Z"
   },
   {
    "duration": 2601,
    "start_time": "2024-05-17T14:50:14.590Z"
   }
  ],
  "kernelspec": {
   "display_name": ".venv",
   "language": "python",
   "name": "python3"
  },
  "language_info": {
   "codemirror_mode": {
    "name": "ipython",
    "version": 3
   },
   "file_extension": ".py",
   "mimetype": "text/x-python",
   "name": "python",
   "nbconvert_exporter": "python",
   "pygments_lexer": "ipython3",
   "version": "3.10.11"
  },
  "toc": {
   "base_numbering": 1,
   "nav_menu": {},
   "number_sections": true,
   "sideBar": true,
   "skip_h1_title": true,
   "title_cell": "Table of Contents",
   "title_sidebar": "Contents",
   "toc_cell": false,
   "toc_position": {
    "height": "calc(100% - 180px)",
    "left": "10px",
    "top": "150px",
    "width": "374.391px"
   },
   "toc_section_display": true,
   "toc_window_display": true
  }
 },
 "nbformat": 4,
 "nbformat_minor": 2
}
